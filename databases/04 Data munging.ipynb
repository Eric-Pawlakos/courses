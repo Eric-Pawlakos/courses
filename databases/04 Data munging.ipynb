{
 "metadata": {
  "name": "",
  "signature": "sha256:ea8ccb8121c099d7558d09fc639aaec7964eb7d634834ff7191b6ae1bb24283e"
 },
 "nbformat": 3,
 "nbformat_minor": 0,
 "worksheets": [
  {
   "cells": [
    {
     "cell_type": "markdown",
     "metadata": {},
     "source": [
      "#Number munging:  vectors, Pandas, probabilities"
     ]
    },
    {
     "cell_type": "code",
     "collapsed": false,
     "input": [
      "# Render our plots inline\n",
      "%matplotlib inline\n",
      "\n",
      "import pandas as pd\n",
      "import matplotlib.pyplot as plt\n",
      "import numpy as np\n",
      "\n",
      "pd.set_option('display.mpl_style', 'default') # Make the graphs a bit prettier\n",
      "plt.rcParams['figure.figsize'] = (15, 5)\n",
      "\n",
      "\n"
     ],
     "language": "python",
     "metadata": {},
     "outputs": []
    },
    {
     "cell_type": "code",
     "collapsed": false,
     "input": [
      "#this presumes you've the two data sets locally"
     ],
     "language": "python",
     "metadata": {},
     "outputs": []
    },
    {
     "cell_type": "code",
     "collapsed": false,
     "input": [],
     "language": "python",
     "metadata": {},
     "outputs": []
    },
    {
     "cell_type": "code",
     "collapsed": false,
     "input": [],
     "language": "python",
     "metadata": {},
     "outputs": []
    },
    {
     "cell_type": "code",
     "collapsed": false,
     "input": [],
     "language": "python",
     "metadata": {},
     "outputs": []
    },
    {
     "cell_type": "markdown",
     "metadata": {},
     "source": [
      "\n",
      "\n",
      "#Our ritual: Exploratory data analysis\n",
      "\n",
      "\n",
      "> Exploratory data analysis (EDA) seeks to reveal structure, or simple descriptions, in data. We look at numbers and graphs and try to find patterns.  \n",
      "    - Persi Diaconis, \"Theories of Data Analysis: From Magical Thinking Through Classical statistics\"\n",
      "\n",
      "> . . . proceeding via a \u2018dustbowl\u2019 empiricism is dangerous at worst and foolish at best . . . . The purely empirical approach is particularly dangerous in an age when computers and packaged programs are readily available, since there is temptation to substitute immediate empirical analysis for more analytic thought and theory building.\n",
      "    - Einhorn, \u201cAlchemy in the Behavioral Sciences,\u201d 1972\n",
      "\n",
      ">. . . we can view the techniques of EDA as a ritual designed to reveal patters in a data set. Thus, we may believe that naturally occurring data sets contain structure, that EDA is a useful vehicle for revealing the structure. . . . If we make no attempt to check whether the structure could have arisen by chance, and tend to accept the findinds as gospel, then the ritual comes close to magical thinking. ... a controlled form of magical thinking--in the guise of 'working hypothesis'--is a basic ingredient of scientific progress. \n",
      "    - Persi Diaconis, \"Theories of Data Analysis: From Magical Thinking Through Classical statistics\"\n",
      "\n",
      "#From data to databases to data mining\n",
      "- move from accessing and manipulating data to performing ever more complicated *queries* on our data\n",
      "\n",
      "\n",
      "#`Pandas` first-line `python` tool for EDA\n",
      "- rich data structures\n",
      "- powerful ways to slice, dice, reformate, fix, and eliminate data\n",
      "    - taste of what can do\n",
      "- rich queries like databases\n",
      "    \n"
     ]
    },
    {
     "cell_type": "markdown",
     "metadata": {},
     "source": [
      "#`Pandas`: charismatic megafauna"
     ]
    },
    {
     "cell_type": "code",
     "collapsed": false,
     "input": [
      "import pandas as pd"
     ],
     "language": "python",
     "metadata": {},
     "outputs": []
    },
    {
     "cell_type": "markdown",
     "metadata": {},
     "source": [
      "#Series"
     ]
    },
    {
     "cell_type": "markdown",
     "metadata": {},
     "source": [
      "Use example of multiple average house prices by year by CPI."
     ]
    },
    {
     "cell_type": "markdown",
     "metadata": {},
     "source": [
      "If we wanted to understanding the fluctuations in house prices over time, we can use a new datatype called series."
     ]
    },
    {
     "cell_type": "code",
     "collapsed": false,
     "input": [
      "CPI={\"2010\": 218.056, \"2011\": 224.939, \"2012\": 229.594, \"2013\": 232.957} #http://www.bls.gov/cpi/home.htm"
     ],
     "language": "python",
     "metadata": {},
     "outputs": []
    },
    {
     "cell_type": "markdown",
     "metadata": {},
     "source": [
      "The `series` method converts this `dict` to "
     ]
    },
    {
     "cell_type": "code",
     "collapsed": false,
     "input": [
      "CPI_series=pd.Series(CPI)"
     ],
     "language": "python",
     "metadata": {},
     "outputs": []
    },
    {
     "cell_type": "code",
     "collapsed": false,
     "input": [
      "CPI_series"
     ],
     "language": "python",
     "metadata": {},
     "outputs": []
    },
    {
     "cell_type": "code",
     "collapsed": false,
     "input": [
      "House_sale_mean={\"2010\": 100000, \"2011\": 100000, \"2012\": 100000, \"2013\": 100000}"
     ],
     "language": "python",
     "metadata": {},
     "outputs": []
    },
    {
     "cell_type": "code",
     "collapsed": false,
     "input": [
      "House_sale_series=pd.Series(House_sale_mean)"
     ],
     "language": "python",
     "metadata": {},
     "outputs": []
    },
    {
     "cell_type": "code",
     "collapsed": false,
     "input": [
      "House_sale_series"
     ],
     "language": "python",
     "metadata": {},
     "outputs": []
    },
    {
     "cell_type": "markdown",
     "metadata": {},
     "source": [
      "The CPI provides \"a measure of the average change over time in the prices paid by urban consumers for a market basket of consumer goods and services.\" A *higher* number means it costs more to buy the same goods. It was set to 100 in 1982-4.\n",
      "\n",
      "We can thus use it to measure the effects of inflation on the value of houses in our toy example."
     ]
    },
    {
     "cell_type": "code",
     "collapsed": false,
     "input": [
      "(House_sale_series/CPI_series)"
     ],
     "language": "python",
     "metadata": {},
     "outputs": []
    },
    {
     "cell_type": "markdown",
     "metadata": {},
     "source": [
      "What's going here: `pandas` has taken the two series and divided the values that share the same index."
     ]
    },
    {
     "cell_type": "code",
     "collapsed": false,
     "input": [
      "#If we multiply each one by 100, we'll get the value of our houses in 1982-4 dollars.\n",
      "(House_sale_series/CPI_series)*100"
     ],
     "language": "python",
     "metadata": {},
     "outputs": []
    },
    {
     "cell_type": "code",
     "collapsed": false,
     "input": [
      "inflation_adjusted=(House_sale_series/CPI_series)*100"
     ],
     "language": "python",
     "metadata": {},
     "outputs": []
    },
    {
     "cell_type": "code",
     "collapsed": false,
     "input": [
      "#can perform calculations on individual \n",
      "inflation_adjusted['2013']/inflation_adjusted['2010']"
     ],
     "language": "python",
     "metadata": {},
     "outputs": []
    },
    {
     "cell_type": "code",
     "collapsed": false,
     "input": [
      "#plotting is simple as pie\n",
      "inflation_adjusted.plot()"
     ],
     "language": "python",
     "metadata": {},
     "outputs": []
    },
    {
     "cell_type": "code",
     "collapsed": false,
     "input": [
      "(House_sale_series/CPI_series).plot(title=\"Sorry, kids. Blame X, where X is current politician we don't like.\")"
     ],
     "language": "python",
     "metadata": {},
     "outputs": []
    },
    {
     "cell_type": "markdown",
     "metadata": {},
     "source": [
      "What's *super* deceptive about this plot? "
     ]
    },
    {
     "cell_type": "markdown",
     "metadata": {},
     "source": [
      "#dataframes"
     ]
    },
    {
     "cell_type": "markdown",
     "metadata": {},
     "source": [
      "The library `Pandas` provides us with a powerful  overlay that lets us use matrices but always keep their row and column names, or as a spreadsheet on speed. It allows us to work directly with the datatype \"Dataframes\" that keeps track of values and their names for us. And it allows us to perform many operations on slices of the dataframe without having to run `for` loops and the like. This is more convenient and involves faster processing."
     ]
    },
    {
     "cell_type": "code",
     "collapsed": false,
     "input": [
      "#Let's start with yet another way to read csv files, this time from `pandas`\n",
      "df=pd.read_csv('./HMXPC13_DI_v2_5-14-14.csv', sep=\",\")"
     ],
     "language": "python",
     "metadata": {},
     "outputs": []
    },
    {
     "cell_type": "code",
     "collapsed": false,
     "input": [
      "#take a look--it's a biggie\n",
      "df"
     ],
     "language": "python",
     "metadata": {},
     "outputs": []
    },
    {
     "cell_type": "markdown",
     "metadata": {},
     "source": [
      "Note at the bottom that the display tells us how many rows and columns we're dealing with. \n",
      "\n",
      "As a general rule, `pandas` dataframe objects default to slicing by *column* using a syntax you'll know from `dict`s as in `df[\"course_id\"]`. "
     ]
    },
    {
     "cell_type": "code",
     "collapsed": false,
     "input": [
      "df[\"course_id\"]"
     ],
     "language": "python",
     "metadata": {},
     "outputs": []
    },
    {
     "cell_type": "markdown",
     "metadata": {},
     "source": [
      "We can select some subset of rows as you might expect:"
     ]
    },
    {
     "cell_type": "code",
     "collapsed": false,
     "input": [
      "df[\"course_id\"][3340:3350]"
     ],
     "language": "python",
     "metadata": {},
     "outputs": []
    },
    {
     "cell_type": "code",
     "collapsed": false,
     "input": [
      "df[3340:3350]"
     ],
     "language": "python",
     "metadata": {},
     "outputs": []
    },
    {
     "cell_type": "code",
     "collapsed": false,
     "input": [
      "df[666]"
     ],
     "language": "python",
     "metadata": {},
     "outputs": []
    },
    {
     "cell_type": "markdown",
     "metadata": {},
     "source": [
      "Huh? I have row 666! `pandas` doesn't let you select a single row directly. Instead, use the `.ix` method."
     ]
    },
    {
     "cell_type": "code",
     "collapsed": false,
     "input": [
      "df.ix[666]"
     ],
     "language": "python",
     "metadata": {},
     "outputs": []
    },
    {
     "cell_type": "markdown",
     "metadata": {},
     "source": [
      "Why? A good question. Now try passing a list:"
     ]
    },
    {
     "cell_type": "code",
     "collapsed": false,
     "input": [
      "df.ix[[666]]"
     ],
     "language": "python",
     "metadata": {},
     "outputs": []
    },
    {
     "cell_type": "markdown",
     "metadata": {},
     "source": [
      "\n",
      "\n",
      "What types of data did `pandas` import from the csv?"
     ]
    },
    {
     "cell_type": "code",
     "collapsed": false,
     "input": [
      "df.dtypes"
     ],
     "language": "python",
     "metadata": {},
     "outputs": []
    },
    {
     "cell_type": "markdown",
     "metadata": {},
     "source": [
      "In inputing CSV, Pandas parses each column and attempts to discern what sort of data is within. It's good but not infallible.\n",
      "- Pandas is particularly good with dates: you simple tell it which columns to parse as dates.\n",
      "Let's refine our reading of the CSV to parse the dates."
     ]
    },
    {
     "cell_type": "code",
     "collapsed": false,
     "input": [
      "df=pd.read_csv('HMXPC13_DI_v2_5-14-14.csv', sep=\",\" , parse_dates=['start_time_DI', 'last_event_DI'])"
     ],
     "language": "python",
     "metadata": {},
     "outputs": []
    },
    {
     "cell_type": "markdown",
     "metadata": {},
     "source": [
      "We pass a list of the columns to consider as dates."
     ]
    },
    {
     "cell_type": "code",
     "collapsed": false,
     "input": [
      "df.dtypes"
     ],
     "language": "python",
     "metadata": {},
     "outputs": []
    },
    {
     "cell_type": "markdown",
     "metadata": {},
     "source": [
      "We don't need all those fields. We can cull them by name using the method `drop`."
     ]
    },
    {
     "cell_type": "code",
     "collapsed": false,
     "input": [
      "df=df.drop(['userid_DI', 'roles', 'incomplete_flag', 'nforum_posts'], axis=1) # axis=1 means the column names, not the rows"
     ],
     "language": "python",
     "metadata": {},
     "outputs": []
    },
    {
     "cell_type": "markdown",
     "metadata": {},
     "source": [
      "We can pick out columns using their names--just like with dicts:"
     ]
    },
    {
     "cell_type": "code",
     "collapsed": false,
     "input": [
      "df['final_cc_cname_DI'][100:110]"
     ],
     "language": "python",
     "metadata": {},
     "outputs": []
    },
    {
     "cell_type": "markdown",
     "metadata": {},
     "source": [
      "We can easily produce new dataframes that retain the relevant indices."
     ]
    },
    {
     "cell_type": "code",
     "collapsed": false,
     "input": [
      "df[['gender', 'ndays_act','nplay_video']][1781:1787] \n",
      "#note the double [[]]--you're providing a list [x,y. . . ] of the columns you want"
     ],
     "language": "python",
     "metadata": {},
     "outputs": []
    },
    {
     "cell_type": "markdown",
     "metadata": {},
     "source": [
      "\"NaN\" is not a English grandmother. It is an unreported or empty value. \n",
      "\n",
      "Often we might treat it as a zero, but we need to be careful. \n",
      "\n",
      "Would it matter in the case of `nplay_video`?\n",
      "\n",
      "How about `gender`?"
     ]
    },
    {
     "cell_type": "markdown",
     "metadata": {},
     "source": [
      "\n",
      "\n",
      "#Vectors, matrices, and functions, oh my!\n",
      "\n",
      "You've been writing functions and methods for the past couple of weeks. You'll recall functions like $f(x)$ and $g(x)$ from your previous math training.\n",
      "\n",
      "Functions can be defined on vector and matrix qualities.\n",
      "\n",
      "For our example, just consider the vector from the intersection of the x and y axes to a point (a,b), which we might write $\\bar{v}=[a,b]$.\n",
      "\n",
      "\n",
      "Some take a vector and return a non-vectoral number, called a `scalar`. \n",
      "For example, if we have the point (2,2) on the x and y axes, the length of the vector [2,2] from the origin to that point can be found with a standard distance function\n",
      "\n",
      "$d([x,y])=|\\sqrt{x^2+y^2}|$\n",
      "\n",
      "$d([2,2])=|\\sqrt{2^2+2^2}|=|\\sqrt{8}|$\n",
      "\n",
      "Or, more easily, we might compute the mean of the elements of a column in a vector.\n",
      "\n",
      "\n",
      "Some functions take a vector and return the same kind of vector.\n",
      "\n",
      "$f([x,y])=[2x,3y]$\n",
      "\n",
      "$f([1,2])=[2,6]$\n",
      "\n",
      "For our purposes\n",
      "\n",
      "\n",
      "1. function drawing upon all the parts of a vector or matrix (a mean)\n",
      "2. function applied to each element individually\n",
      "3. function applied to a particular slice of the data, or a systematic slice of the data\n",
      "\n",
      "\n",
      "It's pretty easy for us to think of vectors in 2 or 3 dimensions. In much data analysis, we'll use many more dimensions. Consider just one of our rows in our dataframe today:\n"
     ]
    },
    {
     "cell_type": "code",
     "collapsed": false,
     "input": [],
     "language": "python",
     "metadata": {},
     "outputs": []
    },
    {
     "cell_type": "markdown",
     "metadata": {},
     "source": [
      "##`Pandas` makes it supremely easy to plot time series\n",
      "- we had it parse the dates in two columns above\n"
     ]
    },
    {
     "cell_type": "code",
     "collapsed": false,
     "input": [
      "df['start_time_DI'] # This produces a series of start times"
     ],
     "language": "python",
     "metadata": {},
     "outputs": []
    },
    {
     "cell_type": "markdown",
     "metadata": {},
     "source": [
      "What if we wanted to figure out how many people started each day? We could run a `for` loop and compute it ourslves.\n",
      "\n",
      "But `panda` has got this cover. \n",
      "\n",
      "We use the `.value_counts()` method. It sums the number of times a each given value in the data occurs in a series."
     ]
    },
    {
     "cell_type": "code",
     "collapsed": false,
     "input": [
      "startdates=df['start_time_DI'].value_counts()"
     ],
     "language": "python",
     "metadata": {},
     "outputs": []
    },
    {
     "cell_type": "code",
     "collapsed": false,
     "input": [
      "startdates"
     ],
     "language": "python",
     "metadata": {},
     "outputs": []
    },
    {
     "cell_type": "code",
     "collapsed": false,
     "input": [
      "startdates.plot()"
     ],
     "language": "python",
     "metadata": {},
     "outputs": []
    },
    {
     "cell_type": "markdown",
     "metadata": {},
     "source": [
      "##How much video did each person watch?"
     ]
    },
    {
     "cell_type": "code",
     "collapsed": false,
     "input": [
      "df['nplay_video'].dropna().plot()"
     ],
     "language": "python",
     "metadata": {},
     "outputs": []
    },
    {
     "cell_type": "markdown",
     "metadata": {},
     "source": [
      "Who are the frickin' overachievers? We'll investigate in just a sec."
     ]
    },
    {
     "cell_type": "markdown",
     "metadata": {},
     "source": [
      "How about: how many people enrolled per country?\n",
      "    \n",
      "    work with your BFF for 2 minutes to figure out\n",
      "    1. how to pick out the field including country\n",
      "    2. how to count them"
     ]
    },
    {
     "cell_type": "code",
     "collapsed": false,
     "input": [
      "country=df['final_cc_cname_DI'].value_counts()"
     ],
     "language": "python",
     "metadata": {},
     "outputs": []
    },
    {
     "cell_type": "code",
     "collapsed": false,
     "input": [
      "country"
     ],
     "language": "python",
     "metadata": {},
     "outputs": []
    },
    {
     "cell_type": "code",
     "collapsed": false,
     "input": [
      "country[:15].plot(kind='bar')"
     ],
     "language": "python",
     "metadata": {},
     "outputs": []
    },
    {
     "cell_type": "markdown",
     "metadata": {},
     "source": [
      "#Selecting data: boolean indexing\n",
      "\n",
      "Often we want to pick out all the rows that have certain attributes from the entire dataframe: those belonging to French people, or all the self-identified women, or the overachievers. \n",
      "\n",
      "To do this create a vector where each element indicates whether each row satisfies the condition. It looks like a long list of trues and falses, so it's called a *boolean* vector."
     ]
    },
    {
     "cell_type": "code",
     "collapsed": false,
     "input": [
      "#pick out all the people who watched over 10000[!] minutes of video\n",
      "df['nplay_video']>10000"
     ],
     "language": "python",
     "metadata": {},
     "outputs": []
    },
    {
     "cell_type": "code",
     "collapsed": false,
     "input": [
      "#use that long vector of trues and falses to pick out just those rows\n",
      "df[df['nplay_video']>10000]"
     ],
     "language": "python",
     "metadata": {},
     "outputs": []
    },
    {
     "cell_type": "markdown",
     "metadata": {},
     "source": [
      "unit 353229 deeply suspicious! \n",
      "\n",
      "98517 video but only 5 chapters and 19 days of activity!"
     ]
    },
    {
     "cell_type": "markdown",
     "metadata": {},
     "source": [
      "Clear as mud? Let's try another example. Can we pick out all the French?"
     ]
    },
    {
     "cell_type": "code",
     "collapsed": false,
     "input": [
      "df['final_cc_cname_DI']==\"France\""
     ],
     "language": "python",
     "metadata": {},
     "outputs": []
    },
    {
     "cell_type": "markdown",
     "metadata": {},
     "source": [
      "We can put the entire expression within our indices, so we can pick out just the rows involving France with:"
     ]
    },
    {
     "cell_type": "code",
     "collapsed": false,
     "input": [
      "france=df[df['final_cc_cname_DI']==\"France\"]"
     ],
     "language": "python",
     "metadata": {},
     "outputs": []
    },
    {
     "cell_type": "markdown",
     "metadata": {},
     "source": [
      "#Stages  of boolean indexing\n",
      "- select column whose values you're interested in, e.g. df['nchapters']\n",
      "- evaluate the result according to some test, e.g. df['nchapters']>0\n",
      "    -that produces a *boolean* series\n",
      "- use the boolean series to select the rows from the dataframe\n",
      "    - df[df['nchapters]>0]\n",
      "    results in a dataframe with only the rows that meet the test"
     ]
    },
    {
     "cell_type": "markdown",
     "metadata": {},
     "source": [
      "##Reflect on this confusing mess.\n",
      "\n",
      "##*Much bigger than Pandas--using boolean operators is a standard piece of good python.*"
     ]
    },
    {
     "cell_type": "markdown",
     "metadata": {},
     "source": [
      "##let's just explore the demographic data a big more"
     ]
    },
    {
     "cell_type": "code",
     "collapsed": false,
     "input": [
      "years=df['YoB'].value_counts()\n"
     ],
     "language": "python",
     "metadata": {},
     "outputs": []
    },
    {
     "cell_type": "code",
     "collapsed": false,
     "input": [
      "years"
     ],
     "language": "python",
     "metadata": {},
     "outputs": []
    },
    {
     "cell_type": "code",
     "collapsed": false,
     "input": [
      "years.plot(kind=\"bar\")"
     ],
     "language": "python",
     "metadata": {},
     "outputs": []
    },
    {
     "cell_type": "markdown",
     "metadata": {},
     "source": [
      "Looks reasonably cool, but wait. Not light yonder: the table has the dates out of order. We need to tell .value_counts not to sort! \n",
      "\n",
      "Excuse me while I google how to do that."
     ]
    },
    {
     "cell_type": "code",
     "collapsed": false,
     "input": [
      "years=df['YoB'].value_counts(sort=False)"
     ],
     "language": "python",
     "metadata": {},
     "outputs": []
    },
    {
     "cell_type": "code",
     "collapsed": false,
     "input": [
      "years"
     ],
     "language": "python",
     "metadata": {},
     "outputs": []
    },
    {
     "cell_type": "code",
     "collapsed": false,
     "input": [
      "years.plot(kind=\"bar\", title=\"Individual course enrollments by birth year\")"
     ],
     "language": "python",
     "metadata": {},
     "outputs": []
    },
    {
     "cell_type": "markdown",
     "metadata": {},
     "source": [
      "What does the chart look like for India, rather than everywhere?"
     ]
    },
    {
     "cell_type": "code",
     "collapsed": false,
     "input": [
      "india=df['final_cc_cname_DI']==\"India\"\n",
      "\n",
      "india_years=df[india]['YoB'].value_counts(sort=False)"
     ],
     "language": "python",
     "metadata": {},
     "outputs": []
    },
    {
     "cell_type": "code",
     "collapsed": false,
     "input": [
      "india_years.plot(kind='bar', title=\"Indian enrollments by birth year\")"
     ],
     "language": "python",
     "metadata": {},
     "outputs": []
    },
    {
     "cell_type": "markdown",
     "metadata": {},
     "source": [
      "#Different levels of completion of course:\n",
      "\n",
      "Documentation explains the different levels of completion of course.\n",
      "\n",
      "\n",
      "\"explored: administrative, 0/1; anyone who accessed at least half of the chapters in the courseware (chapters are the highest level on the \u201ccourseware\u201d menu housing course content).\""
     ]
    },
    {
     "cell_type": "code",
     "collapsed": false,
     "input": [
      "explored=df[df['explored']==1]"
     ],
     "language": "python",
     "metadata": {},
     "outputs": []
    },
    {
     "cell_type": "code",
     "collapsed": false,
     "input": [
      "len(explored)"
     ],
     "language": "python",
     "metadata": {},
     "outputs": []
    },
    {
     "cell_type": "code",
     "collapsed": false,
     "input": [
      "years_explorers=explored['YoB'].value_counts(sort=False)"
     ],
     "language": "python",
     "metadata": {},
     "outputs": []
    },
    {
     "cell_type": "code",
     "collapsed": false,
     "input": [
      "years.plot(kind=\"bar\")"
     ],
     "language": "python",
     "metadata": {},
     "outputs": []
    },
    {
     "cell_type": "code",
     "collapsed": false,
     "input": [
      "years_explorers.plot(kind='bar', title='Age of those who explored half the chapters')"
     ],
     "language": "python",
     "metadata": {},
     "outputs": []
    },
    {
     "cell_type": "markdown",
     "metadata": {},
     "source": [
      "Are there geographic differences in the amount of completion of the courses?\n"
     ]
    },
    {
     "cell_type": "code",
     "collapsed": false,
     "input": [
      "france_certified=france[df['certified']!=0]\n",
      "france_certified[:10]"
     ],
     "language": "python",
     "metadata": {},
     "outputs": []
    },
    {
     "cell_type": "code",
     "collapsed": false,
     "input": [
      "len(france)  #how many?"
     ],
     "language": "python",
     "metadata": {},
     "outputs": []
    },
    {
     "cell_type": "markdown",
     "metadata": {},
     "source": [
      "What proportion of the French users finish the course by getting certified?"
     ]
    },
    {
     "cell_type": "code",
     "collapsed": false,
     "input": [
      "len(france_certified) "
     ],
     "language": "python",
     "metadata": {},
     "outputs": []
    },
    {
     "cell_type": "code",
     "collapsed": false,
     "input": [
      "len(france_certified)/len(france)"
     ],
     "language": "python",
     "metadata": {},
     "outputs": []
    },
    {
     "cell_type": "markdown",
     "metadata": {},
     "source": [
      "##Zut! \n",
      "\u00c7a ne marche pas!"
     ]
    },
    {
     "cell_type": "code",
     "collapsed": false,
     "input": [
      "float(len(france_certified))/len(france)\n"
     ],
     "language": "python",
     "metadata": {},
     "outputs": []
    },
    {
     "cell_type": "markdown",
     "metadata": {},
     "source": [
      "So about 4.3% of self-reported French enrollees earn a certificate.\n",
      "\n",
      "#We could think about this as a *probability.*\n",
      "\n",
      "We could write this:\n",
      "\n",
      "P(that a French enrollee earns a certificate)=.043\n",
      "\n",
      "Or,\n",
      "\n",
      "P(Some person completes a certificate given that the person is French)\n",
      "\n",
      "If A means \"some person completes a certificate\" and\n",
      "B and means \"someone is French\", then we write\n",
      "\n",
      "$P(A|B)=.043$\n",
      "\n",
      "The vertical bar (|) means \"given that.\"\n"
     ]
    },
    {
     "cell_type": "markdown",
     "metadata": {},
     "source": [
      "#Can we figure out the probabilities for each country?\n",
      "\n",
      "Can we do it without computing each individually as we did for France?\n",
      "\n",
      "Oui, for `pandas` will let us do vector operations directly! \n",
      "\n",
      "For France, we divided the total number of explorers over the total number of enrollees.\n",
      "\n",
      "How can we do that division for every country all at once?\n",
      "\n",
      "Let's compute the number of explorers and the number of enrollees for each country."
     ]
    },
    {
     "cell_type": "code",
     "collapsed": false,
     "input": [
      "explored_by_country=explored['final_cc_cname_DI'].value_counts()"
     ],
     "language": "python",
     "metadata": {},
     "outputs": []
    },
    {
     "cell_type": "code",
     "collapsed": false,
     "input": [
      "explored_by_country"
     ],
     "language": "python",
     "metadata": {},
     "outputs": []
    },
    {
     "cell_type": "code",
     "collapsed": false,
     "input": [
      "enrolled_by_country=df['final_cc_cname_DI'].value_counts()"
     ],
     "language": "python",
     "metadata": {},
     "outputs": []
    },
    {
     "cell_type": "code",
     "collapsed": false,
     "input": [
      "enrolled_by_country"
     ],
     "language": "python",
     "metadata": {},
     "outputs": []
    },
    {
     "cell_type": "markdown",
     "metadata": {},
     "source": [
      "And now to divide each country's exploration number by its enrollment number. We could do it with a `for` loop over all the countries. But we can *vectorize*."
     ]
    },
    {
     "cell_type": "code",
     "collapsed": false,
     "input": [
      "explored_by_country/enrolled_by_country"
     ],
     "language": "python",
     "metadata": {},
     "outputs": []
    },
    {
     "cell_type": "markdown",
     "metadata": {},
     "source": [
      "Cool beans!\n",
      "\n",
      "Think about what that division means:\n",
      "for each country, pick out the value in the explored vector for that country:\n",
      "    \n",
      "$A = \\begin{pmatrix} exploration_{US} \\\\ exploration_{china} \\\\ exploration_{france} \\end{pmatrix} $\n",
      "\n",
      "and then pick out the value in the enrolled vector for that country:\n",
      "\n",
      "$B = \\begin{pmatrix} enrollment_{US} \\\\ enrollment_{china} \\\\ enrollment_{france} \\end{pmatrix} $\n",
      "\n",
      "\n",
      "Before we talked about different kinds of functions on vectors. Here we want corresponding terms to be divided. \n",
      "\n",
      "$\\begin{pmatrix} exploration_{US}/enrollment_{US} \\\\ exploration_{china}/enrollment_{china} \\\\ exploration_{france}/enrollment_{france} \\\\ \\cdots \\end{pmatrix}$\n"
     ]
    },
    {
     "cell_type": "code",
     "collapsed": false,
     "input": [
      "diligence_in_exploration=(explored_by_country/enrolled_by_country)\n",
      "#Can we plot it? Yes!"
     ],
     "language": "python",
     "metadata": {},
     "outputs": []
    },
    {
     "cell_type": "code",
     "collapsed": false,
     "input": [
      "diligence_in_exploration.plot(kind='bar', title='Diligence: Exploration per enrollment')"
     ],
     "language": "python",
     "metadata": {},
     "outputs": []
    },
    {
     "cell_type": "markdown",
     "metadata": {},
     "source": [
      "Some nations appear to have a much higher rate of diligence in exploring chapters.\n",
      "\n",
      "\n",
      "And there appears to be a *positive correlation* of diligence and being between 'Po' and 'Uk' in the alphabet."
     ]
    },
    {
     "cell_type": "markdown",
     "metadata": {},
     "source": [
      "##Crucial Principle of Data Analysis\n",
      "###Correlation equals causation\n",
      "<obligatory_xkcd>"
     ]
    },
    {
     "cell_type": "code",
     "collapsed": false,
     "input": [
      "from IPython.display import Image\n",
      "Image(\"https://sslimgs.xkcd.com/comics/correlation.png\")\n",
      "    "
     ],
     "language": "python",
     "metadata": {},
     "outputs": []
    },
    {
     "cell_type": "code",
     "collapsed": false,
     "input": [
      "certified=df[df['certified']==1]"
     ],
     "language": "python",
     "metadata": {},
     "outputs": []
    },
    {
     "cell_type": "code",
     "collapsed": false,
     "input": [
      "len(certified)"
     ],
     "language": "python",
     "metadata": {},
     "outputs": []
    },
    {
     "cell_type": "code",
     "collapsed": false,
     "input": [
      "certified_by_country=certified['final_cc_cname_DI'].value_counts()"
     ],
     "language": "python",
     "metadata": {},
     "outputs": []
    },
    {
     "cell_type": "code",
     "collapsed": false,
     "input": [
      "diligence=(certified_by_country/enrolled_by_country)\n",
      "diligence.plot(kind='bar', title='Diligence redux: certification per enrollment')"
     ],
     "language": "python",
     "metadata": {},
     "outputs": []
    },
    {
     "cell_type": "markdown",
     "metadata": {},
     "source": [
      "what if we compared completion by gender? or by age?"
     ]
    },
    {
     "cell_type": "code",
     "collapsed": false,
     "input": [
      "certified_male=certified[certified['gender']=='m']\n",
      "certified_male_by_country=certified_male['final_cc_cname_DI'].value_counts()"
     ],
     "language": "python",
     "metadata": {},
     "outputs": []
    },
    {
     "cell_type": "code",
     "collapsed": false,
     "input": [
      "enrolled_male=df[df['gender']=='m']"
     ],
     "language": "python",
     "metadata": {},
     "outputs": []
    },
    {
     "cell_type": "code",
     "collapsed": false,
     "input": [
      "enrolled_male_by_country=enrolled_male['final_cc_cname_DI'].value_counts()"
     ],
     "language": "python",
     "metadata": {},
     "outputs": []
    },
    {
     "cell_type": "code",
     "collapsed": false,
     "input": [
      "diligence_male=(certified_male_by_country/enrolled_male_by_country)\n"
     ],
     "language": "python",
     "metadata": {},
     "outputs": []
    },
    {
     "cell_type": "code",
     "collapsed": false,
     "input": [
      "diligence_male.plot(kind='bar', title='Diligence: Certification per enrollment(dudes)')"
     ],
     "language": "python",
     "metadata": {},
     "outputs": []
    },
    {
     "cell_type": "code",
     "collapsed": false,
     "input": [
      "certified_female=certified[certified['gender']=='f']\n",
      "certified_female_by_country=certified_female['final_cc_cname_DI'].value_counts()\n",
      "enrolled_female=df[df['gender']=='f']\n",
      "enrolled_female_by_country=enrolled_female['final_cc_cname_DI'].value_counts()\n",
      "diligence_female=(certified_female_by_country/enrolled_female_by_country)\n",
      "diligence_female.plot(kind='bar', title='Diligence: Certification per enrollment(lasses)')"
     ],
     "language": "python",
     "metadata": {},
     "outputs": []
    },
    {
     "cell_type": "code",
     "collapsed": false,
     "input": [
      "diligence_genders=pd.DataFrame([diligence_female, diligence_male], index=[\"female\",\"male\"])"
     ],
     "language": "python",
     "metadata": {},
     "outputs": []
    },
    {
     "cell_type": "code",
     "collapsed": false,
     "input": [
      "diligence_genders"
     ],
     "language": "python",
     "metadata": {},
     "outputs": []
    },
    {
     "cell_type": "code",
     "collapsed": false,
     "input": [
      "diligence_genders.T"
     ],
     "language": "python",
     "metadata": {},
     "outputs": []
    },
    {
     "cell_type": "code",
     "collapsed": false,
     "input": [
      "diligence_genders.T[[\"female\",\"male\"]].plot(kind=\"bar\", title=\"Diligence: Certification per enrollment (lasses and dudes)\")"
     ],
     "language": "python",
     "metadata": {},
     "outputs": []
    },
    {
     "cell_type": "code",
     "collapsed": false,
     "input": [],
     "language": "python",
     "metadata": {},
     "outputs": []
    }
   ],
   "metadata": {}
  }
 ]
}