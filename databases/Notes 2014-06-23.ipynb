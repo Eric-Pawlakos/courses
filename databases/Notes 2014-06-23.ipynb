{
 "metadata": {
  "name": "Notes 2014-06-23"
 },
 "nbformat": 3,
 "nbformat_minor": 0,
 "worksheets": [
  {
   "cells": [
    {
     "cell_type": "markdown",
     "metadata": {},
     "source": "#HyperText Markup Language\n\n    <p>Mother said there'd be\n    nights like these.</p>\n    \n    <div class=\"header\" style=\"background: blue;\">Howdy there</div>\n\n    <ul>\n        <li>Item one</li>\n        <li>Item two</li>\n        <li><b>Item three</b></li>\n    </ul>"
    },
    {
     "cell_type": "code",
     "collapsed": false,
     "input": "import urllib\n\nhtml_str = urllib.urlopen(\"http://static.decontextualize.com/kittens.html\").read()",
     "language": "python",
     "metadata": {},
     "outputs": [],
     "prompt_number": 1
    },
    {
     "cell_type": "code",
     "collapsed": false,
     "input": "print type(html_str)",
     "language": "python",
     "metadata": {},
     "outputs": [
      {
       "output_type": "stream",
       "stream": "stdout",
       "text": "<type 'str'>\n"
      }
     ],
     "prompt_number": 3
    },
    {
     "cell_type": "code",
     "collapsed": false,
     "input": "print html_str[:10]",
     "language": "python",
     "metadata": {},
     "outputs": [
      {
       "output_type": "stream",
       "stream": "stdout",
       "text": "<!doctype \n"
      }
     ],
     "prompt_number": 4
    },
    {
     "cell_type": "code",
     "collapsed": false,
     "input": "print html_str.find(\"Fluffy\")",
     "language": "python",
     "metadata": {},
     "outputs": [
      {
       "output_type": "stream",
       "stream": "stdout",
       "text": "150\n"
      }
     ],
     "prompt_number": 5
    },
    {
     "cell_type": "code",
     "collapsed": false,
     "input": "# pip install beautifulsoup4\nfrom bs4 import BeautifulSoup",
     "language": "python",
     "metadata": {},
     "outputs": [],
     "prompt_number": 6
    },
    {
     "cell_type": "code",
     "collapsed": false,
     "input": "document = BeautifulSoup(html_str)\nprint type(document)",
     "language": "python",
     "metadata": {},
     "outputs": [
      {
       "output_type": "stream",
       "stream": "stdout",
       "text": "<class 'bs4.BeautifulSoup'>\n"
      }
     ],
     "prompt_number": 7
    },
    {
     "cell_type": "code",
     "collapsed": false,
     "input": "h1_tag = document.find(\"h1\")\nprint type(h1_tag)",
     "language": "python",
     "metadata": {},
     "outputs": [
      {
       "output_type": "stream",
       "stream": "stdout",
       "text": "<class 'bs4.element.Tag'>\n"
      }
     ],
     "prompt_number": 8
    },
    {
     "cell_type": "code",
     "collapsed": false,
     "input": "h1_tag.string",
     "language": "python",
     "metadata": {},
     "outputs": [
      {
       "metadata": {},
       "output_type": "pyout",
       "prompt_number": 9,
       "text": "u'Kittens and the TV Shows They Love'"
      }
     ],
     "prompt_number": 9
    },
    {
     "cell_type": "code",
     "collapsed": false,
     "input": "img_tag = document.find('img')\nimg_tag['src']",
     "language": "python",
     "metadata": {},
     "outputs": [
      {
       "metadata": {},
       "output_type": "pyout",
       "prompt_number": 12,
       "text": "'http://placekitten.com/100/100'"
      }
     ],
     "prompt_number": 12
    },
    {
     "cell_type": "code",
     "collapsed": false,
     "input": "h1_tag = document.find('h1')\nh1_tag.string",
     "language": "python",
     "metadata": {},
     "outputs": [
      {
       "metadata": {},
       "output_type": "pyout",
       "prompt_number": 27,
       "text": "u'Kittens and the TV Shows They Love'"
      }
     ],
     "prompt_number": 27
    },
    {
     "cell_type": "code",
     "collapsed": false,
     "input": "img_tag = document.find('img')\nimg_tag['src']\nprint img_tag.string",
     "language": "python",
     "metadata": {},
     "outputs": [
      {
       "output_type": "stream",
       "stream": "stdout",
       "text": "None\n"
      }
     ],
     "prompt_number": 29
    },
    {
     "cell_type": "code",
     "collapsed": false,
     "input": "print img_tag",
     "language": "python",
     "metadata": {},
     "outputs": [
      {
       "output_type": "stream",
       "stream": "stdout",
       "text": "<img src=\"http://placekitten.com/100/100\"/>\n"
      }
     ],
     "prompt_number": 21
    },
    {
     "cell_type": "code",
     "collapsed": false,
     "input": "h2_tags = document.find_all(\"h2\")\nprint h2_tags[0].string\nprint h2_tags[1].string\n[tag.string for tag in h2_tags]",
     "language": "python",
     "metadata": {},
     "outputs": [
      {
       "output_type": "stream",
       "stream": "stdout",
       "text": "Fluffy\nMonsieur Whiskeurs\n"
      },
      {
       "metadata": {},
       "output_type": "pyout",
       "prompt_number": 36,
       "text": "[u'Fluffy', u'Monsieur Whiskeurs']"
      }
     ],
     "prompt_number": 36
    },
    {
     "cell_type": "code",
     "collapsed": false,
     "input": "img_tags = document.find_all(\"img\")\n[tag['src'] for tag in img_tags]",
     "language": "python",
     "metadata": {},
     "outputs": [
      {
       "metadata": {},
       "output_type": "pyout",
       "prompt_number": 37,
       "text": "['http://placekitten.com/100/100', 'http://placekitten.com/150/100']"
      }
     ],
     "prompt_number": 37
    },
    {
     "cell_type": "code",
     "collapsed": false,
     "input": "spans = document.find_all(\"span\", attrs={\"class\": \"lastcheckup\"})\n",
     "language": "python",
     "metadata": {},
     "outputs": [
      {
       "metadata": {},
       "output_type": "pyout",
       "prompt_number": 39,
       "text": "[<span class=\"lastcheckup\">2014-01-17</span>,\n <span class=\"lastcheckup\">2013-11-02</span>]"
      }
     ],
     "prompt_number": 39
    },
    {
     "cell_type": "code",
     "collapsed": false,
     "input": "imgs = document.find_all(\"img\", attrs={'src': 'http://placekitten.com/100/100'})\nprint imgs",
     "language": "python",
     "metadata": {},
     "outputs": [
      {
       "output_type": "stream",
       "stream": "stdout",
       "text": "[<img src=\"http://placekitten.com/100/100\"/>]\n"
      }
     ],
     "prompt_number": 41
    },
    {
     "cell_type": "markdown",
     "metadata": {},
     "source": "##Finding tags inside other tags\n\nyou can also call find() and find_all() on a tag."
    },
    {
     "cell_type": "code",
     "collapsed": false,
     "input": "kitten_tags = document.find_all(\"div\", attrs={'class': 'kitten'})",
     "language": "python",
     "metadata": {},
     "outputs": [],
     "prompt_number": 42
    },
    {
     "cell_type": "code",
     "collapsed": false,
     "input": "for kitten_tag in kitten_tags:\n    h2_tag = kitten_tag.find('h2')\n    print h2_tag.string",
     "language": "python",
     "metadata": {},
     "outputs": [
      {
       "output_type": "stream",
       "stream": "stdout",
       "text": "Fluffy\nMonsieur Whiskeurs\n"
      }
     ],
     "prompt_number": 43
    },
    {
     "cell_type": "code",
     "collapsed": false,
     "input": "for kitten_tag in kitten_tags:\n    h2_tag = kitten_tag.find('h2')\n    kitten_name = h2_tag.string\n    a_tags = kitten_tag.find_all('a')\n    a_tag_strings = [tag.string for tag in a_tags]\n    a_joined = ', '.join(a_tag_strings)\n    print h2_tag.string + \": \" + a_joined\n    ",
     "language": "python",
     "metadata": {},
     "outputs": [
      {
       "output_type": "stream",
       "stream": "stdout",
       "text": "Fluffy: Deep Space Nine, Mr. Belvedere\nMonsieur Whiskeurs: The X-Files, Fresh Prince\n"
      }
     ],
     "prompt_number": 46
    },
    {
     "cell_type": "code",
     "collapsed": false,
     "input": "foo = [\"a\", \"b\", \"c\"]\n\"!\".join(foo)",
     "language": "python",
     "metadata": {},
     "outputs": [
      {
       "metadata": {},
       "output_type": "pyout",
       "prompt_number": 48,
       "text": "'a!b!c'"
      }
     ],
     "prompt_number": 48
    },
    {
     "cell_type": "code",
     "collapsed": false,
     "input": "kitten_shows = {}\nfor kitten_tag in kitten_tags:\n    h2_tag = kitten_tag.find('h2')\n    kitten_name = h2_tag.string\n    a_tags = kitten_tag.find_all('a')\n    a_tag_strings = [tag.string for tag in a_tags]\n    kitten_shows[kitten_name] = a_tag_strings\nkitten_shows\n",
     "language": "python",
     "metadata": {},
     "outputs": [
      {
       "metadata": {},
       "output_type": "pyout",
       "prompt_number": 49,
       "text": "{u'Fluffy': [u'Deep Space Nine', u'Mr. Belvedere'],\n u'Monsieur Whiskeurs': [u'The X-Files', u'Fresh Prince']}"
      }
     ],
     "prompt_number": 49
    },
    {
     "cell_type": "markdown",
     "metadata": {},
     "source": "##A real world example.\n\nend up with a data structure that looks like this:\n\n    [\n        {'name': 'Doe, Joe', 'title': 'Reverse Karate Instructor', 'img_src': 'http://placekitten.com/100/100'},\n        {'name': 'Robertson, Bob', 'title': 'Adjunct Person', 'img_src': None}\n        ...\n    ]\n    \n"
    },
    {
     "cell_type": "code",
     "collapsed": false,
     "input": "import urllib\nhtml_str = urllib.urlopen(\"http://www.journalism.columbia.edu/page/10/10?category_ids%5B%5D=2&category_ids%5B%5D=3&category_ids%5B%5D=37\").read()\n",
     "language": "python",
     "metadata": {},
     "outputs": [],
     "prompt_number": 53
    },
    {
     "cell_type": "code",
     "collapsed": false,
     "input": "document = BeautifulSoup(html_str)\nfaculty_list = []\nexperts = document.find('ul', attrs={'class': 'experts-list'})\nfaculty_list = experts.find_all('li')\nall_faculty = []\nfor faculty_li in faculty_list:\n    faculty_dict = {}\n    # get title\n    title_tag = faculty_li.find('p', attrs={'class': 'description'})\n    if title_tag is None:\n        continue\n    faculty_dict['title'] = title_tag.string\n\n    # get faculty member name\n    h4_tag = faculty_li.find('h4')\n    a_tag = h4_tag.find('a')\n    \n    faculty_dict['name'] = a_tag.string\n    all_faculty.append(faculty_dict)\n    \nfaculty_list",
     "language": "python",
     "metadata": {},
     "outputs": [],
     "prompt_number": 67
    },
    {
     "cell_type": "code",
     "collapsed": false,
     "input": "import pandas as pd\nfaculty_frame = pd.DataFrame(all_faculty)\nfaculty_frame[faculty_frame[\"title\"]==\"Adjunct Faculty\"]",
     "language": "python",
     "metadata": {},
     "outputs": [
      {
       "html": "<div style=\"max-height:1000px;max-width:1500px;overflow:auto;\">\n<table border=\"1\" class=\"dataframe\">\n  <thead>\n    <tr style=\"text-align: right;\">\n      <th></th>\n      <th>name</th>\n      <th>title</th>\n    </tr>\n  </thead>\n  <tbody>\n    <tr>\n      <th>1  </th>\n      <td>           Barclay, Dolores </td>\n      <td> Adjunct Faculty</td>\n    </tr>\n    <tr>\n      <th>2  </th>\n      <td>             Baum, Geraldine</td>\n      <td> Adjunct Faculty</td>\n    </tr>\n    <tr>\n      <th>5  </th>\n      <td>               Bennet, John </td>\n      <td> Adjunct Faculty</td>\n    </tr>\n    <tr>\n      <th>6  </th>\n      <td>                Bennett, Rob</td>\n      <td> Adjunct Faculty</td>\n    </tr>\n    <tr>\n      <th>8  </th>\n      <td>              Blair, Gwenda </td>\n      <td> Adjunct Faculty</td>\n    </tr>\n    <tr>\n      <th>9  </th>\n      <td>                Blum, David </td>\n      <td> Adjunct Faculty</td>\n    </tr>\n    <tr>\n      <th>11 </th>\n      <td>            Bogdanich, Walt </td>\n      <td> Adjunct Faculty</td>\n    </tr>\n    <tr>\n      <th>12 </th>\n      <td>             Bourin, Lennart</td>\n      <td> Adjunct Faculty</td>\n    </tr>\n    <tr>\n      <th>14 </th>\n      <td>             Bruder, Jessica</td>\n      <td> Adjunct Faculty</td>\n    </tr>\n    <tr>\n      <th>15 </th>\n      <td>           Burford, Melanie </td>\n      <td> Adjunct Faculty</td>\n    </tr>\n    <tr>\n      <th>16 </th>\n      <td>             Burleigh, Nina </td>\n      <td> Adjunct Faculty</td>\n    </tr>\n    <tr>\n      <th>20 </th>\n      <td>               Charnas, Dan </td>\n      <td> Adjunct Faculty</td>\n    </tr>\n    <tr>\n      <th>21 </th>\n      <td>                Cohen, Julie</td>\n      <td> Adjunct Faculty</td>\n    </tr>\n    <tr>\n      <th>22 </th>\n      <td>              Cohen, Lisa R.</td>\n      <td> Adjunct Faculty</td>\n    </tr>\n    <tr>\n      <th>23 </th>\n      <td>                Cohen, Sarah</td>\n      <td> Adjunct Faculty</td>\n    </tr>\n    <tr>\n      <th>27 </th>\n      <td>              Coyne , Kevin </td>\n      <td> Adjunct Faculty</td>\n    </tr>\n    <tr>\n      <th>31 </th>\n      <td>            DePalma, Anthony</td>\n      <td> Adjunct Faculty</td>\n    </tr>\n    <tr>\n      <th>32 </th>\n      <td>             DeSilva, Bruce </td>\n      <td> Adjunct Faculty</td>\n    </tr>\n    <tr>\n      <th>33 </th>\n      <td>            Deitsch, Richard</td>\n      <td> Adjunct Faculty</td>\n    </tr>\n    <tr>\n      <th>35 </th>\n      <td>                 Dodd, Scott</td>\n      <td> Adjunct Faculty</td>\n    </tr>\n    <tr>\n      <th>36 </th>\n      <td>             Donahue, Kerry </td>\n      <td> Adjunct Faculty</td>\n    </tr>\n    <tr>\n      <th>37 </th>\n      <td>          Drew, Christopher </td>\n      <td> Adjunct Faculty</td>\n    </tr>\n    <tr>\n      <th>40 </th>\n      <td>             Evans, Farrell </td>\n      <td> Adjunct Faculty</td>\n    </tr>\n    <tr>\n      <th>41 </th>\n      <td>              Evans , Tyson </td>\n      <td> Adjunct Faculty</td>\n    </tr>\n    <tr>\n      <th>43 </th>\n      <td>   Ford, Constance Mitchell </td>\n      <td> Adjunct Faculty</td>\n    </tr>\n    <tr>\n      <th>44 </th>\n      <td>     Frederick, Pamela Platt</td>\n      <td> Adjunct Faculty</td>\n    </tr>\n    <tr>\n      <th>46 </th>\n      <td>            Freeman, George </td>\n      <td> Adjunct Faculty</td>\n    </tr>\n    <tr>\n      <th>47 </th>\n      <td>               Freeman, John</td>\n      <td> Adjunct Faculty</td>\n    </tr>\n    <tr>\n      <th>49 </th>\n      <td>             Fried, Stephen </td>\n      <td> Adjunct Faculty</td>\n    </tr>\n    <tr>\n      <th>51 </th>\n      <td>             Gilderman, Greg</td>\n      <td> Adjunct Faculty</td>\n    </tr>\n    <tr>\n      <th>54 </th>\n      <td>           Giudice, Barbara </td>\n      <td> Adjunct Faculty</td>\n    </tr>\n    <tr>\n      <th>55 </th>\n      <td>           Goldensohn, Marty</td>\n      <td> Adjunct Faculty</td>\n    </tr>\n    <tr>\n      <th>59 </th>\n      <td>             Haburchak, Alan</td>\n      <td> Adjunct Faculty</td>\n    </tr>\n    <tr>\n      <th>61 </th>\n      <td>               Hall, Stephen</td>\n      <td> Adjunct Faculty</td>\n    </tr>\n    <tr>\n      <th>64 </th>\n      <td>                Harris, Mark</td>\n      <td> Adjunct Faculty</td>\n    </tr>\n    <tr>\n      <th>66 </th>\n      <td>          Heinzerling, Larry</td>\n      <td> Adjunct Faculty</td>\n    </tr>\n    <tr>\n      <th>67 </th>\n      <td>                Herman, Tom </td>\n      <td> Adjunct Faculty</td>\n    </tr>\n    <tr>\n      <th>68 </th>\n      <td>               Hickey, Neil </td>\n      <td> Adjunct Faculty</td>\n    </tr>\n    <tr>\n      <th>70 </th>\n      <td>               Hogan, Pamela</td>\n      <td> Adjunct Faculty</td>\n    </tr>\n    <tr>\n      <th>72 </th>\n      <td>              Hoyt, Michael </td>\n      <td> Adjunct Faculty</td>\n    </tr>\n    <tr>\n      <th>77 </th>\n      <td>             Kann, Peter R. </td>\n      <td> Adjunct Faculty</td>\n    </tr>\n    <tr>\n      <th>80 </th>\n      <td>                  Karr, Rick</td>\n      <td> Adjunct Faculty</td>\n    </tr>\n    <tr>\n      <th>81 </th>\n      <td>               Kent, Thomas </td>\n      <td> Adjunct Faculty</td>\n    </tr>\n    <tr>\n      <th>84 </th>\n      <td>                Kleman, Kim </td>\n      <td> Adjunct Faculty</td>\n    </tr>\n    <tr>\n      <th>87 </th>\n      <td>               Kottler, Mark</td>\n      <td> Adjunct Faculty</td>\n    </tr>\n    <tr>\n      <th>88 </th>\n      <td>               Landis, Peter</td>\n      <td> Adjunct Faculty</td>\n    </tr>\n    <tr>\n      <th>89 </th>\n      <td>               Lee, Deborah </td>\n      <td> Adjunct Faculty</td>\n    </tr>\n    <tr>\n      <th>90 </th>\n      <td> Lehmann-Haupt, Christopher </td>\n      <td> Adjunct Faculty</td>\n    </tr>\n    <tr>\n      <th>92 </th>\n      <td>            Levenson, Jacob </td>\n      <td> Adjunct Faculty</td>\n    </tr>\n    <tr>\n      <th>93 </th>\n      <td>               Lipsky, Seth </td>\n      <td> Adjunct Faculty</td>\n    </tr>\n    <tr>\n      <th>95 </th>\n      <td>           Lombardi, Kristen</td>\n      <td> Adjunct Faculty</td>\n    </tr>\n    <tr>\n      <th>96 </th>\n      <td>                 Luhby, Tami</td>\n      <td> Adjunct Faculty</td>\n    </tr>\n    <tr>\n      <th>97 </th>\n      <td>              Maciulis, Tony</td>\n      <td> Adjunct Faculty</td>\n    </tr>\n    <tr>\n      <th>101</th>\n      <td>                Maytal, Itai</td>\n      <td> Adjunct Faculty</td>\n    </tr>\n    <tr>\n      <th>102</th>\n      <td>           McCormick, David </td>\n      <td> Adjunct Faculty</td>\n    </tr>\n    <tr>\n      <th>103</th>\n      <td>              McCray, Melvin</td>\n      <td> Adjunct Faculty</td>\n    </tr>\n    <tr>\n      <th>106</th>\n      <td>            McMasters, Kelly</td>\n      <td> Adjunct Faculty</td>\n    </tr>\n    <tr>\n      <th>109</th>\n      <td>         Miller , Stephen C.</td>\n      <td> Adjunct Faculty</td>\n    </tr>\n    <tr>\n      <th>110</th>\n      <td>                Mintz, James</td>\n      <td> Adjunct Faculty</td>\n    </tr>\n    <tr>\n      <th>113</th>\n      <td>               Newman, Maria</td>\n      <td> Adjunct Faculty</td>\n    </tr>\n    <tr>\n      <th></th>\n      <td>...</td>\n      <td>...</td>\n    </tr>\n  </tbody>\n</table>\n<p>104 rows \u00d7 2 columns</p>\n</div>",
       "metadata": {},
       "output_type": "pyout",
       "prompt_number": 66,
       "text": "                            name            title\n1              Barclay, Dolores   Adjunct Faculty\n2                Baum, Geraldine  Adjunct Faculty\n5                  Bennet, John   Adjunct Faculty\n6                   Bennett, Rob  Adjunct Faculty\n8                 Blair, Gwenda   Adjunct Faculty\n9                   Blum, David   Adjunct Faculty\n11              Bogdanich, Walt   Adjunct Faculty\n12               Bourin, Lennart  Adjunct Faculty\n14               Bruder, Jessica  Adjunct Faculty\n15             Burford, Melanie   Adjunct Faculty\n16               Burleigh, Nina   Adjunct Faculty\n20                 Charnas, Dan   Adjunct Faculty\n21                  Cohen, Julie  Adjunct Faculty\n22                Cohen, Lisa R.  Adjunct Faculty\n23                  Cohen, Sarah  Adjunct Faculty\n27                Coyne , Kevin   Adjunct Faculty\n31              DePalma, Anthony  Adjunct Faculty\n32               DeSilva, Bruce   Adjunct Faculty\n33              Deitsch, Richard  Adjunct Faculty\n35                   Dodd, Scott  Adjunct Faculty\n36               Donahue, Kerry   Adjunct Faculty\n37            Drew, Christopher   Adjunct Faculty\n40               Evans, Farrell   Adjunct Faculty\n41                Evans , Tyson   Adjunct Faculty\n43     Ford, Constance Mitchell   Adjunct Faculty\n44       Frederick, Pamela Platt  Adjunct Faculty\n46              Freeman, George   Adjunct Faculty\n47                 Freeman, John  Adjunct Faculty\n49               Fried, Stephen   Adjunct Faculty\n51               Gilderman, Greg  Adjunct Faculty\n54             Giudice, Barbara   Adjunct Faculty\n55             Goldensohn, Marty  Adjunct Faculty\n59               Haburchak, Alan  Adjunct Faculty\n61                 Hall, Stephen  Adjunct Faculty\n64                  Harris, Mark  Adjunct Faculty\n66            Heinzerling, Larry  Adjunct Faculty\n67                  Herman, Tom   Adjunct Faculty\n68                 Hickey, Neil   Adjunct Faculty\n70                 Hogan, Pamela  Adjunct Faculty\n72                Hoyt, Michael   Adjunct Faculty\n77               Kann, Peter R.   Adjunct Faculty\n80                    Karr, Rick  Adjunct Faculty\n81                 Kent, Thomas   Adjunct Faculty\n84                  Kleman, Kim   Adjunct Faculty\n87                 Kottler, Mark  Adjunct Faculty\n88                 Landis, Peter  Adjunct Faculty\n89                 Lee, Deborah   Adjunct Faculty\n90   Lehmann-Haupt, Christopher   Adjunct Faculty\n92              Levenson, Jacob   Adjunct Faculty\n93                 Lipsky, Seth   Adjunct Faculty\n95             Lombardi, Kristen  Adjunct Faculty\n96                   Luhby, Tami  Adjunct Faculty\n97                Maciulis, Tony  Adjunct Faculty\n101                 Maytal, Itai  Adjunct Faculty\n102            McCormick, David   Adjunct Faculty\n103               McCray, Melvin  Adjunct Faculty\n106             McMasters, Kelly  Adjunct Faculty\n109          Miller , Stephen C.  Adjunct Faculty\n110                 Mintz, James  Adjunct Faculty\n113                Newman, Maria  Adjunct Faculty\n                             ...              ...\n\n[104 rows x 2 columns]"
      }
     ],
     "prompt_number": 66
    },
    {
     "cell_type": "code",
     "collapsed": false,
     "input": "",
     "language": "python",
     "metadata": {},
     "outputs": []
    }
   ],
   "metadata": {}
  }
 ]
}