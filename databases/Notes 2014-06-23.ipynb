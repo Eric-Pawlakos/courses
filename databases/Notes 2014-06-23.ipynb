{
 "metadata": {
  "name": "Notes 2014-06-23"
 },
 "nbformat": 3,
 "nbformat_minor": 0,
 "worksheets": [
  {
   "cells": [
    {
     "cell_type": "markdown",
     "metadata": {},
     "source": "#HyperText Markup Language\n\n    <p>Mother said there'd be\n    nights like these.</p>\n    \n    <div class=\"header\" style=\"background: blue;\">Howdy there</div>\n\n    <ul>\n        <li>Item one</li>\n        <li>Item two</li>\n        <li><b>Item three</b></li>\n    </ul>"
    },
    {
     "cell_type": "code",
     "collapsed": false,
     "input": "import urllib\n\nhtml_str = urllib.urlopen(\"http://static.decontextualize.com/kittens.html\").read()",
     "language": "python",
     "metadata": {},
     "outputs": [],
     "prompt_number": 1
    },
    {
     "cell_type": "code",
     "collapsed": false,
     "input": "print type(html_str)",
     "language": "python",
     "metadata": {},
     "outputs": [
      {
       "output_type": "stream",
       "stream": "stdout",
       "text": "<type 'str'>\n"
      }
     ],
     "prompt_number": 3
    },
    {
     "cell_type": "code",
     "collapsed": false,
     "input": "print html_str[:10]",
     "language": "python",
     "metadata": {},
     "outputs": [
      {
       "output_type": "stream",
       "stream": "stdout",
       "text": "<!doctype \n"
      }
     ],
     "prompt_number": 4
    },
    {
     "cell_type": "code",
     "collapsed": false,
     "input": "print html_str.find(\"Fluffy\")",
     "language": "python",
     "metadata": {},
     "outputs": [
      {
       "output_type": "stream",
       "stream": "stdout",
       "text": "150\n"
      }
     ],
     "prompt_number": 5
    },
    {
     "cell_type": "code",
     "collapsed": false,
     "input": "# pip install beautifulsoup4\nfrom bs4 import BeautifulSoup",
     "language": "python",
     "metadata": {},
     "outputs": [],
     "prompt_number": 6
    },
    {
     "cell_type": "code",
     "collapsed": false,
     "input": "document = BeautifulSoup(html_str)\nprint type(document)",
     "language": "python",
     "metadata": {},
     "outputs": [
      {
       "output_type": "stream",
       "stream": "stdout",
       "text": "<class 'bs4.BeautifulSoup'>\n"
      }
     ],
     "prompt_number": 7
    },
    {
     "cell_type": "code",
     "collapsed": false,
     "input": "h1_tag = document.find(\"h1\")\nprint type(h1_tag)",
     "language": "python",
     "metadata": {},
     "outputs": [
      {
       "output_type": "stream",
       "stream": "stdout",
       "text": "<class 'bs4.element.Tag'>\n"
      }
     ],
     "prompt_number": 8
    },
    {
     "cell_type": "code",
     "collapsed": false,
     "input": "h1_tag.string",
     "language": "python",
     "metadata": {},
     "outputs": [
      {
       "metadata": {},
       "output_type": "pyout",
       "prompt_number": 9,
       "text": "u'Kittens and the TV Shows They Love'"
      }
     ],
     "prompt_number": 9
    },
    {
     "cell_type": "code",
     "collapsed": false,
     "input": "img_tag = document.find('img')\nimg_tag['src']",
     "language": "python",
     "metadata": {},
     "outputs": [
      {
       "metadata": {},
       "output_type": "pyout",
       "prompt_number": 12,
       "text": "'http://placekitten.com/100/100'"
      }
     ],
     "prompt_number": 12
    },
    {
     "cell_type": "code",
     "collapsed": false,
     "input": "h1_tag = document.find('h1')\nh1_tag.string",
     "language": "python",
     "metadata": {},
     "outputs": [
      {
       "metadata": {},
       "output_type": "pyout",
       "prompt_number": 27,
       "text": "u'Kittens and the TV Shows They Love'"
      }
     ],
     "prompt_number": 27
    },
    {
     "cell_type": "code",
     "collapsed": false,
     "input": "img_tag = document.find('img')\nimg_tag['src']\nprint img_tag.string",
     "language": "python",
     "metadata": {},
     "outputs": [
      {
       "output_type": "stream",
       "stream": "stdout",
       "text": "None\n"
      }
     ],
     "prompt_number": 29
    },
    {
     "cell_type": "code",
     "collapsed": false,
     "input": "print img_tag",
     "language": "python",
     "metadata": {},
     "outputs": [
      {
       "output_type": "stream",
       "stream": "stdout",
       "text": "<img src=\"http://placekitten.com/100/100\"/>\n"
      }
     ],
     "prompt_number": 21
    },
    {
     "cell_type": "code",
     "collapsed": false,
     "input": "h2_tags = document.find_all(\"h2\")\nprint h2_tags[0].string\nprint h2_tags[1].string\n[tag.string for tag in h2_tags]",
     "language": "python",
     "metadata": {},
     "outputs": [
      {
       "output_type": "stream",
       "stream": "stdout",
       "text": "Fluffy\nMonsieur Whiskeurs\n"
      },
      {
       "metadata": {},
       "output_type": "pyout",
       "prompt_number": 36,
       "text": "[u'Fluffy', u'Monsieur Whiskeurs']"
      }
     ],
     "prompt_number": 36
    },
    {
     "cell_type": "code",
     "collapsed": false,
     "input": "img_tags = document.find_all(\"img\")\n[tag['src'] for tag in img_tags]",
     "language": "python",
     "metadata": {},
     "outputs": [
      {
       "metadata": {},
       "output_type": "pyout",
       "prompt_number": 37,
       "text": "['http://placekitten.com/100/100', 'http://placekitten.com/150/100']"
      }
     ],
     "prompt_number": 37
    },
    {
     "cell_type": "code",
     "collapsed": false,
     "input": "spans = document.find_all(\"span\", attrs={\"class\": \"lastcheckup\"})\n",
     "language": "python",
     "metadata": {},
     "outputs": [
      {
       "metadata": {},
       "output_type": "pyout",
       "prompt_number": 39,
       "text": "[<span class=\"lastcheckup\">2014-01-17</span>,\n <span class=\"lastcheckup\">2013-11-02</span>]"
      }
     ],
     "prompt_number": 39
    },
    {
     "cell_type": "code",
     "collapsed": false,
     "input": "imgs = document.find_all(\"img\", attrs={'src': 'http://placekitten.com/100/100'})\nprint imgs",
     "language": "python",
     "metadata": {},
     "outputs": [
      {
       "output_type": "stream",
       "stream": "stdout",
       "text": "[<img src=\"http://placekitten.com/100/100\"/>]\n"
      }
     ],
     "prompt_number": 41
    },
    {
     "cell_type": "markdown",
     "metadata": {},
     "source": "##Finding tags inside other tags\n\nyou can also call find() and find_all() on a tag."
    },
    {
     "cell_type": "code",
     "collapsed": false,
     "input": "kitten_tags = document.find_all(\"div\", attrs={'class': 'kitten'})",
     "language": "python",
     "metadata": {},
     "outputs": [],
     "prompt_number": 42
    },
    {
     "cell_type": "code",
     "collapsed": false,
     "input": "for kitten_tag in kitten_tags:\n    h2_tag = kitten_tag.find('h2')\n    print h2_tag.string",
     "language": "python",
     "metadata": {},
     "outputs": [
      {
       "output_type": "stream",
       "stream": "stdout",
       "text": "Fluffy\nMonsieur Whiskeurs\n"
      }
     ],
     "prompt_number": 43
    },
    {
     "cell_type": "code",
     "collapsed": false,
     "input": "for kitten_tag in kitten_tags:\n    h2_tag = kitten_tag.find('h2')\n    kitten_name = h2_tag.string\n    a_tags = kitten_tag.find_all('a')\n    a_tag_strings = [tag.string for tag in a_tags]\n    a_joined = ', '.join(a_tag_strings)\n    print h2_tag.string + \": \" + a_joined\n    ",
     "language": "python",
     "metadata": {},
     "outputs": [
      {
       "output_type": "stream",
       "stream": "stdout",
       "text": "Fluffy: Deep Space Nine, Mr. Belvedere\nMonsieur Whiskeurs: The X-Files, Fresh Prince\n"
      }
     ],
     "prompt_number": 46
    },
    {
     "cell_type": "code",
     "collapsed": false,
     "input": "foo = [\"a\", \"b\", \"c\"]\n\"!\".join(foo)",
     "language": "python",
     "metadata": {},
     "outputs": [
      {
       "metadata": {},
       "output_type": "pyout",
       "prompt_number": 48,
       "text": "'a!b!c'"
      }
     ],
     "prompt_number": 48
    },
    {
     "cell_type": "code",
     "collapsed": false,
     "input": "kitten_shows = {}\nfor kitten_tag in kitten_tags:\n    h2_tag = kitten_tag.find('h2')\n    kitten_name = h2_tag.string\n    a_tags = kitten_tag.find_all('a')\n    a_tag_strings = [tag.string for tag in a_tags]\n    kitten_shows[kitten_name] = a_tag_strings\nkitten_shows\n",
     "language": "python",
     "metadata": {},
     "outputs": [
      {
       "metadata": {},
       "output_type": "pyout",
       "prompt_number": 74,
       "text": "{u'Fluffy': [u'Deep Space Nine', u'Mr. Belvedere'],\n u'Monsieur Whiskeurs': [u'The X-Files', u'Fresh Prince']}"
      }
     ],
     "prompt_number": 74
    },
    {
     "cell_type": "code",
     "collapsed": false,
     "input": "import urllib\nfrom bs4 import BeautifulSoup\n\nhtml_str = urllib.urlopen(\"http://static.decontextualize.com/kittens.html\").read()\n\ndocument = BeautifulSoup(html_str)\n\nattrs_we_are_looking_for = {'class': 'kitten'}\nkitten_divs = document.find_all(\"div\", attrs=attrs_we_are_looking_for)\n\nkittens_list = []\nfor kitten_div in kitten_divs:\n    kitten_dict = {}\n    \n    # add name!\n    h2_tag = kitten_div.find(\"h2\")\n    # does the same thing\n    #h2_tags = kitten_div.find_all(\"h2\")[0]\n    kitten_dict[\"name\"] = h2_tag.string\n\n    # add last checkup!\n    span_tag = kitten_div.find(\"span\")\n    kitten_dict[\"lastcheckup\"] = span_tag.string\n    \n    # add image url\n    img_tag = kitten_div.find(\"img\")\n    kitten_dict[\"img\"] = img_tag['src']\n    \n    kittens_list.append(kitten_dict)\n    \nkittens_list\n",
     "language": "python",
     "metadata": {},
     "outputs": [
      {
       "metadata": {},
       "output_type": "pyout",
       "prompt_number": 88,
       "text": "[{'img': 'http://placekitten.com/100/100',\n  'lastcheckup': u'2014-01-17',\n  'name': u'Fluffy'},\n {'img': 'http://placekitten.com/150/100',\n  'lastcheckup': u'2013-11-02',\n  'name': u'Monsieur Whiskeurs'}]"
      }
     ],
     "prompt_number": 88
    },
    {
     "cell_type": "code",
     "collapsed": false,
     "input": "[\n  {'name': 'Fluffy',\n   'img': 'http://placekitten.com/100/100',\n   'lastcheckup': '2014-01-17'},\n  {'name': 'Monsieur Whiskeurs',\n   'img': 'http://placekitten.com/120/100',\n   'lastcheckup': '2013-11-02'}\n]",
     "language": "python",
     "metadata": {},
     "outputs": []
    },
    {
     "cell_type": "markdown",
     "metadata": {},
     "source": "##A real world example.\n\nend up with a data structure that looks like this:\n\n    [\n        {'name': 'Doe, Joe', 'title': 'Reverse Karate Instructor', 'img_src': 'http://placekitten.com/100/100'},\n        {'name': 'Robertson, Bob', 'title': 'Adjunct Person', 'img_src': None}\n        ...\n    ]\n    \n"
    },
    {
     "cell_type": "code",
     "collapsed": false,
     "input": "import urllib\nhtml_str = urllib.urlopen(\"http://www.journalism.columbia.edu/page/10/10?category_ids%5B%5D=2&category_ids%5B%5D=3&category_ids%5B%5D=37\").read()\n",
     "language": "python",
     "metadata": {},
     "outputs": [],
     "prompt_number": 68
    },
    {
     "cell_type": "code",
     "collapsed": false,
     "input": "document = BeautifulSoup(html_str)\nfaculty_list = []\n\nexperts = document.find('ul', attrs={'class': 'experts-list'})\nfaculty_list = experts.find_all('li')\nall_faculty = []\nfor faculty_li in faculty_list:\n    faculty_dict = {}\n    # get title\n    title_tag = faculty_li.find('p', attrs={'class': 'description'})\n    if title_tag is None:\n        continue\n    faculty_dict['title'] = title_tag.string\n\n    # get faculty member name\n    h4_tag = faculty_li.find('h4')\n    a_tag = h4_tag.find('a')\n    \n    faculty_dict['name'] = a_tag.string\n    all_faculty.append(faculty_dict)\n    \nfaculty_list",
     "language": "python",
     "metadata": {},
     "outputs": [
      {
       "metadata": {},
       "output_type": "pyout",
       "prompt_number": 69,
       "text": "[<li class=\"label\" id=\"goto-a\"></li>,\n <li>\n<div class=\"content\">\n<h4><a href=\"/profile/228-abbey-adkison/10\">Adkison, Abbey </a></h4>\n<p class=\"description\">Digital Media Coordinator</p>\n</div>\n</li>,\n <li class=\"label\" id=\"goto-b\"></li>,\n <li>\n<a href=\"/profile/387-dolores-barclay/10\"><img alt=\"Dolores-barclay\" border=\"1\" height=\"90\" src=\"/system/photos/1943/default/Dolores-Barclay.gif?1365711292\" width=\"110\"/></a>\n<div class=\"content\">\n<h4><a href=\"/profile/387-dolores-barclay/10\">Barclay, Dolores </a></h4>\n<p class=\"description\">Adjunct Faculty</p>\n</div>\n</li>,\n <li>\n<div class=\"content\">\n<h4><a href=\"/profile/341-geraldine-baum/10\">Baum, Geraldine</a></h4>\n<p class=\"description\">Adjunct Faculty</p>\n</div>\n</li>,\n <li>\n<a href=\"/profile/304-emily-bell/10\"><img alt=\"Ebell_112811\" border=\"1\" height=\"90\" src=\"/system/photos/2056/default/EBell_112811.jpg?1322508884\" width=\"110\"/></a>\n<div class=\"content\">\n<h4><a href=\"/profile/304-emily-bell/10\">Bell, Emily</a></h4>\n<p class=\"description\">Professor of Professional Practice &amp; Director, Tow Center for Digital Journalism</p>\n<p class=\"expertise\">Expertise: DIGITAL MEDIA, TRENDS IN JOURNALISM, DATA</p>\n</div>\n</li>,\n <li>\n<a href=\"/profile/29-helen-benedict/10\"><img alt=\"Hbenedict_112811\" border=\"1\" height=\"90\" src=\"/system/photos/2057/default/HBenedict_112811.jpg?1322509591\" width=\"110\"/></a>\n<div class=\"content\">\n<h4><a href=\"/profile/29-helen-benedict/10\">Benedict, Helen </a></h4>\n<p class=\"description\">Professor</p>\n<p class=\"expertise\">Expertise: SOCIAL ISSUES, INTERNATIONAL AFFAIRS</p>\n</div>\n</li>,\n <li>\n<a href=\"/profile/96-john-bennet/10\"><img alt=\"Bennet_john\" border=\"1\" height=\"90\" src=\"/system/photos/2982/default/Bennet_John.gif?1365697019\" width=\"110\"/></a>\n<div class=\"content\">\n<h4><a href=\"/profile/96-john-bennet/10\">Bennet, John </a></h4>\n<p class=\"description\">Adjunct Faculty</p>\n</div>\n</li>,\n <li>\n<a href=\"/profile/307-rob-bennett/10\"><img alt=\"Bennett_rob\" border=\"1\" height=\"90\" src=\"/system/photos/2984/default/Bennett_Rob.gif?1365706134\" width=\"110\"/></a>\n<div class=\"content\">\n<h4><a href=\"/profile/307-rob-bennett/10\">Bennett, Rob</a></h4>\n<p class=\"description\">Adjunct Faculty</p>\n</div>\n</li>,\n <li>\n<a href=\"/profile/427-nina-berman/10\"><img alt=\"Nina-berman\" border=\"1\" height=\"90\" src=\"/system/photos/2725/default/Nina-Berman.gif?1365711635\" width=\"110\"/></a>\n<div class=\"content\">\n<h4><a href=\"/profile/427-nina-berman/10\">Berman, Nina</a></h4>\n<p class=\"description\">Associate Professor</p>\n<p class=\"expertise\">Expertise: PHOTOJOURNALISM</p>\n</div>\n</li>,\n <li>\n<div class=\"content\">\n<h4><a href=\"/profile/165-gwenda-blair/10\">Blair, Gwenda </a></h4>\n<p class=\"description\">Adjunct Faculty</p>\n</div>\n</li>,\n <li>\n<a href=\"/profile/95-david-blum/10\"><img alt=\"Blum_david\" border=\"1\" height=\"90\" src=\"/system/photos/2985/default/Blum_David.gif?1365706164\" width=\"110\"/></a>\n<div class=\"content\">\n<h4><a href=\"/profile/95-david-blum/10\">Blum, David </a></h4>\n<p class=\"description\">Adjunct Faculty</p>\n</div>\n</li>,\n <li>\n<a href=\"/profile/438-george-bodarky/10\"><img alt=\"Georgebodarky\" border=\"1\" height=\"90\" src=\"/system/photos/2692/default/GeorgeBodarky.gif?1365714064\" width=\"110\"/></a>\n<div class=\"content\">\n<h4><a href=\"/profile/438-george-bodarky/10\">Bodarky, George</a></h4>\n<p class=\"description\">Adjunct Assistant Professor </p>\n</div>\n</li>,\n <li>\n<a href=\"/profile/79-walt-bogdanich/10\"><img alt=\"Walt-bogdanich\" border=\"1\" height=\"90\" src=\"/system/photos/150/default/Walt-Bogdanich.gif?1365714085\" width=\"110\"/></a>\n<div class=\"content\">\n<h4><a href=\"/profile/79-walt-bogdanich/10\">Bogdanich, Walt </a></h4>\n<p class=\"description\">Adjunct Faculty</p>\n</div>\n</li>,\n <li>\n<a href=\"/profile/184-lennart-bourin/10\"><img alt=\"Lennart-bourin\" border=\"1\" height=\"90\" src=\"/system/photos/3055/default/Lennart-Bourin.jpg?1368456160\" width=\"110\"/></a>\n<div class=\"content\">\n<h4><a href=\"/profile/184-lennart-bourin/10\">Bourin, Lennart</a></h4>\n<p class=\"description\">Adjunct Faculty</p>\n</div>\n</li>,\n <li>\n<a href=\"/profile/293-curtis-brainard/10\"><img alt=\"Curtisbrainard\" border=\"1\" height=\"90\" src=\"/system/photos/1912/default/CurtisBrainard.gif?1365714245\" width=\"110\"/></a>\n<div class=\"content\">\n<h4><a href=\"/profile/293-curtis-brainard/10\">Brainard, Curtis </a></h4>\n<p class=\"description\">Staff Writer</p>\n</div>\n</li>,\n <li>\n<a href=\"/profile/141-jessica-bruder/10\"><img alt=\"Bruder\" border=\"1\" height=\"90\" src=\"/system/photos/842/default/bruder.jpg?1392672045\" width=\"110\"/></a>\n<div class=\"content\">\n<h4><a href=\"/profile/141-jessica-bruder/10\">Bruder, Jessica</a></h4>\n<p class=\"description\">Adjunct Faculty</p>\n</div>\n</li>,\n <li>\n<a href=\"/profile/163-melanie-burford/10\"><img alt=\"Burford\" border=\"1\" height=\"90\" src=\"/system/photos/864/default/burford.jpg?1392672030\" width=\"110\"/></a>\n<div class=\"content\">\n<h4><a href=\"/profile/163-melanie-burford/10\">Burford, Melanie </a></h4>\n<p class=\"description\">Adjunct Faculty</p>\n</div>\n</li>,\n <li>\n<a href=\"/profile/140-nina-burleigh/10\"><img alt=\"Burleigh_nina\" border=\"1\" height=\"90\" src=\"/system/photos/2986/default/Burleigh_Nina.gif?1365706179\" width=\"110\"/></a>\n<div class=\"content\">\n<h4><a href=\"/profile/140-nina-burleigh/10\">Burleigh, Nina </a></h4>\n<p class=\"description\">Adjunct Faculty</p>\n</div>\n</li>,\n <li class=\"label\" id=\"goto-c\"></li>,\n <li>\n<a href=\"/profile/440-heather-cabot/10\"><img alt=\"Heathercabot\" border=\"1\" height=\"90\" src=\"/system/photos/2713/default/HeatherCabot.gif?1365714437\" width=\"110\"/></a>\n<div class=\"content\">\n<h4><a href=\"/profile/440-heather-cabot/10\">Cabot, Heather</a></h4>\n<p class=\"description\">Adjunct Professor</p>\n</div>\n</li>,\n <li>\n<a href=\"/profile/186-elena-cabral/10\"><img alt=\"Elena\" border=\"1\" height=\"90\" src=\"/system/photos/3203/default/Elena.gif?1375217143\" width=\"110\"/></a>\n<div class=\"content\">\n<h4><a href=\"/profile/186-elena-cabral/10\">Cabral, Elena </a></h4>\n<p class=\"description\">Adjunct Faculty &amp; Assistant Director, Student Services</p>\n</div>\n</li>,\n <li>\n<a href=\"/profile/459-chris-canipe/10\"><img alt=\"Canipe_chris\" border=\"1\" height=\"90\" src=\"/system/photos/2987/default/Canipe_Chris.gif?1365706198\" width=\"110\"/></a>\n<div class=\"content\">\n<h4><a href=\"/profile/459-chris-canipe/10\">Canipe, Chris</a></h4>\n<p class=\"description\"></p>\n</div>\n</li>,\n <li>\n<a href=\"/profile/465-dan-charnas/10\"><img alt=\"Charnas_dan\" border=\"1\" height=\"90\" src=\"/system/photos/2988/default/Charnas_Dan.gif?1365706213\" width=\"110\"/></a>\n<div class=\"content\">\n<h4><a href=\"/profile/465-dan-charnas/10\">Charnas, Dan </a></h4>\n<p class=\"description\">Adjunct Faculty</p>\n</div>\n</li>,\n <li>\n<a href=\"/profile/496-julie-cohen/10\"><img alt=\"Cohen_julie\" border=\"1\" height=\"90\" src=\"/system/photos/3412/default/Cohen_Julie.jpg?1384536342\" width=\"110\"/></a>\n<div class=\"content\">\n<h4><a href=\"/profile/496-julie-cohen/10\">Cohen, Julie</a></h4>\n<p class=\"description\">Adjunct Faculty</p>\n</div>\n</li>,\n <li>\n<a href=\"/profile/113-lisa-r-cohen/10\"><img alt=\"Lisa-cohen\" border=\"1\" height=\"90\" src=\"/system/photos/3262/default/Lisa-Cohen.gif?1376423474\" width=\"110\"/></a>\n<div class=\"content\">\n<h4><a href=\"/profile/113-lisa-r-cohen/10\">Cohen, Lisa R.</a></h4>\n<p class=\"description\">Adjunct Faculty</p>\n</div>\n</li>,\n <li>\n<a href=\"/profile/466-sarah-cohen/10\"><img alt=\"Cohen_sarah\" border=\"1\" height=\"90\" src=\"/system/photos/2989/default/Cohen_Sarah.gif?1365706228\" width=\"110\"/></a>\n<div class=\"content\">\n<h4><a href=\"/profile/466-sarah-cohen/10\">Cohen, Sarah</a></h4>\n<p class=\"description\">Adjunct Faculty</p>\n</div>\n</li>,\n <li>\n<a href=\"/profile/485-steve-coll/10\"><img alt=\"Coll-web\" border=\"1\" height=\"90\" src=\"/system/photos/3278/default/Coll-web.gif?1377281425\" width=\"110\"/></a>\n<div class=\"content\">\n<h4><a href=\"/profile/485-steve-coll/10\">Coll, Steve</a></h4>\n<p class=\"description\">Dean &amp; Henry R. Luce Professor of Journalism</p>\n</div>\n</li>,\n <li>\n<a href=\"/profile/30-ann-cooper/10\"><img alt=\"Anncooper2\" border=\"1\" height=\"90\" src=\"/system/photos/147/default/AnnCooper2.jpg?1276009818\" width=\"110\"/></a>\n<div class=\"content\">\n<h4><a href=\"/profile/30-ann-cooper/10\">Cooper, Ann</a></h4>\n<p class=\"description\">CBS Professor of Professional Practice in International Journalism</p>\n<p class=\"expertise\">Expertise: INTERNATIONAL AFFAIRS, BROADCAST</p>\n</div>\n</li>,\n <li>\n<a href=\"/profile/31-sheila-coronel/10\"><img alt=\"Coronel_sheila\" border=\"1\" height=\"90\" src=\"/system/photos/2990/default/Coronel_Sheila.gif?1365706241\" width=\"110\"/></a>\n<div class=\"content\">\n<h4><a href=\"/profile/31-sheila-coronel/10\">Coronel, Sheila </a></h4>\n<p class=\"description\">Dean of Academic Affairs</p>\n<p class=\"expertise\">Expertise: INTERNATIONAL AFFAIRS, INVESTIGATIVE REPORTING</p>\n</div>\n</li>,\n <li>\n<a href=\"/profile/90-kevin-coyne/10\"><img alt=\"Unknown-1\" border=\"1\" height=\"90\" src=\"/system/photos/160/default/Unknown-1.jpeg?1378227266\" width=\"110\"/></a>\n<div class=\"content\">\n<h4><a href=\"/profile/90-kevin-coyne/10\">Coyne , Kevin </a></h4>\n<p class=\"description\">Adjunct Faculty</p>\n</div>\n</li>,\n <li>\n<a href=\"/profile/460-alison-craiglow-hockenberry/10\"><img alt=\"Hockenberry_-alison-craiglow\" border=\"1\" height=\"90\" src=\"/system/photos/2993/default/Hockenberry_-Alison-Craiglow.gif?1365706287\" width=\"110\"/></a>\n<div class=\"content\">\n<h4><a href=\"/profile/460-alison-craiglow-hockenberry/10\">Craiglow Hockenberry, Alison</a></h4>\n<p class=\"description\"></p>\n</div>\n</li>,\n <li>\n<a href=\"/profile/32-june-cross/10\"><img alt=\"Jcross_112811\" border=\"1\" height=\"90\" src=\"/system/photos/2059/default/JCross_112811.jpg?1322510850\" width=\"110\"/></a>\n<div class=\"content\">\n<h4><a href=\"/profile/32-june-cross/10\">Cross, June </a></h4>\n<p class=\"description\">Professor </p>\n<p class=\"expertise\">Expertise: BROADCAST</p>\n</div>\n</li>,\n <li>\n<a href=\"/profile/160-brent-cunningham/10\"><img alt=\"Brent-cunningham\" border=\"1\" height=\"90\" src=\"/system/photos/861/default/Brent-Cunningham.gif?1365714937\" width=\"110\"/></a>\n<div class=\"content\">\n<h4><a href=\"/profile/160-brent-cunningham/10\">Cunningham, Brent </a></h4>\n<p class=\"description\">Deputy Editor</p>\n</div>\n</li>,\n <li class=\"label\" id=\"goto-d\"></li>,\n <li>\n<a href=\"/profile/311-anthony-depalma/10\"><img alt=\"Adepalma\" border=\"1\" height=\"90\" src=\"/system/photos/1265/default/ADepalma.jpg?1291223442\" width=\"110\"/></a>\n<div class=\"content\">\n<h4><a href=\"/profile/311-anthony-depalma/10\">DePalma, Anthony</a></h4>\n<p class=\"description\">Adjunct Faculty</p>\n</div>\n</li>,\n <li>\n<a href=\"/profile/390-bruce-desilva/10\"><img alt=\"Brucedesilva\" border=\"1\" height=\"90\" src=\"/system/photos/1973/default/BruceDeSilva.gif?1365715036\" width=\"110\"/></a>\n<div class=\"content\">\n<h4><a href=\"/profile/390-bruce-desilva/10\">DeSilva, Bruce </a></h4>\n<p class=\"description\">Adjunct Faculty</p>\n</div>\n</li>,\n <li>\n<a href=\"/profile/357-richard-deitsch/10\"><img alt=\"Deitsch_\" border=\"1\" height=\"90\" src=\"/system/photos/3256/default/deitsch_.jpg?1376325514\" width=\"110\"/></a>\n<div class=\"content\">\n<h4><a href=\"/profile/357-richard-deitsch/10\">Deitsch, Richard</a></h4>\n<p class=\"description\">Adjunct Faculty</p>\n</div>\n</li>,\n <li>\n<a href=\"/profile/34-john-dinges/10\"><img alt=\"Jdinges_112811\" border=\"1\" height=\"90\" src=\"/system/photos/2060/default/JDinges_112811.jpg?1322511090\" width=\"110\"/></a>\n<div class=\"content\">\n<h4><a href=\"/profile/34-john-dinges/10\">Dinges, John</a></h4>\n<p class=\"description\">Godfrey Lowell Cabot Professor of Journalism</p>\n<p class=\"expertise\">Expertise: BROADCAST</p>\n</div>\n</li>,\n <li>\n<a href=\"/profile/443-scott-dodd/10\"><img alt=\"Sdodd_horiz\" border=\"1\" height=\"90\" src=\"/system/photos/3075/default/SDodd_horiz.gif?1369166642\" width=\"110\"/></a>\n<div class=\"content\">\n<h4><a href=\"/profile/443-scott-dodd/10\">Dodd, Scott</a></h4>\n<p class=\"description\">Adjunct Faculty</p>\n</div>\n</li>,\n <li>\n<a href=\"/profile/368-kerry-donahue/10\"><img alt=\"Donahue\" border=\"1\" height=\"90\" src=\"/system/photos/1811/default/donahue.jpg?1392672057\" width=\"110\"/></a>\n<div class=\"content\">\n<h4><a href=\"/profile/368-kerry-donahue/10\">Donahue, Kerry </a></h4>\n<p class=\"description\">Adjunct Faculty</p>\n</div>\n</li>,\n <li>\n<div class=\"content\">\n<h4><a href=\"/profile/213-christopher-drew/10\">Drew, Christopher </a></h4>\n<p class=\"description\">Adjunct Faculty</p>\n</div>\n</li>,\n <li class=\"label\" id=\"goto-e\"></li>,\n <li>\n<a href=\"/profile/35-thomas-b-edsall/10\"><img alt=\"Edsall\" border=\"1\" height=\"90\" src=\"/system/photos/936/default/edsall.jpg?1304373008\" width=\"110\"/></a>\n<div class=\"content\">\n<h4><a href=\"/profile/35-thomas-b-edsall/10\">Edsall, Thomas B. </a></h4>\n<p class=\"description\"></p>\n<p class=\"expertise\">Expertise: Politics, SOCIAL ISSUES</p>\n</div>\n</li>,\n <li>\n<a href=\"/profile/181-randi-hutter-epstein/10\"><img alt=\"Epstein\" border=\"1\" height=\"90\" src=\"/system/photos/882/default/Epstein.jpg?1280954937\" width=\"110\"/></a>\n<div class=\"content\">\n<h4><a href=\"/profile/181-randi-hutter-epstein/10\">Epstein, Randi Hutter </a></h4>\n<p class=\"description\">Adjunct Faculty </p>\n</div>\n</li>,\n <li>\n<div class=\"content\">\n<h4><a href=\"/profile/139-farrell-evans/10\">Evans, Farrell </a></h4>\n<p class=\"description\">Adjunct Faculty</p>\n</div>\n</li>,\n <li>\n<a href=\"/profile/391-tyson-evans/10\"><img alt=\"Tysonevans\" border=\"1\" height=\"90\" src=\"/system/photos/1977/default/TysonEvans.gif?1365715311\" width=\"110\"/></a>\n<div class=\"content\">\n<h4><a href=\"/profile/391-tyson-evans/10\">Evans , Tyson </a></h4>\n<p class=\"description\">Adjunct Faculty</p>\n</div>\n</li>,\n <li class=\"label\" id=\"goto-f\"></li>,\n <li>\n<a href=\"/profile/100-elizabeth-weinreb-fishman/10\"><img alt=\"Fishman\" border=\"1\" height=\"90\" src=\"/system/photos/3013/default/Fishman.gif?1365724719\" width=\"110\"/></a>\n<div class=\"content\">\n<h4><a href=\"/profile/100-elizabeth-weinreb-fishman/10\">Fishman, Elizabeth Weinreb</a></h4>\n<p class=\"description\">Associate Dean for Communications</p>\n</div>\n</li>,\n <li>\n<a href=\"/profile/337-constance-mitchell-ford/10\"><img alt=\"Ford\" border=\"1\" height=\"90\" src=\"/system/photos/3488/default/ford.jpg?1392672068\" width=\"110\"/></a>\n<div class=\"content\">\n<h4><a href=\"/profile/337-constance-mitchell-ford/10\">Ford, Constance Mitchell </a></h4>\n<p class=\"description\">Adjunct Faculty</p>\n</div>\n</li>,\n <li>\n<a href=\"/profile/138-pamela-platt-frederick/10\"><img alt=\"Frederick\" border=\"1\" height=\"90\" src=\"/system/photos/839/default/frederick.jpg?1392672079\" width=\"110\"/></a>\n<div class=\"content\">\n<h4><a href=\"/profile/138-pamela-platt-frederick/10\">Frederick, Pamela Platt</a></h4>\n<p class=\"description\">Adjunct Faculty</p>\n</div>\n</li>,\n <li>\n<a href=\"/profile/36-samuel-freedman/10\"><img alt=\"Sfreedman_112811\" border=\"1\" height=\"90\" src=\"/system/photos/2061/default/SFreedman_112811.jpg?1322511767\" width=\"110\"/></a>\n<div class=\"content\">\n<h4><a href=\"/profile/36-samuel-freedman/10\">Freedman, Samuel </a></h4>\n<p class=\"description\">Professor</p>\n<p class=\"expertise\">Expertise: RELIGION, ETHICS, EDUCATION</p>\n</div>\n</li>,\n <li>\n<div class=\"content\">\n<h4><a href=\"/profile/109-george-freeman/10\">Freeman, George </a></h4>\n<p class=\"description\">Adjunct Faculty</p>\n</div>\n</li>,\n <li>\n<a href=\"/profile/467-john-freeman/10\"><img alt=\"Freeman_john\" border=\"1\" height=\"90\" src=\"/system/photos/2991/default/Freeman_John.gif?1365706256\" width=\"110\"/></a>\n<div class=\"content\">\n<h4><a href=\"/profile/467-john-freeman/10\">Freeman, John</a></h4>\n<p class=\"description\">Adjunct Faculty</p>\n</div>\n</li>,\n <li>\n<a href=\"/profile/37-howard-french/10\"><img alt=\"Hfrench\" border=\"1\" height=\"90\" src=\"/system/photos/93/default/HFrench.jpg?1291237303\" width=\"110\"/></a>\n<div class=\"content\">\n<h4><a href=\"/profile/37-howard-french/10\">French, Howard </a></h4>\n<p class=\"description\">Associate Professor</p>\n<p class=\"expertise\">Expertise: INTERNATIONAL AFFAIRS, PHOTOJOURNALISM</p>\n</div>\n</li>,\n <li>\n<a href=\"/profile/97-stephen-fried/10\"><img alt=\"Stephen_fried\" border=\"1\" height=\"90\" src=\"/system/photos/162/default/Stephen_Fried.gif?1365716551\" width=\"110\"/></a>\n<div class=\"content\">\n<h4><a href=\"/profile/97-stephen-fried/10\">Fried, Stephen </a></h4>\n<p class=\"description\">Adjunct Faculty</p>\n</div>\n</li>,\n <li class=\"label\" id=\"goto-g\"></li>,\n <li>\n<a href=\"/profile/470-vanessa-gezari/10\"><img alt=\"Vanessa\" border=\"1\" height=\"90\" src=\"/system/photos/3119/default/Vanessa.gif?1371498827\" width=\"110\"/></a>\n<div class=\"content\">\n<h4><a href=\"/profile/470-vanessa-gezari/10\">Gezari, Vanessa</a></h4>\n<p class=\"description\"></p>\n</div>\n</li>,\n <li>\n<div class=\"content\">\n<h4><a href=\"/profile/322-greg-gilderman/10\">Gilderman, Greg</a></h4>\n<p class=\"description\">Adjunct Faculty</p>\n</div>\n</li>,\n <li>\n<a href=\"/profile/136-sig-gissler/10\"><img alt=\"Siggissler\" border=\"1\" height=\"90\" src=\"/system/photos/837/default/SigGissler.gif?1365716632\" width=\"110\"/></a>\n<div class=\"content\">\n<h4><a href=\"/profile/136-sig-gissler/10\">Gissler, Sig</a></h4>\n<p class=\"description\">Administrator</p>\n</div>\n</li>,\n <li>\n<a href=\"/profile/38-todd-gitlin/10\"><img alt=\"Tgitlin\" border=\"1\" height=\"90\" src=\"/system/photos/113/default/TGitlin.jpg?1291237356\" width=\"110\"/></a>\n<div class=\"content\">\n<h4><a href=\"/profile/38-todd-gitlin/10\">Gitlin, Todd</a></h4>\n<p class=\"description\">Professor &amp; Chair, Ph.D. Program</p>\n<p class=\"expertise\">Expertise: Politics, SOCIAL ISSUES</p>\n</div>\n</li>,\n <li>\n<div class=\"content\">\n<h4><a href=\"/profile/190-barbara-giudice/10\">Giudice, Barbara </a></h4>\n<p class=\"description\">Adjunct Faculty</p>\n</div>\n</li>,\n <li>\n<a href=\"/profile/135-marty-goldensohn/10\"><img alt=\"Martygoldensohn\" border=\"1\" height=\"90\" src=\"/system/photos/836/default/MartyGoldensohn.gif?1365716789\" width=\"110\"/></a>\n<div class=\"content\">\n<h4><a href=\"/profile/135-marty-goldensohn/10\">Goldensohn, Marty</a></h4>\n<p class=\"description\">Adjunct Faculty</p>\n</div>\n</li>,\n <li>\n<a href=\"/profile/39-ari-goldman/10\"><img alt=\"Agoldman\" border=\"1\" height=\"90\" src=\"/system/photos/86/default/AGoldman.jpg?1291237401\" width=\"110\"/></a>\n<div class=\"content\">\n<h4><a href=\"/profile/39-ari-goldman/10\">Goldman, Ari </a></h4>\n<p class=\"description\">Professor</p>\n<p class=\"expertise\">Expertise: RELIGION</p>\n</div>\n</li>,\n <li>\n<div class=\"content\">\n<h4><a href=\"/profile/490-jacob-goldstein/10\">Goldstein, Jacob</a></h4>\n<p class=\"description\">Adjunct Professor</p>\n</div>\n</li>,\n <li>\n<a href=\"/profile/40-bill-grueskin/10\"><img alt=\"Wgrueskin\" border=\"1\" height=\"90\" src=\"/system/photos/88/default/WGrueskin.jpg?1291236298\" width=\"110\"/></a>\n<div class=\"content\">\n<h4><a href=\"/profile/40-bill-grueskin/10\">Grueskin, Bill</a></h4>\n<p class=\"description\">Professor of Professional Practice </p>\n<p class=\"expertise\">Expertise: TRENDS IN JOURNALISM, DIGITAL MEDIA</p>\n</div>\n</li>,\n <li class=\"label\" id=\"goto-h\"></li>,\n <li>\n<a href=\"/profile/315-alan-haburchak/10\"><img alt=\"Ahaburchak\" border=\"1\" height=\"90\" src=\"/system/photos/1512/default/AHaburchak.gif?1365716878\" width=\"110\"/></a>\n<div class=\"content\">\n<h4><a href=\"/profile/315-alan-haburchak/10\">Haburchak, Alan</a></h4>\n<p class=\"description\">Adjunct Faculty</p>\n</div>\n</li>,\n <li>\n<a href=\"/profile/41-david-hajdu/10\"><img alt=\"Hajdu_david\" border=\"1\" height=\"90\" src=\"/system/photos/2992/default/Hajdu_David.gif?1365706270\" width=\"110\"/></a>\n<div class=\"content\">\n<h4><a href=\"/profile/41-david-hajdu/10\">Hajdu, David </a></h4>\n<p class=\"description\">Associate Professor </p>\n<p class=\"expertise\">Expertise: ARTS/CULTURE</p>\n</div>\n</li>,\n <li>\n<div class=\"content\">\n<h4><a href=\"/profile/91-stephen-hall/10\">Hall, Stephen</a></h4>\n<p class=\"description\">Adjunct Faculty</p>\n</div>\n</li>,\n <li>\n<a href=\"/profile/42-lynnell-hancock/10\"><img alt=\"Lynnell-faculty\" border=\"1\" height=\"90\" src=\"/system/photos/97/default/LynNell-faculty.jpg?1368455738\" width=\"110\"/></a>\n<div class=\"content\">\n<h4><a href=\"/profile/42-lynnell-hancock/10\">Hancock, LynNell</a></h4>\n<p class=\"description\">H. Gordon Garbedian Professor of Journalism &amp; Director, Spencer Fellowship Program</p>\n<p class=\"expertise\">Expertise: EDUCATION</p>\n</div>\n</li>,\n <li>\n<a href=\"/profile/428-mark-hansen/10\"><img alt=\"Hansen\" border=\"1\" height=\"90\" src=\"/system/photos/3545/default/hansen.jpg?1392670367\" width=\"110\"/></a>\n<div class=\"content\">\n<h4><a href=\"/profile/428-mark-hansen/10\">Hansen, Mark</a></h4>\n<p class=\"description\">Director, David and Helen Gurley Brown Institute for Media Innovation &amp; Professor of Journalism </p>\n<p class=\"expertise\">Expertise: TRENDS IN JOURNALISM, DIGITAL MEDIA, DATA</p>\n</div>\n</li>,\n <li>\n<div class=\"content\">\n<h4><a href=\"/profile/347-mark-harris/10\">Harris, Mark</a></h4>\n<p class=\"description\">Adjunct Faculty</p>\n</div>\n</li>,\n <li>\n<a href=\"/profile/134-julie-hartenstein/10\"><img alt=\"Julie\" border=\"1\" height=\"90\" src=\"/system/photos/3210/default/Julie.gif?1375217224\" width=\"110\"/></a>\n<div class=\"content\">\n<h4><a href=\"/profile/134-julie-hartenstein/10\">Hartenstein, Julie</a></h4>\n<p class=\"description\">Associate Dean</p>\n</div>\n</li>,\n <li>\n<a href=\"/profile/340-larry-heinzerling/10\"><img alt=\"Larryheinzerling\" border=\"1\" height=\"90\" src=\"/system/photos/1530/default/LarryHeinzerling.gif?1365717071\" width=\"110\"/></a>\n<div class=\"content\">\n<h4><a href=\"/profile/340-larry-heinzerling/10\">Heinzerling, Larry</a></h4>\n<p class=\"description\">Adjunct Faculty</p>\n</div>\n</li>,\n <li>\n<a href=\"/profile/84-tom-herman/10\"><img alt=\"Tomherman\" border=\"1\" height=\"90\" src=\"/system/photos/154/default/TomHerman.gif?1365718880\" width=\"110\"/></a>\n<div class=\"content\">\n<h4><a href=\"/profile/84-tom-herman/10\">Herman, Tom </a></h4>\n<p class=\"description\">Adjunct Faculty</p>\n</div>\n</li>,\n <li>\n<div class=\"content\">\n<h4><a href=\"/profile/133-neil-hickey/10\">Hickey, Neil </a></h4>\n<p class=\"description\">Adjunct Faculty</p>\n</div>\n</li>,\n <li>\n<a href=\"/profile/192-lars-hoel/10\"><img alt=\"Lars-head-shot-v2\" border=\"1\" height=\"90\" src=\"/system/photos/3059/default/Lars-head-shot-v2.jpg?1368463497\" width=\"110\"/></a>\n<div class=\"content\">\n<h4><a href=\"/profile/192-lars-hoel/10\">Hoel, Lars </a></h4>\n<p class=\"description\"></p>\n</div>\n</li>,\n <li>\n<a href=\"/profile/504-pamela-hogan/10\"><img alt=\"Hogan\" border=\"1\" height=\"90\" src=\"/system/photos/3529/default/hogan.jpg?1392672092\" width=\"110\"/></a>\n<div class=\"content\">\n<h4><a href=\"/profile/504-pamela-hogan/10\">Hogan, Pamela</a></h4>\n<p class=\"description\">Adjunct Faculty</p>\n</div>\n</li>,\n <li>\n<a href=\"/profile/43-marguerite-holloway/10\"><img alt=\"Marguerite_holloway2\" border=\"1\" height=\"90\" src=\"/system/photos/155/default/Marguerite_Holloway2.jpg?1276019659\" width=\"110\"/></a>\n<div class=\"content\">\n<h4><a href=\"/profile/43-marguerite-holloway/10\">Holloway, Marguerite </a></h4>\n<p class=\"description\">Associate Professor &amp; Director, Science and Environmental Journalism</p>\n<p class=\"expertise\">Expertise: SCIENCE/ENVIRONMENT</p>\n</div>\n</li>,\n <li>\n<a href=\"/profile/103-michael-hoyt/10\"><img alt=\"Hoyt_-mike\" border=\"1\" height=\"90\" src=\"/system/photos/2994/default/Hoyt_-Mike.gif?1365706301\" width=\"110\"/></a>\n<div class=\"content\">\n<h4><a href=\"/profile/103-michael-hoyt/10\">Hoyt, Michael </a></h4>\n<p class=\"description\">Adjunct Faculty</p>\n</div>\n</li>,\n <li class=\"label\" id=\"goto-i\"></li>,\n <li>\n<a href=\"/profile/93-stephen-isaacs/10\"><img alt=\"Sisaacs_112811\" border=\"1\" height=\"90\" src=\"/system/photos/2064/default/SIsaacs_112811.jpg?1322512995\" width=\"110\"/></a>\n<div class=\"content\">\n<h4><a href=\"/profile/93-stephen-isaacs/10\">Isaacs, Stephen</a></h4>\n<p class=\"description\">Professor Emeritus of Journalism</p>\n</div>\n</li>,\n <li class=\"label\" id=\"goto-j\"></li>,\n <li>\n<a href=\"/profile/47-richard-r-john/10\"><img alt=\"Rjohn\" border=\"1\" height=\"90\" src=\"/system/photos/101/default/RJohn.jpg?1291236478\" width=\"110\"/></a>\n<div class=\"content\">\n<h4><a href=\"/profile/47-richard-r-john/10\">John, Richard R. </a></h4>\n<p class=\"description\">Professor </p>\n<p class=\"expertise\">Expertise: HISTORY OF COMMUNICATIONS</p>\n</div>\n</li>,\n <li>\n<div class=\"content\">\n<h4><a href=\"/profile/514-matthew-l-jones/10\">Jones, Matthew L. </a></h4>\n<p class=\"description\">Instructor, The Lede Program</p>\n</div>\n</li>,\n <li class=\"label\" id=\"goto-k\"></li>,\n <li>\n<div class=\"content\">\n<h4><a href=\"/profile/179-s-mitra-kalita/10\">Kalita, S. Mitra </a></h4>\n<p class=\"description\">Adjunct Faculty </p>\n</div>\n</li>,\n <li>\n<div class=\"content\">\n<h4><a href=\"/profile/202-peter-r-kann/10\">Kann, Peter R. </a></h4>\n<p class=\"description\">Adjunct Faculty</p>\n</div>\n</li>,\n <li>\n<a href=\"/profile/132-barbara-kantrowitz/10\"><img alt=\"Kantrowitz\" border=\"1\" height=\"90\" src=\"/system/photos/833/default/kantrowitz.jpg?1392672104\" width=\"110\"/></a>\n<div class=\"content\">\n<h4><a href=\"/profile/132-barbara-kantrowitz/10\">Kantrowitz, Barbara</a></h4>\n<p class=\"description\">Adjunct Faculty &amp; Associate Director, Continuing Education</p>\n</div>\n</li>,\n <li>\n<a href=\"/profile/110-stuart-karle/10\"><img alt=\"Karle_-stuart\" border=\"1\" height=\"90\" src=\"/system/photos/2995/default/Karle_-Stuart.gif?1365706445\" width=\"110\"/></a>\n<div class=\"content\">\n<h4><a href=\"/profile/110-stuart-karle/10\">Karle, Stuart</a></h4>\n<p class=\"description\">Adjunct Faculty; William J. Brennan Jr. Visiting Professor of First Amendment Issues</p>\n</div>\n</li>,\n <li>\n<a href=\"/profile/157-rick-karr/10\"><img alt=\"Rickkarr\" border=\"1\" height=\"90\" src=\"/system/photos/858/default/RickKArr.gif?1365717241\" width=\"110\"/></a>\n<div class=\"content\">\n<h4><a href=\"/profile/157-rick-karr/10\">Karr, Rick</a></h4>\n<p class=\"description\">Adjunct Faculty</p>\n</div>\n</li>,\n <li>\n<a href=\"/profile/88-thomas-kent/10\"><img alt=\"Thomaskent\" border=\"1\" height=\"90\" src=\"/system/photos/158/default/ThomasKent.gif?1365717319\" width=\"110\"/></a>\n<div class=\"content\">\n<h4><a href=\"/profile/88-thomas-kent/10\">Kent, Thomas </a></h4>\n<p class=\"description\">Adjunct Faculty</p>\n</div>\n</li>,\n <li>\n<a href=\"/profile/48-david-klatell/10\"><img alt=\"Dklatell\" border=\"1\" height=\"90\" src=\"/system/photos/1259/default/DKlatell.jpg?1291217138\" width=\"110\"/></a>\n<div class=\"content\">\n<h4><a href=\"/profile/48-david-klatell/10\">Klatell, David</a></h4>\n<p class=\"description\">Professor of Professional Practice &amp; Chair, International Studies</p>\n<p class=\"expertise\">Expertise: ETHICS, INTERNATIONAL AFFAIRS</p>\n</div>\n</li>,\n <li>\n<div class=\"content\">\n<h4><a href=\"/profile/112-adam-klein/10\">Klein, Adam</a></h4>\n<p class=\"description\">Adjunct Professor</p>\n</div>\n</li>,\n <li>\n<a href=\"/profile/203-kim-kleman/10\"><img alt=\"Kim-kleman-1\" border=\"1\" height=\"90\" src=\"/system/photos/3056/default/Kim-Kleman-1.jpg?1368463019\" width=\"110\"/></a>\n<div class=\"content\">\n<h4><a href=\"/profile/203-kim-kleman/10\">Kleman, Kim </a></h4>\n<p class=\"description\">Adjunct Faculty</p>\n</div>\n</li>,\n <li>\n<a href=\"/profile/131-jonathan-knee/10\"><img alt=\"Knee\" border=\"1\" height=\"90\" src=\"/system/photos/832/default/knee.jpg?1392672119\" width=\"110\"/></a>\n<div class=\"content\">\n<h4><a href=\"/profile/131-jonathan-knee/10\">Knee, Jonathan</a></h4>\n<p class=\"description\">Adjunct Professor</p>\n</div>\n</li>,\n <li>\n<div class=\"content\">\n<h4><a href=\"/profile/331-joan-konner/10\">Konner, Joan</a></h4>\n<p class=\"description\">Dean Emerita</p>\n</div>\n</li>,\n <li>\n<a href=\"/profile/408-mark-kottler/10\"><img alt=\"Mkottler\" border=\"1\" height=\"90\" src=\"/system/photos/2507/default/MKottler.jpg?1336577232\" width=\"110\"/></a>\n<div class=\"content\">\n<h4><a href=\"/profile/408-mark-kottler/10\">Kottler, Mark</a></h4>\n<p class=\"description\">Adjunct Faculty</p>\n</div>\n</li>,\n <li class=\"label\" id=\"goto-l\"></li>,\n <li>\n<a href=\"/profile/156-peter-landis/10\"><img alt=\"Landis\" border=\"1\" height=\"90\" src=\"/system/photos/857/default/landis.jpg?1392672129\" width=\"110\"/></a>\n<div class=\"content\">\n<h4><a href=\"/profile/156-peter-landis/10\">Landis, Peter</a></h4>\n<p class=\"description\">Adjunct Faculty</p>\n</div>\n</li>,\n <li>\n<a href=\"/profile/386-deborah-lee/10\"><img alt=\"Dlee_new\" border=\"1\" height=\"90\" src=\"/system/photos/2650/default/DLee_New.jpg?1345145608\" width=\"110\"/></a>\n<div class=\"content\">\n<h4><a href=\"/profile/386-deborah-lee/10\">Lee, Deborah </a></h4>\n<p class=\"description\">Adjunct Faculty</p>\n</div>\n</li>,\n <li>\n<a href=\"/profile/86-christopher-lehmann-haupt/10\"><img alt=\"Haupt\" border=\"1\" height=\"90\" src=\"/system/photos/156/default/haupt.jpg?1392672140\" width=\"110\"/></a>\n<div class=\"content\">\n<h4><a href=\"/profile/86-christopher-lehmann-haupt/10\">Lehmann-Haupt, Christopher </a></h4>\n<p class=\"description\">Adjunct Faculty</p>\n</div>\n</li>,\n <li>\n<a href=\"/profile/50-nicholas-lemann/10\"><img alt=\"Nlemann_112811\" border=\"1\" height=\"90\" src=\"/system/photos/2065/default/NLemann_112811.jpg?1322513292\" width=\"110\"/></a>\n<div class=\"content\">\n<h4><a href=\"/profile/50-nicholas-lemann/10\">Lemann, Nicholas</a></h4>\n<p class=\"description\">Joseph Pulitzer II and Edith Pulitzer Moore Professor of Journalism; Dean Emeritus</p>\n<p class=\"expertise\">Expertise: ETHICS, TRENDS IN JOURNALISM, HISTORY OF COMMUNICATIONS</p>\n</div>\n</li>,\n <li>\n<div class=\"content\">\n<h4><a href=\"/profile/204-jacob-levenson/10\">Levenson, Jacob </a></h4>\n<p class=\"description\">Adjunct Faculty</p>\n</div>\n</li>,\n <li>\n<a href=\"/profile/87-seth-lipsky/10\"><img alt=\"Sethlipsky\" border=\"1\" height=\"90\" src=\"/system/photos/157/default/SethLipsky.gif?1365717822\" width=\"110\"/></a>\n<div class=\"content\">\n<h4><a href=\"/profile/87-seth-lipsky/10\">Lipsky, Seth </a></h4>\n<p class=\"description\">Adjunct Faculty</p>\n</div>\n</li>,\n <li>\n<a href=\"/profile/51-rhoda-lipton/10\"><img alt=\"Rlipton_112811\" border=\"1\" height=\"90\" src=\"/system/photos/2066/default/RLipton_112811.jpg?1322513465\" width=\"110\"/></a>\n<div class=\"content\">\n<h4><a href=\"/profile/51-rhoda-lipton/10\">Lipton, Rhoda </a></h4>\n<p class=\"description\">Senior Lecturer in Discipline</p>\n<p class=\"expertise\">Expertise: BROADCAST</p>\n</div>\n</li>,\n <li>\n<div class=\"content\">\n<h4><a href=\"/profile/344-kristen-lombardi/10\">Lombardi, Kristen</a></h4>\n<p class=\"description\">Adjunct Faculty</p>\n</div>\n</li>,\n <li>\n<a href=\"/profile/130-tami-luhby/10\"><img alt=\"Tamiluhby\" border=\"1\" height=\"90\" src=\"/system/photos/1391/default/TamiLuhby.gif?1365717895\" width=\"110\"/></a>\n<div class=\"content\">\n<h4><a href=\"/profile/130-tami-luhby/10\">Luhby, Tami</a></h4>\n<p class=\"description\">Adjunct Faculty</p>\n</div>\n</li>,\n <li class=\"label\" id=\"goto-m\"></li>,\n <li>\n<a href=\"/profile/401-tony-maciulis/10\"><img alt=\"Tony-maciulius\" border=\"1\" height=\"90\" src=\"/system/photos/3263/default/Tony-Maciulius.gif?1376424088\" width=\"110\"/></a>\n<div class=\"content\">\n<h4><a href=\"/profile/401-tony-maciulis/10\">Maciulis, Tony</a></h4>\n<p class=\"description\">Adjunct Faculty</p>\n</div>\n</li>,\n <li>\n<a href=\"/profile/53-dale-maharidge/10\"><img alt=\"Maharidge_-dale\" border=\"1\" height=\"90\" src=\"/system/photos/2996/default/Maharidge_-Dale.gif?1365706460\" width=\"110\"/></a>\n<div class=\"content\">\n<h4><a href=\"/profile/53-dale-maharidge/10\">Maharidge, Dale </a></h4>\n<p class=\"description\">Professor </p>\n<p class=\"expertise\">Expertise: SOCIAL ISSUES</p>\n</div>\n</li>,\n <li>\n<a href=\"/profile/437-tom-mason/10\"><img alt=\"Tommason\" border=\"1\" height=\"90\" src=\"/system/photos/2690/default/TomMason.gif?1365718118\" width=\"110\"/></a>\n<div class=\"content\">\n<h4><a href=\"/profile/437-tom-mason/10\">Mason, Tom</a></h4>\n<p class=\"description\"></p>\n</div>\n</li>,\n <li>\n<a href=\"/profile/114-judith-matloff/10\"><img alt=\"Matloff_-judith\" border=\"1\" height=\"90\" src=\"/system/photos/2997/default/Matloff_-Judith.gif?1365706478\" width=\"110\"/></a>\n<div class=\"content\">\n<h4><a href=\"/profile/114-judith-matloff/10\">Matloff, Judith </a></h4>\n<p class=\"description\">Adjunct faculty</p>\n</div>\n</li>,\n <li>\n<div class=\"content\">\n<h4><a href=\"/profile/323-itai-maytal/10\">Maytal, Itai</a></h4>\n<p class=\"description\">Adjunct Faculty</p>\n</div>\n</li>,\n <li>\n<div class=\"content\">\n<h4><a href=\"/profile/205-david-mccormick/10\">McCormick, David </a></h4>\n<p class=\"description\">Adjunct Faculty</p>\n</div>\n</li>,\n <li>\n<div class=\"content\">\n<h4><a href=\"/profile/128-melvin-mccray/10\">McCray, Melvin</a></h4>\n<p class=\"description\">Adjunct Faculty</p>\n</div>\n</li>,\n <li>\n<a href=\"/profile/461-erica-mcdonald/10\"><img alt=\"Mcdonald_-erica\" border=\"1\" height=\"90\" src=\"/system/photos/2998/default/McDonald_-Erica.gif?1365706494\" width=\"110\"/></a>\n<div class=\"content\">\n<h4><a href=\"/profile/461-erica-mcdonald/10\">McDonald, Erica</a></h4>\n<p class=\"description\"></p>\n</div>\n</li>,\n <li>\n<a href=\"/profile/365-susan-e-mcgregor/10\"><img alt=\"Smcgregor_112811\" border=\"1\" height=\"90\" src=\"/system/photos/2068/default/SMcGregor_112811.jpg?1322514173\" width=\"110\"/></a>\n<div class=\"content\">\n<h4><a href=\"/profile/365-susan-e-mcgregor/10\">McGregor, Susan E.</a></h4>\n<p class=\"description\">Assistant Professor &amp; Assistant Director, Tow Center for Digital Journalism</p>\n<p class=\"expertise\">Expertise: DIGITAL MEDIA, TRENDS IN JOURNALISM, DATA</p>\n</div>\n</li>,\n <li>\n<div class=\"content\">\n<h4><a href=\"/profile/218-kelly-mcmasters/10\">McMasters, Kelly</a></h4>\n<p class=\"description\">Adjunct Faculty</p>\n</div>\n</li>,\n <li>\n<div class=\"content\">\n<h4><a href=\"/profile/333-melvin-mencher/10\">Mencher, Melvin</a></h4>\n<p class=\"description\">Professor Emeritus</p>\n</div>\n</li>,\n <li>\n<a href=\"/profile/462-preston-merchant/10\"><img alt=\"Merchant_-preston\" border=\"1\" height=\"90\" src=\"/system/photos/2999/default/Merchant_-Preston.gif?1365706509\" width=\"110\"/></a>\n<div class=\"content\">\n<h4><a href=\"/profile/462-preston-merchant/10\">Merchant, Preston</a></h4>\n<p class=\"description\"></p>\n</div>\n</li>,\n <li>\n<div class=\"content\">\n<h4><a href=\"/profile/377-stephen-c-miller/10\">Miller , Stephen C.</a></h4>\n<p class=\"description\">Adjunct Faculty</p>\n</div>\n</li>,\n <li>\n<a href=\"/profile/324-james-mintz/10\"><img alt=\"Mintz_-jim\" border=\"1\" height=\"90\" src=\"/system/photos/3000/default/Mintz_-Jim.gif?1365706529\" width=\"110\"/></a>\n<div class=\"content\">\n<h4><a href=\"/profile/324-james-mintz/10\">Mintz, James</a></h4>\n<p class=\"description\">Adjunct Faculty</p>\n</div>\n</li>,\n <li class=\"label\" id=\"goto-n\"></li>,\n <li>\n<a href=\"/profile/56-sylvia-nasar/10\"><img alt=\"Snasar_112811\" border=\"1\" height=\"90\" src=\"/system/photos/2069/default/SNasar_112811.jpg?1322514324\" width=\"110\"/></a>\n<div class=\"content\">\n<h4><a href=\"/profile/56-sylvia-nasar/10\">Nasar, Sylvia </a></h4>\n<p class=\"description\">John S. and James L. Knight Professor of Business Journalism</p>\n<p class=\"expertise\">Expertise: BUSINESS/ECONOMICS</p>\n</div>\n</li>,\n <li>\n<a href=\"/profile/57-victor-navasky/10\"><img alt=\"Vnavasky_112811\" border=\"1\" height=\"90\" src=\"/system/photos/2070/default/VNavasky_112811.jpg?1322514777\" width=\"110\"/></a>\n<div class=\"content\">\n<h4><a href=\"/profile/57-victor-navasky/10\">Navasky, Victor </a></h4>\n<p class=\"description\">George T. Delacorte Professor in Magazine Journalism; Director, Delacorte Center for Magazine Journalism; Chair, Columbia Journalism Review </p>\n<p class=\"expertise\">Expertise: SOCIAL ISSUES, Politics</p>\n</div>\n</li>,\n <li>\n<div class=\"content\">\n<h4><a href=\"/profile/382-maria-newman/10\">Newman, Maria</a></h4>\n<p class=\"description\">Adjunct Faculty</p>\n</div>\n</li>,\n <li>\n<a href=\"/profile/441-martin-nisenholtz/10\"><img alt=\"Nisenholtz\" border=\"1\" height=\"90\" src=\"/system/photos/2714/default/nisenholtz.jpg?1392672182\" width=\"110\"/></a>\n<div class=\"content\">\n<h4><a href=\"/profile/441-martin-nisenholtz/10\">Nisenholtz, Martin</a></h4>\n<p class=\"description\">Adjunct Professor </p>\n</div>\n</li>,\n <li>\n<a href=\"/profile/153-joseph-nocera/10\"><img alt=\"Nocera\" border=\"1\" height=\"90\" src=\"/system/photos/854/default/nocera.jpg?1392672191\" width=\"110\"/></a>\n<div class=\"content\">\n<h4><a href=\"/profile/153-joseph-nocera/10\">Nocera, Joseph</a></h4>\n<p class=\"description\">Adjunct Faculty</p>\n</div>\n</li>,\n <li>\n<a href=\"/profile/432-rob-norton/10\"><img alt=\"Rnorton\" border=\"1\" height=\"90\" src=\"/system/photos/2659/default/RNorton.jpg?1345495471\" width=\"110\"/></a>\n<div class=\"content\">\n<h4><a href=\"/profile/432-rob-norton/10\">Norton, Rob</a></h4>\n<p class=\"description\">Adjunct Faculty</p>\n</div>\n</li>,\n <li>\n<a href=\"/profile/492-habiba-nosheen/10\"><img alt=\"Habibanosheen2\" border=\"1\" height=\"90\" src=\"/system/photos/3288/default/habibanosheen2.jpg?1378324386\" width=\"110\"/></a>\n<div class=\"content\">\n<h4><a href=\"/profile/492-habiba-nosheen/10\">Nosheen, Habiba</a></h4>\n<p class=\"description\">Adjunct Professor</p>\n</div>\n</li>,\n <li>\n<a href=\"/profile/126-amy-nutt/10\"><img alt=\"Amynutt\" border=\"1\" height=\"90\" src=\"/system/photos/827/default/AmyNutt.gif?1365718410\" width=\"110\"/></a>\n<div class=\"content\">\n<h4><a href=\"/profile/126-amy-nutt/10\">Nutt, Amy</a></h4>\n<p class=\"description\">Adjunct Faculty</p>\n</div>\n</li>,\n <li class=\"label\" id=\"goto-o\"></li>,\n <li>\n<a href=\"/profile/173-bridget-o-brian/10\"><img alt=\"Bridget-o_brian-headshot\" border=\"1\" height=\"90\" src=\"/system/photos/3074/default/Bridget-O_Brian-headshot.gif?1369166593\" width=\"110\"/></a>\n<div class=\"content\">\n<h4><a href=\"/profile/173-bridget-o-brian/10\">O'Brian, Bridget </a></h4>\n<p class=\"description\"></p>\n</div>\n</li>,\n <li>\n<a href=\"/profile/345-charles-ornstein/10\"><img alt=\"Charlesornstein\" border=\"1\" height=\"90\" src=\"/system/photos/1993/default/CharlesOrnstein.gif?1365718296\" width=\"110\"/></a>\n<div class=\"content\">\n<h4><a href=\"/profile/345-charles-ornstein/10\">Ornstein, Charles</a></h4>\n<p class=\"description\">Adjunct Faculty</p>\n</div>\n</li>,\n <li class=\"label\" id=\"goto-p\"></li>,\n <li>\n<a href=\"/profile/125-ruth-padawer/10\"><img alt=\"Padawer\" border=\"1\" height=\"90\" src=\"/system/photos/826/default/padawer.jpg?1392672201\" width=\"110\"/></a>\n<div class=\"content\">\n<h4><a href=\"/profile/125-ruth-padawer/10\">Padawer , Ruth</a></h4>\n<p class=\"description\">Adjunct Professor</p>\n</div>\n</li>,\n <li>\n<a href=\"/profile/59-sandy-padwe/10\"><img alt=\"Spadwe_112811\" border=\"1\" height=\"90\" src=\"/system/photos/2073/default/SPadwe_112811.jpg?1322516163\" width=\"110\"/></a>\n<div class=\"content\">\n<h4><a href=\"/profile/59-sandy-padwe/10\">Padwe, Sandy </a></h4>\n<p class=\"description\">Special Lecturer</p>\n</div>\n</li>,\n <li>\n<div class=\"content\">\n<h4><a href=\"/profile/193-diantha-parker/10\">Parker, Diantha</a></h4>\n<p class=\"description\">Adjunct Faculty</p>\n</div>\n</li>,\n <li>\n<div class=\"content\">\n<h4><a href=\"/profile/515-adam-parrish/10\">Parrish, Adam </a></h4>\n<p class=\"description\">Instructor, The Lede Program</p>\n</div>\n</li>,\n <li>\n<a href=\"/profile/380-samir-s-patel/10\"><img alt=\"Patel_headshot2\" border=\"1\" height=\"90\" src=\"/system/photos/1914/default/Patel_Headshot2.jpg?1319040513\" width=\"110\"/></a>\n<div class=\"content\">\n<h4><a href=\"/profile/380-samir-s-patel/10\">Patel, Samir S.</a></h4>\n<p class=\"description\">Adjunct Faculty</p>\n</div>\n</li>,\n <li>\n<a href=\"/profile/207-merrill-perlman/10\"><img alt=\"Perlman_-merrill\" border=\"1\" height=\"90\" src=\"/system/photos/3001/default/Perlman_-Merrill.gif?1365706552\" width=\"110\"/></a>\n<div class=\"content\">\n<h4><a href=\"/profile/207-merrill-perlman/10\">Perlman, Merrill</a></h4>\n<p class=\"description\">Adjunct Faculty</p>\n</div>\n</li>,\n <li>\n<a href=\"/profile/151-marquita-pool-eckert/10\"><img alt=\"Pool-eckert\" border=\"1\" height=\"90\" src=\"/system/photos/852/default/pool-eckert.jpg?1392672210\" width=\"110\"/></a>\n<div class=\"content\">\n<h4><a href=\"/profile/151-marquita-pool-eckert/10\">Pool-Eckert, Marquita</a></h4>\n<p class=\"description\">Adjunct Faculty</p>\n</div>\n</li>,\n <li class=\"label\" id=\"goto-q\"></li>,\n <li>\n<div class=\"content\">\n<h4><a href=\"/profile/195-t-j-quinn/10\">Quinn, T.J. </a></h4>\n<p class=\"description\">Adjunct Faculty</p>\n</div>\n</li>,\n <li class=\"label\" id=\"goto-r\"></li>,\n <li>\n<div class=\"content\">\n<h4><a href=\"/profile/326-betsy-rate/10\">Rate, Betsy</a></h4>\n<p class=\"description\">Adjunct Faculty</p>\n</div>\n</li>,\n <li>\n<div class=\"content\">\n<h4><a href=\"/profile/209-lynda-richardson/10\">Richardson, Lynda </a></h4>\n<p class=\"description\">Adjunct Faculty</p>\n</div>\n</li>,\n <li>\n<a href=\"/profile/394-joe-richman/10\"><img alt=\"Richmn\" border=\"1\" height=\"90\" src=\"/system/photos/824/default/richmn.jpg?1392672219\" width=\"110\"/></a>\n<div class=\"content\">\n<h4><a href=\"/profile/394-joe-richman/10\">Richman, Joe</a></h4>\n<p class=\"description\">Adjunct Faculty</p>\n</div>\n</li>,\n <li>\n<a href=\"/profile/493-ed-robbins/10\"><img alt=\"Robbins\" border=\"1\" height=\"90\" src=\"/system/photos/3377/default/robbins.jpg?1392672228\" width=\"110\"/></a>\n<div class=\"content\">\n<h4><a href=\"/profile/493-ed-robbins/10\">Robbins, Ed</a></h4>\n<p class=\"description\">Adjunct Faculty</p>\n</div>\n</li>,\n <li>\n<div class=\"content\">\n<h4><a href=\"/profile/346-fletcher-roberts/10\">Roberts, Fletcher</a></h4>\n<p class=\"description\">Adjunct Faculty</p>\n</div>\n</li>,\n <li>\n<a href=\"/profile/449-julian-rubinstein/10\"><img alt=\"Rubinstein_-julian\" border=\"1\" height=\"90\" src=\"/system/photos/3002/default/Rubinstein_-Julian.gif?1365706572\" width=\"110\"/></a>\n<div class=\"content\">\n<h4><a href=\"/profile/449-julian-rubinstein/10\">Rubinstein, Julian</a></h4>\n<p class=\"description\">Web Editor</p>\n</div>\n</li>,\n <li class=\"label\" id=\"goto-s\"></li>,\n <li>\n<a href=\"/profile/150-bob-sacha/10\"><img alt=\"Sacha\" border=\"1\" height=\"90\" src=\"/system/photos/851/default/Sacha.jpg?1280952529\" width=\"110\"/></a>\n<div class=\"content\">\n<h4><a href=\"/profile/150-bob-sacha/10\">Sacha, Bob </a></h4>\n<p class=\"description\">Adjunct Faculty</p>\n</div>\n</li>,\n <li>\n<a href=\"/profile/122-rich-schapiro/10\"><img alt=\"Richschapiro\" border=\"1\" height=\"90\" src=\"/system/photos/823/default/RichSchapiro.gif?1365718608\" width=\"110\"/></a>\n<div class=\"content\">\n<h4><a href=\"/profile/122-rich-schapiro/10\">Schapiro, Rich</a></h4>\n<p class=\"description\">Adjunct Faculty</p>\n</div>\n</li>,\n <li>\n<div class=\"content\">\n<h4><a href=\"/profile/197-robin-schatz/10\">Schatz, Robin</a></h4>\n<p class=\"description\">Adjunct Faculty</p>\n</div>\n</li>,\n <li>\n<a href=\"/profile/384-b-j-schecter/10\"><img alt=\"Bjschechter\" border=\"1\" height=\"90\" src=\"/system/photos/1913/default/BJSchechter.gif?1365718488\" width=\"110\"/></a>\n<div class=\"content\">\n<h4><a href=\"/profile/384-b-j-schecter/10\">Schecter, B.J.</a></h4>\n<p class=\"description\">Adjunct Faculty</p>\n</div>\n</li>,\n <li>\n<a href=\"/profile/495-hilke-schellmann/10\"><img alt=\"Hilkeschellmann_final\" border=\"1\" height=\"90\" src=\"/system/photos/3584/default/HilkeSchellmann_final.jpg?1395348920\" width=\"110\"/></a>\n<div class=\"content\">\n<h4><a href=\"/profile/495-hilke-schellmann/10\">Schellmann, Hilke</a></h4>\n<p class=\"description\">Adjunct Faculty</p>\n</div>\n</li>,\n <li>\n<a href=\"/profile/498-john-schoen/10\"><img alt=\"Schoen\" border=\"1\" height=\"90\" src=\"/system/photos/3432/default/schoen.jpg?1392672237\" width=\"110\"/></a>\n<div class=\"content\">\n<h4><a href=\"/profile/498-john-schoen/10\">Schoen, John</a></h4>\n<p class=\"description\">Adjunct Faculty</p>\n</div>\n</li>,\n <li>\n<div class=\"content\">\n<h4><a href=\"/profile/383-mary-ellen-schoonmaker/10\">Schoonmaker, Mary Ellen</a></h4>\n<p class=\"description\">Adjunct Faculty</p>\n</div>\n</li>,\n <li>\n<a href=\"/profile/62-michael-schudson/10\"><img alt=\"Mschudson_112811\" border=\"1\" height=\"90\" src=\"/system/photos/2075/default/MSchudson_112811.jpg?1322517107\" width=\"110\"/></a>\n<div class=\"content\">\n<h4><a href=\"/profile/62-michael-schudson/10\">Schudson, Michael </a></h4>\n<p class=\"description\">Professor </p>\n<p class=\"expertise\">Expertise: TRENDS IN JOURNALISM, HISTORY OF COMMUNICATIONS</p>\n</div>\n</li>,\n <li>\n<a href=\"/profile/366-ed-schumacher-matos/10\"><img alt=\"Eschumacher_112811\" border=\"1\" height=\"90\" src=\"/system/photos/2076/default/ESchumacher_112811.jpg?1322517858\" width=\"110\"/></a>\n<div class=\"content\">\n<h4><a href=\"/profile/366-ed-schumacher-matos/10\">Schumacher-Matos, Ed </a></h4>\n<p class=\"description\">Adjunct Faculty</p>\n<p class=\"expertise\">Expertise: ETHICS, SOCIAL ISSUES, IMMIGRATION</p>\n</div>\n</li>,\n <li>\n<div class=\"content\">\n<h4><a href=\"/profile/381-jack-schwartz/10\">Schwartz, Jack </a></h4>\n<p class=\"description\"></p>\n</div>\n</li>,\n <li>\n<a href=\"/profile/171-ava-seave/10\"><img alt=\"Seave\" border=\"1\" height=\"90\" src=\"/system/photos/872/default/Seave.jpg?1280954557\" width=\"110\"/></a>\n<div class=\"content\">\n<h4><a href=\"/profile/171-ava-seave/10\">Seave, Ava </a></h4>\n<p class=\"description\">Adjunct Faculty</p>\n</div>\n</li>,\n <li>\n<a href=\"/profile/148-david-seideman/10\"><img alt=\"Seidman\" border=\"1\" height=\"90\" src=\"/system/photos/849/default/Seidman.gif?1365718701\" width=\"110\"/></a>\n<div class=\"content\">\n<h4><a href=\"/profile/148-david-seideman/10\">Seideman, David</a></h4>\n<p class=\"description\">Adjunct Faculty</p>\n</div>\n</li>,\n <li>\n<div class=\"content\">\n<h4><a href=\"/profile/353-donald-shanor/10\">Shanor, Donald</a></h4>\n<p class=\"description\">G. L. Cabot Professor Emeritus </p>\n</div>\n</li>,\n <li>\n<a href=\"/profile/236-bruce-shapiro/10\"><img alt=\"Shapiro_-bruce\" border=\"1\" height=\"90\" src=\"/system/photos/3003/default/Shapiro_-Bruce.gif?1365706590\" width=\"110\"/></a>\n<div class=\"content\">\n<h4><a href=\"/profile/236-bruce-shapiro/10\">Shapiro, Bruce</a></h4>\n<p class=\"description\">Executive Director</p>\n</div>\n</li>,\n <li>\n<a href=\"/profile/63-michael-shapiro/10\"><img alt=\"Mshapiro_112811\" border=\"1\" height=\"90\" src=\"/system/photos/2077/default/MShapiro_112811.jpg?1322518042\" width=\"110\"/></a>\n<div class=\"content\">\n<h4><a href=\"/profile/63-michael-shapiro/10\">Shapiro, Michael </a></h4>\n<p class=\"description\">Professor </p>\n<p class=\"expertise\">Expertise: ETHICS, DIGITAL MEDIA</p>\n</div>\n</li>,\n <li>\n<a href=\"/profile/434-ahmed-shihab-eldin/10\"><img alt=\"Ahmed-shihab-eldin\" border=\"1\" height=\"90\" src=\"/system/photos/2682/default/ahmed-shihab-eldin.gif?1365717716\" width=\"110\"/></a>\n<div class=\"content\">\n<h4><a href=\"/profile/434-ahmed-shihab-eldin/10\">Shihab-Eldin, Ahmed </a></h4>\n<p class=\"description\">Adjunct Assistant Professor </p>\n</div>\n</li>,\n <li>\n<a href=\"/profile/327-lloyd-siegel/10\"><img alt=\"Siegel_-lloyd-2012\" border=\"1\" height=\"90\" src=\"/system/photos/3235/default/Siegel_-Lloyd-2012.jpg?1375710566\" width=\"110\"/></a>\n<div class=\"content\">\n<h4><a href=\"/profile/327-lloyd-siegel/10\">Siegel, Lloyd</a></h4>\n<p class=\"description\">Adjunct Faculty</p>\n</div>\n</li>,\n <li>\n<a href=\"/profile/170-amy-singer/10\"><img alt=\"Singer\" border=\"1\" height=\"90\" src=\"/system/photos/871/default/singer.jpg?1392672245\" width=\"110\"/></a>\n<div class=\"content\">\n<h4><a href=\"/profile/170-amy-singer/10\">Singer, Amy </a></h4>\n<p class=\"description\">Adjunct Faculty</p>\n</div>\n</li>,\n <li>\n<a href=\"/profile/389-maria-sliwa/10\"><img alt=\"Mariasliwa\" border=\"1\" height=\"90\" src=\"/system/photos/1953/default/MariaSliwa.gif?1365717479\" width=\"110\"/></a>\n<div class=\"content\">\n<h4><a href=\"/profile/389-maria-sliwa/10\">Sliwa, Maria</a></h4>\n<p class=\"description\">Adjunct Faculty</p>\n</div>\n</li>,\n <li>\n<a href=\"/profile/64-alisa-solomon/10\"><img alt=\"Solomon_-alisa\" border=\"1\" height=\"90\" src=\"/system/photos/3004/default/Solomon_-Alisa.gif?1365706611\" width=\"110\"/></a>\n<div class=\"content\">\n<h4><a href=\"/profile/64-alisa-solomon/10\">Solomon, Alisa</a></h4>\n<p class=\"description\">Professor &amp; Director, Arts Concentration, M.A. Program</p>\n<p class=\"expertise\">Expertise: ARTS/CULTURE, SOCIAL ISSUES</p>\n</div>\n</li>,\n <li>\n<a href=\"/profile/517-jonathan-soma/10\"><img alt=\"Jonathan-soma\" border=\"1\" height=\"90\" src=\"/system/photos/3664/default/jonathan-soma.jpg?1399473825\" width=\"110\"/></a>\n<div class=\"content\">\n<h4><a href=\"/profile/517-jonathan-soma/10\">Soma, Jonathan</a></h4>\n<p class=\"description\">Instructor, The Lede Program</p>\n</div>\n</li>,\n <li>\n<a href=\"/profile/287-ernest-sotomayor/10\"><img alt=\"Ernie\" border=\"1\" height=\"90\" src=\"/system/photos/3204/default/Ernie.gif?1375217153\" width=\"110\"/></a>\n<div class=\"content\">\n<h4><a href=\"/profile/287-ernest-sotomayor/10\">Sotomayor, Ernest</a></h4>\n<p class=\"description\">Dean of Student Affairs</p>\n</div>\n</li>,\n <li>\n<a href=\"/profile/147-paula-span/10\"><img alt=\"Paulaspan\" border=\"1\" height=\"90\" src=\"/system/photos/848/default/PaulaSpan.gif?1365717399\" width=\"110\"/></a>\n<div class=\"content\">\n<h4><a href=\"/profile/147-paula-span/10\">Span, Paula </a></h4>\n<p class=\"description\">Adjunct Professor</p>\n</div>\n</li>,\n <li>\n<a href=\"/profile/65-sree-sreenivasan/10\"><img alt=\"Ssreenavisan_112811\" border=\"1\" height=\"90\" src=\"/system/photos/2079/default/SSreenavisan_112811.jpg?1322518253\" width=\"110\"/></a>\n<div class=\"content\">\n<h4><a href=\"/profile/65-sree-sreenivasan/10\">Sreenivasan , Sree </a></h4>\n<p class=\"description\">Adjunct Faculty</p>\n</div>\n</li>,\n <li>\n<a href=\"/profile/120-karen-stabiner/10\"><img alt=\"Karen-stabiner\" border=\"1\" height=\"90\" src=\"/system/photos/3236/default/Karen-Stabiner.jpg?1375717512\" width=\"110\"/></a>\n<div class=\"content\">\n<h4><a href=\"/profile/120-karen-stabiner/10\">Stabiner, Karen</a></h4>\n<p class=\"description\">Adjunct Faculty</p>\n</div>\n</li>,\n <li>\n<a href=\"/profile/66-james-stewart/10\"><img alt=\"Jstewart_112811\" border=\"1\" height=\"90\" src=\"/system/photos/2080/default/JStewart_112811.jpg?1322518368\" width=\"110\"/></a>\n<div class=\"content\">\n<h4><a href=\"/profile/66-james-stewart/10\">Stewart, James</a></h4>\n<p class=\"description\">Bloomberg Professor of Business Journalism</p>\n<p class=\"expertise\">Expertise: BUSINESS/ECONOMICS</p>\n</div>\n</li>,\n <li>\n<a href=\"/profile/68-alexander-stille/10\"><img alt=\"Stille\" border=\"1\" height=\"90\" src=\"/system/photos/82/default/Stille.gif?1365718788\" width=\"110\"/></a>\n<div class=\"content\">\n<h4><a href=\"/profile/68-alexander-stille/10\">Stille, Alexander</a></h4>\n<p class=\"description\">San Paolo Professor of International Journalism</p>\n<p class=\"expertise\">Expertise: Politics, INTERNATIONAL AFFAIRS</p>\n</div>\n</li>,\n <li>\n<a href=\"/profile/503-cyndi-stivers/10\"><img alt=\"Stivers\" border=\"1\" height=\"90\" src=\"/system/photos/3523/default/stivers.jpg?1392672253\" width=\"110\"/></a>\n<div class=\"content\">\n<h4><a href=\"/profile/503-cyndi-stivers/10\">Stivers, Cyndi</a></h4>\n<p class=\"description\">Adjunct Faculty</p>\n</div>\n</li>,\n <li>\n<a href=\"/profile/463-sushma-subramanian/10\"><img alt=\"Subramanian_-sushma\" border=\"1\" height=\"90\" src=\"/system/photos/3005/default/Subramanian_-Sushma.gif?1365706634\" width=\"110\"/></a>\n<div class=\"content\">\n<h4><a href=\"/profile/463-sushma-subramanian/10\">Subramanian, Sushma</a></h4>\n<p class=\"description\">Adjunct Faculty</p>\n</div>\n</li>,\n <li>\n<a href=\"/profile/497-michael-sullivan/10\"><img alt=\"Mike_sullivan\" border=\"1\" height=\"90\" src=\"/system/photos/3434/default/Mike_Sullivan.jpg?1386103502\" width=\"110\"/></a>\n<div class=\"content\">\n<h4><a href=\"/profile/497-michael-sullivan/10\">Sullivan, Michael</a></h4>\n<p class=\"description\">Adjunct Faculty</p>\n</div>\n</li>,\n <li>\n<a href=\"/profile/146-simon-surowicz/10\"><img alt=\"Surowicz\" border=\"1\" height=\"90\" src=\"/system/photos/847/default/Surowicz.jpg?1280952446\" width=\"110\"/></a>\n<div class=\"content\">\n<h4><a href=\"/profile/146-simon-surowicz/10\">Surowicz, Simon</a></h4>\n<p class=\"description\"></p>\n</div>\n</li>,\n <li class=\"label\" id=\"goto-t\"></li>,\n <li>\n<a href=\"/profile/339-maurice-tamman/10\"><img alt=\"Tamman_-maurice\" border=\"1\" height=\"90\" src=\"/system/photos/3006/default/Tamman_-Maurice.gif?1365706648\" width=\"110\"/></a>\n<div class=\"content\">\n<h4><a href=\"/profile/339-maurice-tamman/10\">Tamman, Maurice</a></h4>\n<p class=\"description\">Adjunct Faculty</p>\n</div>\n</li>,\n <li>\n<div class=\"content\">\n<h4><a href=\"/profile/516-dennis-tenen/10\">Tenen, Dennis</a></h4>\n<p class=\"description\">Instructor, The Lede Program</p>\n</div>\n</li>,\n <li>\n<a href=\"/profile/332-seymour-topping/10\"><img alt=\"Topping\" border=\"1\" height=\"90\" src=\"/system/photos/105/default/topping.jpg?1392672489\" width=\"110\"/></a>\n<div class=\"content\">\n<h4><a href=\"/profile/332-seymour-topping/10\">Topping, Seymour  </a></h4>\n<p class=\"description\">San Paolo Professor of International Journalism Emeritus</p>\n</div>\n</li>,\n <li>\n<a href=\"/profile/210-dody-tsiantar/10\"><img alt=\"Dody\" border=\"1\" height=\"90\" src=\"/system/photos/3057/default/Dody.jpg?1368463129\" width=\"110\"/></a>\n<div class=\"content\">\n<h4><a href=\"/profile/210-dody-tsiantar/10\">Tsiantar, Dody </a></h4>\n<p class=\"description\">Adjunct Faculty</p>\n</div>\n</li>,\n <li>\n<a href=\"/profile/71-duy-linh-tu/10\"><img alt=\"Dlinhtu_112811\" border=\"1\" height=\"90\" src=\"/system/photos/2082/default/DLinhTu_112811.jpg?1322583281\" width=\"110\"/></a>\n<div class=\"content\">\n<h4><a href=\"/profile/71-duy-linh-tu/10\">Tu, Duy Linh</a></h4>\n<p class=\"description\">Assistant Professor of Professional Practice &amp; Director, Digital Media Program </p>\n<p class=\"expertise\">Expertise: DIGITAL MEDIA, TRENDS IN JOURNALISM</p>\n</div>\n</li>,\n <li>\n<a href=\"/profile/72-andie-tucher/10\"><img alt=\"Andie_tucher2\" border=\"1\" height=\"90\" src=\"/system/photos/125/default/Andie_Tucher2.jpg?1275665800\" width=\"110\"/></a>\n<div class=\"content\">\n<h4><a href=\"/profile/72-andie-tucher/10\">Tucher, Andie </a></h4>\n<p class=\"description\">Associate Professor; Director, Ph.D. Program</p>\n<p class=\"expertise\">Expertise: HISTORY OF COMMUNICATIONS</p>\n</div>\n</li>,\n <li class=\"label\" id=\"goto-v\"></li>,\n <li>\n<a href=\"/profile/486-michael-ventura/10\"><img alt=\"Mike-ventura\" border=\"1\" height=\"90\" src=\"/system/photos/3188/default/Mike-Ventura.gif?1374078031\" width=\"110\"/></a>\n<div class=\"content\">\n<h4><a href=\"/profile/486-michael-ventura/10\">Ventura, Michael</a></h4>\n<p class=\"description\">Adjunct Faculty</p>\n</div>\n</li>,\n <li class=\"label\" id=\"goto-w\"></li>,\n <li>\n<a href=\"/profile/168-jonathan-wald/10\"><img alt=\"Wald_-jonathan\" border=\"1\" height=\"90\" src=\"/system/photos/3007/default/Wald_-Jonathan.gif?1365706666\" width=\"110\"/></a>\n<div class=\"content\">\n<h4><a href=\"/profile/168-jonathan-wald/10\">Wald, Jonathan</a></h4>\n<p class=\"description\">Adjunt Faculty</p>\n</div>\n</li>,\n <li>\n<a href=\"/profile/73-richard-wald/10\"><img alt=\"Richard_wald2\" border=\"1\" height=\"90\" src=\"/system/photos/126/default/Richard_Wald2.jpg?1275665983\" width=\"110\"/></a>\n<div class=\"content\">\n<h4><a href=\"/profile/73-richard-wald/10\">Wald, Richard</a></h4>\n<p class=\"description\">Fred W. Friendly Professor of Professional Practice in Media and Society</p>\n<p class=\"expertise\">Expertise: ETHICS, BROADCAST</p>\n</div>\n</li>,\n <li>\n<a href=\"/profile/305-leslie-wayne/10\"><img alt=\"Wayne\" border=\"1\" height=\"90\" src=\"/system/photos/1261/default/wayne.jpg?1392672262\" width=\"110\"/></a>\n<div class=\"content\">\n<h4><a href=\"/profile/305-leslie-wayne/10\">Wayne, Leslie</a></h4>\n<p class=\"description\">Adjunct Faculty</p>\n</div>\n</li>,\n <li>\n<a href=\"/profile/75-jonathan-weiner/10\"><img alt=\"Jweiner\" border=\"1\" height=\"90\" src=\"/system/photos/127/default/JWeiner.jpg?1291237982\" width=\"110\"/></a>\n<div class=\"content\">\n<h4><a href=\"/profile/75-jonathan-weiner/10\">Weiner, Jonathan </a></h4>\n<p class=\"description\">Maxwell M. Geffen Professor of Medical and Scientific Journalism </p>\n<p class=\"expertise\">Expertise: SCIENCE/ENVIRONMENT</p>\n</div>\n</li>,\n <li>\n<a href=\"/profile/403-gary-weiss/10\"><img alt=\"Weiss\" border=\"1\" height=\"90\" src=\"/system/photos/2269/default/weiss.jpg?1392672270\" width=\"110\"/></a>\n<div class=\"content\">\n<h4><a href=\"/profile/403-gary-weiss/10\">Weiss, Gary</a></h4>\n<p class=\"description\">Adjunct Faculty</p>\n</div>\n</li>,\n <li>\n<a href=\"/profile/118-julianne-welby/10\"><img alt=\"Welby\" border=\"1\" height=\"90\" src=\"/system/photos/819/default/welby.jpg?1392672278\" width=\"110\"/></a>\n<div class=\"content\">\n<h4><a href=\"/profile/118-julianne-welby/10\">Welby, Julianne </a></h4>\n<p class=\"description\">Adjunct Faculty</p>\n</div>\n</li>,\n <li>\n<a href=\"/profile/76-betsy-west/10\"><img alt=\"Betsy_west2\" border=\"1\" height=\"90\" src=\"/system/photos/128/default/Betsy_West2.jpg?1275668385\" width=\"110\"/></a>\n<div class=\"content\">\n<h4><a href=\"/profile/76-betsy-west/10\">West, Betsy </a></h4>\n<p class=\"description\">Associate Professor of Professional Practice</p>\n<p class=\"expertise\">Expertise: BROADCAST</p>\n</div>\n</li>,\n <li>\n<a href=\"/profile/167-william-wheatley-jr/10\"><img alt=\"Wheatley_-bill\" border=\"1\" height=\"90\" src=\"/system/photos/3008/default/Wheatley_-Bill.gif?1365706683\" width=\"110\"/></a>\n<div class=\"content\">\n<h4><a href=\"/profile/167-william-wheatley-jr/10\">Wheatley, Jr., William</a></h4>\n<p class=\"description\">Adjunct Faculty</p>\n</div>\n</li>,\n <li>\n<a href=\"/profile/513-chris-wiggins/10\"><img alt=\"Chris-wiggins\" border=\"1\" height=\"90\" src=\"/system/photos/3665/default/chris-wiggins.jpg?1399473834\" width=\"110\"/></a>\n<div class=\"content\">\n<h4><a href=\"/profile/513-chris-wiggins/10\">Wiggins, Chris</a></h4>\n<p class=\"description\">Instructor, The Lede Program</p>\n</div>\n</li>,\n <li>\n<a href=\"/profile/397-josh-williams/10\"><img alt=\"Williams_-josh---high-res\" border=\"1\" height=\"90\" src=\"/system/photos/3009/default/Williams_-Josh---high-res.gif?1365706700\" width=\"110\"/></a>\n<div class=\"content\">\n<h4><a href=\"/profile/397-josh-williams/10\">Williams, Josh</a></h4>\n<p class=\"description\">Adjunct Faculty</p>\n</div>\n</li>,\n <li>\n<div class=\"content\">\n<h4><a href=\"/profile/395-duff-wilson/10\">Wilson, Duff</a></h4>\n<p class=\"description\">Adjunct Faculty</p>\n</div>\n</li>,\n <li>\n<div class=\"content\">\n<h4><a href=\"/profile/342-joshua-wolk/10\">Wolk, Joshua</a></h4>\n<p class=\"description\">Adjunct Faculty</p>\n</div>\n</li>,\n <li>\n<a href=\"/profile/199-tali-woodward/10\"><img alt=\"Woodward\" border=\"1\" height=\"90\" src=\"/system/photos/3010/default/woodward.jpg?1392672287\" width=\"110\"/></a>\n<div class=\"content\">\n<h4><a href=\"/profile/199-tali-woodward/10\">Woodward, Tali </a></h4>\n<p class=\"description\">Adjunct Faculty &amp; Director, M.A. Program</p>\n</div>\n</li>,\n <li class=\"label\" id=\"goto-y\"></li>,\n <li>\n<div class=\"content\">\n<h4><a href=\"/profile/359-frederick-t-c-yu/10\">Yu, Frederick T C.</a></h4>\n<p class=\"description\">CBS Professor Emeritus International Journalism</p>\n</div>\n</li>,\n <li class=\"label\" id=\"goto-z\"></li>,\n <li>\n<div class=\"content\">\n<h4><a href=\"/profile/111-john-zucker/10\">Zucker, John</a></h4>\n<p class=\"description\">Adjunct Faculty</p>\n</div>\n</li>,\n <li>\n<a href=\"/profile/211-jocelyn-craugh-zuckerman/10\"><img alt=\"Zuckerman\" border=\"1\" height=\"90\" src=\"/system/photos/3058/default/zuckerman.jpg?1392672295\" width=\"110\"/></a>\n<div class=\"content\">\n<h4><a href=\"/profile/211-jocelyn-craugh-zuckerman/10\">Zuckerman, Jocelyn Craugh </a></h4>\n<p class=\"description\">Adjunct Faculty</p>\n</div>\n</li>]"
      }
     ],
     "prompt_number": 69
    },
    {
     "cell_type": "code",
     "collapsed": false,
     "input": "import pandas as pd\nfaculty_frame = pd.DataFrame(all_faculty)\nfaculty_frame[faculty_frame[\"title\"]==\"Adjunct Faculty\"]",
     "language": "python",
     "metadata": {},
     "outputs": [
      {
       "html": "<div style=\"max-height:1000px;max-width:1500px;overflow:auto;\">\n<table border=\"1\" class=\"dataframe\">\n  <thead>\n    <tr style=\"text-align: right;\">\n      <th></th>\n      <th>name</th>\n      <th>title</th>\n    </tr>\n  </thead>\n  <tbody>\n    <tr>\n      <th>1  </th>\n      <td>           Barclay, Dolores </td>\n      <td> Adjunct Faculty</td>\n    </tr>\n    <tr>\n      <th>2  </th>\n      <td>             Baum, Geraldine</td>\n      <td> Adjunct Faculty</td>\n    </tr>\n    <tr>\n      <th>5  </th>\n      <td>               Bennet, John </td>\n      <td> Adjunct Faculty</td>\n    </tr>\n    <tr>\n      <th>6  </th>\n      <td>                Bennett, Rob</td>\n      <td> Adjunct Faculty</td>\n    </tr>\n    <tr>\n      <th>8  </th>\n      <td>              Blair, Gwenda </td>\n      <td> Adjunct Faculty</td>\n    </tr>\n    <tr>\n      <th>9  </th>\n      <td>                Blum, David </td>\n      <td> Adjunct Faculty</td>\n    </tr>\n    <tr>\n      <th>11 </th>\n      <td>            Bogdanich, Walt </td>\n      <td> Adjunct Faculty</td>\n    </tr>\n    <tr>\n      <th>12 </th>\n      <td>             Bourin, Lennart</td>\n      <td> Adjunct Faculty</td>\n    </tr>\n    <tr>\n      <th>14 </th>\n      <td>             Bruder, Jessica</td>\n      <td> Adjunct Faculty</td>\n    </tr>\n    <tr>\n      <th>15 </th>\n      <td>           Burford, Melanie </td>\n      <td> Adjunct Faculty</td>\n    </tr>\n    <tr>\n      <th>16 </th>\n      <td>             Burleigh, Nina </td>\n      <td> Adjunct Faculty</td>\n    </tr>\n    <tr>\n      <th>20 </th>\n      <td>               Charnas, Dan </td>\n      <td> Adjunct Faculty</td>\n    </tr>\n    <tr>\n      <th>21 </th>\n      <td>                Cohen, Julie</td>\n      <td> Adjunct Faculty</td>\n    </tr>\n    <tr>\n      <th>22 </th>\n      <td>              Cohen, Lisa R.</td>\n      <td> Adjunct Faculty</td>\n    </tr>\n    <tr>\n      <th>23 </th>\n      <td>                Cohen, Sarah</td>\n      <td> Adjunct Faculty</td>\n    </tr>\n    <tr>\n      <th>27 </th>\n      <td>              Coyne , Kevin </td>\n      <td> Adjunct Faculty</td>\n    </tr>\n    <tr>\n      <th>31 </th>\n      <td>            DePalma, Anthony</td>\n      <td> Adjunct Faculty</td>\n    </tr>\n    <tr>\n      <th>32 </th>\n      <td>             DeSilva, Bruce </td>\n      <td> Adjunct Faculty</td>\n    </tr>\n    <tr>\n      <th>33 </th>\n      <td>            Deitsch, Richard</td>\n      <td> Adjunct Faculty</td>\n    </tr>\n    <tr>\n      <th>35 </th>\n      <td>                 Dodd, Scott</td>\n      <td> Adjunct Faculty</td>\n    </tr>\n    <tr>\n      <th>36 </th>\n      <td>             Donahue, Kerry </td>\n      <td> Adjunct Faculty</td>\n    </tr>\n    <tr>\n      <th>37 </th>\n      <td>          Drew, Christopher </td>\n      <td> Adjunct Faculty</td>\n    </tr>\n    <tr>\n      <th>40 </th>\n      <td>             Evans, Farrell </td>\n      <td> Adjunct Faculty</td>\n    </tr>\n    <tr>\n      <th>41 </th>\n      <td>              Evans , Tyson </td>\n      <td> Adjunct Faculty</td>\n    </tr>\n    <tr>\n      <th>43 </th>\n      <td>   Ford, Constance Mitchell </td>\n      <td> Adjunct Faculty</td>\n    </tr>\n    <tr>\n      <th>44 </th>\n      <td>     Frederick, Pamela Platt</td>\n      <td> Adjunct Faculty</td>\n    </tr>\n    <tr>\n      <th>46 </th>\n      <td>            Freeman, George </td>\n      <td> Adjunct Faculty</td>\n    </tr>\n    <tr>\n      <th>47 </th>\n      <td>               Freeman, John</td>\n      <td> Adjunct Faculty</td>\n    </tr>\n    <tr>\n      <th>49 </th>\n      <td>             Fried, Stephen </td>\n      <td> Adjunct Faculty</td>\n    </tr>\n    <tr>\n      <th>51 </th>\n      <td>             Gilderman, Greg</td>\n      <td> Adjunct Faculty</td>\n    </tr>\n    <tr>\n      <th>54 </th>\n      <td>           Giudice, Barbara </td>\n      <td> Adjunct Faculty</td>\n    </tr>\n    <tr>\n      <th>55 </th>\n      <td>           Goldensohn, Marty</td>\n      <td> Adjunct Faculty</td>\n    </tr>\n    <tr>\n      <th>59 </th>\n      <td>             Haburchak, Alan</td>\n      <td> Adjunct Faculty</td>\n    </tr>\n    <tr>\n      <th>61 </th>\n      <td>               Hall, Stephen</td>\n      <td> Adjunct Faculty</td>\n    </tr>\n    <tr>\n      <th>64 </th>\n      <td>                Harris, Mark</td>\n      <td> Adjunct Faculty</td>\n    </tr>\n    <tr>\n      <th>66 </th>\n      <td>          Heinzerling, Larry</td>\n      <td> Adjunct Faculty</td>\n    </tr>\n    <tr>\n      <th>67 </th>\n      <td>                Herman, Tom </td>\n      <td> Adjunct Faculty</td>\n    </tr>\n    <tr>\n      <th>68 </th>\n      <td>               Hickey, Neil </td>\n      <td> Adjunct Faculty</td>\n    </tr>\n    <tr>\n      <th>70 </th>\n      <td>               Hogan, Pamela</td>\n      <td> Adjunct Faculty</td>\n    </tr>\n    <tr>\n      <th>72 </th>\n      <td>              Hoyt, Michael </td>\n      <td> Adjunct Faculty</td>\n    </tr>\n    <tr>\n      <th>77 </th>\n      <td>             Kann, Peter R. </td>\n      <td> Adjunct Faculty</td>\n    </tr>\n    <tr>\n      <th>80 </th>\n      <td>                  Karr, Rick</td>\n      <td> Adjunct Faculty</td>\n    </tr>\n    <tr>\n      <th>81 </th>\n      <td>               Kent, Thomas </td>\n      <td> Adjunct Faculty</td>\n    </tr>\n    <tr>\n      <th>84 </th>\n      <td>                Kleman, Kim </td>\n      <td> Adjunct Faculty</td>\n    </tr>\n    <tr>\n      <th>87 </th>\n      <td>               Kottler, Mark</td>\n      <td> Adjunct Faculty</td>\n    </tr>\n    <tr>\n      <th>88 </th>\n      <td>               Landis, Peter</td>\n      <td> Adjunct Faculty</td>\n    </tr>\n    <tr>\n      <th>89 </th>\n      <td>               Lee, Deborah </td>\n      <td> Adjunct Faculty</td>\n    </tr>\n    <tr>\n      <th>90 </th>\n      <td> Lehmann-Haupt, Christopher </td>\n      <td> Adjunct Faculty</td>\n    </tr>\n    <tr>\n      <th>92 </th>\n      <td>            Levenson, Jacob </td>\n      <td> Adjunct Faculty</td>\n    </tr>\n    <tr>\n      <th>93 </th>\n      <td>               Lipsky, Seth </td>\n      <td> Adjunct Faculty</td>\n    </tr>\n    <tr>\n      <th>95 </th>\n      <td>           Lombardi, Kristen</td>\n      <td> Adjunct Faculty</td>\n    </tr>\n    <tr>\n      <th>96 </th>\n      <td>                 Luhby, Tami</td>\n      <td> Adjunct Faculty</td>\n    </tr>\n    <tr>\n      <th>97 </th>\n      <td>              Maciulis, Tony</td>\n      <td> Adjunct Faculty</td>\n    </tr>\n    <tr>\n      <th>101</th>\n      <td>                Maytal, Itai</td>\n      <td> Adjunct Faculty</td>\n    </tr>\n    <tr>\n      <th>102</th>\n      <td>           McCormick, David </td>\n      <td> Adjunct Faculty</td>\n    </tr>\n    <tr>\n      <th>103</th>\n      <td>              McCray, Melvin</td>\n      <td> Adjunct Faculty</td>\n    </tr>\n    <tr>\n      <th>106</th>\n      <td>            McMasters, Kelly</td>\n      <td> Adjunct Faculty</td>\n    </tr>\n    <tr>\n      <th>109</th>\n      <td>         Miller , Stephen C.</td>\n      <td> Adjunct Faculty</td>\n    </tr>\n    <tr>\n      <th>110</th>\n      <td>                Mintz, James</td>\n      <td> Adjunct Faculty</td>\n    </tr>\n    <tr>\n      <th>113</th>\n      <td>               Newman, Maria</td>\n      <td> Adjunct Faculty</td>\n    </tr>\n    <tr>\n      <th></th>\n      <td>...</td>\n      <td>...</td>\n    </tr>\n  </tbody>\n</table>\n<p>104 rows \u00d7 2 columns</p>\n</div>",
       "metadata": {},
       "output_type": "pyout",
       "prompt_number": 66,
       "text": "                            name            title\n1              Barclay, Dolores   Adjunct Faculty\n2                Baum, Geraldine  Adjunct Faculty\n5                  Bennet, John   Adjunct Faculty\n6                   Bennett, Rob  Adjunct Faculty\n8                 Blair, Gwenda   Adjunct Faculty\n9                   Blum, David   Adjunct Faculty\n11              Bogdanich, Walt   Adjunct Faculty\n12               Bourin, Lennart  Adjunct Faculty\n14               Bruder, Jessica  Adjunct Faculty\n15             Burford, Melanie   Adjunct Faculty\n16               Burleigh, Nina   Adjunct Faculty\n20                 Charnas, Dan   Adjunct Faculty\n21                  Cohen, Julie  Adjunct Faculty\n22                Cohen, Lisa R.  Adjunct Faculty\n23                  Cohen, Sarah  Adjunct Faculty\n27                Coyne , Kevin   Adjunct Faculty\n31              DePalma, Anthony  Adjunct Faculty\n32               DeSilva, Bruce   Adjunct Faculty\n33              Deitsch, Richard  Adjunct Faculty\n35                   Dodd, Scott  Adjunct Faculty\n36               Donahue, Kerry   Adjunct Faculty\n37            Drew, Christopher   Adjunct Faculty\n40               Evans, Farrell   Adjunct Faculty\n41                Evans , Tyson   Adjunct Faculty\n43     Ford, Constance Mitchell   Adjunct Faculty\n44       Frederick, Pamela Platt  Adjunct Faculty\n46              Freeman, George   Adjunct Faculty\n47                 Freeman, John  Adjunct Faculty\n49               Fried, Stephen   Adjunct Faculty\n51               Gilderman, Greg  Adjunct Faculty\n54             Giudice, Barbara   Adjunct Faculty\n55             Goldensohn, Marty  Adjunct Faculty\n59               Haburchak, Alan  Adjunct Faculty\n61                 Hall, Stephen  Adjunct Faculty\n64                  Harris, Mark  Adjunct Faculty\n66            Heinzerling, Larry  Adjunct Faculty\n67                  Herman, Tom   Adjunct Faculty\n68                 Hickey, Neil   Adjunct Faculty\n70                 Hogan, Pamela  Adjunct Faculty\n72                Hoyt, Michael   Adjunct Faculty\n77               Kann, Peter R.   Adjunct Faculty\n80                    Karr, Rick  Adjunct Faculty\n81                 Kent, Thomas   Adjunct Faculty\n84                  Kleman, Kim   Adjunct Faculty\n87                 Kottler, Mark  Adjunct Faculty\n88                 Landis, Peter  Adjunct Faculty\n89                 Lee, Deborah   Adjunct Faculty\n90   Lehmann-Haupt, Christopher   Adjunct Faculty\n92              Levenson, Jacob   Adjunct Faculty\n93                 Lipsky, Seth   Adjunct Faculty\n95             Lombardi, Kristen  Adjunct Faculty\n96                   Luhby, Tami  Adjunct Faculty\n97                Maciulis, Tony  Adjunct Faculty\n101                 Maytal, Itai  Adjunct Faculty\n102            McCormick, David   Adjunct Faculty\n103               McCray, Melvin  Adjunct Faculty\n106             McMasters, Kelly  Adjunct Faculty\n109          Miller , Stephen C.  Adjunct Faculty\n110                 Mintz, James  Adjunct Faculty\n113                Newman, Maria  Adjunct Faculty\n                             ...              ...\n\n[104 rows x 2 columns]"
      }
     ],
     "prompt_number": 66
    },
    {
     "cell_type": "code",
     "collapsed": false,
     "input": "cats = [\"Garfield\", \"Heathcliff\", \"Grumpy Cat\", \"Socks\"]\n\ncats_output = []\n\nfor item in cats:\n    # create an empty dictionary\n    cat_dict = {}\n    \n    # do some stuff, add stuff to the dictionary\n    cat_dict['name'] = item\n    cat_dict['name_length'] = len(item)\n    \n    # append that dictionary to our output list\n    cats_output.append(cat_dict)\n\ncats_output\n\n#\n#what we want:\n#[\n#  {\"name\": \"Garfield\", \"name_length\": 8},\n#  {\"name\": \"Heathcliff\", \"name_length\": 10},\n#  ...\n#]",
     "language": "python",
     "metadata": {},
     "outputs": [
      {
       "metadata": {},
       "output_type": "pyout",
       "prompt_number": 70,
       "text": "[{'name': 'Garfield', 'name_length': 8},\n {'name': 'Heathcliff', 'name_length': 10},\n {'name': 'Grumpy Cat', 'name_length': 10},\n {'name': 'Socks', 'name_length': 5}]"
      }
     ],
     "prompt_number": 70
    },
    {
     "cell_type": "code",
     "collapsed": false,
     "input": "import pandas as pd\ncats_df = pd.DataFrame(cats_output)\ncats_df",
     "language": "python",
     "metadata": {},
     "outputs": [
      {
       "html": "<div style=\"max-height:1000px;max-width:1500px;overflow:auto;\">\n<table border=\"1\" class=\"dataframe\">\n  <thead>\n    <tr style=\"text-align: right;\">\n      <th></th>\n      <th>name</th>\n      <th>name_length</th>\n    </tr>\n  </thead>\n  <tbody>\n    <tr>\n      <th>0</th>\n      <td>   Garfield</td>\n      <td>  8</td>\n    </tr>\n    <tr>\n      <th>1</th>\n      <td> Heathcliff</td>\n      <td> 10</td>\n    </tr>\n    <tr>\n      <th>2</th>\n      <td> Grumpy Cat</td>\n      <td> 10</td>\n    </tr>\n    <tr>\n      <th>3</th>\n      <td>      Socks</td>\n      <td>  5</td>\n    </tr>\n  </tbody>\n</table>\n<p>4 rows \u00d7 2 columns</p>\n</div>",
       "metadata": {},
       "output_type": "pyout",
       "prompt_number": 72,
       "text": "         name  name_length\n0    Garfield            8\n1  Heathcliff           10\n2  Grumpy Cat           10\n3       Socks            5\n\n[4 rows x 2 columns]"
      }
     ],
     "prompt_number": 72
    },
    {
     "cell_type": "markdown",
     "metadata": {},
     "source": "##Scraping menupages for fun and profit! whoops I mean for JOURNALISM.\n"
    },
    {
     "cell_type": "code",
     "collapsed": false,
     "input": "import urllib\nfrom bs4 import BeautifulSoup\n\nhtml_str = urllib.urlopen(\"http://www.menupages.com/restaurants/all-areas/morningside-heights/all-cuisines/\").read() \n\ndocument = BeautifulSoup(html_str)\n\ntable_tag = document.find(\"table\")\n\nrestaurant_list = []\n\nfor tr_tag in table_tag.find_all(\"tr\"):\n    restaurant_dict = {}\n    \n    reviews_tag = tr_tag.find(\"td\", attrs={'class': 'reviews'})\n    if reviews_tag is None:\n        continue\n    restaurant_dict['reviews'] = int(reviews_tag.string)\n    \n    restaurant_list.append(restaurant_dict)\n    \nrestaurant_list",
     "language": "python",
     "metadata": {},
     "outputs": [
      {
       "metadata": {},
       "output_type": "pyout",
       "prompt_number": 93,
       "text": "[{'reviews': 43},\n {'reviews': 5},\n {'reviews': 38},\n {'reviews': 31},\n {'reviews': 4},\n {'reviews': 19},\n {'reviews': 5},\n {'reviews': 2},\n {'reviews': 34},\n {'reviews': 8},\n {'reviews': 18},\n {'reviews': 1},\n {'reviews': 11},\n {'reviews': 7},\n {'reviews': 2},\n {'reviews': 0},\n {'reviews': 0},\n {'reviews': 37},\n {'reviews': 52},\n {'reviews': 70},\n {'reviews': 0},\n {'reviews': 116},\n {'reviews': 0},\n {'reviews': 0},\n {'reviews': 10},\n {'reviews': 1},\n {'reviews': 18},\n {'reviews': 0},\n {'reviews': 0},\n {'reviews': 0},\n {'reviews': 21},\n {'reviews': 18},\n {'reviews': 48},\n {'reviews': 0},\n {'reviews': 1},\n {'reviews': 1},\n {'reviews': 0},\n {'reviews': 0},\n {'reviews': 46},\n {'reviews': 5},\n {'reviews': 2},\n {'reviews': 39},\n {'reviews': 2},\n {'reviews': 8},\n {'reviews': 0},\n {'reviews': 5},\n {'reviews': 33},\n {'reviews': 11},\n {'reviews': 17},\n {'reviews': 16},\n {'reviews': 35},\n {'reviews': 23},\n {'reviews': 3},\n {'reviews': 14},\n {'reviews': 36},\n {'reviews': 97},\n {'reviews': 2},\n {'reviews': 0},\n {'reviews': 19},\n {'reviews': 14},\n {'reviews': 3},\n {'reviews': 34},\n {'reviews': 1},\n {'reviews': 0},\n {'reviews': 34},\n {'reviews': 1},\n {'reviews': 16},\n {'reviews': 38},\n {'reviews': 3},\n {'reviews': 19},\n {'reviews': 26},\n {'reviews': 52},\n {'reviews': 26},\n {'reviews': 4},\n {'reviews': 12},\n {'reviews': 44},\n {'reviews': 0},\n {'reviews': 68},\n {'reviews': 16},\n {'reviews': 0},\n {'reviews': 1},\n {'reviews': 26},\n {'reviews': 13}]"
      }
     ],
     "prompt_number": 93
    },
    {
     "cell_type": "code",
     "collapsed": false,
     "input": "[\n {\"name\": \"Ajanta\", \"price\": 2, \"rating\": 3.0, \"reviews\": 43,\n {\"name\": \"Amigos\", \"price\": 3, \"rating\": 3.0, \"reviews\": 5}\n ...\n \n]",
     "language": "python",
     "metadata": {},
     "outputs": []
    }
   ],
   "metadata": {}
  }
 ]
}