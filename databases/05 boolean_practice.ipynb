{
 "metadata": {
  "name": "05 boolean_practice"
 },
 "nbformat": 3,
 "nbformat_minor": 0,
 "worksheets": [
  {
   "cells": [
    {
     "cell_type": "markdown",
     "metadata": {},
     "source": "#Boolean indexing for fun, profit, and the pursuit of happiness"
    },
    {
     "cell_type": "code",
     "collapsed": false,
     "input": "%matplotlib inline\nfrom IPython.display import Image\n\nimport pandas as pd\nimport matplotlib.pyplot as plt\nimport numpy as np",
     "language": "python",
     "metadata": {},
     "outputs": []
    },
    {
     "cell_type": "code",
     "collapsed": false,
     "input": "user_labels=[\"user_id\", \"age\", \"gender\",\"occupation\",\"zip_code\"]",
     "language": "python",
     "metadata": {},
     "outputs": []
    },
    {
     "cell_type": "code",
     "collapsed": false,
     "input": "users=pd.read_csv('./ml-100k/u.user', sep=\"|\", names=user_labels, index_col=\"user_id\", nrows=12) #we'll unpack this later",
     "language": "python",
     "metadata": {},
     "outputs": []
    },
    {
     "cell_type": "code",
     "collapsed": false,
     "input": "",
     "language": "python",
     "metadata": {},
     "outputs": []
    },
    {
     "cell_type": "code",
     "collapsed": false,
     "input": "",
     "language": "python",
     "metadata": {},
     "outputs": []
    }
   ],
   "metadata": {}
  }
 ]
}
