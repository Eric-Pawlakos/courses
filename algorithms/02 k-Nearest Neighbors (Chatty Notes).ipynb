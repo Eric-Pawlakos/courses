{
 "metadata": {
  "name": "",
  "signature": "sha256:dec3d8c78019801dc33c0f4c7288c472ec5c2ac6b95c679f61c481b4fccf68eb"
 },
 "nbformat": 3,
 "nbformat_minor": 0,
 "worksheets": [
  {
   "cells": [
    {
     "cell_type": "markdown",
     "metadata": {},
     "source": [
      "# (k-)Nearest Neighbor(s)\n",
      "**a.k.a. Classifying for Fun and Profit**\n",
      "\n",
      "Last class we had some members of the NBA that we'd mapped. They looked something like this"
     ]
    },
    {
     "cell_type": "code",
     "collapsed": false,
     "input": [
      "import pandas as pd\n",
      "import matplotlib.pylab as plt\n",
      "nba_df = pd.read_csv('data/NBA-Census-10.14.2013.csv')\n",
      "\n",
      "# Loop through the position, marker and colors\n",
      "for position, marker, color in zip(['C','G','F'], \">xo\", \"cmy\"):\n",
      "    # Get the players that play that given position\n",
      "    players = nba_df[nba_df[\"POS\"] == position]\n",
      "    # Add their points to the scatterplot\n",
      "    plt.scatter(players[\"Ht (In.)\"], players[\"WT\"], c=color, marker=marker, alpha=0.5)\n",
      "# Add some labels for readability\n",
      "plt.xlabel(\"Weight\")\n",
      "plt.ylabel(\"Height (inches)\")"
     ],
     "language": "python",
     "metadata": {},
     "outputs": [
      {
       "metadata": {},
       "output_type": "pyout",
       "prompt_number": 21,
       "text": [
        "<matplotlib.text.Text at 0x1165f2b50>"
       ]
      },
      {
       "metadata": {},
       "output_type": "display_data",
       "png": "[encoded data removed]",
       "text": [
        "<matplotlib.figure.Figure at 0x1140a7950>"
       ]
      }
     ],
     "prompt_number": 21
    },
    {
     "cell_type": "markdown",
     "metadata": {},
     "source": [
      "### Wait a second!\n",
      "\n",
      "First, what the heck is this `for .. in zip()` thing? \n",
      "\n",
      "Last time we mapped everyone, we did it a more verbose way. First we pulled out the centers, forwards and guards, then we graphed the centers, forwards and guards. Lots of repetition, right?\n",
      "\n",
      "using a `for` loop with `zip` allows us to loop through more than one thing at a time."
     ]
    },
    {
     "cell_type": "code",
     "collapsed": false,
     "input": [
      "for position, marker, color in zip(['C','G','F'], \">xo\", \"cmy\"):\n",
      "    print \"== Going through the loop!\"\n",
      "    print \"Position is %s\" % position\n",
      "    print \"Position is %s\" % marker\n",
      "    print \"Position is %s\" % color"
     ],
     "language": "python",
     "metadata": {},
     "outputs": [
      {
       "output_type": "stream",
       "stream": "stdout",
       "text": [
        "== Going through the loop!\n",
        "Position is C\n",
        "Position is >\n",
        "Position is c\n",
        "== Going through the loop!\n",
        "Position is G\n",
        "Position is x\n",
        "Position is m\n",
        "== Going through the loop!\n",
        "Position is F\n",
        "Position is o\n",
        "Position is y\n"
       ]
      }
     ],
     "prompt_number": 22
    },
    {
     "cell_type": "markdown",
     "metadata": {},
     "source": [
      "The first time through we get the first elements of everything being `zip`ped up (the `'C'`, the `'>'` and the `'c'`). This works because you can loop over the members of `\"cmy\"` the same as you can loop over `['C','G','F']`"
     ]
    },
    {
     "cell_type": "code",
     "collapsed": false,
     "input": [
      "letters = \"cmy\"\n",
      "print letters[0]\n",
      "print letters[1]\n",
      "print letters[2]\n",
      "\n",
      "arr = ['C', 'G', 'F']\n",
      "print arr[0]\n",
      "print arr[1]\n",
      "print arr[2]"
     ],
     "language": "python",
     "metadata": {},
     "outputs": [
      {
       "output_type": "stream",
       "stream": "stdout",
       "text": [
        "c\n",
        "m\n",
        "y\n",
        "C\n",
        "G\n",
        "F\n"
       ]
      }
     ],
     "prompt_number": 23
    },
    {
     "cell_type": "markdown",
     "metadata": {},
     "source": [
      "And since our `for` loop is asking for three things - `position`, `marker`, and `color`, Python automatically assigns the first element of each `zip`ped element to the appropriate value. Let's take another look!"
     ]
    },
    {
     "cell_type": "code",
     "collapsed": false,
     "input": [
      "for letter, number in zip(\"ABC\", \"123\"):\n",
      "    print \"== Going through the loop!\"\n",
      "    print \"Letter is %s\" % letter\n",
      "    print \"Number is %s\" % number"
     ],
     "language": "python",
     "metadata": {},
     "outputs": [
      {
       "output_type": "stream",
       "stream": "stdout",
       "text": [
        "== Going through the loop!\n",
        "Letter is A\n",
        "Number is 1\n",
        "== Going through the loop!\n",
        "Letter is B\n",
        "Number is 2\n",
        "== Going through the loop!\n",
        "Letter is C\n",
        "Number is 3\n"
       ]
      }
     ],
     "prompt_number": 24
    },
    {
     "cell_type": "markdown",
     "metadata": {},
     "source": [
      "The for loop assigns variables based on their relationship to the `zip`ed list. `letter` maps to `\"ABC\"` and `number` to `\"123\"`. You'll run into this pattern often enough that you should probably know about it!\n",
      "\n",
      "    Oh, and if you want to know what `zip` is actually doing...."
     ]
    },
    {
     "cell_type": "code",
     "collapsed": false,
     "input": [
      "zip(['C','G','F'], \">xo\", \"cmy\")"
     ],
     "language": "python",
     "metadata": {},
     "outputs": [
      {
       "metadata": {},
       "output_type": "pyout",
       "prompt_number": 25,
       "text": [
        "[('C', '>', 'c'), ('G', 'x', 'm'), ('F', 'o', 'y')]"
       ]
      }
     ],
     "prompt_number": 25
    },
    {
     "cell_type": "markdown",
     "metadata": {},
     "source": [
      "Hopefully that makes a bit of sense so you can work through it when you see it!"
     ]
    },
    {
     "cell_type": "markdown",
     "metadata": {},
     "source": [
      "## Back to the NBA"
     ]
    },
    {
     "cell_type": "code",
     "collapsed": false,
     "input": [
      "import pandas as pd\n",
      "import matplotlib.pylab as plt\n",
      "nba_df = pd.read_csv('data/NBA-Census-10.14.2013.csv')\n",
      "\n",
      "# Loop through the position, marker and colors\n",
      "for position, marker, color in zip(['C','G','F'], \">xo\", \"cmy\"):\n",
      "    # Get the players that play that given position\n",
      "    players = nba_df[nba_df[\"POS\"] == position]\n",
      "    # Add their points to the scatterplot\n",
      "    plt.scatter(players[\"Ht (In.)\"], players[\"WT\"], c=color, marker=marker, alpha=0.5)\n",
      "# Add some labels for readability\n",
      "plt.xlabel(\"Weight\")\n",
      "plt.ylabel(\"Height (inches)\")"
     ],
     "language": "python",
     "metadata": {},
     "outputs": [
      {
       "metadata": {},
       "output_type": "pyout",
       "prompt_number": 26,
       "text": [
        "<matplotlib.text.Text at 0x116624950>"
       ]
      },
      {
       "metadata": {},
       "output_type": "display_data",
       "png": "[encoded data removed]",
       "text": [
        "<matplotlib.figure.Figure at 0x1165f42d0>"
       ]
      }
     ],
     "prompt_number": 26
    },
    {
     "cell_type": "markdown",
     "metadata": {},
     "source": [
      "We can see that the guards are lighter and shorter, the centers are taller and heavier, and the forwards are somewhere in between. If given someone clearly in those groups, we wouldn't do a terrible job figuring out what position they play. We know it because we can see it, but how can a *computer* figure it out that?"
     ]
    },
    {
     "cell_type": "markdown",
     "metadata": {},
     "source": [
      "## Birds of a feather get analyzed together\n",
      "\n",
      "Remember that time in middle school you bought a skateboard and your parents decided you were going to spend the rest of your life shoplifting and smoking pot because That's All Kids With Skateboards Do? And hey, maybe some of them did, but Come On, Mom, You're Different, You Promise?\n",
      "\n",
      "Luckily for us, computers are exactly dumb enough to jump to the same sorts of conclusions - we're going to help them get there."
     ]
    },
    {
     "cell_type": "markdown",
     "metadata": {},
     "source": [
      "# Nearest Neighbor Algorithm\n",
      "\n",
      "The **nearest neighbor algorithm** is an incredibly simple algorithm to classify objects. It's an example of **supervised learning**, a type of machine learning where to model requires a bit of initial data (called **training data**) to base its model on.\n",
      "\n",
      "Your parents probably based their model on a Fox News special called **Satanic Dope-Fiend Skaters**. As we'll see later, it's important to pick a nice random set of training data to not bias your later results."
     ]
    },
    {
     "cell_type": "code",
     "collapsed": false,
     "input": [
      "# First, let's get a small dose of training data.\n",
      "# Let's take 20 players of the full 528\n",
      "nba_training = nba_df[:20]"
     ],
     "language": "python",
     "metadata": {},
     "outputs": [],
     "prompt_number": 27
    },
    {
     "cell_type": "code",
     "collapsed": false,
     "input": [
      "# And graph it to see what we've got\n",
      "for position, marker, color in zip(['C','G','F'], \">xo\", \"cmy\"):\n",
      "    players = nba_training[nba_training[\"POS\"] == position]\n",
      "    plt.scatter(players[\"Ht (In.)\"], players[\"WT\"], c=color, marker=marker)\n",
      "plt.xlabel(\"Weight\")\n",
      "plt.ylabel(\"Height (inches)\")"
     ],
     "language": "python",
     "metadata": {},
     "outputs": [
      {
       "metadata": {},
       "output_type": "pyout",
       "prompt_number": 28,
       "text": [
        "<matplotlib.text.Text at 0x1167ccc90>"
       ]
      },
      {
       "metadata": {},
       "output_type": "display_data",
       "png": "[encoded data removed]",
       "text": [
        "<matplotlib.figure.Figure at 0x1165fe650>"
       ]
      }
     ],
     "prompt_number": 28
    },
    {
     "cell_type": "markdown",
     "metadata": {},
     "source": [
      "Looks pretty clear to me! You can still see the centers on the top right, the forwards in the middle and the guards to the bottom left.\n",
      "\n",
      "The way **nearest neighbors** works is by finding, well, the nearest neighbor of a new point. Let's say I have a new person who is 220 pounds and 76 inches tall."
     ]
    },
    {
     "cell_type": "code",
     "collapsed": false,
     "input": [
      "plt.plot(76,220, marker='*',c='r', ms=10)\n",
      "pylab.ylim([170,270])\n",
      "pylab.xlim([72,84])"
     ],
     "language": "python",
     "metadata": {},
     "outputs": [
      {
       "metadata": {},
       "output_type": "pyout",
       "prompt_number": 29,
       "text": [
        "(72, 84)"
       ]
      },
      {
       "metadata": {},
       "output_type": "display_data",
       "png": "[encoded data removed]",
       "text": [
        "<matplotlib.figure.Figure at 0x1167f5d90>"
       ]
      }
     ],
     "prompt_number": 29
    },
    {
     "cell_type": "markdown",
     "metadata": {},
     "source": [
      "Let's see how close he is to all of the other players..."
     ]
    },
    {
     "cell_type": "code",
     "collapsed": false,
     "input": [
      "for index, player in nba_training.iterrows():\n",
      "    plot([76, player[\"Ht (In.)\"]], [220,player[\"WT\"]], 'k', linestyle='dashed', linewidth=1)\n",
      "plt.scatter(nba_training[\"Ht (In.)\"], nba_training[\"WT\"])\n",
      "plt.plot(76,220, marker='*',c='r', ms=10)"
     ],
     "language": "python",
     "metadata": {},
     "outputs": [
      {
       "metadata": {},
       "output_type": "pyout",
       "prompt_number": 30,
       "text": [
        "[<matplotlib.lines.Line2D at 0x1167228d0>]"
       ]
      },
      {
       "metadata": {},
       "output_type": "display_data",
       "png": "[encoded data removed]",
       "text": [
        "<matplotlib.figure.Figure at 0x114069650>"
       ]
      }
     ],
     "prompt_number": 30
    },
    {
     "cell_type": "code",
     "collapsed": false,
     "input": [
      "# Except of course that didn't do anything. Let's actually get lengths.\n",
      "numpy.sqrt((nba_training[\"Ht (In.)\"] - 76) ** 2 + (nba_training[\"WT\"] - 220) ** 2)"
     ],
     "language": "python",
     "metadata": {},
     "outputs": [
      {
       "metadata": {},
       "output_type": "pyout",
       "prompt_number": 31,
       "text": [
        "0      2.236068\n",
        "1      3.000000\n",
        "2     25.179357\n",
        "3      7.000000\n",
        "4     10.440307\n",
        "5      3.000000\n",
        "6      3.605551\n",
        "7     21.377558\n",
        "8     16.155494\n",
        "9     25.961510\n",
        "10    20.024984\n",
        "11    40.049969\n",
        "12    37.013511\n",
        "13    13.152946\n",
        "14    37.483330\n",
        "15    35.227830\n",
        "16    30.413813\n",
        "17     1.000000\n",
        "18    10.198039\n",
        "19    35.128336\n",
        "dtype: float64"
       ]
      }
     ],
     "prompt_number": 31
    },
    {
     "cell_type": "code",
     "collapsed": false,
     "input": [
      "# Looks like he's closest to #17\n",
      "\n",
      "# Let's plot new guy\n",
      "plt.plot(76,220, marker='*',c='r', ms=10)\n",
      "# Let's plot 17\n",
      "match = nba_training.ix[17]\n",
      "plt.plot(match[\"Ht (In.)\"], match[\"WT\"], marker='*',c='r', ms=10)\n",
      "\n",
      "pylab.ylim([170,270])\n",
      "pylab.xlim([72,84])"
     ],
     "language": "python",
     "metadata": {},
     "outputs": [
      {
       "metadata": {},
       "output_type": "pyout",
       "prompt_number": 32,
       "text": [
        "(72, 84)"
       ]
      },
      {
       "metadata": {},
       "output_type": "display_data",
       "png": "[encoded data removed]",
       "text": [
        "<matplotlib.figure.Figure at 0x1167304d0>"
       ]
      }
     ],
     "prompt_number": 32
    },
    {
     "cell_type": "code",
     "collapsed": false,
     "input": [
      "# Looks pretty close! So who is #17?\n",
      "nba_training.ix[17]"
     ],
     "language": "python",
     "metadata": {},
     "outputs": [
      {
       "metadata": {},
       "output_type": "pyout",
       "prompt_number": 33,
       "text": [
        "Name                                    Harden, James\n",
        "Age                                                24\n",
        "Team                                          Rockets\n",
        "POS                                                 G\n",
        "#                                                  13\n",
        "2013 $                                    $13,701,250\n",
        "Ht (In.)                                           77\n",
        "WT                                                220\n",
        "EXP                                                 4\n",
        "1st Year                                         2009\n",
        "DOB                                         8/26/1989\n",
        "School                                  Arizona State\n",
        "City                                  Los Angeles, CA\n",
        "State (Province, Territory, Etc..)         California\n",
        "Country                                            US\n",
        "Race                                            Black\n",
        "HS Only                                            No\n",
        "Name: 17, dtype: object"
       ]
      }
     ],
     "prompt_number": 33
    },
    {
     "cell_type": "markdown",
     "metadata": {},
     "source": [
      "**He's a guard!** And according to the person across the room from me, he is very famous but doesn't play defense at all so people actually hate him. And he has a beard.\n",
      "\n",
      "But regardless, since he's the closest person (or **nearest neighbor**) to our new player, we're going to **predict that the new guy is a guard, too.**\n",
      "\n",
      "### So, in fewer words and no code\n",
      "\n",
      "The nearest neighbor algorithm just finds the **closest known point and classifies the new point to match**. It also works with a lot more than a 2-dimensional graph - it works in big huge *n*-dimensional space, it's just easier to visualize in 2D. "
     ]
    },
    {
     "cell_type": "markdown",
     "metadata": {},
     "source": [
      "## Enter scikit-learn\n",
      "\n",
      "Do you want to write a program to compute the minimum length for every single new player? No, of course not. And while we should *probably* actually make you do that, instead we'll introduce you to a brand new friend called **scikit-learn**.\n",
      "\n",
      "Scikit-learn comes with a fun little thing called **neighbors**, which - you guessed it - does nearest neighbor analysis. And it'll even work with pandas!"
     ]
    },
    {
     "cell_type": "code",
     "collapsed": false,
     "input": [
      "from sklearn.neighbors import KNeighborsClassifier\n",
      "\n",
      "# Let's initialize a classifier\n",
      "knn = KNeighborsClassifier(n_neighbors=1)\n",
      "\n",
      "# knn.fit takes two parameters\n",
      "# First, the content we want to train on. For us\n",
      "# it's height and weight.\n",
      "# Secondly, how we're classifying each element of the\n",
      "# training data. We're classifying by position!\n",
      "knn.fit(nba_training[[\"Ht (In.)\", \"WT\"]], nba_training[\"POS\"])\n",
      "\n",
      "# Now we need to make a prediction. It's pretty easy\n",
      "\n",
      "knn.predict([76, 220])"
     ],
     "language": "python",
     "metadata": {},
     "outputs": [
      {
       "metadata": {},
       "output_type": "pyout",
       "prompt_number": 34,
       "text": [
        "array(['G'], dtype=object)"
       ]
      }
     ],
     "prompt_number": 34
    },
    {
     "cell_type": "markdown",
     "metadata": {},
     "source": [
      "Ta-da! It predicted **guard**, just like we 1) guessed and 2) predicted ourselves. This is so easy it should be *illegal*. We can also find some more information about any given point..."
     ]
    },
    {
     "cell_type": "code",
     "collapsed": false,
     "input": [
      "# Let's get the first neighbor\n",
      "distance, neighbors = knn.kneighbors([76,220])\n",
      "# Why does it return an array of arrays? I honestly\n",
      "# don't know, but you can grab the first one.\n",
      "print \"Neighbor is %s \" % neighbors[0]\n",
      "print \"Distance is %s\" % distance[0]\n",
      "nba_training.ix[neighbors[0]]"
     ],
     "language": "python",
     "metadata": {},
     "outputs": [
      {
       "output_type": "stream",
       "stream": "stdout",
       "text": [
        "Neighbor is [17] \n",
        "Distance is [ 1.]\n"
       ]
      },
      {
       "html": [
        "<div style=\"max-height:1000px;max-width:1500px;overflow:auto;\">\n",
        "<table border=\"1\" class=\"dataframe\">\n",
        "  <thead>\n",
        "    <tr style=\"text-align: right;\">\n",
        "      <th></th>\n",
        "      <th>Name</th>\n",
        "      <th>Age</th>\n",
        "      <th>Team</th>\n",
        "      <th>POS</th>\n",
        "      <th>#</th>\n",
        "      <th>2013 $</th>\n",
        "      <th>Ht (In.)</th>\n",
        "      <th>WT</th>\n",
        "      <th>EXP</th>\n",
        "      <th>1st Year</th>\n",
        "      <th>DOB</th>\n",
        "      <th>School</th>\n",
        "      <th>City</th>\n",
        "      <th>State (Province, Territory, Etc..)</th>\n",
        "      <th>Country</th>\n",
        "      <th>Race</th>\n",
        "      <th>HS Only</th>\n",
        "    </tr>\n",
        "  </thead>\n",
        "  <tbody>\n",
        "    <tr>\n",
        "      <th>17</th>\n",
        "      <td> Harden, James</td>\n",
        "      <td> 24</td>\n",
        "      <td> Rockets</td>\n",
        "      <td> G</td>\n",
        "      <td> 13</td>\n",
        "      <td> $13,701,250</td>\n",
        "      <td> 77</td>\n",
        "      <td> 220</td>\n",
        "      <td> 4</td>\n",
        "      <td> 2009</td>\n",
        "      <td> 8/26/1989</td>\n",
        "      <td> Arizona State</td>\n",
        "      <td> Los Angeles, CA</td>\n",
        "      <td> California</td>\n",
        "      <td> US</td>\n",
        "      <td> Black</td>\n",
        "      <td> No</td>\n",
        "    </tr>\n",
        "  </tbody>\n",
        "</table>\n",
        "</div>"
       ],
       "metadata": {},
       "output_type": "pyout",
       "prompt_number": 35,
       "text": [
        "             Name  Age     Team POS   #       2013 $  Ht (In.)   WT  EXP  \\\n",
        "17  Harden, James   24  Rockets   G  13  $13,701,250        77  220    4   \n",
        "\n",
        "    1st Year        DOB         School             City  \\\n",
        "17      2009  8/26/1989  Arizona State  Los Angeles, CA   \n",
        "\n",
        "   State (Province, Territory, Etc..) Country   Race HS Only  \n",
        "17                         California      US  Black      No  "
       ]
      }
     ],
     "prompt_number": 35
    },
    {
     "cell_type": "code",
     "collapsed": false,
     "input": [
      "# Let's get the closest five neighbors\n",
      "distance, neighbors = knn.kneighbors([76,220], 3)\n",
      "# Even though it's returning five neighbors/distances now, you'll\n",
      "# still use [0] to grab them\n",
      "print \"Neighbors are %s \" % neighbors[0]\n",
      "print \"Distances are %s\" % distance[0]\n",
      "# You should be able to do add in a new distance column\n",
      "# with that new data, but I don't know how.\n",
      "nba_training.ix[neighbors[0]]"
     ],
     "language": "python",
     "metadata": {},
     "outputs": [
      {
       "output_type": "stream",
       "stream": "stdout",
       "text": [
        "Neighbors are [17  0  1] \n",
        "Distances are [ 1.          2.23606798  3.        ]\n"
       ]
      },
      {
       "html": [
        "<div style=\"max-height:1000px;max-width:1500px;overflow:auto;\">\n",
        "<table border=\"1\" class=\"dataframe\">\n",
        "  <thead>\n",
        "    <tr style=\"text-align: right;\">\n",
        "      <th></th>\n",
        "      <th>Name</th>\n",
        "      <th>Age</th>\n",
        "      <th>Team</th>\n",
        "      <th>POS</th>\n",
        "      <th>#</th>\n",
        "      <th>2013 $</th>\n",
        "      <th>Ht (In.)</th>\n",
        "      <th>WT</th>\n",
        "      <th>EXP</th>\n",
        "      <th>1st Year</th>\n",
        "      <th>DOB</th>\n",
        "      <th>School</th>\n",
        "      <th>City</th>\n",
        "      <th>State (Province, Territory, Etc..)</th>\n",
        "      <th>Country</th>\n",
        "      <th>Race</th>\n",
        "      <th>HS Only</th>\n",
        "    </tr>\n",
        "  </thead>\n",
        "  <tbody>\n",
        "    <tr>\n",
        "      <th>17</th>\n",
        "      <td>   Harden, James</td>\n",
        "      <td> 24</td>\n",
        "      <td>   Rockets</td>\n",
        "      <td> G</td>\n",
        "      <td> 13</td>\n",
        "      <td> $13,701,250</td>\n",
        "      <td> 77</td>\n",
        "      <td> 220</td>\n",
        "      <td>  4</td>\n",
        "      <td> 2009</td>\n",
        "      <td> 8/26/1989</td>\n",
        "      <td> Arizona State</td>\n",
        "      <td>   Los Angeles, CA</td>\n",
        "      <td> California</td>\n",
        "      <td> US</td>\n",
        "      <td> Black</td>\n",
        "      <td> No</td>\n",
        "    </tr>\n",
        "    <tr>\n",
        "      <th>0 </th>\n",
        "      <td>     Gee, Alonzo</td>\n",
        "      <td> 26</td>\n",
        "      <td> Cavaliers</td>\n",
        "      <td> F</td>\n",
        "      <td> 33</td>\n",
        "      <td>  $3,250,000</td>\n",
        "      <td> 78</td>\n",
        "      <td> 219</td>\n",
        "      <td>  4</td>\n",
        "      <td> 2009</td>\n",
        "      <td> 5/29/1987</td>\n",
        "      <td>       Alabama</td>\n",
        "      <td> Riviera Beach, FL</td>\n",
        "      <td>    Florida</td>\n",
        "      <td> US</td>\n",
        "      <td> Black</td>\n",
        "      <td> No</td>\n",
        "    </tr>\n",
        "    <tr>\n",
        "      <th>1 </th>\n",
        "      <td> Wallace, Gerald</td>\n",
        "      <td> 31</td>\n",
        "      <td>   Celtics</td>\n",
        "      <td> F</td>\n",
        "      <td> 45</td>\n",
        "      <td> $10,105,855</td>\n",
        "      <td> 79</td>\n",
        "      <td> 220</td>\n",
        "      <td> 12</td>\n",
        "      <td> 2001</td>\n",
        "      <td> 7/23/1982</td>\n",
        "      <td>       Alabama</td>\n",
        "      <td>     Sylacauga, AL</td>\n",
        "      <td>    Alabama</td>\n",
        "      <td> US</td>\n",
        "      <td> Black</td>\n",
        "      <td> No</td>\n",
        "    </tr>\n",
        "  </tbody>\n",
        "</table>\n",
        "</div>"
       ],
       "metadata": {},
       "output_type": "pyout",
       "prompt_number": 36,
       "text": [
        "               Name  Age       Team POS   #       2013 $  Ht (In.)   WT  EXP  \\\n",
        "17    Harden, James   24    Rockets   G  13  $13,701,250        77  220    4   \n",
        "0       Gee, Alonzo   26  Cavaliers   F  33   $3,250,000        78  219    4   \n",
        "1   Wallace, Gerald   31    Celtics   F  45  $10,105,855        79  220   12   \n",
        "\n",
        "    1st Year        DOB         School               City  \\\n",
        "17      2009  8/26/1989  Arizona State    Los Angeles, CA   \n",
        "0       2009  5/29/1987        Alabama  Riviera Beach, FL   \n",
        "1       2001  7/23/1982        Alabama      Sylacauga, AL   \n",
        "\n",
        "   State (Province, Territory, Etc..) Country   Race HS Only  \n",
        "17                         California      US  Black      No  \n",
        "0                             Florida      US  Black      No  \n",
        "1                             Alabama      US  Black      No  "
       ]
      }
     ],
     "prompt_number": 36
    },
    {
     "cell_type": "markdown",
     "metadata": {},
     "source": [
      "### Putting the k- in k-Nearest Neighbors\n",
      "\n",
      "Hrm, looks like there are a few forwards nearby, too. Maybe instead of just looking at **one** neighbor, we should look at more? We're in luck!"
     ]
    },
    {
     "cell_type": "code",
     "collapsed": false,
     "input": [
      "knn = KNeighborsClassifier(n_neighbors=3)\n",
      "\n",
      "# knn.fit takes two parameters\n",
      "# First, the content we want to train on. For us\n",
      "# it's height and weight.\n",
      "# Secondly, how we're classifying each element of the\n",
      "# training data. We're classifying by position!\n",
      "knn.fit(nba_training[[\"Ht (In.)\", \"WT\"]], nba_training[\"POS\"])\n",
      "knn.predict([76,220])"
     ],
     "language": "python",
     "metadata": {},
     "outputs": [
      {
       "metadata": {},
       "output_type": "pyout",
       "prompt_number": 37,
       "text": [
        "array(['F'], dtype=object)"
       ]
      }
     ],
     "prompt_number": 37
    },
    {
     "cell_type": "code",
     "collapsed": false,
     "input": [
      "knn = KNeighborsClassifier(n_neighbors=5)\n",
      "\n",
      "# knn.fit takes two parameters\n",
      "# First, the content we want to train on. For us\n",
      "# it's height and weight.\n",
      "# Secondly, how we're classifying each element of the\n",
      "# training data. We're classifying by position!\n",
      "knn.fit(nba_training[[\"Ht (In.)\", \"WT\"]], nba_training[\"POS\"])\n",
      "knn.predict([76,220])"
     ],
     "language": "python",
     "metadata": {},
     "outputs": [
      {
       "metadata": {},
       "output_type": "pyout",
       "prompt_number": 38,
       "text": [
        "array(['F'], dtype=object)"
       ]
      }
     ],
     "prompt_number": 38
    },
    {
     "cell_type": "code",
     "collapsed": false,
     "input": [
      "knn = KNeighborsClassifier(n_neighbors=20)\n",
      "\n",
      "# knn.fit takes two parameters\n",
      "# First, the content we want to train on. For us\n",
      "# it's height and weight.\n",
      "# Secondly, how we're classifying each element of the\n",
      "# training data. We're classifying by position!\n",
      "knn.fit(nba_training[[\"Ht (In.)\", \"WT\"]], nba_training[\"POS\"])\n",
      "knn.predict([76,220])"
     ],
     "language": "python",
     "metadata": {},
     "outputs": [
      {
       "metadata": {},
       "output_type": "pyout",
       "prompt_number": 39,
       "text": [
        "array(['F'], dtype=object)"
       ]
      }
     ],
     "prompt_number": 39
    },
    {
     "cell_type": "markdown",
     "metadata": {},
     "source": [
      "Even though `k = 1` says he's a guard, `k = 3` says he'll be a forward. We then upped it to `k = 20`, which agrees that he'll be a forward, although *there are only twenty data points in our training set*, so that probably just means there are more forwards than anything else."
     ]
    },
    {
     "cell_type": "code",
     "collapsed": false,
     "input": [
      "knn = sk.neighbors.KNeighborsClassifier(n_neighbors=20)\n",
      "knn.fit(nba_training[[\"Ht (In.)\", \"WT\"]], nba_training[\"POS\"])\n",
      "knn.predict([90,420])"
     ],
     "language": "python",
     "metadata": {},
     "outputs": [
      {
       "metadata": {},
       "output_type": "pyout",
       "prompt_number": 40,
       "text": [
        "array(['F'], dtype=object)"
       ]
      }
     ],
     "prompt_number": 40
    },
    {
     "cell_type": "markdown",
     "metadata": {},
     "source": [
      "Yeah, someone who is 7'6\" and 420 lbs is probably going to be a center, not a forward. Looks wrong to me.\n",
      "\n",
      "**Note to self:** Pick your `n_neighbors` values carefully."
     ]
    },
    {
     "cell_type": "markdown",
     "metadata": {},
     "source": [
      "# Normalizing your data\n",
      "\n",
      "We've actually had a big problem following us around for a while, but since you aren't an expert Problem Tracker you might not have noticed. It deals with how we're **computing distance**.\n",
      "\n",
      "Let's say we have Cool Mister Gerald, who is **200lbs and 7'6\"**. Is he more similar to **7'3\", 220lb** Bubbles McSlamdunk or **6'0\", 200lb** Speedy Runsalot? (that's 90 inches, 87 inches and 72 inches, respectively)"
     ]
    },
    {
     "cell_type": "code",
     "collapsed": false,
     "input": [
      "bubbles_distance = numpy.sqrt((90 - 87) ** 2 + (200-220) ** 2)\n",
      "speedy_distance = numpy.sqrt((90 - 72) ** 2 + (200-200) ** 2)\n",
      "\n",
      "print \"%s units from Bubbles\" % bubbles_distance\n",
      "print \"%s units from Speedy\" % speedy_distance"
     ],
     "language": "python",
     "metadata": {},
     "outputs": [
      {
       "output_type": "stream",
       "stream": "stdout",
       "text": [
        "20.2237484162 units from Bubbles\n",
        "18.0 units from Speedy\n"
       ]
      }
     ],
     "prompt_number": 41
    },
    {
     "cell_type": "markdown",
     "metadata": {},
     "source": [
      "So it looks like he should be assigned to the same group as Speedy. **But does that make *any* sense?** It seems like Cool Mister Gerald and Bubbles McSlamdunkwould have a lot more in common since they're both **really tall**, since even though Speedy is the same weight as Cool Mister he's also **really short** (for the NBA!).\n",
      "\n",
      "That, my friends, is our Big Problem."
     ]
    },
    {
     "cell_type": "markdown",
     "metadata": {},
     "source": [
      "## Going Unitless\n",
      "\n",
      "Right now, both height and weight are on equal footing. An inch of height difference puts you as far away from someone as a pound of weight difference, even though being a foot taller than someone means a **lot** more than being 12 pounds lighter.\n",
      "\n",
      "**We need fix this up if anyone is going to take us seriously.**\n",
      "\n",
      "The way we're going to do this is by figuring out **how far from average everyone is in standard deviations**. If you're way above-average tall, you'll have a good chance of being grouped with someone else who is way above-average tall, even if you aren't necessarily similar in other ways.\n",
      "\n",
      "Let's take a look."
     ]
    },
    {
     "cell_type": "code",
     "collapsed": false,
     "input": [
      "# First, let's subtract the mean from everyone's height\n",
      "height_distance_from_mean = nba_df[\"Ht (In.)\"] - nba_df[\"Ht (In.)\"].mean()\n",
      "# ...and look at the first 5\n",
      "height_distance_from_mean[:5]"
     ],
     "language": "python",
     "metadata": {},
     "outputs": [
      {
       "metadata": {},
       "output_type": "pyout",
       "prompt_number": 66,
       "text": [
        "0   -1.119318\n",
        "1   -0.119318\n",
        "2   -6.119318\n",
        "3    3.880682\n",
        "4   -0.119318\n",
        "Name: Ht (In.), dtype: float64"
       ]
      }
     ],
     "prompt_number": 66
    },
    {
     "cell_type": "markdown",
     "metadata": {},
     "source": [
      "By subtracting the mean, if you're above zero, you're above average. Below zero, below average. Now we need to divide this value by the standard deviation to see how meaningful each unit of distance actually is.\n",
      "\n",
      "**MAKE SURE YOU ARE DOING THIS IN YOUR ORIGINAL `nba_df` DATA. WHEN WE'RE PLAYING AROUND WITH THINGS LATER, WE'LL ADD MORE ELEMENTS INTO OUR TEST DATA AND WE DON'T WANT TO HAVE TO RECALCULATE!**"
     ]
    },
    {
     "cell_type": "code",
     "collapsed": false,
     "input": [
      "adjusted_heights = height_distance_from_mean / nba_df[\"Ht (In.)\"].std()\n",
      "adjusted_heights[:5]"
     ],
     "language": "python",
     "metadata": {},
     "outputs": [
      {
       "metadata": {},
       "output_type": "pyout",
       "prompt_number": 67,
       "text": [
        "0   -0.326190\n",
        "1   -0.034772\n",
        "2   -1.783284\n",
        "3    1.130904\n",
        "4   -0.034772\n",
        "Name: Ht (In.), dtype: float64"
       ]
      }
     ],
     "prompt_number": 67
    },
    {
     "cell_type": "markdown",
     "metadata": {},
     "source": [
      "So player 2 is way below average in height, player 3 is above average, and the rest are middling-ish. Let's add this information into the dataframe!"
     ]
    },
    {
     "cell_type": "code",
     "collapsed": false,
     "input": [
      "adjusted_weights = (nba_df[\"WT\"] - nba_df[\"WT\"].mean()) / nba_df[\"WT\"].std()\n",
      "\n",
      "# Need to put it into the original dataframe! \n",
      "nba_df[\"Adj Weight\"] = adjusted_weights\n",
      "nba_df[\"Adj Height\"] = adjusted_heights"
     ],
     "language": "python",
     "metadata": {},
     "outputs": [],
     "prompt_number": 84
    },
    {
     "cell_type": "code",
     "collapsed": false,
     "input": [
      "# Let's take a look at our new adjusted columns\n",
      "nba_df[[\"Name\", \"WT\", \"Adj Weight\", \"Ht (In.)\", \"Adj Height\"]][:10]"
     ],
     "language": "python",
     "metadata": {},
     "outputs": [
      {
       "html": [
        "<div style=\"max-height:1000px;max-width:1500px;overflow:auto;\">\n",
        "<table border=\"1\" class=\"dataframe\">\n",
        "  <thead>\n",
        "    <tr style=\"text-align: right;\">\n",
        "      <th></th>\n",
        "      <th>Name</th>\n",
        "      <th>WT</th>\n",
        "      <th>Adj Weight</th>\n",
        "      <th>Ht (In.)</th>\n",
        "      <th>Adj Height</th>\n",
        "    </tr>\n",
        "  </thead>\n",
        "  <tbody>\n",
        "    <tr>\n",
        "      <th>0</th>\n",
        "      <td>        Gee, Alonzo</td>\n",
        "      <td> 219</td>\n",
        "      <td>-0.078962</td>\n",
        "      <td> 78</td>\n",
        "      <td>-0.326190</td>\n",
        "    </tr>\n",
        "    <tr>\n",
        "      <th>1</th>\n",
        "      <td>    Wallace, Gerald</td>\n",
        "      <td> 220</td>\n",
        "      <td>-0.043175</td>\n",
        "      <td> 79</td>\n",
        "      <td>-0.034772</td>\n",
        "    </tr>\n",
        "    <tr>\n",
        "      <th>2</th>\n",
        "      <td>       Williams, Mo</td>\n",
        "      <td> 195</td>\n",
        "      <td>-0.937848</td>\n",
        "      <td> 73</td>\n",
        "      <td>-1.783284</td>\n",
        "    </tr>\n",
        "    <tr>\n",
        "      <th>3</th>\n",
        "      <td>  Gladness, Mickell</td>\n",
        "      <td> 220</td>\n",
        "      <td>-0.043175</td>\n",
        "      <td> 83</td>\n",
        "      <td> 1.130904</td>\n",
        "    </tr>\n",
        "    <tr>\n",
        "      <th>4</th>\n",
        "      <td> Jefferson, Richard</td>\n",
        "      <td> 230</td>\n",
        "      <td> 0.314694</td>\n",
        "      <td> 79</td>\n",
        "      <td>-0.034772</td>\n",
        "    </tr>\n",
        "    <tr>\n",
        "      <th>5</th>\n",
        "      <td>      Hill, Solomon</td>\n",
        "      <td> 220</td>\n",
        "      <td>-0.043175</td>\n",
        "      <td> 79</td>\n",
        "      <td>-0.034772</td>\n",
        "    </tr>\n",
        "    <tr>\n",
        "      <th>6</th>\n",
        "      <td>    Budinger, Chase</td>\n",
        "      <td> 218</td>\n",
        "      <td>-0.114749</td>\n",
        "      <td> 79</td>\n",
        "      <td>-0.034772</td>\n",
        "    </tr>\n",
        "    <tr>\n",
        "      <th>7</th>\n",
        "      <td>  Williams, Derrick</td>\n",
        "      <td> 241</td>\n",
        "      <td> 0.708351</td>\n",
        "      <td> 80</td>\n",
        "      <td> 0.256647</td>\n",
        "    </tr>\n",
        "    <tr>\n",
        "      <th>8</th>\n",
        "      <td>       Hill, Jordan</td>\n",
        "      <td> 235</td>\n",
        "      <td> 0.493629</td>\n",
        "      <td> 82</td>\n",
        "      <td> 0.839485</td>\n",
        "    </tr>\n",
        "    <tr>\n",
        "      <th>9</th>\n",
        "      <td>     Frye, Channing</td>\n",
        "      <td> 245</td>\n",
        "      <td> 0.851498</td>\n",
        "      <td> 83</td>\n",
        "      <td> 1.130904</td>\n",
        "    </tr>\n",
        "  </tbody>\n",
        "</table>\n",
        "</div>"
       ],
       "metadata": {},
       "output_type": "pyout",
       "prompt_number": 85,
       "text": [
        "                 Name   WT  Adj Weight  Ht (In.)  Adj Height\n",
        "0         Gee, Alonzo  219   -0.078962        78   -0.326190\n",
        "1     Wallace, Gerald  220   -0.043175        79   -0.034772\n",
        "2        Williams, Mo  195   -0.937848        73   -1.783284\n",
        "3   Gladness, Mickell  220   -0.043175        83    1.130904\n",
        "4  Jefferson, Richard  230    0.314694        79   -0.034772\n",
        "5       Hill, Solomon  220   -0.043175        79   -0.034772\n",
        "6     Budinger, Chase  218   -0.114749        79   -0.034772\n",
        "7   Williams, Derrick  241    0.708351        80    0.256647\n",
        "8        Hill, Jordan  235    0.493629        82    0.839485\n",
        "9      Frye, Channing  245    0.851498        83    1.130904"
       ]
      }
     ],
     "prompt_number": 85
    },
    {
     "cell_type": "code",
     "collapsed": false,
     "input": [
      "# Let's take 20 and get a new set of training data, then map it\n",
      "adjusted_training = nba_df[:20]\n",
      "\n",
      "for position, marker, color in zip(['C','G','F'], \">xo\", \"cmy\"):\n",
      "    # Get the players that play that given position\n",
      "    players = adjusted_training[adjusted_training[\"POS\"] == position]\n",
      "    # Add their points to the scatterplot\n",
      "    plt.scatter(players[\"Adj Height\"], players[\"Adj Weight\"], c=color, marker=marker, alpha=0.5)\n",
      "plt.xlabel(\"Weight\")\n",
      "plt.ylabel(\"Height\")\n",
      "# Nearly everything is within 3 standard deviations, right? Let's look.\n",
      "pylab.ylim([-3,3])\n",
      "pylab.xlim([-3,3])"
     ],
     "language": "python",
     "metadata": {},
     "outputs": [
      {
       "metadata": {},
       "output_type": "pyout",
       "prompt_number": 251,
       "text": [
        "(-3, 3)"
       ]
      },
      {
       "metadata": {},
       "output_type": "display_data",
       "png": "[encoded data removed]",
       "text": [
        "<matplotlib.figure.Figure at 0x116c86f90>"
       ]
      }
     ],
     "prompt_number": 251
    },
    {
     "cell_type": "code",
     "collapsed": false,
     "input": [
      "# Let's normalize our friend by subtracting the mean and dividing by the \n",
      "# standard deviation\n",
      "adj_height = (76 - nba_df[\"Ht (In.)\"].mean()) / nba_df[\"Ht (In.)\"].std() \n",
      "adj_weight = (220 - nba_df[\"WT\"].mean()) / nba_df[\"WT\"].std()"
     ],
     "language": "python",
     "metadata": {},
     "outputs": [],
     "prompt_number": 228
    },
    {
     "cell_type": "code",
     "collapsed": false,
     "input": [
      "# And try some predicting\n",
      "knn = KNeighborsClassifier(n_neighbors=1)\n",
      "knn.fit(adjusted_training[[\"Adj Height\", \"Adj Weight\"]], adjusted_training[\"POS\"])\n",
      "print knn.predict([adj_height, adj_weight])"
     ],
     "language": "python",
     "metadata": {},
     "outputs": [
      {
       "output_type": "stream",
       "stream": "stdout",
       "text": [
        "['G']\n"
       ]
      }
     ],
     "prompt_number": 229
    },
    {
     "cell_type": "code",
     "collapsed": false,
     "input": [
      "# With more neighbors...\n",
      "knn = KNeighborsClassifier(n_neighbors=3)\n",
      "knn.fit(adjusted_training[[\"Adj Height\", \"Adj Weight\"]], adjusted_training[\"POS\"])\n",
      "print knn.predict([adj_height, adj_weight])"
     ],
     "language": "python",
     "metadata": {},
     "outputs": [
      {
       "output_type": "stream",
       "stream": "stdout",
       "text": [
        "['F']\n"
       ]
      }
     ],
     "prompt_number": 230
    },
    {
     "cell_type": "code",
     "collapsed": false,
     "input": [
      "# And more neighbors...\n",
      "knn = KNeighborsClassifier(n_neighbors=5)\n",
      "knn.fit(adjusted_training[[\"Adj Height\", \"Adj Weight\"]], adjusted_training[\"POS\"])\n",
      "print knn.predict([adj_height, adj_weight])"
     ],
     "language": "python",
     "metadata": {},
     "outputs": [
      {
       "output_type": "stream",
       "stream": "stdout",
       "text": [
        "['G']\n"
       ]
      }
     ],
     "prompt_number": 231
    },
    {
     "cell_type": "markdown",
     "metadata": {},
     "source": [
      "Last time **5 neighbors** said he was a forward, so it's definitely changing things up!"
     ]
    },
    {
     "cell_type": "markdown",
     "metadata": {},
     "source": [
      "# Testing your results\n",
      "\n",
      "Now that we've got a predictor, how do we know if it's any good? We need some **testing data!**\n",
      "\n",
      "Testing data isn't **made-up people** whose positions we can guess about, it's data that we *already know the answers to*, so we can see if our results are right.\n",
      "\n",
      "This is why we were only using 20 members of the NBA as our **training data**. Now we can predict what the other members of the NBA should be, and compare our predictions to *what we know they actually are*."
     ]
    },
    {
     "cell_type": "code",
     "collapsed": false,
     "input": [
      "# Based on a single nearest neighbor\n",
      "knn = KNeighborsClassifier(n_neighbors=1)\n",
      "knn.fit(adjusted_training[[\"Adj Height\", \"Adj Weight\"]], adjusted_training[\"POS\"])\n",
      "\n",
      "# Take the training data out of our test data (we're using the first 20 to train)\n",
      "test_data = nba_df[20:]\n",
      "\n",
      "# Now predict for every single one of 'em\n",
      "predictions = knn.predict(test_data[[\"Adj Height\", \"Adj Weight\"]])\n",
      "\n",
      "# View a few of the predictions\n",
      "predictions[:10]"
     ],
     "language": "python",
     "metadata": {},
     "outputs": [
      {
       "metadata": {},
       "output_type": "pyout",
       "prompt_number": 232,
       "text": [
        "array(['G', 'F', 'F', 'G', 'F', 'F', 'F/C', 'F/C', 'G', 'F/C'], dtype=object)"
       ]
      }
     ],
     "prompt_number": 232
    },
    {
     "cell_type": "code",
     "collapsed": false,
     "input": [
      "# Now let's see what predictions match the actual positions\n",
      "prediction_results = test_data[\"POS\"] == predictions\n",
      "# The first 10 will obviously match because I wasn't able\n",
      "# to get it out\n",
      "prediction_results[:10]"
     ],
     "language": "python",
     "metadata": {},
     "outputs": [
      {
       "metadata": {},
       "output_type": "pyout",
       "prompt_number": 234,
       "text": [
        "20     True\n",
        "21    False\n",
        "22    False\n",
        "23     True\n",
        "24     True\n",
        "25     True\n",
        "26    False\n",
        "27     True\n",
        "28     True\n",
        "29     True\n",
        "Name: POS, dtype: bool"
       ]
      }
     ],
     "prompt_number": 234
    },
    {
     "cell_type": "code",
     "collapsed": false,
     "input": [
      "# Let's look at the raw count of matches and non-matches\n",
      "print \"Number of matches is\"\n",
      "print len(prediction_results[prediction_results == True])\n",
      "print \"Number of wrong results is\"\n",
      "print len(prediction_results[prediction_results == False])"
     ],
     "language": "python",
     "metadata": {},
     "outputs": [
      {
       "output_type": "stream",
       "stream": "stdout",
       "text": [
        "Number of matches is\n",
        "278\n",
        "Number of wrong results is\n",
        "230\n"
       ]
      }
     ],
     "prompt_number": 235
    },
    {
     "cell_type": "markdown",
     "metadata": {},
     "source": [
      "### Measuring accuracy with numbers\n",
      "\n",
      "This gets its own header because I was really excited when I learned about it. Right now we can say, okay, there were **278** matches and **230 non-matches**.\n",
      "\n",
      "That's roughly a 50% hit rate, so not terribly good. But what exactly is the hit rate? Well, we could divide **278 / 230**, but typing all of that out is going to make our fingers cramp.\n",
      "\n",
      "#### HOTTEST TIP YOU'LL EVER GET\n",
      "\n",
      "`False` is `0`. `True` is `1`. That means you can *just take the mean of `prediction_results`*"
     ]
    },
    {
     "cell_type": "code",
     "collapsed": false,
     "input": [
      "prediction_results.mean()"
     ],
     "language": "python",
     "metadata": {},
     "outputs": [
      {
       "metadata": {},
       "output_type": "pyout",
       "prompt_number": 236,
       "text": [
        "0.547244094488189"
       ]
      }
     ],
     "prompt_number": 236
    },
    {
     "cell_type": "markdown",
     "metadata": {},
     "source": [
      "### Increasing your k\n",
      "\n",
      "A 54% hit rate isn't so great. The higher, the better, so what can we do to improve? Let's start off by trying more neighbors."
     ]
    },
    {
     "cell_type": "code",
     "collapsed": false,
     "input": [
      "for k in [1, 2, 3, 5, 10, 20]:\n",
      "    knn = KNeighborsClassifier(n_neighbors=k)\n",
      "    knn.fit(adjusted_training[[\"Adj Height\", \"Adj Weight\"]], adjusted_training[\"POS\"])\n",
      "\n",
      "    # Please figure out how to remove the training data from the test data.\n",
      "    test_data = nba_df\n",
      "    predictions = knn.predict(test_data[[\"Adj Height\", \"Adj Weight\"]])\n",
      "    prediction_results = nba_df[\"POS\"] == predictions\n",
      "    print \"With a k of %s we had a score of %s\" % (k, prediction_results.mean())"
     ],
     "language": "python",
     "metadata": {},
     "outputs": [
      {
       "output_type": "stream",
       "stream": "stdout",
       "text": [
        "With a k of 1 we had a score of 0.564393939394\n",
        "With a k of 2 we had a score of 0.613636363636\n",
        "With a k of 3 we had a score of 0.543560606061\n",
        "With a k of 5 we had a score of 0.560606060606\n",
        "With a k of 10 we had a score of 0.492424242424\n",
        "With a k of 20 we had a score of 0.268939393939\n"
       ]
      }
     ],
     "prompt_number": 237
    },
    {
     "cell_type": "markdown",
     "metadata": {},
     "source": [
      "**The score actually starts to drop pretty quickly.** Since we have a really small set of training data (only twenty players), as we add more neighbors we're reaching **further and further away**."
     ]
    },
    {
     "cell_type": "markdown",
     "metadata": {},
     "source": [
      "### Increasing your training data set\n",
      "\n",
      "With a max of 61%, it's still a pretty rough score. We can increase the amount of training data we have, though, instead of just increasing the number of neighbors. Let's compare twenty to fifty, one hundred and two hundred fifty"
     ]
    },
    {
     "cell_type": "code",
     "collapsed": false,
     "input": [
      "for training_data_size in [20, 50, 100, 250, 450]:\n",
      "    test_data_size = len(nba_df) - training_data_size\n",
      "    print \"== Training data size: %s, Test data size: %s\" % (training_data_size, test_data_size)\n",
      "    larger_training_data = nba_df[:training_data_size]\n",
      "    for k in [1, 2, 3, 5, 10, 20]:\n",
      "        knn = KNeighborsClassifier(n_neighbors=k)\n",
      "        knn.fit(larger_training_data[[\"Adj Height\", \"Adj Weight\"]], larger_training_data[\"POS\"])\n",
      "\n",
      "        test_data = nba_df[training_data_size:]\n",
      "        predictions = knn.predict(test_data[[\"Adj Height\", \"Adj Weight\"]])\n",
      "        prediction_results = test_data[\"POS\"] == predictions\n",
      "        print \"With a k of %s we had a score of %s\" % (k, prediction_results.mean())"
     ],
     "language": "python",
     "metadata": {},
     "outputs": [
      {
       "output_type": "stream",
       "stream": "stdout",
       "text": [
        "== Training data size: 20, Test data size: 508\n",
        "With a k of 1 we had a score of 0.547244094488\n",
        "With a k of 2 we had a score of 0.600393700787\n",
        "With a k of 3 we had a score of 0.531496062992\n",
        "With a k of 5 we had a score of 0.555118110236\n",
        "With a k of 10 we had a score of 0.490157480315\n",
        "With a k of 20 we had a score of 0.267716535433\n",
        "== Training data size: 50, Test data size: 478\n",
        "With a k of 1 we had a score of 0.627615062762\n",
        "With a k of 2 we had a score of 0.627615062762\n",
        "With a k of 3 we had a score of 0.60460251046\n",
        "With a k of 5 we had a score of 0.673640167364\n",
        "With a k of 10 we had a score of 0.654811715481"
       ]
      },
      {
       "output_type": "stream",
       "stream": "stdout",
       "text": [
        "\n",
        "With a k of 20 we had a score of 0.558577405858\n",
        "== Training data size: 100, Test data size: 428\n",
        "With a k of 1 we had a score of 0.635514018692\n",
        "With a k of 2 we had a score of 0.668224299065\n",
        "With a k of 3 we had a score of 0.644859813084\n",
        "With a k of 5 we had a score of 0.63785046729\n",
        "With a k of 10 we had a score of 0.651869158879\n",
        "With a k of 20 we had a score of 0.607476635514\n",
        "== Training data size: 250, Test data size: 278\n",
        "With a k of 1 we had a score of 0.654676258993\n",
        "With a k of 2 we had a score of 0.687050359712\n",
        "With a k of 3 we had a score of 0.687050359712\n",
        "With a k of 5 we had a score of 0.679856115108\n",
        "With a k of 10 we had a score of 0.694244604317"
       ]
      },
      {
       "output_type": "stream",
       "stream": "stdout",
       "text": [
        "\n",
        "With a k of 20 we had a score of 0.697841726619\n",
        "== Training data size: 450, Test data size: 78\n",
        "With a k of 1 we had a score of 0.730769230769\n",
        "With a k of 2 we had a score of 0.74358974359\n",
        "With a k of 3 we had a score of 0.769230769231\n",
        "With a k of 5 we had a score of 0.782051282051\n",
        "With a k of 10 we had a score of 0.807692307692\n",
        "With a k of 20 we had a score of 0.807692307692\n"
       ]
      }
     ],
     "prompt_number": 242
    },
    {
     "cell_type": "markdown",
     "metadata": {},
     "source": [
      "The more training the better, it seems! And once we get a ton of data, having a large value for `k` doesn't seem to be as bad any more."
     ]
    },
    {
     "cell_type": "markdown",
     "metadata": {},
     "source": [
      "## Cross-valiation\n",
      "\n",
      "The concept of hiding some of your training data to use as test data is called **cross validation**. The problem we're seeing, though, is that **while more training data is better for your model, you're going to need something to test it against**.\n",
      "\n",
      "#### K-Folds Cross Validation\n",
      "\n",
      "One way to use your data for training *and* testing is called **k-folds cross-validation.**\n",
      "\n",
      "Let's say we have 500 pieces of data, and we want to test using 5 folds. First, you break your data up into **five equal sets**. Then you run your model (nearest neighbors, in this case) five times, each time leaving out one of your sets to later test with\n",
      "\n",
      "    Run 1: Test with 1, Train with 2, 3, 4, 5\n",
      "    Run 2: Test with 2, Train with 1, 3, 4, 5\n",
      "    Run 3: Test with 3, Train with 1, 2, 4, 5\n",
      "    Run 4: Test with 4, Train with 1, 2, 3, 5\n",
      "    Run 5: Test with 5, Train with 1, 2, 3, 4\n",
      "\n",
      "When you're done, average the results and you've got yourself a pretty good idea of how good your model is at predicting!\n",
      "\n",
      "http://scikit-learn.org/0.11/modules/neighbors.html"
     ]
    },
    {
     "cell_type": "code",
     "collapsed": false,
     "input": [],
     "language": "python",
     "metadata": {},
     "outputs": []
    }
   ],
   "metadata": {}
  }
 ]
}