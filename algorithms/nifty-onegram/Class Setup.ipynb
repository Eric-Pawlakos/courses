{
 "metadata": {
  "name": "",
  "signature": "sha256:29551afc69d36458628dbfebe5b00e181f592dd416d6b880909ad9058ffd213c"
 },
 "nbformat": 3,
 "nbformat_minor": 0,
 "worksheets": [
  {
   "cells": [
    {
     "cell_type": "markdown",
     "metadata": {},
     "source": [
      "Download the text stuff"
     ]
    },
    {
     "cell_type": "code",
     "collapsed": false,
     "input": [
      "!curl -O http://www.columbia.edu/itc/applied/wiggins/all_words.tsv.gz\n",
      "!curl -O https://raw.githubusercontent.com/ledeprogram/courses/master/algorithms/nifty-onegram/total_counts.csv"
     ],
     "language": "python",
     "metadata": {},
     "outputs": []
    },
    {
     "cell_type": "markdown",
     "metadata": {},
     "source": [
      "Then uncompress the first one"
     ]
    },
    {
     "cell_type": "code",
     "collapsed": false,
     "input": [
      "!gunzip all_words.tsv.gz"
     ],
     "language": "python",
     "metadata": {},
     "outputs": []
    },
    {
     "cell_type": "markdown",
     "metadata": {},
     "source": [
      "Look at the first 10"
     ]
    },
    {
     "cell_type": "code",
     "collapsed": false,
     "input": [
      "!head -n 10 all_words.tsv"
     ],
     "language": "python",
     "metadata": {},
     "outputs": []
    },
    {
     "cell_type": "markdown",
     "metadata": {},
     "source": [
      "We're going to need a couple extra bits of code that we'll import - **the onegram plotter and reader** - but not install with pip install. Instead we're just going to download them using curl. "
     ]
    },
    {
     "cell_type": "code",
     "collapsed": false,
     "input": [
      "!curl -O https://raw.githubusercontent.com/ledeprogram/courses/master/algorithms/nifty-onegram/one_gram_plotter.py\n",
      "!curl -O https://raw.githubusercontent.com/ledeprogram/courses/master/algorithms/nifty-onegram/one_gram_reader.py"
     ],
     "language": "python",
     "metadata": {},
     "outputs": []
    },
    {
     "cell_type": "code",
     "collapsed": false,
     "input": [
      "# Make sure this doesn't throw an error\n",
      "import one_gram_reader\n",
      "# And then you're ready to go"
     ],
     "language": "python",
     "metadata": {},
     "outputs": []
    },
    {
     "cell_type": "code",
     "collapsed": false,
     "input": [
      "# Download some data files and unzip them\n",
      "!curl -O http://joshh.ug/SRPC/assignments/datafiles3.zip\n",
      "!unzip datafiles3.zip"
     ],
     "language": "python",
     "metadata": {},
     "outputs": []
    }
   ],
   "metadata": {}
  }
 ]
}