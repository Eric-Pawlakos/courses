{
 "metadata": {
  "name": "",
  "signature": "sha256:23879b4567eacba054330dfac6bc8a5c9cf83481309d7a33efac07b4e12a9ac2"
 },
 "nbformat": 3,
 "nbformat_minor": 0,
 "worksheets": [
  {
   "cells": [
    {
     "cell_type": "code",
     "collapsed": false,
     "input": [
      "import pandas as pd"
     ],
     "language": "python",
     "metadata": {},
     "outputs": []
    },
    {
     "cell_type": "markdown",
     "metadata": {},
     "source": [
      "# The Bible"
     ]
    },
    {
     "cell_type": "code",
     "collapsed": false,
     "input": [
      "# https://raw.githubusercontent.com/ledeprogram/courses/master/algorithms/data/AV1611text.zip\n",
      "!curl -O https://raw.githubusercontent.com/ledeprogram/courses/master/algorithms/data/AV1611text.zip\n",
      "!unzip AV1611text.zip"
     ],
     "language": "python",
     "metadata": {},
     "outputs": []
    },
    {
     "cell_type": "markdown",
     "metadata": {},
     "source": [
      "# Congressional Record"
     ]
    },
    {
     "cell_type": "code",
     "collapsed": false,
     "input": [
      "# You should already have the data, so you can skip pulling/unzipping it\n",
      "# Data is from http://www.cs.cornell.edu/home/llee/data/convote.html\n",
      "#!curl -O http://www.cs.cornell.edu/home/llee/data/convote/convote_v1.1.tar.gz\n",
      "#!tar -zxvf convote_v1.1.tar.gz"
     ],
     "language": "python",
     "metadata": {},
     "outputs": []
    },
    {
     "cell_type": "code",
     "collapsed": false,
     "input": [
      "import re\n",
      "import glob\n",
      "\n",
      "paths = glob.glob(\"convote_v1.1/data_stage_one/development_set/*\")\n",
      "speeches = []\n",
      "for path in paths:\n",
      "    speech = {}\n",
      "    filename = path[-26:]\n",
      "    speech['filename'] = filename\n",
      "    speech['bill_no'] = filename[:3]\n",
      "    speech['speaker_no'] = filename[4:10]\n",
      "    speech['bill_vote'] = filename[-5]\n",
      "    speech['party'] = filename[-7]\n",
      "    \n",
      "    # Open the file\n",
      "    speech_file = open(path, 'r')\n",
      "    # Read the stuff out of it\n",
      "    speech['contents'] = speech_file.read()\n",
      "\n",
      "    cleaned_contents = re.sub(r\"[^ \\w]\",'', speech['contents'])\n",
      "    cleaned_contents = re.sub(r\" +\",' ', cleaned_contents)\n",
      "    cleaned_contents = cleaned_contents.strip()\n",
      "    words = cleaned_contents.split(' ')\n",
      "    speech['word_count'] = len(words)\n",
      "    \n",
      "    speeches.append(speech)\n",
      "speeches[:5]"
     ],
     "language": "python",
     "metadata": {},
     "outputs": []
    },
    {
     "cell_type": "markdown",
     "metadata": {},
     "source": [
      "# Harry Potter Fanfiction"
     ]
    },
    {
     "cell_type": "code",
     "collapsed": false,
     "input": [
      "# https://raw.githubusercontent.com/ledeprogram/courses/master/algorithms/data/hp.zip"
     ],
     "language": "python",
     "metadata": {},
     "outputs": []
    },
    {
     "cell_type": "markdown",
     "metadata": {},
     "source": [
      "# Tweets"
     ]
    },
    {
     "cell_type": "code",
     "collapsed": false,
     "input": [
      "# https://raw.githubusercontent.com/ledeprogram/courses/master/algorithms/data/tweets.csv.zip\n",
      "# https://raw.githubusercontent.com/ledeprogram/courses/master/algorithms/data/tweets-ukraine.csv.zip"
     ],
     "language": "python",
     "metadata": {},
     "outputs": []
    }
   ],
   "metadata": {}
  }
 ]
}