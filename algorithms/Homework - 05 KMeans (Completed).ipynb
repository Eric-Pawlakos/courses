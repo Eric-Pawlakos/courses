{
 "metadata": {
  "name": "",
  "signature": "sha256:8f71897d05163e66131223e4e6e5f0f45630d767f10ef37be4adef6c41aafa0b"
 },
 "nbformat": 3,
 "nbformat_minor": 0,
 "worksheets": [
  {
   "cells": [
    {
     "cell_type": "markdown",
     "metadata": {},
     "source": [
      "# K-Means Homework\n",
      "\n",
      "Putting things into groups - no matter how (in)accurate - is a lot of fun."
     ]
    },
    {
     "cell_type": "markdown",
     "metadata": {},
     "source": [
      "## K-Means across one dimension\n",
      "\n",
      "You can use k-means to group data that is all in one line. NBA player salaries, for example. We're going to cluster some data we used the other day about congressional speeches.\n",
      "\n",
      "First, let's import the speeches"
     ]
    },
    {
     "cell_type": "code",
     "collapsed": false,
     "input": [
      "# You should have this downloaded & extracted already, so I've commented it out\n",
      "# !curl -O http://www.cs.cornell.edu/home/llee/data/convote/convote_v1.1.tar.gz\n",
      "# !tar -zxvf convote_v1.1.tar.gz\n",
      "\n",
      "import re\n",
      "import glob\n",
      "import pandas as pd\n",
      "\n",
      "paths = glob.glob('convote_v1.1/data_stage_one/development_set/*')\n",
      "\n",
      "speeches = []\n",
      "for path in paths:\n",
      "    speech = {}\n",
      "    filename = path[-26:]\n",
      "    speech['filename'] = filename\n",
      "    speech['bill no'] = filename[:3]\n",
      "    speech['speaker no'] = filename[4:10]\n",
      "    speech['bill vote'] = filename[-5]\n",
      "    speech['party'] = filename[-7]\n",
      "    \n",
      "    speech['contents'] = open(path, 'r').read()\n",
      "\n",
      "    cleaned_contents = re.sub(r\"[^ \\w]\",'', speech['contents'])\n",
      "    cleaned_contents = re.sub(r\" +\",' ', cleaned_contents)\n",
      "    cleaned_contents = cleaned_contents.strip()\n",
      "    tokens = cleaned_contents.split(' ')\n",
      "    speech['tokenized contents'] = tokens\n",
      "    speech['word count'] = len(tokens)\n",
      "    \n",
      "    speeches.append(speech)\n",
      "\n",
      "speeches_df = pd.DataFrame(speeches)\n",
      "speeches_df[:5]"
     ],
     "language": "python",
     "metadata": {},
     "outputs": [
      {
       "html": [
        "<div style=\"max-height:1000px;max-width:1500px;overflow:auto;\">\n",
        "<table border=\"1\" class=\"dataframe\">\n",
        "  <thead>\n",
        "    <tr style=\"text-align: right;\">\n",
        "      <th></th>\n",
        "      <th>bill no</th>\n",
        "      <th>bill vote</th>\n",
        "      <th>contents</th>\n",
        "      <th>filename</th>\n",
        "      <th>party</th>\n",
        "      <th>speaker no</th>\n",
        "      <th>tokenized contents</th>\n",
        "      <th>word count</th>\n",
        "    </tr>\n",
        "  </thead>\n",
        "  <tbody>\n",
        "    <tr>\n",
        "      <th>0</th>\n",
        "      <td> 052</td>\n",
        "      <td> N</td>\n",
        "      <td> mr. chairman , i thank the gentlewoman for yie...</td>\n",
        "      <td> 052_400011_0327014_DON.txt</td>\n",
        "      <td> D</td>\n",
        "      <td> 400011</td>\n",
        "      <td> [mr, chairman, i, thank, the, gentlewoman, for...</td>\n",
        "      <td> 974</td>\n",
        "    </tr>\n",
        "    <tr>\n",
        "      <th>1</th>\n",
        "      <td> 052</td>\n",
        "      <td> N</td>\n",
        "      <td> mr. chairman , i want to thank my good friend ...</td>\n",
        "      <td> 052_400011_0327025_DON.txt</td>\n",
        "      <td> D</td>\n",
        "      <td> 400011</td>\n",
        "      <td> [mr, chairman, i, want, to, thank, my, good, f...</td>\n",
        "      <td> 556</td>\n",
        "    </tr>\n",
        "    <tr>\n",
        "      <th>2</th>\n",
        "      <td> 052</td>\n",
        "      <td> N</td>\n",
        "      <td> mr. chairman , i rise to make two fundamental ...</td>\n",
        "      <td> 052_400011_0327044_DON.txt</td>\n",
        "      <td> D</td>\n",
        "      <td> 400011</td>\n",
        "      <td> [mr, chairman, i, rise, to, make, two, fundame...</td>\n",
        "      <td> 282</td>\n",
        "    </tr>\n",
        "    <tr>\n",
        "      <th>3</th>\n",
        "      <td> 052</td>\n",
        "      <td> N</td>\n",
        "      <td> mr. chairman , reclaiming my time , let me mak...</td>\n",
        "      <td> 052_400011_0327046_DON.txt</td>\n",
        "      <td> D</td>\n",
        "      <td> 400011</td>\n",
        "      <td> [mr, chairman, reclaiming, my, time, let, me, ...</td>\n",
        "      <td> 261</td>\n",
        "    </tr>\n",
        "    <tr>\n",
        "      <th>4</th>\n",
        "      <td> 052</td>\n",
        "      <td> N</td>\n",
        "      <td> mr. chairman , i thank my distinguished collea...</td>\n",
        "      <td> 052_400011_1479036_DON.txt</td>\n",
        "      <td> D</td>\n",
        "      <td> 400011</td>\n",
        "      <td> [mr, chairman, i, thank, my, distinguished, co...</td>\n",
        "      <td> 189</td>\n",
        "    </tr>\n",
        "  </tbody>\n",
        "</table>\n",
        "</div>"
       ],
       "metadata": {},
       "output_type": "pyout",
       "prompt_number": 1,
       "text": [
        "  bill no bill vote                                           contents  \\\n",
        "0     052         N  mr. chairman , i thank the gentlewoman for yie...   \n",
        "1     052         N  mr. chairman , i want to thank my good friend ...   \n",
        "2     052         N  mr. chairman , i rise to make two fundamental ...   \n",
        "3     052         N  mr. chairman , reclaiming my time , let me mak...   \n",
        "4     052         N  mr. chairman , i thank my distinguished collea...   \n",
        "\n",
        "                     filename party speaker no  \\\n",
        "0  052_400011_0327014_DON.txt     D     400011   \n",
        "1  052_400011_0327025_DON.txt     D     400011   \n",
        "2  052_400011_0327044_DON.txt     D     400011   \n",
        "3  052_400011_0327046_DON.txt     D     400011   \n",
        "4  052_400011_1479036_DON.txt     D     400011   \n",
        "\n",
        "                                  tokenized contents  word count  \n",
        "0  [mr, chairman, i, thank, the, gentlewoman, for...         974  \n",
        "1  [mr, chairman, i, want, to, thank, my, good, f...         556  \n",
        "2  [mr, chairman, i, rise, to, make, two, fundame...         282  \n",
        "3  [mr, chairman, reclaiming, my, time, let, me, ...         261  \n",
        "4  [mr, chairman, i, thank, my, distinguished, co...         189  "
       ]
      }
     ],
     "prompt_number": 1
    },
    {
     "cell_type": "markdown",
     "metadata": {},
     "source": [
      "## Previewing the data\n",
      "\n",
      "It'd be good to get an overview of the data first. Make a histograph of speech word counts."
     ]
    },
    {
     "cell_type": "code",
     "collapsed": false,
     "input": [
      "# Cathy pointed out that we should use the log to deal with outliers\n",
      "speeches_df[\"word count log\"] = log(speeches_df[\"word count\"])\n",
      "speeches_df[\"word count log\"].hist(bins=30)"
     ],
     "language": "python",
     "metadata": {},
     "outputs": [
      {
       "metadata": {},
       "output_type": "pyout",
       "prompt_number": 2,
       "text": [
        "<matplotlib.axes.AxesSubplot at 0x11160cbd0>"
       ]
      },
      {
       "metadata": {},
       "output_type": "display_data",
       "png": "[encoded data removed]",
       "text": [
        "<matplotlib.figure.Figure at 0x11160c950>"
       ]
      }
     ],
     "prompt_number": 2
    },
    {
     "cell_type": "markdown",
     "metadata": {},
     "source": [
      "Seems a little unbalanced, maybe? Let's try clustering with 4 clusters.\n",
      "\n",
      "Initialize a k-means object called km and fit it to the data. Remember to **import!**"
     ]
    },
    {
     "cell_type": "code",
     "collapsed": false,
     "input": [
      "# If you get a n_samples=1 should be >= n_clusters=4 error,\n",
      "# you'll want to make sure you're using *two sets of square brackets*\n",
      "# around the column name\n",
      "from sklearn.cluster import KMeans\n",
      "km = KMeans(n_clusters=4)\n",
      "km.fit(speeches_df[[\"word count log\"]])"
     ],
     "language": "python",
     "metadata": {},
     "outputs": [
      {
       "metadata": {},
       "output_type": "pyout",
       "prompt_number": 3,
       "text": [
        "KMeans(copy_x=True, init='k-means++', max_iter=300, n_clusters=4, n_init=10,\n",
        "    n_jobs=1, precompute_distances=True, random_state=None, tol=0.0001,\n",
        "    verbose=0)"
       ]
      }
     ],
     "prompt_number": 3
    },
    {
     "cell_type": "markdown",
     "metadata": {},
     "source": [
      "Look at the first ten **km.labels_**, and write a comment explaining what that is."
     ]
    },
    {
     "cell_type": "code",
     "collapsed": false,
     "input": [
      "km.labels_[:10]"
     ],
     "language": "python",
     "metadata": {},
     "outputs": [
      {
       "metadata": {},
       "output_type": "pyout",
       "prompt_number": 4,
       "text": [
        "array([3, 3, 1, 1, 1, 0, 1, 0, 2, 1], dtype=int32)"
       ]
      }
     ],
     "prompt_number": 4
    },
    {
     "cell_type": "markdown",
     "metadata": {},
     "source": [
      "Add this new information into your dataframe. Call it **k-means label**."
     ]
    },
    {
     "cell_type": "code",
     "collapsed": false,
     "input": [
      "speeches_df[\"k-means label\"] = km.labels_"
     ],
     "language": "python",
     "metadata": {},
     "outputs": [],
     "prompt_number": 5
    },
    {
     "cell_type": "markdown",
     "metadata": {},
     "source": [
      "Make a histogram for the word count of each k-means label."
     ]
    },
    {
     "cell_type": "code",
     "collapsed": false,
     "input": [
      "speeches = speeches_df[speeches_df[\"k-means label\"] == 0]\n",
      "speeches[\"word count\"].hist(bins=30)"
     ],
     "language": "python",
     "metadata": {},
     "outputs": [
      {
       "metadata": {},
       "output_type": "pyout",
       "prompt_number": 6,
       "text": [
        "<matplotlib.axes.AxesSubplot at 0x1156f5a50>"
       ]
      },
      {
       "metadata": {},
       "output_type": "display_data",
       "png": "[encoded data removed]",
       "text": [
        "<matplotlib.figure.Figure at 0x112e5ec10>"
       ]
      }
     ],
     "prompt_number": 6
    },
    {
     "cell_type": "code",
     "collapsed": false,
     "input": [
      "speeches = speeches_df[speeches_df[\"k-means label\"] == 1]\n",
      "speeches[\"word count\"].hist(bins=30)"
     ],
     "language": "python",
     "metadata": {},
     "outputs": [
      {
       "metadata": {},
       "output_type": "pyout",
       "prompt_number": 7,
       "text": [
        "<matplotlib.axes.AxesSubplot at 0x115762a10>"
       ]
      },
      {
       "metadata": {},
       "output_type": "display_data",
       "png": "[encoded data removed]",
       "text": [
        "<matplotlib.figure.Figure at 0x115707dd0>"
       ]
      }
     ],
     "prompt_number": 7
    },
    {
     "cell_type": "code",
     "collapsed": false,
     "input": [
      "speeches = speeches_df[speeches_df[\"k-means label\"] == 2]\n",
      "speeches[\"word count\"].hist(bins=30)"
     ],
     "language": "python",
     "metadata": {},
     "outputs": [
      {
       "metadata": {},
       "output_type": "pyout",
       "prompt_number": 8,
       "text": [
        "<matplotlib.axes.AxesSubplot at 0x115762510>"
       ]
      },
      {
       "metadata": {},
       "output_type": "display_data",
       "png": "[encoded data removed]",
       "text": [
        "<matplotlib.figure.Figure at 0x112e5a410>"
       ]
      }
     ],
     "prompt_number": 8
    },
    {
     "cell_type": "code",
     "collapsed": false,
     "input": [
      "speeches = speeches_df[speeches_df[\"k-means label\"] == 3]\n",
      "speeches[\"word count\"].hist(bins=30)"
     ],
     "language": "python",
     "metadata": {},
     "outputs": [
      {
       "metadata": {},
       "output_type": "pyout",
       "prompt_number": 9,
       "text": [
        "<matplotlib.axes.AxesSubplot at 0x115834290>"
       ]
      },
      {
       "metadata": {},
       "output_type": "display_data",
       "png": "[encoded data removed]",
       "text": [
        "<matplotlib.figure.Figure at 0x1157da2d0>"
       ]
      }
     ],
     "prompt_number": 9
    },
    {
     "cell_type": "code",
     "collapsed": false,
     "input": [
      "speeches_df[speeches_df[\"k-means label\"] == 0][\"word count log\"].hist(bins=30)\n",
      "speeches_df[speeches_df[\"k-means label\"] == 1][\"word count log\"].hist(bins=30)\n",
      "speeches_df[speeches_df[\"k-means label\"] == 2][\"word count log\"].hist(bins=30)\n",
      "speeches_df[speeches_df[\"k-means label\"] == 3][\"word count log\"].hist(bins=30)"
     ],
     "language": "python",
     "metadata": {},
     "outputs": [
      {
       "metadata": {},
       "output_type": "pyout",
       "prompt_number": 10,
       "text": [
        "<matplotlib.axes.AxesSubplot at 0x11598fa90>"
       ]
      },
      {
       "metadata": {},
       "output_type": "display_data",
       "png": "[encoded data removed]",
       "text": [
        "<matplotlib.figure.Figure at 0x1159940d0>"
       ]
      }
     ],
     "prompt_number": 10
    },
    {
     "cell_type": "code",
     "collapsed": false,
     "input": [
      "# If you get a n_samples=1 should be >= n_clusters=4 error,\n",
      "# you'll want to make sure you're using *two sets of square brackets*\n",
      "# around the column name\n",
      "from sklearn.cluster import KMeans\n",
      "km = KMeans(n_clusters=7)\n",
      "km.fit(speeches_df[[\"word count log\"]])\n",
      "speeches_df[\"k-means label 7\"] = km.labels_\n",
      "speeches_df[speeches_df[\"k-means label 7\"] == 0][\"word count log\"].hist(bins=30)\n",
      "speeches_df[speeches_df[\"k-means label 7\"] == 1][\"word count log\"].hist(bins=30)\n",
      "speeches_df[speeches_df[\"k-means label 7\"] == 2][\"word count log\"].hist(bins=30)\n",
      "speeches_df[speeches_df[\"k-means label 7\"] == 3][\"word count log\"].hist(bins=30)\n",
      "speeches_df[speeches_df[\"k-means label 7\"] == 4][\"word count log\"].hist(bins=30)\n",
      "speeches_df[speeches_df[\"k-means label 7\"] == 5][\"word count log\"].hist(bins=30)\n",
      "speeches_df[speeches_df[\"k-means label 7\"] == 6][\"word count log\"].hist(bins=30)"
     ],
     "language": "python",
     "metadata": {},
     "outputs": [
      {
       "metadata": {},
       "output_type": "pyout",
       "prompt_number": 11,
       "text": [
        "<matplotlib.axes.AxesSubplot at 0x115a5f490>"
       ]
      },
      {
       "metadata": {},
       "output_type": "display_data",
       "png": "[encoded data removed]",
       "text": [
        "<matplotlib.figure.Figure at 0x115a4be50>"
       ]
      }
     ],
     "prompt_number": 11
    },
    {
     "cell_type": "markdown",
     "metadata": {},
     "source": [
      "One of them might seem kind of crazy. Use **groupby** and **describe** to get a better explanation of how your data was clustered."
     ]
    },
    {
     "cell_type": "code",
     "collapsed": false,
     "input": [
      "speeches_df.groupby(\"k-means label\")[\"word count\"].describe()"
     ],
     "language": "python",
     "metadata": {},
     "outputs": [
      {
       "metadata": {},
       "output_type": "pyout",
       "prompt_number": 13,
       "text": [
        "k-means label       \n",
        "0              count      172.000000\n",
        "               mean         9.604651\n",
        "               std          3.194583\n",
        "               min          3.000000\n",
        "               25%          7.000000\n",
        "               50%          9.000000\n",
        "               75%         12.000000\n",
        "               max         16.000000\n",
        "1              count      176.000000\n",
        "               mean       177.386364\n",
        "               std         70.191156\n",
        "               min         70.000000\n",
        "               25%        118.000000\n",
        "               50%        174.500000\n",
        "               75%        229.500000\n",
        "               max        315.000000\n",
        "2              count      152.000000\n",
        "               mean        31.177632\n",
        "               std         13.360068\n",
        "               min         17.000000\n",
        "               25%         21.000000\n",
        "               50%         25.000000\n",
        "               75%         39.000000\n",
        "               max         67.000000\n",
        "3              count      202.000000\n",
        "               mean       763.301980\n",
        "               std       1159.942692\n",
        "               min        316.000000\n",
        "               25%        411.750000\n",
        "               50%        541.500000\n",
        "               75%        795.500000\n",
        "               max      15402.000000\n",
        "dtype: float64"
       ]
      }
     ],
     "prompt_number": 13
    },
    {
     "cell_type": "markdown",
     "metadata": {},
     "source": [
      "Explain how they ended up grouped that way, and what you think about the groups."
     ]
    },
    {
     "cell_type": "markdown",
     "metadata": {},
     "source": [
      "# K-Means across two dimensions\n",
      "\n",
      "You can have an infinite number of k-means dimensions (more or less), but we're just going to step up to two dimensions now. The fun thing about two dimensions is that latitude and longitude fall under that category!"
     ]
    },
    {
     "cell_type": "code",
     "collapsed": false,
     "input": [
      "!curl -O http://www.boutell.com/zipcodes/zipcode.zip\n",
      "!unzip zipcode.zip"
     ],
     "language": "python",
     "metadata": {},
     "outputs": [
      {
       "output_type": "stream",
       "stream": "stdout",
       "text": [
        "  % Total    % Received % Xferd  Average Speed   Time    Time     Time  Current\r\n",
        "                                 Dload  Upload   Total   Spent    Left  Speed\r\n",
        "\r",
        "  0     0    0     0    0     0      0      0 --:--:-- --:--:-- --:--:--     0"
       ]
      },
      {
       "output_type": "stream",
       "stream": "stdout",
       "text": [
        "\r",
        "  0     0    0     0    0     0      0      0 --:--:-- --:--:-- --:--:--     0"
       ]
      },
      {
       "output_type": "stream",
       "stream": "stdout",
       "text": [
        "\r",
        "100  656k  100  656k    0     0   701k      0 --:--:-- --:--:-- --:--:--  701k\r\n"
       ]
      },
      {
       "output_type": "stream",
       "stream": "stdout",
       "text": [
        "Archive:  zipcode.zip\r\n",
        "replace zipcode.sql? [y]es, [n]o, [A]ll, [N]one, [r]ename: "
       ]
      },
      {
       "output_type": "stream",
       "stream": "stdout",
       "text": [
        "^C\r\n"
       ]
      }
     ],
     "prompt_number": 15
    },
    {
     "cell_type": "markdown",
     "metadata": {},
     "source": [
      "Read this file into a pandas dataframe called **zipcodes**, and look at the first five elements."
     ]
    },
    {
     "cell_type": "code",
     "collapsed": false,
     "input": [
      "zipcodes_df = pd.read_csv(\"zipcode.csv\")"
     ],
     "language": "python",
     "metadata": {},
     "outputs": [],
     "prompt_number": 19
    },
    {
     "cell_type": "markdown",
     "metadata": {},
     "source": [
      "Map it longitude by latitude using **plt.scatter**. Pass **s=1** to make the dots real tiny, and **edgecolors='none'** to get prevent the map from being all black.\n",
      "\n",
      "**Make sure you pass longitude first!** Or, try latitude/longitude first, see how it looks, then try it again with longitude/latitude first."
     ]
    },
    {
     "cell_type": "code",
     "collapsed": false,
     "input": [
      "plt.scatter(zipcodes_df[\"longitude\"], zipcodes_df[\"latitude\"], s=1, edgecolors='none')"
     ],
     "language": "python",
     "metadata": {},
     "outputs": [
      {
       "metadata": {},
       "output_type": "pyout",
       "prompt_number": 23,
       "text": [
        "<matplotlib.collections.PathCollection at 0x11618b950>"
       ]
      },
      {
       "metadata": {},
       "output_type": "display_data",
       "png": "[encoded data removed]",
       "text": [
        "<matplotlib.figure.Figure at 0x11662a090>"
       ]
      }
     ],
     "prompt_number": 23
    },
    {
     "cell_type": "markdown",
     "metadata": {},
     "source": [
      "Look familiar? Normally you'd get sent to prison for scatterplotting geographic data, but I'm not going to tell anyone.\n",
      "\n",
      "Unfortunately we need to clean the data up a little bit first before we do k-means on it. Let's examine everything with **NaN** (Not a Number) for **latitude**."
     ]
    },
    {
     "cell_type": "code",
     "collapsed": false,
     "input": [
      "# pd.isnull checks to see if latitude is None or NaN\n",
      "zipcodes_df[pd.isnull(zipcodes_df[\"latitude\"])]"
     ],
     "language": "python",
     "metadata": {},
     "outputs": [
      {
       "html": [
        "<div style=\"max-height:1000px;max-width:1500px;overflow:auto;\">\n",
        "<table border=\"1\" class=\"dataframe\">\n",
        "  <thead>\n",
        "    <tr style=\"text-align: right;\">\n",
        "      <th></th>\n",
        "      <th>zip</th>\n",
        "      <th>city</th>\n",
        "      <th>state</th>\n",
        "      <th>latitude</th>\n",
        "      <th>longitude</th>\n",
        "      <th>timezone</th>\n",
        "      <th>dst</th>\n",
        "    </tr>\n",
        "  </thead>\n",
        "  <tbody>\n",
        "    <tr>\n",
        "      <th>15 </th>\n",
        "      <td>NaN</td>\n",
        "      <td> NaN</td>\n",
        "      <td> NaN</td>\n",
        "      <td>NaN</td>\n",
        "      <td>NaN</td>\n",
        "      <td>NaN</td>\n",
        "      <td>NaN</td>\n",
        "    </tr>\n",
        "    <tr>\n",
        "      <th>32 </th>\n",
        "      <td>NaN</td>\n",
        "      <td> NaN</td>\n",
        "      <td> NaN</td>\n",
        "      <td>NaN</td>\n",
        "      <td>NaN</td>\n",
        "      <td>NaN</td>\n",
        "      <td>NaN</td>\n",
        "    </tr>\n",
        "    <tr>\n",
        "      <th>43 </th>\n",
        "      <td>NaN</td>\n",
        "      <td> NaN</td>\n",
        "      <td> NaN</td>\n",
        "      <td>NaN</td>\n",
        "      <td>NaN</td>\n",
        "      <td>NaN</td>\n",
        "      <td>NaN</td>\n",
        "    </tr>\n",
        "    <tr>\n",
        "      <th>68 </th>\n",
        "      <td>NaN</td>\n",
        "      <td> NaN</td>\n",
        "      <td> NaN</td>\n",
        "      <td>NaN</td>\n",
        "      <td>NaN</td>\n",
        "      <td>NaN</td>\n",
        "      <td>NaN</td>\n",
        "    </tr>\n",
        "    <tr>\n",
        "      <th>69 </th>\n",
        "      <td>NaN</td>\n",
        "      <td> NaN</td>\n",
        "      <td> NaN</td>\n",
        "      <td>NaN</td>\n",
        "      <td>NaN</td>\n",
        "      <td>NaN</td>\n",
        "      <td>NaN</td>\n",
        "    </tr>\n",
        "    <tr>\n",
        "      <th>86 </th>\n",
        "      <td>NaN</td>\n",
        "      <td> NaN</td>\n",
        "      <td> NaN</td>\n",
        "      <td>NaN</td>\n",
        "      <td>NaN</td>\n",
        "      <td>NaN</td>\n",
        "      <td>NaN</td>\n",
        "    </tr>\n",
        "    <tr>\n",
        "      <th>91 </th>\n",
        "      <td>NaN</td>\n",
        "      <td> NaN</td>\n",
        "      <td> NaN</td>\n",
        "      <td>NaN</td>\n",
        "      <td>NaN</td>\n",
        "      <td>NaN</td>\n",
        "      <td>NaN</td>\n",
        "    </tr>\n",
        "    <tr>\n",
        "      <th>92 </th>\n",
        "      <td>NaN</td>\n",
        "      <td> NaN</td>\n",
        "      <td> NaN</td>\n",
        "      <td>NaN</td>\n",
        "      <td>NaN</td>\n",
        "      <td>NaN</td>\n",
        "      <td>NaN</td>\n",
        "    </tr>\n",
        "    <tr>\n",
        "      <th>102</th>\n",
        "      <td>NaN</td>\n",
        "      <td> NaN</td>\n",
        "      <td> NaN</td>\n",
        "      <td>NaN</td>\n",
        "      <td>NaN</td>\n",
        "      <td>NaN</td>\n",
        "      <td>NaN</td>\n",
        "    </tr>\n",
        "    <tr>\n",
        "      <th>120</th>\n",
        "      <td>NaN</td>\n",
        "      <td> NaN</td>\n",
        "      <td> NaN</td>\n",
        "      <td>NaN</td>\n",
        "      <td>NaN</td>\n",
        "      <td>NaN</td>\n",
        "      <td>NaN</td>\n",
        "    </tr>\n",
        "    <tr>\n",
        "      <th>127</th>\n",
        "      <td>NaN</td>\n",
        "      <td> NaN</td>\n",
        "      <td> NaN</td>\n",
        "      <td>NaN</td>\n",
        "      <td>NaN</td>\n",
        "      <td>NaN</td>\n",
        "      <td>NaN</td>\n",
        "    </tr>\n",
        "    <tr>\n",
        "      <th>129</th>\n",
        "      <td>NaN</td>\n",
        "      <td> NaN</td>\n",
        "      <td> NaN</td>\n",
        "      <td>NaN</td>\n",
        "      <td>NaN</td>\n",
        "      <td>NaN</td>\n",
        "      <td>NaN</td>\n",
        "    </tr>\n",
        "    <tr>\n",
        "      <th>131</th>\n",
        "      <td>NaN</td>\n",
        "      <td> NaN</td>\n",
        "      <td> NaN</td>\n",
        "      <td>NaN</td>\n",
        "      <td>NaN</td>\n",
        "      <td>NaN</td>\n",
        "      <td>NaN</td>\n",
        "    </tr>\n",
        "  </tbody>\n",
        "</table>\n",
        "</div>"
       ],
       "metadata": {},
       "output_type": "pyout",
       "prompt_number": 28,
       "text": [
        "     zip city state  latitude  longitude  timezone  dst\n",
        "15   NaN  NaN   NaN       NaN        NaN       NaN  NaN\n",
        "32   NaN  NaN   NaN       NaN        NaN       NaN  NaN\n",
        "43   NaN  NaN   NaN       NaN        NaN       NaN  NaN\n",
        "68   NaN  NaN   NaN       NaN        NaN       NaN  NaN\n",
        "69   NaN  NaN   NaN       NaN        NaN       NaN  NaN\n",
        "86   NaN  NaN   NaN       NaN        NaN       NaN  NaN\n",
        "91   NaN  NaN   NaN       NaN        NaN       NaN  NaN\n",
        "92   NaN  NaN   NaN       NaN        NaN       NaN  NaN\n",
        "102  NaN  NaN   NaN       NaN        NaN       NaN  NaN\n",
        "120  NaN  NaN   NaN       NaN        NaN       NaN  NaN\n",
        "127  NaN  NaN   NaN       NaN        NaN       NaN  NaN\n",
        "129  NaN  NaN   NaN       NaN        NaN       NaN  NaN\n",
        "131  NaN  NaN   NaN       NaN        NaN       NaN  NaN"
       ]
      }
     ],
     "prompt_number": 28
    },
    {
     "cell_type": "markdown",
     "metadata": {},
     "source": [
      "We can't have those terrible empty rows! Let's make a new data frame that doesn't have those elements."
     ]
    },
    {
     "cell_type": "code",
     "collapsed": false,
     "input": [
      "# The ~ means 'not', so 'the zipcodes that are not null for latitude'\n",
      "cleaned_zipcodes = zipcodes_df[~pd.isnull(zipcodes_df[\"latitude\"])]"
     ],
     "language": "python",
     "metadata": {},
     "outputs": [],
     "prompt_number": 29
    },
    {
     "cell_type": "markdown",
     "metadata": {},
     "source": [
      "You can scatterplot it again if you'd like to make sure the data still looks okay."
     ]
    },
    {
     "cell_type": "code",
     "collapsed": false,
     "input": [],
     "language": "python",
     "metadata": {},
     "outputs": []
    },
    {
     "cell_type": "markdown",
     "metadata": {},
     "source": [
      "Now, k-means cluster in 10 groups across longitude and latitude. Make sure you use **cleaned_zipcodes**."
     ]
    },
    {
     "cell_type": "code",
     "collapsed": false,
     "input": [
      "km = KMeans(n_clusters=50)\n",
      "km.fit(cleaned_zipcodes[[\"longitude\",\"latitude\"]])"
     ],
     "language": "python",
     "metadata": {},
     "outputs": [
      {
       "metadata": {},
       "output_type": "pyout",
       "prompt_number": 48,
       "text": [
        "KMeans(copy_x=True, init='k-means++', max_iter=300, n_clusters=50, n_init=10,\n",
        "    n_jobs=1, precompute_distances=True, random_state=None, tol=0.0001,\n",
        "    verbose=0)"
       ]
      }
     ],
     "prompt_number": 48
    },
    {
     "cell_type": "markdown",
     "metadata": {},
     "source": [
      "Plot it again, this time coloring according to the assigned labels. Make sure to pass **edgecolors='none'** again."
     ]
    },
    {
     "cell_type": "code",
     "collapsed": false,
     "input": [
      "plt.scatter(cleaned_zipcodes[\"longitude\"], cleaned_zipcodes[\"latitude\"], s=1, edgecolors='none', c=km.labels_)"
     ],
     "language": "python",
     "metadata": {},
     "outputs": [
      {
       "metadata": {},
       "output_type": "pyout",
       "prompt_number": 49,
       "text": [
        "<matplotlib.collections.PathCollection at 0x116716c10>"
       ]
      },
      {
       "metadata": {},
       "output_type": "display_data",
       "png": "[encoded data removed]",
       "text": [
        "<matplotlib.figure.Figure at 0x1180320d0>"
       ]
      }
     ],
     "prompt_number": 49
    },
    {
     "cell_type": "markdown",
     "metadata": {},
     "source": [
      "**Fun, right?** Play around with the number of clusters to see what other results you can get. Why does clustering by zip codes seem to show you population centers?"
     ]
    },
    {
     "cell_type": "code",
     "collapsed": false,
     "input": [],
     "language": "python",
     "metadata": {},
     "outputs": []
    }
   ],
   "metadata": {}
  }
 ]
}