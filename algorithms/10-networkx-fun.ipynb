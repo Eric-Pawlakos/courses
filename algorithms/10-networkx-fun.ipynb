{
 "metadata": {
  "name": "",
  "signature": "sha256:3f6e65c88d0ce8c7465620f89fd7a3e127d92ca061f3ae6715635533d48b570a"
 },
 "nbformat": 3,
 "nbformat_minor": 0,
 "worksheets": [
  {
   "cells": [
    {
     "cell_type": "markdown",
     "metadata": {},
     "source": [
      "This is a little set of examples of networkx.\n",
      "Very very few changes were made from the examples provided by the authors \n",
      "in https://github.com/networkx/networkx/tree/master/examples\n",
      "\n",
      "Therefore please consider all this code:\n",
      "#    Copyright (C) 2004-2010 by \n",
      "#    Aric Hagberg <hagberg@lanl.gov>\n",
      "#    Dan Schult <dschult@colgate.edu>\n",
      "#    Pieter Swart <swart@lanl.gov>\n",
      "#    All rights reserved.\n",
      "#    BSD license.\n"
     ]
    },
    {
     "cell_type": "markdown",
     "metadata": {},
     "source": [
      "You'll need networkx for this"
     ]
    },
    {
     "cell_type": "code",
     "collapsed": false,
     "input": [
      "import networkx as nx"
     ],
     "language": "python",
     "metadata": {},
     "outputs": [],
     "prompt_number": 88
    },
    {
     "cell_type": "markdown",
     "metadata": {},
     "source": [
      "and of course matplotlib for plotting!!"
     ]
    },
    {
     "cell_type": "code",
     "collapsed": false,
     "input": [
      "import matplotlib.pyplot as plt"
     ],
     "language": "python",
     "metadata": {},
     "outputs": [],
     "prompt_number": 89
    },
    {
     "cell_type": "code",
     "collapsed": false,
     "input": [
      "# define G as the \"path graph\" w/8 nodes\n",
      "G=nx.path_graph(8)\n",
      "\n",
      "# 3 commands needed to draw/plot/save\n",
      "nx.draw(G)\n",
      "plt.savefig(\"simple_path.png\") # save as png\n",
      "plt.show() # display"
     ],
     "language": "python",
     "metadata": {},
     "outputs": [],
     "prompt_number": 90
    },
    {
     "cell_type": "code",
     "collapsed": false,
     "input": [
      "# note that networkx handles *really* simple file input \n",
      "!rm simple.txt\n",
      "!touch simple.txt\n",
      "!echo \"0 1\" >> simple.txt\n",
      "!echo \"1 2\" >> simple.txt\n",
      "!echo \"2 0\" >> simple.txt\n",
      "!cat simple.txt\n"
     ],
     "language": "python",
     "metadata": {},
     "outputs": [
      {
       "output_type": "stream",
       "stream": "stdout",
       "text": [
        "0 1\r\n",
        "1 2\r\n",
        "2 0\r\n"
       ]
      }
     ],
     "prompt_number": 91
    },
    {
     "cell_type": "code",
     "collapsed": false,
     "input": [
      "G = nx.read_edgelist('simple.txt', create_using= nx.DiGraph())\n",
      "nx.draw(G)\n",
      "plt.show() # display"
     ],
     "language": "python",
     "metadata": {},
     "outputs": [],
     "prompt_number": 92
    },
    {
     "cell_type": "code",
     "collapsed": false,
     "input": [
      "print(\"radius: %d\" % nx.radius(G))\n",
      "print(\"diameter: %d\" % nx.diameter(G))\n",
      "print(\"eccentricity: %s\" % nx.eccentricity(G))\n",
      "print(\"center: %s\" % nx.center(G))\n",
      "print(\"periphery: %s\" % nx.periphery(G))\n",
      "print(\"density: %s\" % nx.density(G))\n"
     ],
     "language": "python",
     "metadata": {},
     "outputs": [
      {
       "output_type": "stream",
       "stream": "stdout",
       "text": [
        "radius: 2\n",
        "diameter: 2\n",
        "eccentricity: {u'1': 2, u'0': 2, u'2': 2}\n",
        "center: [u'1', u'0', u'2']\n",
        "periphery: [u'1', u'0', u'2']\n",
        "density: 0.5\n"
       ]
      }
     ],
     "prompt_number": 93
    },
    {
     "cell_type": "code",
     "collapsed": false,
     "input": [
      "# one of the most famous graphs is the 33-node \"karate club\" graph\n",
      "G=nx.karate_club_graph()\n",
      "print(\"Node Degree\")\n",
      "for v in G:\n",
      "    print('%s %s' % (v,G.degree(v)))"
     ],
     "language": "python",
     "metadata": {},
     "outputs": [
      {
       "output_type": "stream",
       "stream": "stdout",
       "text": [
        "Node Degree\n",
        "0 16\n",
        "1 9\n",
        "2 10\n",
        "3 6\n",
        "4 3\n",
        "5 4\n",
        "6 4\n",
        "7 4\n",
        "8 5\n",
        "9 2\n",
        "10 3\n",
        "11 1\n",
        "12 2\n",
        "13 5\n",
        "14 2\n",
        "15 2\n",
        "16 2\n",
        "17 2\n",
        "18 2\n",
        "19 3\n",
        "20 2\n",
        "21 2\n",
        "22 2\n",
        "23 5\n",
        "24 3\n",
        "25 3\n",
        "26 2\n",
        "27 4\n",
        "28 3\n",
        "29 4\n",
        "30 4\n",
        "31 6\n",
        "32 12\n",
        "33 17\n"
       ]
      }
     ],
     "prompt_number": 94
    },
    {
     "cell_type": "code",
     "collapsed": false,
     "input": [
      "# here's an example of coloring\n",
      "pos=nx.spring_layout(G)\n",
      "nx.draw(G,pos,node_color=range(34),node_size=800,cmap=plt.cm.Blues)\n",
      "plt.savefig(\"node_colormap.png\") # save as png\n",
      "plt.show() # display"
     ],
     "language": "python",
     "metadata": {},
     "outputs": [],
     "prompt_number": 95
    },
    {
     "cell_type": "markdown",
     "metadata": {},
     "source": [
      "note: it's random! try again and again for new results. :) or :("
     ]
    },
    {
     "cell_type": "code",
     "collapsed": false,
     "input": [
      "print(\"radius: %d\" % nx.radius(G))\n",
      "print(\"diameter: %d\" % nx.diameter(G))\n",
      "print(\"eccentricity: %s\" % nx.eccentricity(G))\n",
      "print(\"center: %s\" % nx.center(G))\n",
      "print(\"periphery: %s\" % nx.periphery(G))\n",
      "print(\"density: %s\" % nx.density(G))\n"
     ],
     "language": "python",
     "metadata": {},
     "outputs": [
      {
       "output_type": "stream",
       "stream": "stdout",
       "text": [
        "radius: 3\n",
        "diameter: 5\n",
        "eccentricity: {0: 3, 1: 3, 2: 3, 3: 3, 4: 4, 5: 4, 6: 4, 7: 4, 8: 3, 9: 4, 10: 4, 11: 4, 12: 4, 13: 3, 14: 5, 15: 5, 16: 5, 17: 4, 18: 5, 19: 3, 20: 5, 21: 4, 22: 5, 23: 5, 24: 4, 25: 4, 26: 5, 27: 4, 28: 4, 29: 5, 30: 4, 31: 3, 32: 4, 33: 4}\n",
        "center: [0, 1, 2, 3, 8, 13, 19, 31]\n",
        "periphery: [14, 15, 16, 18, 20, 22, 23, 26, 29]\n",
        "density: 0.139037433155\n"
       ]
      }
     ],
     "prompt_number": 96
    },
    {
     "cell_type": "code",
     "collapsed": false,
     "input": [
      "# let's try this for a 20-node star graph\n",
      "G=nx.star_graph(20)  \n",
      "pos=nx.spring_layout(G)\n",
      "colors=range(20) \n",
      "nx.draw(G,pos,node_color='#A0CBE2',edge_color=colors,width=4,edge_cmap=plt.cm.Blues,with_labels=False)\n",
      "plt.savefig(\"edge_colormap.png\") # save as png\n",
      "plt.show() # display"
     ],
     "language": "python",
     "metadata": {},
     "outputs": [],
     "prompt_number": 97
    },
    {
     "cell_type": "code",
     "collapsed": false,
     "input": [
      "for v in G:\n",
      "    print('%s %s' % (v,G.degree(v)))"
     ],
     "language": "python",
     "metadata": {},
     "outputs": [
      {
       "output_type": "stream",
       "stream": "stdout",
       "text": [
        "0 20\n",
        "1 1\n",
        "2 1\n",
        "3 1\n",
        "4 1\n",
        "5 1\n",
        "6 1\n",
        "7 1\n",
        "8 1\n",
        "9 1\n",
        "10 1\n",
        "11 1\n",
        "12 1\n",
        "13 1\n",
        "14 1\n",
        "15 1\n",
        "16 1\n",
        "17 1\n",
        "18 1\n",
        "19 1\n",
        "20 1\n"
       ]
      }
     ],
     "prompt_number": 98
    },
    {
     "cell_type": "code",
     "collapsed": false,
     "input": [
      "print(\"radius: %d\" % nx.radius(G))\n",
      "print(\"diameter: %d\" % nx.diameter(G))\n",
      "print(\"eccentricity: %s\" % nx.eccentricity(G))\n",
      "print(\"center: %s\" % nx.center(G))\n",
      "print(\"periphery: %s\" % nx.periphery(G))\n",
      "print(\"density: %s\" % nx.density(G))"
     ],
     "language": "python",
     "metadata": {},
     "outputs": [
      {
       "output_type": "stream",
       "stream": "stdout",
       "text": [
        "radius: 1\n",
        "diameter: 2\n",
        "eccentricity: {0: 1, 1: 2, 2: 2, 3: 2, 4: 2, 5: 2, 6: 2, 7: 2, 8: 2, 9: 2, 10: 2, 11: 2, 12: 2, 13: 2, 14: 2, 15: 2, 16: 2, 17: 2, 18: 2, 19: 2, 20: 2}\n",
        "center: [0]\n",
        "periphery: [1, 2, 3, 4, 5, 6, 7, 8, 9, 10, 11, 12, 13, 14, 15, 16, 17, 18, 19, 20]\n",
        "density: 0.0952380952381\n"
       ]
      }
     ],
     "prompt_number": 99
    },
    {
     "cell_type": "code",
     "collapsed": false,
     "input": [
      "# here's an example of networkx syntax for file i/o:\n",
      "from networkx import *\n",
      "import sys\n",
      "G=grid_2d_graph(5,5)  # 5x5 grid\n",
      "\n",
      "\n",
      "\n",
      "try: # Python 2.6+\n",
      "    write_adjlist(G,sys.stdout) # write adjacency list to screen\n",
      "except TypeError: # Python 3.x\n",
      "    write_adjlist(G,sys.stdout.buffer) # write adjacency list to screen\n",
      "# write edgelist to grid.edgelist\n",
      "write_edgelist(G,path=\"grid.edgelist\",delimiter=\":\") \n",
      "# read edgelist from grid.edgelist\n",
      "H=read_edgelist(path=\"grid.edgelist\",delimiter=\":\") \n"
     ],
     "language": "python",
     "metadata": {},
     "outputs": [
      {
       "output_type": "stream",
       "stream": "stdout",
       "text": [
        "#-c -f /Users/wiggins/.ipython/profile_default/security/kernel-f06bb7f2-4ec3-422d-bb4d-7f1fd7ed1bb0.json --IPKernelApp.parent_appname='ipython-notebook' --profile-dir /Users/wiggins/.ipython/profile_default --parent=1\n",
        "# GMT Mon Aug 25 08:01:59 2014\n",
        "# grid_2d_graph\n",
        "(1, 3) (1, 2) (0, 3) (2, 3) (1, 4)\n",
        "(3, 0) (2, 0) (3, 1) (4, 0)\n",
        "(2, 1) (2, 0) (3, 1) (1, 1) (2, 2)\n",
        "(0, 3) (0, 2) (0, 4)\n",
        "(4, 0) (4, 1)\n",
        "(1, 2) (1, 1) (0, 2) (2, 2)\n",
        "(3, 3) (3, 4) (3, 2) (2, 3) (4, 3)\n",
        "(4, 4) (3, 4) (4, 3)\n",
        "(2, 2) (3, 2) (2, 3)\n",
        "(4, 1) (4, 2) (3, 1)\n",
        "(1, 1) (0, 1) (1, 0)\n",
        "(3, 2) (4, 2) (3, 1)\n",
        "(0, 0) (0, 1) (1, 0)\n",
        "(0, 4) (1, 4)\n",
        "(1, 4) (2, 4)\n",
        "(2, 3) (2, 4)\n",
        "(4, 2) (4, 3)\n",
        "(1, 0) (2, 0)\n",
        "(0, 1) (0, 2)\n",
        "(3, 1)\n",
        "(2, 4) (3, 4)\n",
        "(2, 0)\n",
        "(4, 3)\n",
        "(3, 4)\n",
        "(0, 2)\n"
       ]
      }
     ],
     "prompt_number": 100
    },
    {
     "cell_type": "code",
     "collapsed": false,
     "input": [
      "# ok now something cool: an overlay of graph and its degree rank plot\n",
      "G = nx.gnp_random_graph(100,0.02)\n",
      "\n",
      "degree_sequence=sorted(nx.degree(G).values(),reverse=True) # degree sequence\n",
      "#print \"Degree sequence\", degree_sequence\n",
      "dmax=max(degree_sequence)\n",
      "\n",
      "plt.loglog(degree_sequence,'b-',marker='o')\n",
      "plt.title(\"Degree rank plot\")\n",
      "plt.ylabel(\"degree\")\n",
      "plt.xlabel(\"rank\")\n",
      "\n",
      "# draw graph in inset \n",
      "plt.axes([0.45,0.45,0.45,0.45])\n",
      "Gcc=sorted(nx.connected_component_subgraphs(G), key = len, reverse=True)[0]\n",
      "pos=nx.spring_layout(Gcc)\n",
      "plt.axis('off')\n",
      "nx.draw_networkx_nodes(Gcc,pos,node_size=20)\n",
      "nx.draw_networkx_edges(Gcc,pos,alpha=0.4)\n",
      "\n",
      "plt.savefig(\"degree_rank_plot.png\")\n",
      "plt.show()\n",
      "\n"
     ],
     "language": "python",
     "metadata": {},
     "outputs": [],
     "prompt_number": 103
    },
    {
     "cell_type": "markdown",
     "metadata": {},
     "source": [
      "Finally an example of 'real world' data. Here I reproduce the example python in full, with credit and Copyright. "
     ]
    },
    {
     "cell_type": "code",
     "collapsed": false,
     "input": [
      "#!/usr/bin/env python\n",
      "\"\"\"\n",
      "Load football network in GML format and compute some network statistcs.\n",
      "\n",
      "Shows how to download GML graph in a zipped file, unpack it, and load\n",
      "into a NetworkX graph.\n",
      "\n",
      "Requires Internet connection to download the URL\n",
      "http://www-personal.umich.edu/~mejn/netdata/football.zip\n",
      "\n",
      "\"\"\"\n",
      "__author__ = \"\"\"Aric Hagberg (hagberg@lanl.gov)\"\"\"\n",
      "#    Copyright (C) 2007 by \n",
      "#    Aric Hagberg <hagberg@lanl.gov>\n",
      "#    Dan Schult <dschult@colgate.edu>\n",
      "#    Pieter Swart <swart@lanl.gov>\n",
      "#    All rights reserved.\n",
      "#    BSD license.\n",
      "\n",
      "try:\n",
      "    import pyparsing\n",
      "except ImportError as e:\n",
      "    raise ImportError(str(e)+\". Check http://pyparsing.wikispaces.com/\")\n",
      "    \n",
      "from networkx import *\n",
      "\n",
      "url=\"http://www-personal.umich.edu/~mejn/netdata/football.zip\"\n",
      "\n",
      "try: # Python 3.x\n",
      "    import urllib.request as urllib\n",
      "except ImportError: # Python 2.x\n",
      "    import urllib\n",
      "import io\n",
      "import zipfile\n",
      "\n",
      "sock = urllib.urlopen(url)  # open URL\n",
      "s=io.BytesIO(sock.read()) # read into BytesIO \"file\"\n",
      "sock.close()\n",
      "\n",
      "zf = zipfile.ZipFile(s) # zipfile object\n",
      "txt=zf.read('football.txt').decode() # read info file\n",
      "gml=zf.read('football.gml').decode() # read gml data\n",
      "# throw away bogus first line with # from mejn files\n",
      "gml=gml.split('\\n')[1:]\n",
      "G=parse_gml(gml) # parse gml data\n",
      "\n",
      "print(txt)\n",
      "# print degree for each team - number of games\n",
      "for n,d in G.degree_iter():\n",
      "    print('%s %d' % (n, d))\n"
     ],
     "language": "python",
     "metadata": {},
     "outputs": [
      {
       "output_type": "stream",
       "stream": "stdout",
       "text": [
        "The file football.gml contains the network of American football games\n",
        "between Division IA colleges during regular season Fall 2000, as compiled\n",
        "by M. Girvan and M. Newman.  The nodes have values that indicate to which\n",
        "conferences they belong.  The values are as follows:\n",
        "\n",
        "  0 = Atlantic Coast\n",
        "  1 = Big East\n",
        "  2 = Big Ten\n",
        "  3 = Big Twelve\n",
        "  4 = Conference USA\n",
        "  5 = Independents\n",
        "  6 = Mid-American\n",
        "  7 = Mountain West\n",
        "  8 = Pacific Ten\n",
        "  9 = Southeastern\n",
        " 10 = Sun Belt\n",
        " 11 = Western Athletic\n",
        "\n",
        "If you make use of these data, please cite M. Girvan and M. E. J. Newman,\n",
        "Community structure in social and biological networks,\n",
        "Proc. Natl. Acad. Sci. USA 99, 7821-7826 (2002).\n",
        "\n",
        "Mississippi 11\n",
        "OregonState 10\n",
        "NotreDame 11\n",
        "Wyoming 11\n",
        "Minnesota 11\n",
        "Illinois 11\n",
        "Kent 10\n",
        "Toledo 9\n",
        "Indiana 11\n",
        "Clemson 10\n",
        "Texas 11\n",
        "BostonCollege 11\n",
        "MississippiState 11\n",
        "Tulsa 12\n",
        "Kansas 10\n",
        "SouthernMethodist 12\n",
        "Connecticut 7\n",
        "Tulane 11\n",
        "Duke 11\n",
        "Missouri 10\n",
        "TexasChristian 11\n",
        "LouisianaState 10\n",
        "CentralFlorida 8\n",
        "Cincinnati 11\n",
        "Washington 11\n",
        "OklahomaState 10\n",
        "Marshall 11\n",
        "IowaState 11\n",
        "Army 11\n",
        "LouisianaTech 10\n",
        "AlabamaBirmingham 10\n",
        "MiamiOhio 11\n",
        "MiddleTennesseeState 9\n",
        "Maryland 11\n",
        "Rice 11\n",
        "SanJoseState 11\n",
        "NorthCarolinaState 11\n",
        "Arizona 11\n",
        "Wisconsin 12\n",
        "Pittsburgh 11\n",
        "Michigan 11\n",
        "Purdue 11\n",
        "Oregon 11\n",
        "Syracuse 11\n",
        "SouthernCalifornia 12\n",
        "Northwestern 11\n",
        "SanDiegoState 11\n",
        "Florida 11\n",
        "BowlingGreenState 11\n",
        "NewMexicoState 11\n",
        "Baylor 10\n",
        "MichiganState 11\n",
        "Ohio 10\n",
        "Buffalo 11\n",
        "SouthernMississippi 10\n",
        "WashingtonState 11\n",
        "BoiseState 9\n",
        "WakeForest 10\n",
        "NorthernIllinois 10\n",
        "KansasState 13\n",
        "WesternMichigan 11\n",
        "Navy 11\n",
        "VirginiaTech 11\n",
        "UtahState 9\n",
        "Oklahoma 12\n",
        "GeorgiaTech 11\n",
        "Louisville 10\n",
        "Arkansas 10\n",
        "Temple 11\n",
        "BallState 10\n",
        "Vanderbilt 11\n",
        "LouisianaLafayette 8\n",
        "California 11\n",
        "ColoradoState 10\n",
        "Akron 11\n",
        "FresnoState 11\n",
        "Georgia 10\n",
        "TexasA&M 11\n",
        "FloridaState 12\n",
        "Rutgers 10\n",
        "NevadaLasVegas 12\n",
        "PennState 12\n",
        "LouisianaMonroe 8\n",
        "Colorado 11\n",
        "ArizonaState 11\n",
        "Memphis 11\n",
        "BrighamYoung 12\n",
        "UCLA 11\n",
        "Auburn 11\n",
        "Nevada 12\n",
        "ArkansasState 10\n",
        "EasternMichigan 11\n",
        "SouthCarolina 11\n",
        "MiamiFlorida 10\n",
        "Idaho 9\n",
        "OhioState 11\n",
        "Utah 11\n",
        "Virginia 10\n",
        "TexasElPaso 11\n",
        "TexasTech 12\n",
        "NewMexico 11\n",
        "CentralMichigan 11\n",
        "Stanford 11\n",
        "EastCarolina 11\n",
        "NorthCarolina 11\n",
        "Hawaii 11\n",
        "Kentucky 10\n",
        "Nebraska 11\n",
        "WestVirginia 11\n",
        "Iowa 12\n",
        "Alabama 11\n",
        "Houston 11\n",
        "NorthTexas 10\n",
        "AirForce 10\n",
        "Tennessee 11\n"
       ]
      }
     ],
     "prompt_number": 104
    }
   ],
   "metadata": {}
  }
 ]
}