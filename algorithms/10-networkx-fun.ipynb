{
 "metadata": {
  "name": "",
  "signature": "sha256:b876e512576cb75e96de216d50666b1f1a063faf2baa8343a1d014af7b3db7e7"
 },
 "nbformat": 3,
 "nbformat_minor": 0,
 "worksheets": [
  {
   "cells": [
    {
     "cell_type": "code",
     "collapsed": false,
     "input": [
      "import networkx as nx\n",
      "import matplotlib.pyplot as plt\n",
      "\n",
      "G=nx.path_graph(8)\n",
      "nx.draw(G)\n",
      "plt.savefig(\"simple_path.png\") # save as png\n",
      "plt.show() # display\n"
     ],
     "language": "python",
     "metadata": {},
     "outputs": [],
     "prompt_number": 11
    },
    {
     "cell_type": "code",
     "collapsed": false,
     "input": [],
     "language": "python",
     "metadata": {},
     "outputs": [],
     "prompt_number": 11
    },
    {
     "cell_type": "code",
     "collapsed": false,
     "input": [],
     "language": "python",
     "metadata": {},
     "outputs": []
    }
   ],
   "metadata": {}
  }
 ]
}