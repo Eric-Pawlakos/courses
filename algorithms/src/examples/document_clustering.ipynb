{
 "metadata": {
  "name": "",
  "signature": "sha256:942f48145a26d33d5b6cabd58c0b875bb82aff0e0df6a593920431b5cf4b57a6"
 },
 "nbformat": 3,
 "nbformat_minor": 0,
 "worksheets": [
  {
   "cells": [
    {
     "cell_type": "code",
     "collapsed": false,
     "input": [
      "from sklearn.datasets import fetch_20newsgroups\n",
      "from sklearn.feature_extraction.text import TfidfVectorizer\n",
      "from sklearn import metrics\n",
      "\n",
      "from sklearn.cluster import KMeans, MiniBatchKMeans\n",
      "\n",
      "import logging\n",
      "from optparse import OptionParser\n",
      "import sys\n",
      "from time import time\n",
      "\n",
      "import numpy as np\n",
      "\n",
      "\n",
      "# Display progress logs on stdout\n",
      "logging.basicConfig(level=logging.INFO,\n",
      "                    format='%(asctime)s %(levelname)s %(message)s')\n",
      "\n"
     ],
     "language": "python",
     "metadata": {},
     "outputs": [
      {
       "ename": "ImportError",
       "evalue": "No module named sklearn.datasets",
       "output_type": "pyerr",
       "traceback": [
        "\u001b[0;31m---------------------------------------------------------------------------\u001b[0m\n\u001b[0;31mImportError\u001b[0m                               Traceback (most recent call last)",
        "\u001b[0;32m<ipython-input-2-8b957d738550>\u001b[0m in \u001b[0;36m<module>\u001b[0;34m()\u001b[0m\n\u001b[0;32m----> 1\u001b[0;31m \u001b[0;32mfrom\u001b[0m \u001b[0msklearn\u001b[0m\u001b[0;34m.\u001b[0m\u001b[0mdatasets\u001b[0m \u001b[0;32mimport\u001b[0m \u001b[0mfetch_20newsgroups\u001b[0m\u001b[0;34m\u001b[0m\u001b[0m\n\u001b[0m\u001b[1;32m      2\u001b[0m \u001b[0;32mfrom\u001b[0m \u001b[0msklearn\u001b[0m\u001b[0;34m.\u001b[0m\u001b[0mfeature_extraction\u001b[0m\u001b[0;34m.\u001b[0m\u001b[0mtext\u001b[0m \u001b[0;32mimport\u001b[0m \u001b[0mTfidfVectorizer\u001b[0m\u001b[0;34m\u001b[0m\u001b[0m\n\u001b[1;32m      3\u001b[0m \u001b[0;32mfrom\u001b[0m \u001b[0msklearn\u001b[0m \u001b[0;32mimport\u001b[0m \u001b[0mmetrics\u001b[0m\u001b[0;34m\u001b[0m\u001b[0m\n\u001b[1;32m      4\u001b[0m \u001b[0;34m\u001b[0m\u001b[0m\n\u001b[1;32m      5\u001b[0m \u001b[0;32mfrom\u001b[0m \u001b[0msklearn\u001b[0m\u001b[0;34m.\u001b[0m\u001b[0mcluster\u001b[0m \u001b[0;32mimport\u001b[0m \u001b[0mKMeans\u001b[0m\u001b[0;34m,\u001b[0m \u001b[0mMiniBatchKMeans\u001b[0m\u001b[0;34m\u001b[0m\u001b[0m\n",
        "\u001b[0;31mImportError\u001b[0m: No module named sklearn.datasets"
       ]
      }
     ],
     "prompt_number": 2
    },
    {
     "cell_type": "code",
     "collapsed": false,
     "input": [
      "# parse commandline arguments\n",
      "op = OptionParser()\n",
      "op.add_option(\"--no-minibatch\",\n",
      "              action=\"store_false\", dest=\"minibatch\", default=True,\n",
      "              help=\"Use ordinary k-means algorithm.\")\n",
      "\n",
      "print __doc__\n",
      "op.print_help()\n",
      "\n",
      "(opts, args) = op.parse_args()\n",
      "if len(args) > 0:\n",
      "    op.error(\"this script takes no arguments.\")\n",
      "    sys.exit(1)"
     ],
     "language": "python",
     "metadata": {},
     "outputs": []
    },
    {
     "cell_type": "code",
     "collapsed": false,
     "input": [
      "###############################################################################\n",
      "# Load some categories from the training set\n",
      "categories = [\n",
      "    'alt.atheism',\n",
      "    'talk.religion.misc',\n",
      "    'comp.graphics',\n",
      "    'sci.space',\n",
      "]"
     ],
     "language": "python",
     "metadata": {},
     "outputs": []
    },
    {
     "cell_type": "code",
     "collapsed": false,
     "input": [
      "# Uncomment the following to do the analysis on all the categories\n",
      "#categories = None\n",
      "\n",
      "print \"Loading 20 newsgroups dataset for categories:\"\n",
      "print categories\n",
      "\n",
      "dataset = fetch_20newsgroups(subset='all', categories=categories,\n",
      "                             shuffle=True, random_state=42)\n",
      "\n",
      "print \"%d documents\" % len(dataset.data)\n",
      "print \"%d categories\" % len(dataset.target_names)\n",
      "print\n",
      "\n",
      "labels = dataset.target\n",
      "true_k = np.unique(labels).shape[0]\n",
      "\n",
      "print \"Extracting features from the training dataset using a sparse vectorizer\"\n",
      "t0 = time()\n",
      "vectorizer = TfidfVectorizer(max_df=0.5, max_features=10000,\n",
      "                             stop_words='english')\n",
      "X = vectorizer.fit_transform(dataset.data)\n",
      "\n",
      "print \"done in %fs\" % (time() - t0)\n",
      "print \"n_samples: %d, n_features: %d\" % X.shape\n",
      "print"
     ],
     "language": "python",
     "metadata": {},
     "outputs": []
    },
    {
     "cell_type": "code",
     "collapsed": false,
     "input": [
      "###############################################################################\n",
      "# Do the actual clustering\n",
      "\n",
      "if opts.minibatch:\n",
      "    km = MiniBatchKMeans(k=true_k, init='k-means++', n_init=1,\n",
      "                         init_size=1000,\n",
      "                         batch_size=1000, verbose=1)\n",
      "else:\n",
      "    km = KMeans(k=true_k, init='random', max_iter=100, n_init=1, verbose=1)\n",
      "\n",
      "print \"Clustering sparse data with %s\" % km\n",
      "t0 = time()\n",
      "km.fit(X)\n",
      "print \"done in %0.3fs\" % (time() - t0)\n",
      "print\n",
      "\n",
      "print \"Homogeneity: %0.3f\" % metrics.homogeneity_score(labels, km.labels_)\n",
      "print \"Completeness: %0.3f\" % metrics.completeness_score(labels, km.labels_)\n",
      "print \"V-measure: %0.3f\" % metrics.v_measure_score(labels, km.labels_)\n",
      "print \"Adjusted Rand-Index: %.3f\" % \\\n",
      "    metrics.adjusted_rand_score(labels, km.labels_)\n",
      "print \"Silhouette Coefficient: %0.3f\" % metrics.silhouette_score(\n",
      "    X, labels, sample_size=1000)\n",
      "\n",
      "print"
     ],
     "language": "python",
     "metadata": {},
     "outputs": []
    }
   ],
   "metadata": {}
  }
 ]
}