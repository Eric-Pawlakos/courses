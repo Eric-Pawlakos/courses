{
 "metadata": {
  "name": "",
  "signature": "sha256:189408f41a1ee14cdf69b86d32837e5743c4953027a869359407debb81a40143"
 },
 "nbformat": 3,
 "nbformat_minor": 0,
 "worksheets": [
  {
   "cells": [
    {
     "cell_type": "code",
     "collapsed": false,
     "input": [
      "from sklearn.datasets import fetch_20newsgroups\n",
      "from sklearn.feature_extraction.text import TfidfVectorizer\n",
      "from sklearn import metrics\n",
      "\n",
      "from sklearn.cluster import KMeans, MiniBatchKMeans\n",
      "\n",
      "import logging\n",
      "from optparse import OptionParser\n",
      "import sys\n",
      "from time import time\n",
      "\n",
      "import numpy as np\n",
      "\n",
      "\n",
      "# Display progress logs on stdout\n",
      "logging.basicConfig(level=logging.INFO,\n",
      "                    format='%(asctime)s %(levelname)s %(message)s')\n",
      "\n"
     ],
     "language": "python",
     "metadata": {},
     "outputs": [],
     "prompt_number": 8
    },
    {
     "cell_type": "code",
     "collapsed": false,
     "input": [
      "# parse commandline arguments\n",
      "#op = OptionParser()\n",
      "#op.add_option(\"--no-minibatch\",\n",
      "#              action=\"store_false\", dest=\"minibatch\", default=True,\n",
      "#              help=\"Use ordinary k-means algorithm.\")\n",
      "\n",
      "#print __doc__\n",
      "#op.print_help()\n",
      "\n",
      "#(opts, args) = op.parse_args()\n",
      "#if len(args) > 0:\n",
      "#    op.error(\"this script takes no arguments.\")\n",
      "#    sys.exit(1)"
     ],
     "language": "python",
     "metadata": {},
     "outputs": [],
     "prompt_number": 9
    },
    {
     "cell_type": "code",
     "collapsed": false,
     "input": [
      "###############################################################################\n",
      "# Load some categories from the training set\n",
      "categories = [\n",
      "    'alt.atheism',\n",
      "    'talk.religion.misc',\n",
      "    'comp.graphics',\n",
      "    'sci.space',\n",
      "]"
     ],
     "language": "python",
     "metadata": {},
     "outputs": [],
     "prompt_number": 10
    },
    {
     "cell_type": "code",
     "collapsed": false,
     "input": [
      "# Uncomment the following to do the analysis on all the categories\n",
      "#categories = None\n",
      "\n",
      "print \"Loading 20 newsgroups dataset for categories:\"\n",
      "print categories\n",
      "\n",
      "dataset = fetch_20newsgroups(subset='all', categories=categories,\n",
      "                             shuffle=True, random_state=42)\n",
      "\n",
      "print \"%d documents\" % len(dataset.data)\n",
      "print \"%d categories\" % len(dataset.target_names)\n",
      "print\n",
      "\n",
      "labels = dataset.target\n",
      "true_k = np.unique(labels).shape[0]\n",
      "\n",
      "print \"Extracting features from the training dataset using a sparse vectorizer\"\n",
      "t0 = time()\n",
      "vectorizer = TfidfVectorizer(max_df=0.5, max_features=10000,\n",
      "                             stop_words='english')\n",
      "X = vectorizer.fit_transform(dataset.data)\n",
      "\n",
      "print \"done in %fs\" % (time() - t0)\n",
      "print \"n_samples: %d, n_features: %d\" % X.shape\n",
      "print"
     ],
     "language": "python",
     "metadata": {},
     "outputs": [
      {
       "output_type": "stream",
       "stream": "stdout",
       "text": [
        "Loading 20 newsgroups dataset for categories:\n",
        "['alt.atheism', 'talk.religion.misc', 'comp.graphics', 'sci.space']\n",
        "3387 documents"
       ]
      },
      {
       "output_type": "stream",
       "stream": "stdout",
       "text": [
        "\n",
        "4 categories\n",
        "\n",
        "Extracting features from the training dataset using a sparse vectorizer\n",
        "done in 1.956170s"
       ]
      },
      {
       "output_type": "stream",
       "stream": "stdout",
       "text": [
        "\n",
        "n_samples: 3387, n_features: 10000\n",
        "\n"
       ]
      }
     ],
     "prompt_number": 11
    },
    {
     "cell_type": "code",
     "collapsed": false,
     "input": [
      "###############################################################################\n",
      "# Do the actual clustering\n",
      "\n",
      "#if opts.minibatch:\n",
      "#    km = MiniBatchKMeans(k=true_k, init='k-means++', n_init=1,\n",
      "#                         init_size=1000,\n",
      "#                         batch_size=1000, verbose=1)\n",
      "#else:\n",
      "#OLD AND BUSTED:\n",
      "#km = KMeans(k=true_k, init='random', max_iter=100, n_init=1, verbose=1)\n",
      "#NEW HOTNESS:\n",
      "km = KMeans(n_clusters=true_k, init='random', max_iter=100, n_init=1, verbose=1)\n",
      "\n",
      "print \"Clustering sparse data with %s\" % km\n",
      "t0 = time()\n",
      "km.fit(X)\n",
      "print \"done in %0.3fs\" % (time() - t0)\n",
      "print\n",
      "\n",
      "print \"Homogeneity: %0.3f\" % metrics.homogeneity_score(labels, km.labels_)\n",
      "print \"Completeness: %0.3f\" % metrics.completeness_score(labels, km.labels_)\n",
      "print \"V-measure: %0.3f\" % metrics.v_measure_score(labels, km.labels_)\n",
      "print \"Adjusted Rand-Index: %.3f\" % \\\n",
      "    metrics.adjusted_rand_score(labels, km.labels_)\n",
      "print \"Silhouette Coefficient: %0.3f\" % metrics.silhouette_score(\n",
      "    X, labels, sample_size=1000)"
     ],
     "language": "python",
     "metadata": {},
     "outputs": [
      {
       "output_type": "stream",
       "stream": "stdout",
       "text": [
        "Clustering sparse data with KMeans(copy_x=True, init='random', max_iter=100, n_clusters=4, n_init=1,\n",
        "    n_jobs=1, precompute_distances=True, random_state=None, tol=0.0001,\n",
        "    verbose=1)\n",
        "Initialization complete\n",
        "Iteration  0, inertia 6480.590\n",
        "Iteration  1, inertia 3294.911"
       ]
      },
      {
       "output_type": "stream",
       "stream": "stdout",
       "text": [
        "\n",
        "Iteration  2, inertia 3280.523\n",
        "Iteration  3, inertia 3277.218\n",
        "Iteration  4, inertia 3275.420"
       ]
      },
      {
       "output_type": "stream",
       "stream": "stdout",
       "text": [
        "\n",
        "Iteration  5, inertia 3274.151\n",
        "Iteration  6, inertia 3273.072\n",
        "Iteration  7, inertia 3272.197"
       ]
      },
      {
       "output_type": "stream",
       "stream": "stdout",
       "text": [
        "\n",
        "Iteration  8, inertia 3271.885\n",
        "Iteration  9, inertia 3271.745\n",
        "Iteration 10, inertia 3271.622"
       ]
      },
      {
       "output_type": "stream",
       "stream": "stdout",
       "text": [
        "\n",
        "Iteration 11, inertia 3271.563\n",
        "Iteration 12, inertia 3271.457\n",
        "Iteration 13, inertia 3271.367"
       ]
      },
      {
       "output_type": "stream",
       "stream": "stdout",
       "text": [
        "\n",
        "Iteration 14, inertia 3271.074\n",
        "Iteration 15, inertia 3270.526\n",
        "Iteration 16, inertia 3270.500"
       ]
      },
      {
       "output_type": "stream",
       "stream": "stdout",
       "text": [
        "\n",
        "Iteration 17, inertia 3270.482\n",
        "Iteration 18, inertia 3270.463\n",
        "Iteration 19, inertia 3270.454"
       ]
      },
      {
       "output_type": "stream",
       "stream": "stdout",
       "text": [
        "\n",
        "Iteration 20, inertia 3270.441\n",
        "Iteration 21, inertia 3270.420\n",
        "Iteration 22, inertia 3270.405"
       ]
      },
      {
       "output_type": "stream",
       "stream": "stdout",
       "text": [
        "\n",
        "Iteration 23, inertia 3270.402\n",
        "Converged at iteration 23\n",
        "done in 0.524s\n",
        "\n",
        "Homogeneity: 0.576\n",
        "Completeness: 0.646\n",
        "V-measure: 0.609\n",
        "Adjusted Rand-Index: 0.563\n",
        "Silhouette Coefficient: 0.007"
       ]
      },
      {
       "output_type": "stream",
       "stream": "stdout",
       "text": [
        "\n"
       ]
      }
     ],
     "prompt_number": 14
    },
    {
     "cell_type": "code",
     "collapsed": false,
     "input": [],
     "language": "python",
     "metadata": {},
     "outputs": [],
     "prompt_number": 12
    },
    {
     "cell_type": "code",
     "collapsed": false,
     "input": [],
     "language": "python",
     "metadata": {},
     "outputs": [],
     "prompt_number": 6
    },
    {
     "cell_type": "code",
     "collapsed": false,
     "input": [],
     "language": "python",
     "metadata": {},
     "outputs": []
    }
   ],
   "metadata": {}
  }
 ]
}