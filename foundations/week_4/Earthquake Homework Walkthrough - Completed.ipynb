{
 "metadata": {
  "name": "",
  "signature": "sha256:ad20ac564f2699f13c08e046da73d9e4e8d8b45cb48b7cb467571d5bbe900cb9"
 },
 "nbformat": 3,
 "nbformat_minor": 0,
 "worksheets": [
  {
   "cells": [
    {
     "cell_type": "markdown",
     "metadata": {},
     "source": [
      "# Homework Review: Baby Quakebot\n",
      "\n",
      "Inspired by [Quakebot](https://source.opennews.org/en-US/articles/how-break-news-while-you-sleep/), we're making a baby-steps version that illustrates how functions can be used to extract code into reuseable parts.\n",
      "\n",
      "The original version was to be run at the command line using `python eq_homework.py`, but we're using IPython Notebooks for the review because it's a little bit easier to walk you through it all. IPython Notebooks does get a little confusing with functions, though, so when you have need to write them you'll need to be careful.\n",
      "\n",
      "## The Data\n",
      "First, let's take a look at how the earthquake data comes from USGS"
     ]
    },
    {
     "cell_type": "code",
     "collapsed": false,
     "input": [
      "earthquake = {\n",
      "  'rms': '1.85', \n",
      "  'updated': '2014-06-11T05:22:21.596Z', \n",
      "  'type': 'earthquake', \n",
      "  'magType': 'mwp', \n",
      "  'longitude': '-136.6561', \n",
      "  'gap': '48', \n",
      "  'depth': '10', \n",
      "  'dmin': '0.811', \n",
      "  'mag': '5.7', \n",
      "  'time': '2014-06-04T11:58:58.200Z', \n",
      "  'latitude': '59.0001', \n",
      "  'place': '73km WSW of Haines, Alaska', \n",
      "  'net': 'us', \n",
      "  'nst': '', \n",
      "  'id': 'usc000rauc'}"
     ],
     "language": "python",
     "metadata": {},
     "outputs": [],
     "prompt_number": 1
    },
    {
     "cell_type": "markdown",
     "metadata": {},
     "source": [
      "What are we doing with this specific data? It's just there to learn how the data is structured - what a 'place' looks like, how they format the time, what kinds of information we'd end up dealing with if we made a real quakebot.\n",
      "\n",
      "When we actually start processing the information, it's all direct function calls. Don't run the next few cells, they won't work - if you end up running them, clear the error output using Cell > Current Output > Clear."
     ]
    },
    {
     "cell_type": "code",
     "collapsed": false,
     "input": [
      "print \"There was a \" + earthquake_size(6.1) + \\\n",
      "        \", \" + earthquake_depth(5.289) + \\\n",
      "        \" earthquake \" + earthquake_day('2014-06-04T11:58:58.200Z') + \\\n",
      "        \" \" + earthquake_day('2014-06-04T11:58:58.200Z') + \\\n",
      "        \" \" + earthquake_distance(\"91km NE of Miches, Dominican Republic\") + \\\n",
      "        \" \" + earthquake_location(\"91km NE of Miches, Dominican Republic\")"
     ],
     "language": "python",
     "metadata": {},
     "outputs": []
    },
    {
     "cell_type": "markdown",
     "metadata": {},
     "source": [
      "If we have a whole list of dictionaries like the earthquake dictionary above, we could in theory do something like this..."
     ]
    },
    {
     "cell_type": "code",
     "collapsed": false,
     "input": [
      "for earthquake in earthquakes:\n",
      "    print \"There was a \" + earthquake_size(earthquake['mag']) + \\\n",
      "        \", \" + earthquake_depth(earthquake['depth']) + \\\n",
      "        \" earthquake \" + earthquake_day(earthquake['time']) + \\\n",
      "        \" \" + earthquake_day(earthquake['time']) + \\\n",
      "        \" \" + earthquake_distance(earthquake['place']) + \\\n",
      "        \" \" + earthquake_location(earthquake['place'])"
     ],
     "language": "python",
     "metadata": {},
     "outputs": []
    },
    {
     "cell_type": "markdown",
     "metadata": {},
     "source": [
      "But I wanted us to keep things a little simpler for the time being, so we stuck with hard-coded values."
     ]
    },
    {
     "cell_type": "markdown",
     "metadata": {},
     "source": [
      "# The Functions\n",
      "\n",
      "Now let's take a look at each individual function...\n",
      "\n",
      "## Problem 1"
     ]
    },
    {
     "cell_type": "code",
     "collapsed": false,
     "input": [
      "# PROBLEM 1:\n",
      "# Let's make the print statement reflect the size of the earthquake\n",
      "#\n",
      "# Write a function that describes each earthquake using a scale similar to the\n",
      "# one at the link below.\n",
      "#\n",
      "# Hint: You'll use if statements\n",
      "#\n",
      "# http://www.sdgs.usd.edu/publications/maps/earthquakes/images/RichterScale.gif\n",
      "\n",
      "def earthquake_size(richter_measurement):\n",
      "    return \"large\""
     ],
     "language": "python",
     "metadata": {},
     "outputs": [],
     "prompt_number": 4
    },
    {
     "cell_type": "markdown",
     "metadata": {},
     "source": [
      "That gif looks like this\n",
      "\n",
      "![Alt text](http://www.sdgs.usd.edu/publications/maps/earthquakes/images/RichterScale.gif)\n"
     ]
    },
    {
     "cell_type": "markdown",
     "metadata": {},
     "source": [
      "So, something like below 1.5 is not felt, below 4 is minor, below 5 is small, below 6 is moderate, below 7 is strong, below 8 is major, and above 8 is great. How do we convert that into code?"
     ]
    },
    {
     "cell_type": "code",
     "collapsed": false,
     "input": [
      "def earthquake_size(richter_measurement):\n",
      "    if richter_measurement <= 2 and richter_measurement > 0:\n",
      "        return \"not felt\"\n",
      "    if richter_measurement <= 3 and richter_measurement > 2:\n",
      "        return \"small\"\n",
      "    if richter_measurement <= 4 and richter_measurement > 3:\n",
      "        return \"medium\"\n",
      "    if richter_measurement <= 7 and richter_measurement > 4:\n",
      "        return \"large\"\n",
      "    if richter_measurement > 7:\n",
      "        return \"super large\"\n",
      "    return \"ERROR\"\n",
      "    \n",
      "print \"Size: \" + earthquake_size(9.7)\n",
      "print \"Size: \" + earthquake_size(1.1)\n",
      "print \"Size: \" + earthquake_size(8.7)\n",
      "print \"Size: \" + earthquake_size(3.3)\n",
      "print \"Size: \" + earthquake_size(6.1)"
     ],
     "language": "python",
     "metadata": {},
     "outputs": [
      {
       "output_type": "stream",
       "stream": "stdout",
       "text": [
        "Size: super large\n",
        "Size: not felt\n",
        "Size: super large\n",
        "Size: medium\n",
        "Size: large\n"
       ]
      }
     ],
     "prompt_number": 18
    },
    {
     "cell_type": "markdown",
     "metadata": {},
     "source": [
      "## Problem 2"
     ]
    },
    {
     "cell_type": "code",
     "collapsed": false,
     "input": [
      "# PROBLEM 2:\n",
      "# Let's make the print statement reflect the depth of the earthquake\n",
      "#\n",
      "# Make a function that describes each earthquake using a depth according to\n",
      "# the information at the linke below\n",
      "#\n",
      "# http://earthquake.usgs.gov/learn/topics/seismology/determining_depth.php\n",
      "#\n",
      "# Hint: You'll use if statements, and be careful about types!\n",
      "\n",
      "\n",
      "def earthquake_depth(depth):\n",
      "    return \"shallow\""
     ],
     "language": "python",
     "metadata": {},
     "outputs": [],
     "prompt_number": 6
    },
    {
     "cell_type": "markdown",
     "metadata": {},
     "source": [
      "The link above contains the following text...\n",
      "\n",
      "> Earthquakes can occur anywhere between the Earth's surface and about 700 kilometers below the surface. For scientific purposes, this earthquake depth range of 0 - 700 km is divided into three zones: shallow, intermediate, and deep.\n",
      "\n",
      "> Shallow earthquakes are between 0 and 70 km deep; intermediate earthquakes, 70 - 300 km deep; and deep earthquakes, 300 - 700 km deep. In general, the term \"deep-focus earthquakes\" is applied to earthquakes deeper than 70 km. All earthquakes deeper than 70 km are localized within great slabs of shallow lithosphere that are sinking into the Earth's mantle. \n",
      "\n",
      "So, 0-70km is shallow, 70-300km is intermediate, 300-700km is deep. How do we translate that into code?"
     ]
    },
    {
     "cell_type": "code",
     "collapsed": false,
     "input": [
      "def earthquake_depth(depth):\n",
      "    float_depth = float(depth)\n",
      "    if float_depth <= 70:\n",
      "        return \"shallow\"\n",
      "    elif float_depth > 70 and float_depth <= 300:\n",
      "        return \"intermediate\"\n",
      "    elif float_depth > 300 and float_depth <= 700:\n",
      "        return \"deep\"\n",
      "    return \"really really deep\"\n",
      "\n",
      "print earthquake_depth('0')\n",
      "print earthquake_depth('98.33')\n",
      "print earthquake_depth('344.32')\n",
      "print earthquake_depth('5.289')"
     ],
     "language": "python",
     "metadata": {},
     "outputs": [
      {
       "output_type": "stream",
       "stream": "stdout",
       "text": [
        "really really deep\n",
        "intermediate\n",
        "deep\n",
        "shallow\n"
       ]
      }
     ],
     "prompt_number": 22
    },
    {
     "cell_type": "markdown",
     "metadata": {},
     "source": [
      "## Problem 3"
     ]
    },
    {
     "cell_type": "code",
     "collapsed": false,
     "input": [
      "# PROBLEM 3:\n",
      "# Let's make the print statement reflect the location the earthquake\n",
      "# happened by\n",
      "# \n",
      "# Use regular expressions to extract the location from the argument location_string\n",
      "# *or* research the 'split' function and see if it can be of use if you pass\n",
      "# it a certain special separator\n",
      "\n",
      "def earthquake_location(location_string):\n",
      "    return \"Haines, Alaska\""
     ],
     "language": "python",
     "metadata": {},
     "outputs": [],
     "prompt_number": 8
    },
    {
     "cell_type": "markdown",
     "metadata": {},
     "source": [
      "This one can get a little trickier, and is a great example of 1) how programming is piecing together a puzzle, and 2) how regular expressions are used in real life. An important topic with regexes is that sometimes you go after the data you're **trying to extract**, and sometimes you're going after the data you **want to get rid of**."
     ]
    },
    {
     "cell_type": "code",
     "collapsed": false,
     "input": [
      "def earthquake_location(location_string):\n",
      "    print location_string\n",
      "    # re.findall(r\"[A-Z][a-z].+\", location_string)\n",
      "    # print re.sub(r\"\\d+km [NESW]+ of \", \"\", location_string)\n",
      "    # print location_string.split(\" of \", 1)[1]\n",
      "    match = re.findall(r\" of .*\", location_string)[0]\n",
      "    print match\n",
      "    location = match[4:] # Pull out everything after the 4th char\n",
      "    print location\n",
      "    return location\n",
      "\n",
      "print earthquake_location(\"73km WSW of Township of Haines, Alaska\")\n",
      "print earthquake_location(\"238km N of Tobelo, Indonesia\")\n",
      "print earthquake_location(\"10km NE of Medford, Oklahoma\")\n",
      "print earthquake_location(\"91km NE of Miches, Dominican Republic\")"
     ],
     "language": "python",
     "metadata": {},
     "outputs": [
      {
       "output_type": "stream",
       "stream": "stdout",
       "text": [
        "73km WSW of Township of Haines, Alaska\n",
        " of Township of Haines, Alaska\n",
        "Township of Haines, Alaska\n",
        "Township of Haines, Alaska\n",
        "238km N of Tobelo, Indonesia\n",
        " of Tobelo, Indonesia\n",
        "Tobelo, Indonesia\n",
        "Tobelo, Indonesia\n",
        "10km NE of Medford, Oklahoma\n",
        " of Medford, Oklahoma\n",
        "Medford, Oklahoma\n",
        "Medford, Oklahoma\n",
        "91km NE of Miches, Dominican Republic\n",
        " of Miches, Dominican Republic\n",
        "Miches, Dominican Republic\n",
        "Miches, Dominican Republic\n"
       ]
      }
     ],
     "prompt_number": 67
    },
    {
     "cell_type": "markdown",
     "metadata": {},
     "source": [
      "## Problem 4"
     ]
    },
    {
     "cell_type": "code",
     "collapsed": false,
     "input": [
      "# PROBLEM 4:\n",
      "# Let's make the print statement reflect the distance between the earthquake\n",
      "# and the city\n",
      "#\n",
      "# You'll want to use several different categories, ie 'nearby', \n",
      "# 'far away from', and 'nowhere near'\n",
      "#\n",
      "# Hint: You'll use regular expressions to extract the kilometers from location_string,\n",
      "# then use if statements on the result\n",
      "#\n",
      "\n",
      "def earthquake_distance(location_string):\n",
      "    return \"near\""
     ],
     "language": "python",
     "metadata": {},
     "outputs": []
    },
    {
     "cell_type": "markdown",
     "metadata": {},
     "source": [
      "This question isn't nearly as bad regex-wise as the Problem 3, but it's the crystallization of concepts from every step so far - regular expressions, being careful about types, and if statements."
     ]
    },
    {
     "cell_type": "code",
     "collapsed": false,
     "input": [
      "import re\n",
      "\n",
      "def earthquake_distance(location_string):\n",
      "    digit_matches = re.findall(r\"\\d+\", location_string)\n",
      "    kilometers = digit_matches[0]) # 23km\n",
      "    if float(kilometers) > 50:\n",
      "        return \"far far away\"\n",
      "    else:\n",
      "        return \"kind of nearby\"\n",
      "\n",
      "print earthquake_distance(\"3km WSW of Haines, Alaska\")\n",
      "print earthquake_distance(\"23km N of Tobelo, Indonesia\")\n",
      "print earthquake_distance(\"1km NE of Medford, Oklahoma\")\n",
      "print earthquake_distance(\"91km NE of Miches, Dominican Republic\")"
     ],
     "language": "python",
     "metadata": {},
     "outputs": [
      {
       "output_type": "stream",
       "stream": "stdout",
       "text": [
        "kind of nearby\n",
        "kind of nearby\n",
        "kind of nearby\n",
        "far far away\n"
       ]
      }
     ],
     "prompt_number": 38
    },
    {
     "cell_type": "code",
     "collapsed": false,
     "input": [
      "string = \"33 people have 4 fish\"\n",
      "print re.sub(r\"\\d+\", \"ONE MILLION\", string)\n",
      "print re.sub(r\"[a-z]+\", \"blah\", string)\n",
      "print re.sub(r\"[a-z]+\", \"\", string)"
     ],
     "language": "python",
     "metadata": {},
     "outputs": [
      {
       "output_type": "stream",
       "stream": "stdout",
       "text": [
        "ONE MILLION people have ONE MILLION fish\n",
        "33 blah blah 4 blah\n",
        "33   4 \n"
       ]
      }
     ],
     "prompt_number": 70
    },
    {
     "cell_type": "code",
     "collapsed": false,
     "input": [],
     "language": "python",
     "metadata": {},
     "outputs": []
    }
   ],
   "metadata": {}
  }
 ]
}