{
 "metadata": {
  "name": "",
  "signature": "sha256:599cc921d366165d60ef36de5b190798c1ffb51946fcf49d3481ef675ca0593f"
 },
 "nbformat": 3,
 "nbformat_minor": 0,
 "worksheets": [
  {
   "cells": [
    {
     "cell_type": "markdown",
     "metadata": {},
     "source": [
      "# Easier Census Homework 2, Part 1?\n",
      "\n",
      "The first one was based on us doing a couple hours of census work today. This one is just based on the awesome knowledge we already have, although it also teaches a few other new bits, too.\n",
      "\n",
      "## Setup\n",
      "\n",
      "You know how to do this!"
     ]
    },
    {
     "cell_type": "code",
     "collapsed": false,
     "input": [
      "from census import Census\n",
      "from us import states\n",
      "\n",
      "c = Census(\"YOUR_KEY_HERE\")"
     ],
     "language": "python",
     "metadata": {},
     "outputs": [],
     "prompt_number": 1
    },
    {
     "cell_type": "markdown",
     "metadata": {},
     "source": [
      "## Problem Set 1: Median Income\n",
      "\n",
      "### Part 1: Codes\n",
      "\n",
      "What's the code for \"Median household income in the past 12 months\"?\n",
      "\n",
      "### Part 2: Nationwide\n",
      "\n",
      "What's the median household income for the United States?"
     ]
    },
    {
     "cell_type": "code",
     "collapsed": false,
     "input": [],
     "language": "python",
     "metadata": {},
     "outputs": [],
     "prompt_number": 1
    },
    {
     "cell_type": "markdown",
     "metadata": {},
     "source": [
      "### Part 3: States\n",
      "\n",
      "What's the medium household income for each state in the USA?"
     ]
    },
    {
     "cell_type": "code",
     "collapsed": false,
     "input": [],
     "language": "python",
     "metadata": {},
     "outputs": []
    },
    {
     "cell_type": "markdown",
     "metadata": {},
     "source": [
      "### Part 4: Sorting and/or min/max\n",
      "\n",
      "What state has the highest median income? What state has the lowest?"
     ]
    },
    {
     "cell_type": "code",
     "collapsed": false,
     "input": [],
     "language": "python",
     "metadata": {},
     "outputs": []
    },
    {
     "cell_type": "markdown",
     "metadata": {},
     "source": [
      "### Part 5: Counties\n",
      "\n",
      "To work with counties, you need to get the [county FIPS codes](http://www.columbia.edu/~sue/nycounty-fips.html) and use `c.acs.state_county`.\n",
      "\n",
      "**Tip:** Be sure to note that on that page the state code `36` is tacked onto the actual code.\n",
      "\n",
      "What is the median income of the borough of Queens?"
     ]
    },
    {
     "cell_type": "code",
     "collapsed": false,
     "input": [],
     "language": "python",
     "metadata": {},
     "outputs": []
    },
    {
     "cell_type": "markdown",
     "metadata": {},
     "source": [
      "...Brooklyn? Staten Island? Manhattan? The Bronx?"
     ]
    },
    {
     "cell_type": "code",
     "collapsed": false,
     "input": [],
     "language": "python",
     "metadata": {},
     "outputs": [],
     "prompt_number": 1
    },
    {
     "cell_type": "markdown",
     "metadata": {},
     "source": [
      "### Part 6: Census Tracts\n",
      "\n",
      "Okay, now we're digging a little bit deeper. You know how we've done `c.acs.us` and `c.acs.state` and `c.acs.state_county` so far? Now we want to get down real low and check out *census tracts*. Check out [the census module documentation](https://github.com/sunlightlabs/census) to see how to get data from census tracts.\n",
      "\n",
      "Get the median income for census tract `203`, which covers Columbia University.\n",
      "\n",
      "**Tip:** It's in Manhattan (New York County)"
     ]
    },
    {
     "cell_type": "code",
     "collapsed": false,
     "input": [],
     "language": "python",
     "metadata": {},
     "outputs": []
    },
    {
     "cell_type": "markdown",
     "metadata": {},
     "source": [
      "Get the median income for **all** census tracts in Manhattan. Sort them and figure out which are the top five or so. Are they in the same neighborhood?\n",
      "\n",
      "**\"HOW DO YOU KNOW WHERE THEY ARE?\"** you seem to be shouting, **\"THERE ISN'T A MAP IS SIGHT!**\" Come on, I know what I'm doing, click these links: [MAP ONE!](http://www2.census.gov/geo/maps/dc10map/tract/st36_ny/c36061_new_york/DC10CT_C36061_001.pdf) [MAP TWO!](http://www2.census.gov/geo/maps/dc10map/tract/st36_ny/c36061_new_york/DC10CT_C36061_002.pdf)"
     ]
    },
    {
     "cell_type": "markdown",
     "metadata": {},
     "source": [
      "## Problem Set 2: Doing Non-ACS Work\n",
      "\n",
      "Having fun with ACS? Get ready for that to end, let's use the summary file!\n",
      "\n",
      "`c.acs.state` becomes `c.sf1.state` - there are plenty more options, too check out [the census documentation under SF1 Geographies](https://github.com/sunlightlabs/census).\n",
      "\n",
      "First we need the codes for SF1. Head on over to the [data page](http://www.census.gov/developers/data/) and click the **2010 SF1 API Variables** link on the left hand side. It's yet more XML which you can download to your computer to hunt down codes in.\n",
      "\n",
      "Hunt down the codes for Median Age by Sex, and let's get average for men, women and everyone on a per-state basis."
     ]
    },
    {
     "cell_type": "code",
     "collapsed": false,
     "input": [],
     "language": "python",
     "metadata": {},
     "outputs": [],
     "prompt_number": 4
    },
    {
     "cell_type": "markdown",
     "metadata": {},
     "source": [
      "What state has the oldest women? The oldest men? The oldest people in general?"
     ]
    },
    {
     "cell_type": "code",
     "collapsed": false,
     "input": [],
     "language": "python",
     "metadata": {},
     "outputs": []
    }
   ],
   "metadata": {}
  }
 ]
}