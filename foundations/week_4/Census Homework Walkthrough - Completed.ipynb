{
 "metadata": {
  "name": "",
  "signature": "sha256:243214bbfe90892874898fe06497e791a68ea30fcc1eafb1649c14d44117d095"
 },
 "nbformat": 3,
 "nbformat_minor": 0,
 "worksheets": [
  {
   "cells": [
    {
     "cell_type": "markdown",
     "metadata": {},
     "source": [
      "# Census Homework Walkthrough\n",
      "\n",
      "This census work is a *great* excuse to work in IPython Notebooks. While they're trouble for functions, if you're playing with data IPython is a great way to keep an eye on the data and push it into different formats without having to re-query your data source again and again."
     ]
    },
    {
     "cell_type": "markdown",
     "metadata": {},
     "source": [
      "## Setup\n",
      "\n",
      "Before we do anything, we need to set up our Census module."
     ]
    },
    {
     "cell_type": "code",
     "collapsed": false,
     "input": [
      "from census import Census\n",
      "from us import states\n",
      "\n",
      "c = Census(\"64b41a2cc2325ea98cef7597c1075802e3b8c7c2\")"
     ],
     "language": "python",
     "metadata": {},
     "outputs": [],
     "prompt_number": 2
    },
    {
     "cell_type": "markdown",
     "metadata": {},
     "source": [
      "Now we can use the `c` object and all of the methods it provides (e.g. our new best friend, `c.acs.state`)"
     ]
    },
    {
     "cell_type": "markdown",
     "metadata": {},
     "source": [
      "## Problem 1\n",
      "\n",
      "What's the code for people born in Slovakia or the Czech Republic?\n",
      "\n",
      "First, let's find the **Data Profile API Variables** on the [ACS 5 Year Summary File page](https://www.census.gov/data/developers/data-sets/acs-survey-5-year-data.html).\n",
      "\n",
      "But a question: **what year are we using?** The codes are different for each year, and it looks like that page has 2008-2012, 2007-2011 and 2006-2010."
     ]
    },
    {
     "cell_type": "markdown",
     "metadata": {},
     "source": [
      "### What file do we download, and how do we get the code out?\n",
      "\n",
      "Your\n",
      "\n",
      "writing\n",
      "\n",
      "here\n",
      "\n",
      "!\n"
     ]
    },
    {
     "cell_type": "markdown",
     "metadata": {},
     "source": [
      "## Problem 2\n",
      "\n",
      "**What's the total number of people born in Slovakia or the Czech Republic in the US?**\n",
      "\n",
      "First, we'll try it using the method we learned in class, then a method that's detailed on the [sunlightlabs/census github documentation](https://github.com/sunlightlabs/census).\n",
      "\n",
      "B05006_032E\n",
      "\n",
      "### Method one, c.acs.state"
     ]
    },
    {
     "cell_type": "code",
     "collapsed": false,
     "input": [
      "# First, let's get the data using c.acs.state\n",
      "\n",
      "slovaks_by_state = c.acs.state(('NAME', 'B05006_032E'), '*')\n",
      "slovaks_by_state"
     ],
     "language": "python",
     "metadata": {},
     "outputs": [
      {
       "output_type": "stream",
       "stream": "stdout",
       "text": [
        "http://api.census.gov/data/2011/acs5\n"
       ]
      },
      {
       "metadata": {},
       "output_type": "pyout",
       "prompt_number": 11,
       "text": [
        "[{u'B05006_032E': u'391', u'NAME': u'Alabama', u'state': u'01'},\n",
        " {u'B05006_032E': u'146', u'NAME': u'Alaska', u'state': u'02'},\n",
        " {u'B05006_032E': u'1454', u'NAME': u'Arizona', u'state': u'04'},\n",
        " {u'B05006_032E': u'191', u'NAME': u'Arkansas', u'state': u'05'},\n",
        " {u'B05006_032E': u'9396', u'NAME': u'California', u'state': u'06'},\n",
        " {u'B05006_032E': u'1979', u'NAME': u'Colorado', u'state': u'08'},\n",
        " {u'B05006_032E': u'1938', u'NAME': u'Connecticut', u'state': u'09'},\n",
        " {u'B05006_032E': u'107', u'NAME': u'Delaware', u'state': u'10'},\n",
        " {u'B05006_032E': u'189', u'NAME': u'District of Columbia', u'state': u'11'},\n",
        " {u'B05006_032E': u'7527', u'NAME': u'Florida', u'state': u'12'},\n",
        " {u'B05006_032E': u'1303', u'NAME': u'Georgia', u'state': u'13'},\n",
        " {u'B05006_032E': u'330', u'NAME': u'Hawaii', u'state': u'15'},\n",
        " {u'B05006_032E': u'192', u'NAME': u'Idaho', u'state': u'16'},\n",
        " {u'B05006_032E': u'5809', u'NAME': u'Illinois', u'state': u'17'},\n",
        " {u'B05006_032E': u'525', u'NAME': u'Indiana', u'state': u'18'},\n",
        " {u'B05006_032E': u'119', u'NAME': u'Iowa', u'state': u'19'},\n",
        " {u'B05006_032E': u'160', u'NAME': u'Kansas', u'state': u'20'},\n",
        " {u'B05006_032E': u'177', u'NAME': u'Kentucky', u'state': u'21'},\n",
        " {u'B05006_032E': u'148', u'NAME': u'Louisiana', u'state': u'22'},\n",
        " {u'B05006_032E': u'193', u'NAME': u'Maine', u'state': u'23'},\n",
        " {u'B05006_032E': u'1405', u'NAME': u'Maryland', u'state': u'24'},\n",
        " {u'B05006_032E': u'1857', u'NAME': u'Massachusetts', u'state': u'25'},\n",
        " {u'B05006_032E': u'1588', u'NAME': u'Michigan', u'state': u'26'},\n",
        " {u'B05006_032E': u'685', u'NAME': u'Minnesota', u'state': u'27'},\n",
        " {u'B05006_032E': u'30', u'NAME': u'Mississippi', u'state': u'28'},\n",
        " {u'B05006_032E': u'493', u'NAME': u'Missouri', u'state': u'29'},\n",
        " {u'B05006_032E': u'69', u'NAME': u'Montana', u'state': u'30'},\n",
        " {u'B05006_032E': u'131', u'NAME': u'Nebraska', u'state': u'31'},\n",
        " {u'B05006_032E': u'829', u'NAME': u'Nevada', u'state': u'32'},\n",
        " {u'B05006_032E': u'290', u'NAME': u'New Hampshire', u'state': u'33'},\n",
        " {u'B05006_032E': u'5503', u'NAME': u'New Jersey', u'state': u'34'},\n",
        " {u'B05006_032E': u'243', u'NAME': u'New Mexico', u'state': u'35'},\n",
        " {u'B05006_032E': u'10261', u'NAME': u'New York', u'state': u'36'},\n",
        " {u'B05006_032E': u'1219', u'NAME': u'North Carolina', u'state': u'37'},\n",
        " {u'B05006_032E': u'52', u'NAME': u'North Dakota', u'state': u'38'},\n",
        " {u'B05006_032E': u'2299', u'NAME': u'Ohio', u'state': u'39'},\n",
        " {u'B05006_032E': u'437', u'NAME': u'Oklahoma', u'state': u'40'},\n",
        " {u'B05006_032E': u'956', u'NAME': u'Oregon', u'state': u'41'},\n",
        " {u'B05006_032E': u'3193', u'NAME': u'Pennsylvania', u'state': u'42'},\n",
        " {u'B05006_032E': u'25', u'NAME': u'Rhode Island', u'state': u'44'},\n",
        " {u'B05006_032E': u'535', u'NAME': u'South Carolina', u'state': u'45'},\n",
        " {u'B05006_032E': u'4', u'NAME': u'South Dakota', u'state': u'46'},\n",
        " {u'B05006_032E': u'348', u'NAME': u'Tennessee', u'state': u'47'},\n",
        " {u'B05006_032E': u'1883', u'NAME': u'Texas', u'state': u'48'},\n",
        " {u'B05006_032E': u'565', u'NAME': u'Utah', u'state': u'49'},\n",
        " {u'B05006_032E': u'187', u'NAME': u'Vermont', u'state': u'50'},\n",
        " {u'B05006_032E': u'1343', u'NAME': u'Virginia', u'state': u'51'},\n",
        " {u'B05006_032E': u'1963', u'NAME': u'Washington', u'state': u'53'},\n",
        " {u'B05006_032E': u'212', u'NAME': u'West Virginia', u'state': u'54'},\n",
        " {u'B05006_032E': u'1057', u'NAME': u'Wisconsin', u'state': u'55'},\n",
        " {u'B05006_032E': u'69', u'NAME': u'Wyoming', u'state': u'56'},\n",
        " {u'B05006_032E': None, u'NAME': u'Puerto Rico', u'state': u'72'}]"
       ]
      }
     ],
     "prompt_number": 11
    },
    {
     "cell_type": "markdown",
     "metadata": {},
     "source": [
      "Now try to run it through a sum...."
     ]
    },
    {
     "cell_type": "code",
     "collapsed": false,
     "input": [
      "#0 if result['B05006_032E'] is None else result['B05006_032E']\n",
      "#\n",
      "#if result['B05006_032E'] is None\n",
      "#    0\n",
      "#else\n",
      "#    result['B05006_032E']"
     ],
     "language": "python",
     "metadata": {},
     "outputs": [],
     "prompt_number": 14
    },
    {
     "cell_type": "code",
     "collapsed": false,
     "input": [
      "values = [ int(result['B05006_032E']) for result in slovaks_by_state if result['B05006_032E'] is not None ]\n",
      "sum(values)"
     ],
     "language": "python",
     "metadata": {},
     "outputs": [
      {
       "metadata": {},
       "output_type": "pyout",
       "prompt_number": 16,
       "text": [
        "72005"
       ]
      }
     ],
     "prompt_number": 16
    },
    {
     "cell_type": "markdown",
     "metadata": {},
     "source": [
      "But you get an error! Puerto Rico has ruined everything by not polling how many Slovaks live there. Let's figure out a few different ways around that error."
     ]
    },
    {
     "cell_type": "code",
     "collapsed": false,
     "input": [
      "# First, override what states you're looking for\n"
     ],
     "language": "python",
     "metadata": {},
     "outputs": []
    },
    {
     "cell_type": "code",
     "collapsed": false,
     "input": [
      "# Or maybe .pop() off the last element of the array\n"
     ],
     "language": "python",
     "metadata": {},
     "outputs": []
    },
    {
     "cell_type": "code",
     "collapsed": false,
     "input": [
      "# Or del a member of the array\n"
     ],
     "language": "python",
     "metadata": {},
     "outputs": []
    },
    {
     "cell_type": "code",
     "collapsed": false,
     "input": [
      "# And then get your sum\n"
     ],
     "language": "python",
     "metadata": {},
     "outputs": []
    },
    {
     "cell_type": "markdown",
     "metadata": {},
     "source": [
      "### Method two, c.acs.us\n",
      "\n",
      "If you scanned through what's supported for the American Community Survey on the [census module documentation](https://github.com/sunlightlabs/census) you might notice a method described as \n",
      "\n",
      "```\n",
      "us(fields)\n",
      "```\n",
      "\n",
      "Let's try to use it."
     ]
    },
    {
     "cell_type": "code",
     "collapsed": false,
     "input": [
      "c.acs.us(('NAME', 'B05006_032E'))"
     ],
     "language": "python",
     "metadata": {},
     "outputs": [
      {
       "output_type": "stream",
       "stream": "stdout",
       "text": [
        "http://api.census.gov/data/2011/acs5\n"
       ]
      },
      {
       "metadata": {},
       "output_type": "pyout",
       "prompt_number": 17,
       "text": [
        "[{u'B05006_032E': u'72005', u'NAME': u'United States', u'us': u'1'}]"
       ]
      }
     ],
     "prompt_number": 17
    },
    {
     "cell_type": "markdown",
     "metadata": {},
     "source": [
      "## Problem 3\n",
      "\n",
      "**How many people between the ages of 5 and 9 live in the ZIP code 11238?**\n",
      " \n",
      "This brings up an important, important, important question:"
     ]
    },
    {
     "cell_type": "code",
     "collapsed": false,
     "input": [
      "# Do you really need code for everything?"
     ],
     "language": "python",
     "metadata": {},
     "outputs": []
    },
    {
     "cell_type": "markdown",
     "metadata": {},
     "source": [
      "No. Remember that [the first virtue of a great programmer is laziness](http://threevirtues.com) - which means sometimes you get to avoid programming. [American FactFinder to the rescue](http://factfinder2.census.gov/faces/nav/jsf/pages/index.xhtml).\n",
      "\n",
      "...but if we did want to find out?"
     ]
    },
    {
     "cell_type": "code",
     "collapsed": false,
     "input": [],
     "language": "python",
     "metadata": {},
     "outputs": []
    },
    {
     "cell_type": "markdown",
     "metadata": {},
     "source": [
      "## Problem 4\n",
      "\n",
      "**Are there more Pakistani or Indian people in Queens County?**\n",
      "\n",
      "There are lots of ways to approach this one.\n",
      "\n",
      "### Step 1: Finding the codes\n",
      "\n",
      "`grep` for Pakistani, not so tough, problem solved. But what happens when you `grep` for Indian?\n",
      "\n",
      "Pakistani - B02006_013E\n",
      "Indian - B02006_002E\n",
      "\n",
      "### Step 2: Finding the data\n",
      "\n",
      "Now we have a choice between requesting every county, or requesting just Queens County. How do we request just Queens? How do you find the FIPS code for Queens?"
     ]
    },
    {
     "cell_type": "code",
     "collapsed": false,
     "input": [
      "c.acs.state_county(('NAME', 'B02006_013E', 'B02006_002E'), '36', ('81,47,5,85,61'))"
     ],
     "language": "python",
     "metadata": {},
     "outputs": [
      {
       "output_type": "stream",
       "stream": "stdout",
       "text": [
        "http://api.census.gov/data/2011/acs5\n"
       ]
      },
      {
       "metadata": {},
       "output_type": "pyout",
       "prompt_number": 30,
       "text": [
        "[{u'B02006_002E': u'14224',\n",
        "  u'B02006_013E': u'1869',\n",
        "  u'NAME': u'Bronx County, New York',\n",
        "  u'county': u'005',\n",
        "  u'state': u'36'},\n",
        " {u'B02006_002E': u'26071',\n",
        "  u'B02006_013E': u'15220',\n",
        "  u'NAME': u'Kings County, New York',\n",
        "  u'county': u'047',\n",
        "  u'state': u'36'},\n",
        " {u'B02006_002E': u'25092',\n",
        "  u'B02006_013E': u'2304',\n",
        "  u'NAME': u'New York County, New York',\n",
        "  u'county': u'061',\n",
        "  u'state': u'36'},\n",
        " {u'B02006_002E': u'140882',\n",
        "  u'B02006_013E': u'17231',\n",
        "  u'NAME': u'Queens County, New York',\n",
        "  u'county': u'081',\n",
        "  u'state': u'36'},\n",
        " {u'B02006_002E': u'8213',\n",
        "  u'B02006_013E': u'2324',\n",
        "  u'NAME': u'Richmond County, New York',\n",
        "  u'county': u'085',\n",
        "  u'state': u'36'}]"
       ]
      }
     ],
     "prompt_number": 30
    },
    {
     "cell_type": "markdown",
     "metadata": {},
     "source": [
      "## Problem 5\n",
      "\n",
      "**What state has the most people who work in the hunting & fishing industry?**\n",
      "\n",
      "This question taught an important lessons about data: *it isn't always there*. If you `grep` for **Fishing** you'll come up with the code `B24121_336E`. Let's take a look:"
     ]
    },
    {
     "cell_type": "code",
     "collapsed": false,
     "input": [
      "c.acs.state(('NAME','B24121_336E'), Census.ALL)"
     ],
     "language": "python",
     "metadata": {},
     "outputs": [
      {
       "output_type": "stream",
       "stream": "stdout",
       "text": [
        "http://api.census.gov/data/2011/acs5\n"
       ]
      },
      {
       "metadata": {},
       "output_type": "pyout",
       "prompt_number": 31,
       "text": [
        "[{u'B24121_336E': None, u'NAME': u'Alabama', u'state': u'01'},\n",
        " {u'B24121_336E': None, u'NAME': u'Alaska', u'state': u'02'},\n",
        " {u'B24121_336E': None, u'NAME': u'Arizona', u'state': u'04'},\n",
        " {u'B24121_336E': None, u'NAME': u'Arkansas', u'state': u'05'},\n",
        " {u'B24121_336E': None, u'NAME': u'California', u'state': u'06'},\n",
        " {u'B24121_336E': None, u'NAME': u'Colorado', u'state': u'08'},\n",
        " {u'B24121_336E': None, u'NAME': u'Connecticut', u'state': u'09'},\n",
        " {u'B24121_336E': None, u'NAME': u'Delaware', u'state': u'10'},\n",
        " {u'B24121_336E': None, u'NAME': u'District of Columbia', u'state': u'11'},\n",
        " {u'B24121_336E': None, u'NAME': u'Florida', u'state': u'12'},\n",
        " {u'B24121_336E': None, u'NAME': u'Georgia', u'state': u'13'},\n",
        " {u'B24121_336E': None, u'NAME': u'Hawaii', u'state': u'15'},\n",
        " {u'B24121_336E': None, u'NAME': u'Idaho', u'state': u'16'},\n",
        " {u'B24121_336E': None, u'NAME': u'Illinois', u'state': u'17'},\n",
        " {u'B24121_336E': None, u'NAME': u'Indiana', u'state': u'18'},\n",
        " {u'B24121_336E': None, u'NAME': u'Iowa', u'state': u'19'},\n",
        " {u'B24121_336E': None, u'NAME': u'Kansas', u'state': u'20'},\n",
        " {u'B24121_336E': None, u'NAME': u'Kentucky', u'state': u'21'},\n",
        " {u'B24121_336E': None, u'NAME': u'Louisiana', u'state': u'22'},\n",
        " {u'B24121_336E': None, u'NAME': u'Maine', u'state': u'23'},\n",
        " {u'B24121_336E': None, u'NAME': u'Maryland', u'state': u'24'},\n",
        " {u'B24121_336E': None, u'NAME': u'Massachusetts', u'state': u'25'},\n",
        " {u'B24121_336E': None, u'NAME': u'Michigan', u'state': u'26'},\n",
        " {u'B24121_336E': None, u'NAME': u'Minnesota', u'state': u'27'},\n",
        " {u'B24121_336E': None, u'NAME': u'Mississippi', u'state': u'28'},\n",
        " {u'B24121_336E': None, u'NAME': u'Missouri', u'state': u'29'},\n",
        " {u'B24121_336E': None, u'NAME': u'Montana', u'state': u'30'},\n",
        " {u'B24121_336E': None, u'NAME': u'Nebraska', u'state': u'31'},\n",
        " {u'B24121_336E': None, u'NAME': u'Nevada', u'state': u'32'},\n",
        " {u'B24121_336E': None, u'NAME': u'New Hampshire', u'state': u'33'},\n",
        " {u'B24121_336E': None, u'NAME': u'New Jersey', u'state': u'34'},\n",
        " {u'B24121_336E': None, u'NAME': u'New Mexico', u'state': u'35'},\n",
        " {u'B24121_336E': None, u'NAME': u'New York', u'state': u'36'},\n",
        " {u'B24121_336E': None, u'NAME': u'North Carolina', u'state': u'37'},\n",
        " {u'B24121_336E': None, u'NAME': u'North Dakota', u'state': u'38'},\n",
        " {u'B24121_336E': None, u'NAME': u'Ohio', u'state': u'39'},\n",
        " {u'B24121_336E': None, u'NAME': u'Oklahoma', u'state': u'40'},\n",
        " {u'B24121_336E': None, u'NAME': u'Oregon', u'state': u'41'},\n",
        " {u'B24121_336E': None, u'NAME': u'Pennsylvania', u'state': u'42'},\n",
        " {u'B24121_336E': None, u'NAME': u'Rhode Island', u'state': u'44'},\n",
        " {u'B24121_336E': None, u'NAME': u'South Carolina', u'state': u'45'},\n",
        " {u'B24121_336E': None, u'NAME': u'South Dakota', u'state': u'46'},\n",
        " {u'B24121_336E': None, u'NAME': u'Tennessee', u'state': u'47'},\n",
        " {u'B24121_336E': None, u'NAME': u'Texas', u'state': u'48'},\n",
        " {u'B24121_336E': None, u'NAME': u'Utah', u'state': u'49'},\n",
        " {u'B24121_336E': None, u'NAME': u'Vermont', u'state': u'50'},\n",
        " {u'B24121_336E': None, u'NAME': u'Virginia', u'state': u'51'},\n",
        " {u'B24121_336E': None, u'NAME': u'Washington', u'state': u'53'},\n",
        " {u'B24121_336E': None, u'NAME': u'West Virginia', u'state': u'54'},\n",
        " {u'B24121_336E': None, u'NAME': u'Wisconsin', u'state': u'55'},\n",
        " {u'B24121_336E': None, u'NAME': u'Wyoming', u'state': u'56'},\n",
        " {u'B24121_336E': None, u'NAME': u'Puerto Rico', u'state': u'72'}]"
       ]
      }
     ],
     "prompt_number": 31
    },
    {
     "cell_type": "markdown",
     "metadata": {},
     "source": [
      "Why does it say `None` in there? Rough stuff.\n",
      "\n",
      "Let's look at **Houses built before 1939 instead**"
     ]
    },
    {
     "cell_type": "code",
     "collapsed": false,
     "input": [
      "# First let's get the data, save it to a\n",
      "# variable, and take a look at it\n",
      "\n",
      "houses_built = c.acs.state(('NAME','B25034_010E'), Census.ALL)"
     ],
     "language": "python",
     "metadata": {},
     "outputs": [
      {
       "output_type": "stream",
       "stream": "stdout",
       "text": [
        "http://api.census.gov/data/2011/acs5\n"
       ]
      }
     ],
     "prompt_number": 34
    },
    {
     "cell_type": "code",
     "collapsed": false,
     "input": [
      "# Now how do we use max() with a dictionary key?\n",
      "sorted_houses = sorted(houses_built,key=lambda result: int(result['B25034_010E']))\n",
      "sorted_houses.reverse()\n",
      "sorted_houses"
     ],
     "language": "python",
     "metadata": {},
     "outputs": [
      {
       "metadata": {},
       "output_type": "pyout",
       "prompt_number": 43,
       "text": [
        "[{u'B25034_010E': u'5573', u'NAME': u'Alaska', u'state': u'02'},\n",
        " {u'B25034_010E': u'14649', u'NAME': u'Nevada', u'state': u'32'},\n",
        " {u'B25034_010E': u'20670', u'NAME': u'Hawaii', u'state': u'15'},\n",
        " {u'B25034_010E': u'31657', u'NAME': u'Wyoming', u'state': u'56'},\n",
        " {u'B25034_010E': u'38425', u'NAME': u'Delaware', u'state': u'10'},\n",
        " {u'B25034_010E': u'44251', u'NAME': u'Puerto Rico', u'state': u'72'},\n",
        " {u'B25034_010E': u'48276', u'NAME': u'Arizona', u'state': u'04'},\n",
        " {u'B25034_010E': u'49948', u'NAME': u'New Mexico', u'state': u'35'},\n",
        " {u'B25034_010E': u'53827', u'NAME': u'North Dakota', u'state': u'38'},\n",
        " {u'B25034_010E': u'61675', u'NAME': u'Idaho', u'state': u'16'},\n",
        " {u'B25034_010E': u'66972', u'NAME': u'Mississippi', u'state': u'28'},\n",
        " {u'B25034_010E': u'73579', u'NAME': u'South Dakota', u'state': u'46'},\n",
        " {u'B25034_010E': u'75461', u'NAME': u'Arkansas', u'state': u'05'},\n",
        " {u'B25034_010E': u'76015', u'NAME': u'Montana', u'state': u'30'},\n",
        " {u'B25034_010E': u'80374', u'NAME': u'Utah', u'state': u'49'},\n",
        " {u'B25034_010E': u'91582', u'NAME': u'Vermont', u'state': u'50'},\n",
        " {u'B25034_010E': u'102639',\n",
        "  u'NAME': u'District of Columbia',\n",
        "  u'state': u'11'},\n",
        " {u'B25034_010E': u'111660', u'NAME': u'South Carolina', u'state': u'45'},\n",
        " {u'B25034_010E': u'134342', u'NAME': u'Alabama', u'state': u'01'},\n",
        " {u'B25034_010E': u'134351', u'NAME': u'New Hampshire', u'state': u'33'},\n",
        " {u'B25034_010E': u'143102', u'NAME': u'Louisiana', u'state': u'22'},\n",
        " {u'B25034_010E': u'147219', u'NAME': u'Oklahoma', u'state': u'40'},\n",
        " {u'B25034_010E': u'152248', u'NAME': u'West Virginia', u'state': u'54'},\n",
        " {u'B25034_010E': u'159270', u'NAME': u'Rhode Island', u'state': u'44'},\n",
        " {u'B25034_010E': u'185231', u'NAME': u'Nebraska', u'state': u'31'},\n",
        " {u'B25034_010E': u'191557', u'NAME': u'Tennessee', u'state': u'47'},\n",
        " {u'B25034_010E': u'192148', u'NAME': u'Colorado', u'state': u'08'},\n",
        " {u'B25034_010E': u'195545', u'NAME': u'Florida', u'state': u'12'},\n",
        " {u'B25034_010E': u'197714', u'NAME': u'Maine', u'state': u'23'},\n",
        " {u'B25034_010E': u'199979', u'NAME': u'Georgia', u'state': u'13'},\n",
        " {u'B25034_010E': u'203960', u'NAME': u'Oregon', u'state': u'41'},\n",
        " {u'B25034_010E': u'216856', u'NAME': u'Kentucky', u'state': u'21'},\n",
        " {u'B25034_010E': u'224993', u'NAME': u'Kansas', u'state': u'20'},\n",
        " {u'B25034_010E': u'253308', u'NAME': u'North Carolina', u'state': u'37'},\n",
        " {u'B25034_010E': u'274336', u'NAME': u'Virginia', u'state': u'51'},\n",
        " {u'B25034_010E': u'288532', u'NAME': u'Maryland', u'state': u'24'},\n",
        " {u'B25034_010E': u'322427', u'NAME': u'Washington', u'state': u'53'},\n",
        " {u'B25034_010E': u'346215', u'NAME': u'Connecticut', u'state': u'09'},\n",
        " {u'B25034_010E': u'369785', u'NAME': u'Iowa', u'state': u'19'},\n",
        " {u'B25034_010E': u'413539', u'NAME': u'Missouri', u'state': u'29'},\n",
        " {u'B25034_010E': u'424233', u'NAME': u'Minnesota', u'state': u'27'},\n",
        " {u'B25034_010E': u'438404', u'NAME': u'Texas', u'state': u'48'},\n",
        " {u'B25034_010E': u'529821', u'NAME': u'Indiana', u'state': u'18'},\n",
        " {u'B25034_010E': u'565338', u'NAME': u'Wisconsin', u'state': u'55'},\n",
        " {u'B25034_010E': u'660365', u'NAME': u'New Jersey', u'state': u'34'},\n",
        " {u'B25034_010E': u'715456', u'NAME': u'Michigan', u'state': u'26'},\n",
        " {u'B25034_010E': u'992082', u'NAME': u'Massachusetts', u'state': u'25'},\n",
        " {u'B25034_010E': u'1102694', u'NAME': u'Ohio', u'state': u'39'},\n",
        " {u'B25034_010E': u'1219584', u'NAME': u'Illinois', u'state': u'17'},\n",
        " {u'B25034_010E': u'1310351', u'NAME': u'California', u'state': u'06'},\n",
        " {u'B25034_010E': u'1546487', u'NAME': u'Pennsylvania', u'state': u'42'},\n",
        " {u'B25034_010E': u'2726872', u'NAME': u'New York', u'state': u'36'}]"
       ]
      }
     ],
     "prompt_number": 43
    },
    {
     "cell_type": "markdown",
     "metadata": {},
     "source": [
      "## Problem 6\n",
      "\n",
      "**What county in New York has the fewest people?**\n",
      "\n",
      "How do we find the key for **total population**? It's tough, and you usually have to browse the variables/documentation in order to find it. For the Census, it's typically found as the total in **Age By Sex**. If you have everyone of both sexes and every age, that's everyone."
     ]
    },
    {
     "cell_type": "code",
     "collapsed": false,
     "input": [
      "# First let's get the data, save it to a\n",
      "# variable, and take a look at it\n",
      "\n"
     ],
     "language": "python",
     "metadata": {},
     "outputs": [],
     "prompt_number": 8
    },
    {
     "cell_type": "code",
     "collapsed": false,
     "input": [
      "# Now how do we use min() with a dictionary key?\n"
     ],
     "language": "python",
     "metadata": {},
     "outputs": [],
     "prompt_number": 9
    },
    {
     "cell_type": "markdown",
     "metadata": {},
     "source": [
      "## Problem 7\n",
      "\n",
      "**Make a list of states, ordered by the number of graduate degrees.**\n",
      "\n",
      "What's the key for graduate degrees?"
     ]
    },
    {
     "cell_type": "code",
     "collapsed": false,
     "input": [
      "# First let's get the data, save it to a\n",
      "# variable, and take a look at it\n",
      "\n",
      "# B06009_005E + B06009_006E\n",
      "\n",
      "results = c.acs.state(('NAME','B06009_005E','B06009_006E'), '*')\n"
     ],
     "language": "python",
     "metadata": {},
     "outputs": [
      {
       "output_type": "stream",
       "stream": "stdout",
       "text": [
        "http://api.census.gov/data/2011/acs5\n"
       ]
      }
     ],
     "prompt_number": 45
    },
    {
     "cell_type": "code",
     "collapsed": false,
     "input": [
      "for result in results:\n",
      "    if result['B06009_005E'] is None or result['B06009_006E'] is None:\n",
      "        result['total_degrees'] = 0\n",
      "    else:\n",
      "        result['total_degrees'] = int(result['B06009_005E']) + int(result['B06009_006E'])\n",
      "\n",
      "print [result['total_degrees'] for result in results]"
     ],
     "language": "python",
     "metadata": {},
     "outputs": [
      {
       "output_type": "stream",
       "stream": "stdout",
       "text": [
        "[689439, 119402, 1078898, 373005, 7195067, 1185126, 862022, 166695, 205651, 3366368, 1692080, 270110, 238383, 2576656, 952737, 497522, 541615, 594731, 612301, 253197, 1380635, 1711026, 1659532, 1109281, 372126, 1001944, 186797, 326640, 391198, 298420, 2072462, 335029, 4223507, 1652789, 115670, 1882696, 555279, 747641, 2296560, 216834, 733566, 135571, 968678, 4024392, 456283, 145270, 1813844, 1391812, 226840, 981969, 88328, 0]\n"
       ]
      }
     ],
     "prompt_number": 51
    },
    {
     "cell_type": "code",
     "collapsed": false,
     "input": [
      "# Now how do we sort a list of dictionaries?\n",
      "s = sorted(results,key=lambda dinosaur: dinosaur['total_degrees'])\n",
      "s.reverse()\n",
      "s"
     ],
     "language": "python",
     "metadata": {},
     "outputs": [
      {
       "metadata": {},
       "output_type": "pyout",
       "prompt_number": 54,
       "text": [
        "[{u'B06009_005E': u'4583032',\n",
        "  u'B06009_006E': u'2612035',\n",
        "  u'NAME': u'California',\n",
        "  u'state': u'06',\n",
        "  'total_degrees': 7195067},\n",
        " {u'B06009_005E': u'2404491',\n",
        "  u'B06009_006E': u'1819016',\n",
        "  u'NAME': u'New York',\n",
        "  u'state': u'36',\n",
        "  'total_degrees': 4223507},\n",
        " {u'B06009_005E': u'2693889',\n",
        "  u'B06009_006E': u'1330503',\n",
        "  u'NAME': u'Texas',\n",
        "  u'state': u'48',\n",
        "  'total_degrees': 4024392},\n",
        " {u'B06009_005E': u'2170821',\n",
        "  u'B06009_006E': u'1195547',\n",
        "  u'NAME': u'Florida',\n",
        "  u'state': u'12',\n",
        "  'total_degrees': 3366368},\n",
        " {u'B06009_005E': u'1604636',\n",
        "  u'B06009_006E': u'972020',\n",
        "  u'NAME': u'Illinois',\n",
        "  u'state': u'17',\n",
        "  'total_degrees': 2576656},\n",
        " {u'B06009_005E': u'1416932',\n",
        "  u'B06009_006E': u'879628',\n",
        "  u'NAME': u'Pennsylvania',\n",
        "  u'state': u'42',\n",
        "  'total_degrees': 2296560},\n",
        " {u'B06009_005E': u'1294249',\n",
        "  u'B06009_006E': u'778213',\n",
        "  u'NAME': u'New Jersey',\n",
        "  u'state': u'34',\n",
        "  'total_degrees': 2072462},\n",
        " {u'B06009_005E': u'1190414',\n",
        "  u'B06009_006E': u'692282',\n",
        "  u'NAME': u'Ohio',\n",
        "  u'state': u'39',\n",
        "  'total_degrees': 1882696},\n",
        " {u'B06009_005E': u'1064406',\n",
        "  u'B06009_006E': u'749438',\n",
        "  u'NAME': u'Virginia',\n",
        "  u'state': u'51',\n",
        "  'total_degrees': 1813844},\n",
        " {u'B06009_005E': u'977354',\n",
        "  u'B06009_006E': u'733672',\n",
        "  u'NAME': u'Massachusetts',\n",
        "  u'state': u'25',\n",
        "  'total_degrees': 1711026},\n",
        " {u'B06009_005E': u'1086570',\n",
        "  u'B06009_006E': u'605510',\n",
        "  u'NAME': u'Georgia',\n",
        "  u'state': u'13',\n",
        "  'total_degrees': 1692080},\n",
        " {u'B06009_005E': u'1021486',\n",
        "  u'B06009_006E': u'638046',\n",
        "  u'NAME': u'Michigan',\n",
        "  u'state': u'26',\n",
        "  'total_degrees': 1659532},\n",
        " {u'B06009_005E': u'1099631',\n",
        "  u'B06009_006E': u'553158',\n",
        "  u'NAME': u'North Carolina',\n",
        "  u'state': u'37',\n",
        "  'total_degrees': 1652789},\n",
        " {u'B06009_005E': u'891470',\n",
        "  u'B06009_006E': u'500342',\n",
        "  u'NAME': u'Washington',\n",
        "  u'state': u'53',\n",
        "  'total_degrees': 1391812},\n",
        " {u'B06009_005E': u'762501',\n",
        "  u'B06009_006E': u'618134',\n",
        "  u'NAME': u'Maryland',\n",
        "  u'state': u'24',\n",
        "  'total_degrees': 1380635},\n",
        " {u'B06009_005E': u'760017',\n",
        "  u'B06009_006E': u'425109',\n",
        "  u'NAME': u'Colorado',\n",
        "  u'state': u'08',\n",
        "  'total_degrees': 1185126},\n",
        " {u'B06009_005E': u'750190',\n",
        "  u'B06009_006E': u'359091',\n",
        "  u'NAME': u'Minnesota',\n",
        "  u'state': u'27',\n",
        "  'total_degrees': 1109281},\n",
        " {u'B06009_005E': u'688123',\n",
        "  u'B06009_006E': u'390775',\n",
        "  u'NAME': u'Arizona',\n",
        "  u'state': u'04',\n",
        "  'total_degrees': 1078898},\n",
        " {u'B06009_005E': u'630556',\n",
        "  u'B06009_006E': u'371388',\n",
        "  u'NAME': u'Missouri',\n",
        "  u'state': u'29',\n",
        "  'total_degrees': 1001944},\n",
        " {u'B06009_005E': u'651003',\n",
        "  u'B06009_006E': u'330966',\n",
        "  u'NAME': u'Wisconsin',\n",
        "  u'state': u'55',\n",
        "  'total_degrees': 981969},\n",
        " {u'B06009_005E': u'626498',\n",
        "  u'B06009_006E': u'342180',\n",
        "  u'NAME': u'Tennessee',\n",
        "  u'state': u'47',\n",
        "  'total_degrees': 968678},\n",
        " {u'B06009_005E': u'611431',\n",
        "  u'B06009_006E': u'341306',\n",
        "  u'NAME': u'Indiana',\n",
        "  u'state': u'18',\n",
        "  'total_degrees': 952737},\n",
        " {u'B06009_005E': u'486109',\n",
        "  u'B06009_006E': u'375913',\n",
        "  u'NAME': u'Connecticut',\n",
        "  u'state': u'09',\n",
        "  'total_degrees': 862022},\n",
        " {u'B06009_005E': u'474848',\n",
        "  u'B06009_006E': u'272793',\n",
        "  u'NAME': u'Oregon',\n",
        "  u'state': u'41',\n",
        "  'total_degrees': 747641},\n",
        " {u'B06009_005E': u'473655',\n",
        "  u'B06009_006E': u'259911',\n",
        "  u'NAME': u'South Carolina',\n",
        "  u'state': u'45',\n",
        "  'total_degrees': 733566},\n",
        " {u'B06009_005E': u'438211',\n",
        "  u'B06009_006E': u'251228',\n",
        "  u'NAME': u'Alabama',\n",
        "  u'state': u'01',\n",
        "  'total_degrees': 689439},\n",
        " {u'B06009_005E': u'410501',\n",
        "  u'B06009_006E': u'201800',\n",
        "  u'NAME': u'Louisiana',\n",
        "  u'state': u'22',\n",
        "  'total_degrees': 612301},\n",
        " {u'B06009_005E': u'353907',\n",
        "  u'B06009_006E': u'240824',\n",
        "  u'NAME': u'Kentucky',\n",
        "  u'state': u'21',\n",
        "  'total_degrees': 594731},\n",
        " {u'B06009_005E': u'373040',\n",
        "  u'B06009_006E': u'182239',\n",
        "  u'NAME': u'Oklahoma',\n",
        "  u'state': u'40',\n",
        "  'total_degrees': 555279},\n",
        " {u'B06009_005E': u'355192',\n",
        "  u'B06009_006E': u'186423',\n",
        "  u'NAME': u'Kansas',\n",
        "  u'state': u'20',\n",
        "  'total_degrees': 541615},\n",
        " {u'B06009_005E': u'344314',\n",
        "  u'B06009_006E': u'153208',\n",
        "  u'NAME': u'Iowa',\n",
        "  u'state': u'19',\n",
        "  'total_degrees': 497522},\n",
        " {u'B06009_005E': u'309400',\n",
        "  u'B06009_006E': u'146883',\n",
        "  u'NAME': u'Utah',\n",
        "  u'state': u'49',\n",
        "  'total_degrees': 456283},\n",
        " {u'B06009_005E': u'259287',\n",
        "  u'B06009_006E': u'131911',\n",
        "  u'NAME': u'Nevada',\n",
        "  u'state': u'32',\n",
        "  'total_degrees': 391198},\n",
        " {u'B06009_005E': u'248127',\n",
        "  u'B06009_006E': u'124878',\n",
        "  u'NAME': u'Arkansas',\n",
        "  u'state': u'05',\n",
        "  'total_degrees': 373005},\n",
        " {u'B06009_005E': u'238819',\n",
        "  u'B06009_006E': u'133307',\n",
        "  u'NAME': u'Mississippi',\n",
        "  u'state': u'28',\n",
        "  'total_degrees': 372126},\n",
        " {u'B06009_005E': u'192909',\n",
        "  u'B06009_006E': u'142120',\n",
        "  u'NAME': u'New Mexico',\n",
        "  u'state': u'35',\n",
        "  'total_degrees': 335029},\n",
        " {u'B06009_005E': u'222204',\n",
        "  u'B06009_006E': u'104436',\n",
        "  u'NAME': u'Nebraska',\n",
        "  u'state': u'31',\n",
        "  'total_degrees': 326640},\n",
        " {u'B06009_005E': u'189486',\n",
        "  u'B06009_006E': u'108934',\n",
        "  u'NAME': u'New Hampshire',\n",
        "  u'state': u'33',\n",
        "  'total_degrees': 298420},\n",
        " {u'B06009_005E': u'179254',\n",
        "  u'B06009_006E': u'90856',\n",
        "  u'NAME': u'Hawaii',\n",
        "  u'state': u'15',\n",
        "  'total_degrees': 270110},\n",
        " {u'B06009_005E': u'162878',\n",
        "  u'B06009_006E': u'90319',\n",
        "  u'NAME': u'Maine',\n",
        "  u'state': u'23',\n",
        "  'total_degrees': 253197},\n",
        " {u'B06009_005E': u'164318',\n",
        "  u'B06009_006E': u'74065',\n",
        "  u'NAME': u'Idaho',\n",
        "  u'state': u'16',\n",
        "  'total_degrees': 238383},\n",
        " {u'B06009_005E': u'139860',\n",
        "  u'B06009_006E': u'86980',\n",
        "  u'NAME': u'West Virginia',\n",
        "  u'state': u'54',\n",
        "  'total_degrees': 226840},\n",
        " {u'B06009_005E': u'131495',\n",
        "  u'B06009_006E': u'85339',\n",
        "  u'NAME': u'Rhode Island',\n",
        "  u'state': u'44',\n",
        "  'total_degrees': 216834},\n",
        " {u'B06009_005E': u'91283',\n",
        "  u'B06009_006E': u'114368',\n",
        "  u'NAME': u'District of Columbia',\n",
        "  u'state': u'11',\n",
        "  'total_degrees': 205651},\n",
        " {u'B06009_005E': u'128736',\n",
        "  u'B06009_006E': u'58061',\n",
        "  u'NAME': u'Montana',\n",
        "  u'state': u'30',\n",
        "  'total_degrees': 186797},\n",
        " {u'B06009_005E': u'99435',\n",
        "  u'B06009_006E': u'67260',\n",
        "  u'NAME': u'Delaware',\n",
        "  u'state': u'10',\n",
        "  'total_degrees': 166695},\n",
        " {u'B06009_005E': u'88106',\n",
        "  u'B06009_006E': u'57164',\n",
        "  u'NAME': u'Vermont',\n",
        "  u'state': u'50',\n",
        "  'total_degrees': 145270},\n",
        " {u'B06009_005E': u'95651',\n",
        "  u'B06009_006E': u'39920',\n",
        "  u'NAME': u'South Dakota',\n",
        "  u'state': u'46',\n",
        "  'total_degrees': 135571},\n",
        " {u'B06009_005E': u'77520',\n",
        "  u'B06009_006E': u'41882',\n",
        "  u'NAME': u'Alaska',\n",
        "  u'state': u'02',\n",
        "  'total_degrees': 119402},\n",
        " {u'B06009_005E': u'85493',\n",
        "  u'B06009_006E': u'30177',\n",
        "  u'NAME': u'North Dakota',\n",
        "  u'state': u'38',\n",
        "  'total_degrees': 115670},\n",
        " {u'B06009_005E': u'58539',\n",
        "  u'B06009_006E': u'29789',\n",
        "  u'NAME': u'Wyoming',\n",
        "  u'state': u'56',\n",
        "  'total_degrees': 88328},\n",
        " {u'B06009_005E': None,\n",
        "  u'B06009_006E': None,\n",
        "  u'NAME': u'Puerto Rico',\n",
        "  u'state': u'72',\n",
        "  'total_degrees': 0}]"
       ]
      }
     ],
     "prompt_number": 54
    },
    {
     "cell_type": "code",
     "collapsed": false,
     "input": [],
     "language": "python",
     "metadata": {},
     "outputs": []
    }
   ],
   "metadata": {}
  }
 ]
}