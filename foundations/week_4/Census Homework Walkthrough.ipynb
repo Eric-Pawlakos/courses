{
 "metadata": {
  "name": "",
  "signature": "sha256:248bb3f1c0492a7ae07bdd0722787c3d9d90fd1017336ed4884c6ed0b17a2034"
 },
 "nbformat": 3,
 "nbformat_minor": 0,
 "worksheets": [
  {
   "cells": [
    {
     "cell_type": "markdown",
     "metadata": {},
     "source": [
      "# Census Homework Walkthrough\n",
      "\n",
      "This census work is a *great* excuse to work in IPython Notebooks. While they're trouble for functions, if you're playing with data IPython is a great way to keep an eye on the data and push it into different formats without having to re-query your data source again and again."
     ]
    },
    {
     "cell_type": "markdown",
     "metadata": {},
     "source": [
      "## Setup\n",
      "\n",
      "Before we do anything, we need to set up our Census module."
     ]
    },
    {
     "cell_type": "code",
     "collapsed": false,
     "input": [
      "from census import Census\n",
      "from us import states\n",
      "\n",
      "c = Census(\"YOUR_KEY_HERE\")"
     ],
     "language": "python",
     "metadata": {},
     "outputs": [],
     "prompt_number": 3
    },
    {
     "cell_type": "markdown",
     "metadata": {},
     "source": [
      "Now we can use the `c` object and all of the methods it provides (e.g. our new best friend, `c.acs.state`)"
     ]
    },
    {
     "cell_type": "markdown",
     "metadata": {},
     "source": [
      "## Problem 1\n",
      "\n",
      "What's the code for people born in Slovakia or the Czech Republic?\n",
      "\n",
      "First, let's find the **Data Profile API Variables** on the [ACS 5 Year Summary File page](https://www.census.gov/data/developers/data-sets/acs-survey-5-year-data.html).\n",
      "\n",
      "But a question: **what year are we using?** The codes are different for each year, and it looks like that page has 2008-2012, 2007-2011 and 2006-2010."
     ]
    },
    {
     "cell_type": "markdown",
     "metadata": {},
     "source": [
      "### What file do we download, and how do we get the code out?\n",
      "\n",
      "Your\n",
      "\n",
      "writing\n",
      "\n",
      "here\n",
      "\n",
      "!\n"
     ]
    },
    {
     "cell_type": "markdown",
     "metadata": {},
     "source": [
      "## Problem 2\n",
      "\n",
      "**What's the total number of people born in Slovakia or the Czech Republic in the US?**\n",
      "\n",
      "First, we'll try it using the method we learned in class, then a method that's detailed on the [sunlightlabs/census github documentation](https://github.com/sunlightlabs/census).\n",
      "\n",
      "### Method one, c.acs.state"
     ]
    },
    {
     "cell_type": "code",
     "collapsed": false,
     "input": [
      "# First, let's get the data using c.acs.state\n"
     ],
     "language": "python",
     "metadata": {},
     "outputs": []
    },
    {
     "cell_type": "markdown",
     "metadata": {},
     "source": [
      "Now try to run it through a sum...."
     ]
    },
    {
     "cell_type": "code",
     "collapsed": false,
     "input": [
      "# Sum it\n"
     ],
     "language": "python",
     "metadata": {},
     "outputs": []
    },
    {
     "cell_type": "markdown",
     "metadata": {},
     "source": [
      "But you get an error! Puerto Rico has ruined everything by not polling how many Slovaks live there. Let's figure out a few different ways around that error."
     ]
    },
    {
     "cell_type": "code",
     "collapsed": false,
     "input": [
      "# First, override what states you're looking for\n"
     ],
     "language": "python",
     "metadata": {},
     "outputs": []
    },
    {
     "cell_type": "code",
     "collapsed": false,
     "input": [
      "# Or maybe .pop() off the last element of the array\n"
     ],
     "language": "python",
     "metadata": {},
     "outputs": []
    },
    {
     "cell_type": "code",
     "collapsed": false,
     "input": [
      "# Or del a member of the array\n"
     ],
     "language": "python",
     "metadata": {},
     "outputs": []
    },
    {
     "cell_type": "code",
     "collapsed": false,
     "input": [
      "# And then get your sum\n"
     ],
     "language": "python",
     "metadata": {},
     "outputs": []
    },
    {
     "cell_type": "markdown",
     "metadata": {},
     "source": [
      "### Method two, c.acs.us\n",
      "\n",
      "If you scanned through what's supported for the American Community Survey on the [census module documentation](https://github.com/sunlightlabs/census) you might notice a method described as \n",
      "\n",
      "```\n",
      "us(fields)\n",
      "```\n",
      "\n",
      "Let's try to use it."
     ]
    },
    {
     "cell_type": "code",
     "collapsed": false,
     "input": [],
     "language": "python",
     "metadata": {},
     "outputs": []
    },
    {
     "cell_type": "markdown",
     "metadata": {},
     "source": [
      "## Problem 3\n",
      "\n",
      "**How many people between the ages of 5 and 9 live in the ZIP code 11238?**\n",
      " \n",
      "This brings up an important, important, important question:"
     ]
    },
    {
     "cell_type": "code",
     "collapsed": false,
     "input": [
      "# Do you really need code for everything?"
     ],
     "language": "python",
     "metadata": {},
     "outputs": []
    },
    {
     "cell_type": "markdown",
     "metadata": {},
     "source": [
      "No. Remember that [the first virtue of a great programmer is laziness](http://threevirtues.com) - which means sometimes you get to avoid programming. [American FactFinder to the rescue](http://factfinder2.census.gov/faces/nav/jsf/pages/index.xhtml).\n",
      "\n",
      "...but if we did want to find out?"
     ]
    },
    {
     "cell_type": "code",
     "collapsed": false,
     "input": [],
     "language": "python",
     "metadata": {},
     "outputs": []
    },
    {
     "cell_type": "markdown",
     "metadata": {},
     "source": [
      "## Problem 4\n",
      "\n",
      "**Are there more Pakistani or Indian people in Queens County?**\n",
      "\n",
      "There are lots of ways to approach this one.\n",
      "\n",
      "### Step 1: Finding the FIPS codes\n",
      "\n",
      "`grep` for Pakistani, not so tough, problem solved. But what happens when you `grep` for Indian?\n",
      "\n",
      "### Step 2: Finding the data\n",
      "\n",
      "Now we have a choice between requesting every county, or requesting just Queens County. How do we request just Queens? How do you find the FIPS code for Queens?"
     ]
    },
    {
     "cell_type": "code",
     "collapsed": false,
     "input": [],
     "language": "python",
     "metadata": {},
     "outputs": []
    },
    {
     "cell_type": "markdown",
     "metadata": {},
     "source": [
      "## Problem 5\n",
      "\n",
      "**What state has the most people who work in the hunting & fishing industry?**\n",
      "\n",
      "This question taught an important lessons about data: *it isn't always there*. If you `grep` for **Fishing** you'll come up with the code `B24121_336E`. Let's take a look:"
     ]
    },
    {
     "cell_type": "code",
     "collapsed": false,
     "input": [
      "c.acs.state(('NAME','B24121_336E'), Census.ALL)"
     ],
     "language": "python",
     "metadata": {},
     "outputs": []
    },
    {
     "cell_type": "markdown",
     "metadata": {},
     "source": [
      "Why does it say `None` in there? Rough stuff.\n",
      "\n",
      "Let's look at **Houses built before 1939 instead**"
     ]
    },
    {
     "cell_type": "code",
     "collapsed": false,
     "input": [
      "# First let's get the data, save it to a\n",
      "# variable, and take a look at it\n",
      "\n"
     ],
     "language": "python",
     "metadata": {},
     "outputs": [],
     "prompt_number": 6
    },
    {
     "cell_type": "code",
     "collapsed": false,
     "input": [
      "# Now how do we use max() with a dictionary key?\n"
     ],
     "language": "python",
     "metadata": {},
     "outputs": [],
     "prompt_number": 7
    },
    {
     "cell_type": "markdown",
     "metadata": {},
     "source": [
      "## Problem 6\n",
      "\n",
      "**What county in New York has the fewest people?**\n",
      "\n",
      "How do we find the key for **total population**? It's tough, and you usually have to browse the variables/documentation in order to find it. For the Census, it's typically found as the total in **Age By Sex**. If you have everyone of both sexes and every age, that's everyone."
     ]
    },
    {
     "cell_type": "code",
     "collapsed": false,
     "input": [
      "# First let's get the data, save it to a\n",
      "# variable, and take a look at it\n",
      "\n"
     ],
     "language": "python",
     "metadata": {},
     "outputs": [],
     "prompt_number": 8
    },
    {
     "cell_type": "code",
     "collapsed": false,
     "input": [
      "# Now how do we use min() with a dictionary key?\n"
     ],
     "language": "python",
     "metadata": {},
     "outputs": [],
     "prompt_number": 9
    },
    {
     "cell_type": "markdown",
     "metadata": {},
     "source": [
      "## Problem 7\n",
      "\n",
      "**Make a list of states, ordered by the number of graduate degrees.**\n",
      "\n",
      "What's the key for graduate degrees?"
     ]
    },
    {
     "cell_type": "code",
     "collapsed": false,
     "input": [
      "# First let's get the data, save it to a\n",
      "# variable, and take a look at it\n",
      "\n"
     ],
     "language": "python",
     "metadata": {},
     "outputs": []
    },
    {
     "cell_type": "code",
     "collapsed": false,
     "input": [
      "# Now how do we sort a list of dictionaries?\n"
     ],
     "language": "python",
     "metadata": {},
     "outputs": []
    }
   ],
   "metadata": {}
  }
 ]
}