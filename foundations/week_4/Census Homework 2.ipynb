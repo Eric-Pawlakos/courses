{
 "metadata": {
  "name": "",
  "signature": "sha256:4ef4bfccf407e430400601bf52ac40c3bebd1daf4bff87f6f7c14b5625356c4b"
 },
 "nbformat": 3,
 "nbformat_minor": 0,
 "worksheets": [
  {
   "cells": [
    {
     "cell_type": "markdown",
     "metadata": {},
     "source": [
      "# Census Homework 2\n",
      "\n",
      "Don't sweat it if you you're finding these ones tough, I erred on the side of interesting and possibly-useful data situations instead of a fill-in-the-dots problem set.\n",
      "\n",
      "## Do your setup"
     ]
    },
    {
     "cell_type": "code",
     "collapsed": false,
     "input": [],
     "language": "python",
     "metadata": {},
     "outputs": [],
     "prompt_number": 35
    },
    {
     "cell_type": "markdown",
     "metadata": {},
     "source": [
      "## Problem 1\n"
     ]
    },
    {
     "cell_type": "markdown",
     "metadata": {},
     "source": [
      "B25075 is the umbrella code for `Value for Owner-Occupied Housing Units`. Look up which census tracts in Manhattan have the most owner-occupied housing units valued at over one million dollars.\n",
      "\n",
      "**Tip:** B25075 isn't the code, you'll need to find the code specifically for 1mil+ houses."
     ]
    },
    {
     "cell_type": "code",
     "collapsed": false,
     "input": [],
     "language": "python",
     "metadata": {},
     "outputs": [],
     "prompt_number": 13
    },
    {
     "cell_type": "markdown",
     "metadata": {},
     "source": [
      "## Problem 2\n"
     ]
    },
    {
     "cell_type": "markdown",
     "metadata": {},
     "source": [
      "Once you've figured it out, look at these tract maps ([1](http://www2.census.gov/geo/maps/dc10map/tract/st36_ny/c36061_new_york/DC10CT_C36061_001.pdf), [2](http://www2.census.gov/geo/maps/dc10map/tract/st36_ny/c36061_new_york/DC10CT_C36061_002.pdf)) to determine which neighborhood they live in."
     ]
    },
    {
     "cell_type": "markdown",
     "metadata": {},
     "source": [
      "## Problem 3\n"
     ]
    },
    {
     "cell_type": "markdown",
     "metadata": {},
     "source": [
      "Which NYC borough grew the most between 2000 and 2010?\n",
      "\n",
      "**Tip:** Each borough is a county, but their names aren't the same as the borough names."
     ]
    },
    {
     "cell_type": "code",
     "collapsed": false,
     "input": [],
     "language": "python",
     "metadata": {},
     "outputs": []
    },
    {
     "cell_type": "markdown",
     "metadata": {},
     "source": [
      "## Problem 4\n"
     ]
    },
    {
     "cell_type": "markdown",
     "metadata": {},
     "source": [
      "#### Part 1\n",
      "\n",
      "Nationwide, what is the median household income? (it's for the past 12 months)"
     ]
    },
    {
     "cell_type": "code",
     "collapsed": false,
     "input": [],
     "language": "python",
     "metadata": {},
     "outputs": [],
     "prompt_number": 17
    },
    {
     "cell_type": "markdown",
     "metadata": {},
     "source": [
      "#### Part 2\n",
      "\n",
      "How does that compare to the median household income for White, African-American, American Indian and Asian householders?"
     ]
    },
    {
     "cell_type": "code",
     "collapsed": false,
     "input": [],
     "language": "python",
     "metadata": {},
     "outputs": [],
     "prompt_number": 17
    },
    {
     "cell_type": "markdown",
     "metadata": {},
     "source": [
      "#### Part 3\n",
      "\n",
      "Now repeat the above two using data from Manhattan (i.e. New York County)"
     ]
    },
    {
     "cell_type": "code",
     "collapsed": false,
     "input": [],
     "language": "python",
     "metadata": {},
     "outputs": []
    },
    {
     "cell_type": "markdown",
     "metadata": {},
     "source": [
      "## Problem 5\n",
      "\n",
      "Using Summary File 1 - SF1 - of the [decennial Census](https://www.census.gov/data/developers/data-sets/decennial-census-data.html) (not the ACS), which Metropolitan Statistical Area has the highest institutionalized population?"
     ]
    },
    {
     "cell_type": "code",
     "collapsed": false,
     "input": [],
     "language": "python",
     "metadata": {},
     "outputs": []
    },
    {
     "cell_type": "markdown",
     "metadata": {},
     "source": [
      "## Problem 6\n",
      "\n",
      "### Part 1\n",
      "\n",
      "Using 1990's [SF3](https://www.census.gov/data/developers/data-sets/decennial-census-data.html), get the median year of the buildings of each state. Alphabetize the list by state name.\n",
      "\n",
      "**Tip:** You can't use 'NAME' as one of the fields, you'll have to ask for 'STUSAB' instead for a state abbreviation. Why? ...because the Census isn't all ro."
     ]
    },
    {
     "cell_type": "code",
     "collapsed": false,
     "input": [],
     "language": "python",
     "metadata": {},
     "outputs": []
    },
    {
     "cell_type": "markdown",
     "metadata": {},
     "source": [
      "### Part 2\n",
      "\n",
      "Using 2011's ACS, get the median year of the buildings of each state. Alphabetize the list by state name."
     ]
    },
    {
     "cell_type": "markdown",
     "metadata": {},
     "source": [
      "# Problem 7\n",
      "\n",
      "## Part 1\n",
      "\n",
      "According to 2011's ACS, what 5 census tracts in Brooklyn have had the most new buildings built since 2005?"
     ]
    },
    {
     "cell_type": "code",
     "collapsed": false,
     "input": [],
     "language": "python",
     "metadata": {},
     "outputs": []
    },
    {
     "cell_type": "markdown",
     "metadata": {},
     "source": [
      "## Part 2\n",
      "How about **the highest proportion of buildings built since 2005?** Tip: you'll need to do a for loop, and watch out for places that haven't had any built since 2005. You can't divide by zero!"
     ]
    },
    {
     "cell_type": "code",
     "collapsed": false,
     "input": [],
     "language": "python",
     "metadata": {},
     "outputs": []
    }
   ],
   "metadata": {}
  }
 ]
}