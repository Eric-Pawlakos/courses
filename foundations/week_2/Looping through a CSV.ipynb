{
 "metadata": {
  "name": "",
  "signature": "sha256:86e7898da577cf6f0f89862fdfd1f556ef36af7f474de3e76a75cc786e3703b2"
 },
 "nbformat": 3,
 "nbformat_minor": 0,
 "worksheets": [
  {
   "cells": [
    {
     "cell_type": "markdown",
     "metadata": {},
     "source": [
      "First, we download the file and call it **dogs.csv**. It's a much much smaller sample than we used in class."
     ]
    },
    {
     "cell_type": "code",
     "collapsed": false,
     "input": [
      "import csv\n",
      "import urllib\n",
      "\n",
      "urllib.urlretrieve (\"http://jonathansoma.com/lede/dogs-tiny-sample.csv\", \"dogs.csv\")"
     ],
     "language": "python",
     "metadata": {},
     "outputs": [
      {
       "metadata": {},
       "output_type": "pyout",
       "prompt_number": 1,
       "text": [
        "('dogs.csv', <httplib.HTTPMessage instance at 0x101cef368>)"
       ]
      }
     ],
     "prompt_number": 1
    },
    {
     "cell_type": "markdown",
     "metadata": {},
     "source": [
      "Now, let's open it as dogcsv."
     ]
    },
    {
     "cell_type": "code",
     "collapsed": false,
     "input": [
      "dog_file = open(\"dogs.csv\",\"rb\")\n",
      "dogcsv = csv.reader(dog_file, delimiter=',')"
     ],
     "language": "python",
     "metadata": {},
     "outputs": [],
     "prompt_number": 2
    },
    {
     "cell_type": "markdown",
     "metadata": {},
     "source": [
      "A csv file isn't a list..."
     ]
    },
    {
     "cell_type": "code",
     "collapsed": false,
     "input": [
      "dogcsv"
     ],
     "language": "python",
     "metadata": {},
     "outputs": [
      {
       "metadata": {},
       "output_type": "pyout",
       "prompt_number": 3,
       "text": [
        "<_csv.reader at 0x101ceb980>"
       ]
      }
     ],
     "prompt_number": 3
    },
    {
     "cell_type": "markdown",
     "metadata": {},
     "source": [
      "...but we can *force* it to be a list!"
     ]
    },
    {
     "cell_type": "code",
     "collapsed": false,
     "input": [
      "rows = list(dogcsv)\n",
      "rows"
     ],
     "language": "python",
     "metadata": {},
     "outputs": [
      {
       "metadata": {},
       "output_type": "pyout",
       "prompt_number": 4,
       "text": [
        "[['dog_name',\n",
        "  'gender',\n",
        "  'breed',\n",
        "  'birth',\n",
        "  'dominant_color',\n",
        "  'secondary_color',\n",
        "  'third_color',\n",
        "  'spayed_or_neutered',\n",
        "  'guard_or_trained',\n",
        "  'borough',\n",
        "  'zip_code'],\n",
        " ['Buddy',\n",
        "  'M',\n",
        "  'Afghan Hound',\n",
        "  'Jan-00',\n",
        "  'BRINDLE',\n",
        "  'BLACK',\n",
        "  'n/a',\n",
        "  'Yes',\n",
        "  'No',\n",
        "  'Manhattan',\n",
        "  '10003'],\n",
        " ['Nicole',\n",
        "  'F',\n",
        "  'Afghan Hound',\n",
        "  'Jul-00',\n",
        "  'BLACK',\n",
        "  'n/a',\n",
        "  'n/a',\n",
        "  'Yes',\n",
        "  'No',\n",
        "  'Manhattan',\n",
        "  '10021'],\n",
        " ['Abby',\n",
        "  'F',\n",
        "  'Afghan Hound',\n",
        "  'Nov-00',\n",
        "  'BLACK',\n",
        "  'TAN',\n",
        "  'n/a',\n",
        "  'Yes',\n",
        "  'No',\n",
        "  'Manhattan',\n",
        "  '10034'],\n",
        " ['Chloe',\n",
        "  'F',\n",
        "  'Afghan Hound',\n",
        "  'Jan-02',\n",
        "  'WHITE',\n",
        "  'BLOND',\n",
        "  'n/a',\n",
        "  'Yes',\n",
        "  'No',\n",
        "  'Manhattan',\n",
        "  '10024'],\n",
        " ['Jazzle',\n",
        "  'F',\n",
        "  'Afghan Hound',\n",
        "  'Oct-02',\n",
        "  'BLOND',\n",
        "  'WHITE',\n",
        "  'BLACK',\n",
        "  'Yes',\n",
        "  'No',\n",
        "  'Manhattan',\n",
        "  '10022'],\n",
        " ['Trouble',\n",
        "  'M',\n",
        "  'Afghan Hound',\n",
        "  'Jan-03',\n",
        "  'BLOND',\n",
        "  'WHITE',\n",
        "  'BLACK',\n",
        "  'Yes',\n",
        "  'No',\n",
        "  'Bronx',\n",
        "  '10472'],\n",
        " ['Grace',\n",
        "  'F',\n",
        "  'Afghan Hound',\n",
        "  'Jun-03',\n",
        "  'CREAM',\n",
        "  'n/a',\n",
        "  'n/a',\n",
        "  'Yes',\n",
        "  'No',\n",
        "  'Manhattan',\n",
        "  '10021'],\n",
        " ['Sisu',\n",
        "  'M',\n",
        "  'Afghan Hound',\n",
        "  'Oct-04',\n",
        "  'BLACK',\n",
        "  'WHITE',\n",
        "  'GRAY',\n",
        "  'No',\n",
        "  'No',\n",
        "  'Manhattan',\n",
        "  '10023'],\n",
        " ['Jakie',\n",
        "  'M',\n",
        "  'Afghan Hound',\n",
        "  'Feb-05',\n",
        "  'WHITE',\n",
        "  'n/a',\n",
        "  'n/a',\n",
        "  'No',\n",
        "  'No',\n",
        "  'Queens',\n",
        "  '11354']]"
       ]
      }
     ],
     "prompt_number": 4
    },
    {
     "cell_type": "markdown",
     "metadata": {},
     "source": [
      "It's a list of lists. You can grab each row individually..."
     ]
    },
    {
     "cell_type": "code",
     "collapsed": false,
     "input": [
      "rows[0]"
     ],
     "language": "python",
     "metadata": {},
     "outputs": [
      {
       "metadata": {},
       "output_type": "pyout",
       "prompt_number": 5,
       "text": [
        "['dog_name',\n",
        " 'gender',\n",
        " 'breed',\n",
        " 'birth',\n",
        " 'dominant_color',\n",
        " 'secondary_color',\n",
        " 'third_color',\n",
        " 'spayed_or_neutered',\n",
        " 'guard_or_trained',\n",
        " 'borough',\n",
        " 'zip_code']"
       ]
      }
     ],
     "prompt_number": 5
    },
    {
     "cell_type": "code",
     "collapsed": false,
     "input": [
      "rows[1]"
     ],
     "language": "python",
     "metadata": {},
     "outputs": [
      {
       "metadata": {},
       "output_type": "pyout",
       "prompt_number": 6,
       "text": [
        "['Buddy',\n",
        " 'M',\n",
        " 'Afghan Hound',\n",
        " 'Jan-00',\n",
        " 'BRINDLE',\n",
        " 'BLACK',\n",
        " 'n/a',\n",
        " 'Yes',\n",
        " 'No',\n",
        " 'Manhattan',\n",
        " '10003']"
       ]
      }
     ],
     "prompt_number": 6
    },
    {
     "cell_type": "code",
     "collapsed": false,
     "input": [
      "rows[2]"
     ],
     "language": "python",
     "metadata": {},
     "outputs": [
      {
       "metadata": {},
       "output_type": "pyout",
       "prompt_number": 7,
       "text": [
        "['Nicole',\n",
        " 'F',\n",
        " 'Afghan Hound',\n",
        " 'Jul-00',\n",
        " 'BLACK',\n",
        " 'n/a',\n",
        " 'n/a',\n",
        " 'Yes',\n",
        " 'No',\n",
        " 'Manhattan',\n",
        " '10021']"
       ]
      }
     ],
     "prompt_number": 7
    },
    {
     "cell_type": "markdown",
     "metadata": {},
     "source": [
      "So maybe we want to only look at the first row? "
     ]
    },
    {
     "cell_type": "code",
     "collapsed": false,
     "input": [
      "row = rows[0]\n",
      "row"
     ],
     "language": "python",
     "metadata": {},
     "outputs": [
      {
       "metadata": {},
       "output_type": "pyout",
       "prompt_number": 8,
       "text": [
        "['dog_name',\n",
        " 'gender',\n",
        " 'breed',\n",
        " 'birth',\n",
        " 'dominant_color',\n",
        " 'secondary_color',\n",
        " 'third_color',\n",
        " 'spayed_or_neutered',\n",
        " 'guard_or_trained',\n",
        " 'borough',\n",
        " 'zip_code']"
       ]
      }
     ],
     "prompt_number": 8
    },
    {
     "cell_type": "markdown",
     "metadata": {},
     "source": [
      "What's the first element in the row? The second?"
     ]
    },
    {
     "cell_type": "code",
     "collapsed": false,
     "input": [
      "row[0]"
     ],
     "language": "python",
     "metadata": {},
     "outputs": [
      {
       "metadata": {},
       "output_type": "pyout",
       "prompt_number": 9,
       "text": [
        "'dog_name'"
       ]
      }
     ],
     "prompt_number": 9
    },
    {
     "cell_type": "code",
     "collapsed": false,
     "input": [
      "row[1]"
     ],
     "language": "python",
     "metadata": {},
     "outputs": [
      {
       "metadata": {},
       "output_type": "pyout",
       "prompt_number": 10,
       "text": [
        "'gender'"
       ]
      }
     ],
     "prompt_number": 10
    },
    {
     "cell_type": "markdown",
     "metadata": {},
     "source": [
      "So `row[0]` isn't asking for *the first row*, it's asking for the *first element of that row*. It works the same for the other rows, too.\n",
      "\n",
      "**Hot tip:** You should read `something[n]` as **'the `nth` element of `something`'**, not 'the `n`th `something`'"
     ]
    },
    {
     "cell_type": "code",
     "collapsed": false,
     "input": [
      "row = rows[1]\n",
      "row"
     ],
     "language": "python",
     "metadata": {},
     "outputs": [
      {
       "metadata": {},
       "output_type": "pyout",
       "prompt_number": 11,
       "text": [
        "['Buddy',\n",
        " 'M',\n",
        " 'Afghan Hound',\n",
        " 'Jan-00',\n",
        " 'BRINDLE',\n",
        " 'BLACK',\n",
        " 'n/a',\n",
        " 'Yes',\n",
        " 'No',\n",
        " 'Manhattan',\n",
        " '10003']"
       ]
      }
     ],
     "prompt_number": 11
    },
    {
     "cell_type": "code",
     "collapsed": false,
     "input": [
      "row[0]"
     ],
     "language": "python",
     "metadata": {},
     "outputs": [
      {
       "metadata": {},
       "output_type": "pyout",
       "prompt_number": 12,
       "text": [
        "'Buddy'"
       ]
      }
     ],
     "prompt_number": 12
    },
    {
     "cell_type": "code",
     "collapsed": false,
     "input": [
      "row[1]"
     ],
     "language": "python",
     "metadata": {},
     "outputs": [
      {
       "metadata": {},
       "output_type": "pyout",
       "prompt_number": 13,
       "text": [
        "'M'"
       ]
      }
     ],
     "prompt_number": 13
    },
    {
     "cell_type": "markdown",
     "metadata": {},
     "source": [
      "It's kind of like this...\n",
      "\n",
      "```\n",
      "[0] \n",
      "    [0] dog_name\n",
      "    [1] gender\n",
      "    [2] breed\n",
      "    [3] birth\n",
      "[1] \n",
      "    [0] Buddy\n",
      "    [1] M\n",
      "    [2] Afghan Hound\n",
      "    [3] Jan-00\n",
      "[2] \n",
      "    [0] Nicole\n",
      "    [1] F\n",
      "    [2] Afghan Hound\n",
      "    [3] Jul-00\n",
      "[3] \n",
      "    [0] Abby\n",
      "    [1] F\n",
      "    [2] Afghan Hound\n",
      "    [3] Nov-00\n",
      "```"
     ]
    },
    {
     "cell_type": "markdown",
     "metadata": {},
     "source": [
      "And you can do them all at the same time, too"
     ]
    },
    {
     "cell_type": "code",
     "collapsed": false,
     "input": [
      "rows[0][0]"
     ],
     "language": "python",
     "metadata": {},
     "outputs": [
      {
       "metadata": {},
       "output_type": "pyout",
       "prompt_number": 14,
       "text": [
        "'dog_name'"
       ]
      }
     ],
     "prompt_number": 14
    },
    {
     "cell_type": "code",
     "collapsed": false,
     "input": [
      "rows[1][0]"
     ],
     "language": "python",
     "metadata": {},
     "outputs": [
      {
       "metadata": {},
       "output_type": "pyout",
       "prompt_number": 15,
       "text": [
        "'Buddy'"
       ]
      }
     ],
     "prompt_number": 15
    },
    {
     "cell_type": "markdown",
     "metadata": {},
     "source": [
      "**Let's loop!** We're using `rows` instead of `dogcsv` because Python makes it a little difficult to go through a csv more than once. We used `list(dogcsv)` earlier to grab it just once, and now we can use `rows` to use it again and again.\n",
      "\n",
      "`for row in rows` lets you go through each row individually, making `row` equal to `rows[0]` first, then `rows[1]`, then `rows[2]`... until it runs out of rows"
     ]
    },
    {
     "cell_type": "code",
     "collapsed": false,
     "input": [
      "for row in rows:\n",
      "    print row"
     ],
     "language": "python",
     "metadata": {},
     "outputs": [
      {
       "output_type": "stream",
       "stream": "stdout",
       "text": [
        "['dog_name', 'gender', 'breed', 'birth', 'dominant_color', 'secondary_color', 'third_color', 'spayed_or_neutered', 'guard_or_trained', 'borough', 'zip_code']\n",
        "['Buddy', 'M', 'Afghan Hound', 'Jan-00', 'BRINDLE', 'BLACK', 'n/a', 'Yes', 'No', 'Manhattan', '10003']\n",
        "['Nicole', 'F', 'Afghan Hound', 'Jul-00', 'BLACK', 'n/a', 'n/a', 'Yes', 'No', 'Manhattan', '10021']\n",
        "['Abby', 'F', 'Afghan Hound', 'Nov-00', 'BLACK', 'TAN', 'n/a', 'Yes', 'No', 'Manhattan', '10034']\n",
        "['Chloe', 'F', 'Afghan Hound', 'Jan-02', 'WHITE', 'BLOND', 'n/a', 'Yes', 'No', 'Manhattan', '10024']\n",
        "['Jazzle', 'F', 'Afghan Hound', 'Oct-02', 'BLOND', 'WHITE', 'BLACK', 'Yes', 'No', 'Manhattan', '10022']\n",
        "['Trouble', 'M', 'Afghan Hound', 'Jan-03', 'BLOND', 'WHITE', 'BLACK', 'Yes', 'No', 'Bronx', '10472']\n",
        "['Grace', 'F', 'Afghan Hound', 'Jun-03', 'CREAM', 'n/a', 'n/a', 'Yes', 'No', 'Manhattan', '10021']\n",
        "['Sisu', 'M', 'Afghan Hound', 'Oct-04', 'BLACK', 'WHITE', 'GRAY', 'No', 'No', 'Manhattan', '10023']\n",
        "['Jakie', 'M', 'Afghan Hound', 'Feb-05', 'WHITE', 'n/a', 'n/a', 'No', 'No', 'Queens', '11354']\n"
       ]
      }
     ],
     "prompt_number": 16
    },
    {
     "cell_type": "markdown",
     "metadata": {},
     "source": [
      "**So inside the loop,** we can do whatever we want to every row. Maybe we want to grab the first element of every row?"
     ]
    },
    {
     "cell_type": "code",
     "collapsed": false,
     "input": [
      "for row in rows:\n",
      "    print row[0]"
     ],
     "language": "python",
     "metadata": {},
     "outputs": [
      {
       "output_type": "stream",
       "stream": "stdout",
       "text": [
        "dog_name\n",
        "Buddy\n",
        "Nicole\n",
        "Abby\n",
        "Chloe\n",
        "Jazzle\n",
        "Trouble\n",
        "Grace\n",
        "Sisu\n",
        "Jakie\n"
       ]
      }
     ],
     "prompt_number": 17
    }
   ],
   "metadata": {}
  }
 ]
}