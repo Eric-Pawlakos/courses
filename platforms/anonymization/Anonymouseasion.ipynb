{
 "metadata": {
  "name": "",
  "signature": "sha256:9aac9d601d5e2815a03a4e138785bcf40a7c6024b7ceb5c56e04c6ce11077b57"
 },
 "nbformat": 3,
 "nbformat_minor": 0,
 "worksheets": [
  {
   "cells": [
    {
     "cell_type": "code",
     "collapsed": false,
     "input": [
      "import random as rand \n",
      "import pandas as pd"
     ],
     "language": "python",
     "metadata": {},
     "outputs": [],
     "prompt_number": 2
    },
    {
     "cell_type": "code",
     "collapsed": false,
     "input": [],
     "language": "python",
     "metadata": {},
     "outputs": []
    }
   ],
   "metadata": {}
  }
 ]
}