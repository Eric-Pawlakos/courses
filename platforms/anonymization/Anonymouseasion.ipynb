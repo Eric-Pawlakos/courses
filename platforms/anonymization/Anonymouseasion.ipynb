{
 "metadata": {
  "name": "",
  "signature": "sha256:4783201c43de43c171093a24b19eefabccbbe6d5500f1cc7877b8659f2f77b1f"
 },
 "nbformat": 3,
 "nbformat_minor": 0,
 "worksheets": [
  {
   "cells": [
    {
     "cell_type": "code",
     "collapsed": false,
     "input": [
      "# For parsing the csv\n",
      "import csv\n",
      "import urllib2\n",
      "import StringIO\n",
      "import math\n",
      "\n",
      "# For actual computations\n",
      "import random as rand \n",
      "import pandas as pd"
     ],
     "language": "python",
     "metadata": {},
     "outputs": [],
     "prompt_number": 1
    },
    {
     "cell_type": "markdown",
     "metadata": {},
     "source": [
      "Today we are going to do a rough version of the analysis done in this paper: http://crypto.stanford.edu/~pgolle/papers/census.pdf.\n",
      "\n",
      "The idea is to show it is possible to uniquely identify someone with high probability just given someones (Gender, Birthdate, Zip Code).  \n",
      "\n",
      "It's easy to look up the population of the US is 313.9 million people, and there are approximately 41,750 zip codes in the US."
     ]
    },
    {
     "cell_type": "code",
     "collapsed": false,
     "input": [
      "number_of_people_per_zipcode = 313900000/41750\n",
      "# number_of_people_per_zipcode"
     ],
     "language": "python",
     "metadata": {},
     "outputs": [],
     "prompt_number": 2
    },
    {
     "cell_type": "markdown",
     "metadata": {},
     "source": [
      "Next, if we assume that the average lifespan in the US is 78.74 years, and that there are 356 days in a year, then if we assume that each zipcode has equal demographics, then we get that:"
     ]
    },
    {
     "cell_type": "code",
     "collapsed": false,
     "input": [
      "average_number_of_distinct_birthdays_per_zip = 78.74 * 356\n",
      "# average_number_of_distinct_birthdays_per_zip"
     ],
     "language": "python",
     "metadata": {},
     "outputs": [],
     "prompt_number": 3
    },
    {
     "cell_type": "markdown",
     "metadata": {},
     "source": [
      "Finally, if we account for gender, we double the number of \"buckets\" that people could fall into:"
     ]
    },
    {
     "cell_type": "code",
     "collapsed": false,
     "input": [
      "categories_per_zip = average_number_of_distinct_birthdays_per_zip * 2"
     ],
     "language": "python",
     "metadata": {},
     "outputs": [],
     "prompt_number": 4
    },
    {
     "cell_type": "code",
     "collapsed": false,
     "input": [
      "rand.seed()\n",
      "distribution_of_people_in_zip = [rand.randint(0, math.ceil(categories_per_zip)) for x in range(number_of_people_per_zipcode)]\n",
      "distribution_of_people_in_zip.sort()"
     ],
     "language": "python",
     "metadata": {},
     "outputs": [],
     "prompt_number": 5
    },
    {
     "cell_type": "code",
     "collapsed": false,
     "input": [
      "single_buckets = 0\n",
      "prev = -1\n",
      "for i in distribution_of_people_in_zip:\n",
      "    if i != prev:\n",
      "        single_buckets += 1\n",
      "    prev = i\n",
      "# single_buckets"
     ],
     "language": "python",
     "metadata": {},
     "outputs": [],
     "prompt_number": 6
    },
    {
     "cell_type": "code",
     "collapsed": false,
     "input": [
      "percent_in_single_buckets = single_buckets / (number_of_people_per_zipcode + 0.0) * 100.0\n",
      "# percent_in_single_buckets"
     ],
     "language": "python",
     "metadata": {},
     "outputs": [],
     "prompt_number": 7
    },
    {
     "cell_type": "markdown",
     "metadata": {},
     "source": [
      "Ok, so this is a little crazy, right?  Well the paper referred to at the begining of the paper says that in reality the numbers are much lower, so let's see if we can get a little closer using a better model.  \n",
      "\n",
      "The gender breakdown in the US seems fairly even (https://en.wikipedia.org/wiki/List_of_countries_by_sex_ratio), so we will pretend it is even.  \n",
      "\n",
      "Next let's look at the birthday breakdown using data from http://www.census.gov/population/age/.\n",
      "\n",
      "I've already put a csv of the file up on the repo, so we just need to pull it into python."
     ]
    },
    {
     "cell_type": "code",
     "collapsed": false,
     "input": [
      "ages_url = 'https://raw.githubusercontent.com/ledeprogram/courses/master/platforms/anonymization/age_breakdown.csv'\n",
      "ages_response = urllib2.urlopen(ages_url)\n",
      "ages = pd.read_csv(ages_response)\n",
      "# ages"
     ],
     "language": "python",
     "metadata": {},
     "outputs": [],
     "prompt_number": 8
    },
    {
     "cell_type": "code",
     "collapsed": false,
     "input": [
      "sample = ages[[\"Both sexes\", \"Max_Age\"]][1:19].astype(float)\n",
      "sample_sum = sample[\"Both sexes\"].sum()\n",
      "# sample_sum"
     ],
     "language": "python",
     "metadata": {},
     "outputs": [],
     "prompt_number": 9
    },
    {
     "cell_type": "code",
     "collapsed": false,
     "input": [
      "sample[\"percentages\"] = sample[\"Both sexes\"]/sample_sum\n",
      "# sample[\"percentages\"]"
     ],
     "language": "python",
     "metadata": {},
     "outputs": [],
     "prompt_number": 10
    },
    {
     "cell_type": "code",
     "collapsed": false,
     "input": [
      "sample[\"partitions\"] = sample[\"percentages\"].cumsum()\n",
      "# sample[\"partitions\"]"
     ],
     "language": "python",
     "metadata": {},
     "outputs": [],
     "prompt_number": 11
    },
    {
     "cell_type": "code",
     "collapsed": false,
     "input": [
      "def find_interval(sample, value):\n",
      "    last_interval = 0\n",
      "    while(sample[\"partitions\"][last_interval + 1] < value):\n",
      "        last_interval += 1\n",
      "    min_age = 0 if last_interval == 1 else sample[\"Max_Age\"][last_interval] + 1\n",
      "    return [min_age, sample[\"Max_Age\"][last_interval]]"
     ],
     "language": "python",
     "metadata": {},
     "outputs": [],
     "prompt_number": 35
    },
    {
     "cell_type": "code",
     "collapsed": false,
     "input": [
      "rand.random()"
     ],
     "language": "python",
     "metadata": {},
     "outputs": [
      {
       "metadata": {},
       "output_type": "pyout",
       "prompt_number": 24,
       "text": [
        "0.3342315555911709"
       ]
      }
     ],
     "prompt_number": 24
    },
    {
     "cell_type": "code",
     "collapsed": false,
     "input": [
      "find_interval(sample, rand.random())"
     ],
     "language": "python",
     "metadata": {},
     "outputs": [
      {
       "metadata": {},
       "output_type": "pyout",
       "prompt_number": 25,
       "text": [
        "[35.0, 39.0]"
       ]
      }
     ],
     "prompt_number": 25
    },
    {
     "cell_type": "code",
     "collapsed": false,
     "input": [
      "for i in map(lambda x: x/10.0, range(1, 10)):\n",
      "    print i"
     ],
     "language": "python",
     "metadata": {},
     "outputs": [
      {
       "output_type": "stream",
       "stream": "stdout",
       "text": [
        "0.1\n",
        "0.2\n",
        "0.3\n",
        "0.4\n",
        "0.5\n",
        "0.6\n",
        "0.7\n",
        "0.8\n",
        "0.9\n"
       ]
      }
     ],
     "prompt_number": 36
    },
    {
     "cell_type": "code",
     "collapsed": false,
     "input": [
      "for i in map(lambda x: x/10.0, range(1, 10)):\n",
      "    print i\n",
      "    print find_interval(sample, i)"
     ],
     "language": "python",
     "metadata": {},
     "outputs": [
      {
       "output_type": "stream",
       "stream": "stdout",
       "text": [
        "0.1\n",
        "[0, 5.0]\n",
        "0.2\n",
        "[15.0, 14.0]\n",
        "0.3\n",
        "[20.0, 19.0]\n",
        "0.4\n",
        "[25.0, 24.0]\n",
        "0.5\n",
        "[35.0, 34.0]\n",
        "0.6\n",
        "[40.0, 39.0]\n",
        "0.7\n",
        "[50.0, 49.0]\n",
        "0.8\n",
        "[55.0, 54.0]\n",
        "0.9\n",
        "[65.0, 64.0]\n"
       ]
      }
     ],
     "prompt_number": 37
    },
    {
     "cell_type": "code",
     "collapsed": false,
     "input": [],
     "language": "python",
     "metadata": {},
     "outputs": [],
     "prompt_number": 37
    },
    {
     "cell_type": "code",
     "collapsed": false,
     "input": [],
     "language": "python",
     "metadata": {},
     "outputs": []
    }
   ],
   "metadata": {}
  }
 ]
}