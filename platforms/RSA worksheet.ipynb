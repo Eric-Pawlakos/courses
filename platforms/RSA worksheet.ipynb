{
 "metadata": {
  "name": "",
  "signature": "sha256:2052556b9ed115e8e5eba9ae1f9472c9d0257d78ec269b927fdb971cfead46c2"
 },
 "nbformat": 3,
 "nbformat_minor": 0,
 "worksheets": [
  {
   "cells": [
    {
     "cell_type": "markdown",
     "metadata": {},
     "source": [
      "First find some prime numbers, say [here.](http://primes.utm.edu/lists/small/millions/)"
     ]
    },
    {
     "cell_type": "code",
     "collapsed": false,
     "input": [
      "prime1= 512927357\n",
      "prime2= 674506081"
     ],
     "language": "python",
     "metadata": {},
     "outputs": [],
     "prompt_number": 1
    },
    {
     "cell_type": "markdown",
     "metadata": {},
     "source": [
      "Next, compute the product. Easy peazy lemon squeezy."
     ]
    },
    {
     "cell_type": "code",
     "collapsed": false,
     "input": [
      "N = prime1*prime2"
     ],
     "language": "python",
     "metadata": {},
     "outputs": [],
     "prompt_number": 4
    },
    {
     "cell_type": "code",
     "collapsed": false,
     "input": [
      "N"
     ],
     "language": "python",
     "metadata": {},
     "outputs": [
      {
       "metadata": {},
       "output_type": "pyout",
       "prompt_number": 5,
       "text": [
        "345972621407757917"
       ]
      }
     ],
     "prompt_number": 5
    },
    {
     "cell_type": "markdown",
     "metadata": {},
     "source": [
      "Next, try to factor N, pretending you no longer know your primes.\n",
      "\n",
      "How would you do that? Possibly: write a for loop looking for factors"
     ]
    },
    {
     "cell_type": "code",
     "collapsed": false,
     "input": [
      "def find_a_factor(n):\n",
      "    for i in range(2, n):\n",
      "        if n%i == 0:\n",
      "            return n, i\n",
      "    return n, \"Prime!\"\n",
      "print find_a_factor(100)\n",
      "print find_a_factor(101)"
     ],
     "language": "python",
     "metadata": {},
     "outputs": [
      {
       "output_type": "stream",
       "stream": "stdout",
       "text": [
        "(100, 2)\n",
        "(101, 'Prime!')\n"
       ]
      }
     ],
     "prompt_number": 21
    },
    {
     "cell_type": "markdown",
     "metadata": {},
     "source": [
      "How efficient is find_a_factor?"
     ]
    },
    {
     "cell_type": "code",
     "collapsed": false,
     "input": [
      "find_a_factor(859093)"
     ],
     "language": "python",
     "metadata": {},
     "outputs": [
      {
       "metadata": {},
       "output_type": "pyout",
       "prompt_number": 29,
       "text": [
        "(859093, 'Prime!')"
       ]
      }
     ],
     "prompt_number": 29
    },
    {
     "cell_type": "code",
     "collapsed": false,
     "input": [
      "find_a_factor(2814841)"
     ],
     "language": "python",
     "metadata": {},
     "outputs": [
      {
       "metadata": {},
       "output_type": "pyout",
       "prompt_number": 31,
       "text": [
        "(2814841, 'Prime!')"
       ]
      }
     ],
     "prompt_number": 31
    },
    {
     "cell_type": "code",
     "collapsed": false,
     "input": [
      "find_a_factor(15485863)"
     ],
     "language": "python",
     "metadata": {},
     "outputs": [
      {
       "metadata": {},
       "output_type": "pyout",
       "prompt_number": 32,
       "text": [
        "(15485863, 'Prime!')"
       ]
      }
     ],
     "prompt_number": 32
    },
    {
     "cell_type": "markdown",
     "metadata": {},
     "source": [
      "We can estimate that it would take a seriously long time to find a factor in N. And yes, there are better ways to do it, but they are still incredibly slow. And the real RSA uses 100-digit prime numbers.\n",
      "\n",
      "So what we have is something that's _easy to do but very difficult to undo._\n",
      "\n",
      "How do we use this to our advantage?\n",
      "\n",
      "To explain this we need to explain a little bit about arithmetic mod N.\n",
      "\n",
      "1. Forms a group under addition\n",
      "1. Forms a group under multiplication if you remove stuff coprime to N. \n",
      "1. By definition you have &#934;(N) elements in that group.\n",
      "1. But you secretly know that &#934;(N)=(prime1 - 1) * (prime2 - 1)\n",
      "1. Every element in the multiplicative group has the property that if you take it to the power &#934;(N), you get 1 modulo N.\n",
      "1. If you turn a secret message into a number, and then bring that number to some power d modulo N, then you can \"go the rest of the way\" to get back to 1, and then go once further to get back to the coded message, but only if you know what &#934;(N) is.\n",
      "1. There's actually a minor restriction on what d can be but don't worry about that because there are lots of choices for d. Namely, make sure d is coprime to &#934;(N).\n",
      "1. Once you've chosen d, find also f so that f times d is 1 modulo &#934;(N).\n",
      "1. Then if you first take something to the dth power, then to the fth power, you've altogether taken it to the power which is something 1 modulo &#934;(N), which is the original message again, which is magic.\n",
      "\n",
      "#Here's what you make public. \n",
      "\n",
      "N and d.\n",
      "\n",
      "#Here's what you make people do. \n",
      "\n",
      "Take their message, which is a number, and take it to the dth power modulo N. Make sure you know this easy.\n",
      "\n",
      "#Here's what you can do after you get their encrypted message.\n",
      "\n",
      "Take their message to the f'th power to get it back to their message. Again, super easy.\n"
     ]
    },
    {
     "cell_type": "code",
     "collapsed": false,
     "input": [],
     "language": "python",
     "metadata": {},
     "outputs": []
    },
    {
     "cell_type": "code",
     "collapsed": false,
     "input": [],
     "language": "python",
     "metadata": {},
     "outputs": []
    },
    {
     "cell_type": "code",
     "collapsed": false,
     "input": [],
     "language": "python",
     "metadata": {},
     "outputs": []
    },
    {
     "cell_type": "code",
     "collapsed": false,
     "input": [],
     "language": "python",
     "metadata": {},
     "outputs": []
    },
    {
     "cell_type": "code",
     "collapsed": false,
     "input": [],
     "language": "python",
     "metadata": {},
     "outputs": []
    },
    {
     "cell_type": "code",
     "collapsed": false,
     "input": [],
     "language": "python",
     "metadata": {},
     "outputs": []
    },
    {
     "cell_type": "code",
     "collapsed": false,
     "input": [],
     "language": "python",
     "metadata": {},
     "outputs": []
    },
    {
     "cell_type": "code",
     "collapsed": false,
     "input": [],
     "language": "python",
     "metadata": {},
     "outputs": []
    },
    {
     "cell_type": "code",
     "collapsed": false,
     "input": [],
     "language": "python",
     "metadata": {},
     "outputs": []
    },
    {
     "cell_type": "code",
     "collapsed": false,
     "input": [],
     "language": "python",
     "metadata": {},
     "outputs": []
    },
    {
     "cell_type": "code",
     "collapsed": false,
     "input": [],
     "language": "python",
     "metadata": {},
     "outputs": []
    },
    {
     "cell_type": "code",
     "collapsed": false,
     "input": [
      "def find_primes_less_than_n(n):\n",
      "    prime_list = []\n",
      "    for p in range(2, n):\n",
      "        for i in range(2, p):\n",
      "            if p % i == 0:\n",
      "                break\n",
      "        else:\n",
      "            prime_list.append(p)\n",
      "    return prime_list        "
     ],
     "language": "python",
     "metadata": {},
     "outputs": [],
     "prompt_number": 11
    },
    {
     "cell_type": "code",
     "collapsed": false,
     "input": [],
     "language": "python",
     "metadata": {},
     "outputs": []
    }
   ],
   "metadata": {}
  }
 ]
}