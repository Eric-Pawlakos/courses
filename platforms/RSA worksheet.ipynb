{
 "metadata": {
  "name": "",
  "signature": "sha256:289f5613dc3e8d4fa386af774faea214c04ee72e6096bf414f3a50e83bef47c8"
 },
 "nbformat": 3,
 "nbformat_minor": 0,
 "worksheets": [
  {
   "cells": [
    {
     "cell_type": "markdown",
     "metadata": {},
     "source": [
      "First find some prime numbers, say [here.](http://primes.utm.edu/lists/small/millions/)"
     ]
    },
    {
     "cell_type": "code",
     "collapsed": false,
     "input": [
      "prime1= 512927357\n",
      "prime2= 674506081"
     ],
     "language": "python",
     "metadata": {},
     "outputs": [],
     "prompt_number": 1
    },
    {
     "cell_type": "markdown",
     "metadata": {},
     "source": [
      "Next, compute the product. Easy peazy lemon squeezy."
     ]
    },
    {
     "cell_type": "code",
     "collapsed": false,
     "input": [
      "N = prime1*prime2"
     ],
     "language": "python",
     "metadata": {},
     "outputs": [],
     "prompt_number": 4
    },
    {
     "cell_type": "code",
     "collapsed": false,
     "input": [
      "N"
     ],
     "language": "python",
     "metadata": {},
     "outputs": [
      {
       "metadata": {},
       "output_type": "pyout",
       "prompt_number": 5,
       "text": [
        "345972621407757917"
       ]
      }
     ],
     "prompt_number": 5
    },
    {
     "cell_type": "markdown",
     "metadata": {},
     "source": [
      "Next, try to factor N, pretending you no longer know your primes.\n",
      "\n",
      "How would you do that? Possibly: write a for loop looking for factors\n",
      "\n",
      "First play with the \"remainder\" function in python."
     ]
    },
    {
     "cell_type": "code",
     "collapsed": false,
     "input": [
      "print 3%12\n",
      "print 12%3\n",
      "print 15%4\n",
      "print 4%15"
     ],
     "language": "python",
     "metadata": {},
     "outputs": [
      {
       "output_type": "stream",
       "stream": "stdout",
       "text": [
        "3\n",
        "0\n",
        "3\n",
        "4\n"
       ]
      }
     ],
     "prompt_number": 48
    },
    {
     "cell_type": "code",
     "collapsed": false,
     "input": [
      "def find_a_factor(n):\n",
      "    for i in range(2, n):\n",
      "        if n%i == 0:\n",
      "            return n, i\n",
      "    return n, \"Prime!\"\n",
      "print find_a_factor(100)\n",
      "print find_a_factor(101)"
     ],
     "language": "python",
     "metadata": {},
     "outputs": [
      {
       "output_type": "stream",
       "stream": "stdout",
       "text": [
        "(100, 2)\n",
        "(101, 'Prime!')\n"
       ]
      }
     ],
     "prompt_number": 49
    },
    {
     "cell_type": "markdown",
     "metadata": {},
     "source": [
      "How efficient is find_a_factor?"
     ]
    },
    {
     "cell_type": "code",
     "collapsed": false,
     "input": [
      "find_a_factor(859093)"
     ],
     "language": "python",
     "metadata": {},
     "outputs": [
      {
       "metadata": {},
       "output_type": "pyout",
       "prompt_number": 50,
       "text": [
        "(859093, 'Prime!')"
       ]
      }
     ],
     "prompt_number": 50
    },
    {
     "cell_type": "code",
     "collapsed": false,
     "input": [
      "find_a_factor(2814841)"
     ],
     "language": "python",
     "metadata": {},
     "outputs": [
      {
       "metadata": {},
       "output_type": "pyout",
       "prompt_number": 51,
       "text": [
        "(2814841, 'Prime!')"
       ]
      }
     ],
     "prompt_number": 51
    },
    {
     "cell_type": "code",
     "collapsed": false,
     "input": [
      "find_a_factor(15485863)"
     ],
     "language": "python",
     "metadata": {},
     "outputs": [
      {
       "metadata": {},
       "output_type": "pyout",
       "prompt_number": 52,
       "text": [
        "(15485863, 'Prime!')"
       ]
      }
     ],
     "prompt_number": 52
    },
    {
     "cell_type": "markdown",
     "metadata": {},
     "source": [
      "We can estimate that it would take a seriously long time to find a factor in N. And yes, there are better ways to do it, but they are still incredibly slow. And the real RSA uses 100-digit prime numbers.\n",
      "\n",
      "So what we have is something that's _easy to do but very difficult to undo._\n",
      "\n",
      "How do we use this to our advantage?\n",
      "\n",
      "To explain this we need to explain a little bit about arithmetic mod N.\n",
      "\n",
      "1. Forms a group under addition\n",
      "1. Forms a group under multiplication if you remove stuff coprime to N. \n",
      "1. By definition you have &#934;(N) elements in that group.\n",
      "1. But you secretly know that &#934;(N)=(prime1 - 1) &#8727; (prime2 - 1)\n",
      "1. Every element in the multiplicative group has the property that if you take it to the power &#934;(N), you get 1 modulo N.\n",
      "1. If you turn a secret message into a number, and then bring that number to some power d modulo N, then you can \"go the rest of the way\" to get back to 1, and then go once further to get back to the coded message, but only if you know what &#934;(N) is.\n",
      "1. There's actually a minor restriction on what d can be but don't worry about that because there are lots of choices for d. Namely, make sure d is coprime to &#934;(N).\n",
      "1. Once you've chosen d, find also f so that f times d is 1 modulo &#934;(N).\n",
      "1. Then if you first take something to the dth power, then to the fth power, you've altogether taken it to the power which is something 1 modulo &#934;(N), which is the original message again, which is magic.\n",
      "\n",
      "#Here's what you make public. \n",
      "\n",
      "N and d.\n",
      "\n",
      "#Here's what you make people do. \n",
      "\n",
      "Take their message, which is a number, and take it to the dth power modulo N. Make sure you know this easy.\n",
      "\n",
      "#Here's what you can do after you get their encrypted message.\n",
      "\n",
      "Take their message to the f'th power to get it back to their message. Again, super easy.\n"
     ]
    },
    {
     "cell_type": "code",
     "collapsed": false,
     "input": [
      "Phi_N= (prime1 - 1)* (prime2-1)\n",
      "print Phi_N"
     ],
     "language": "python",
     "metadata": {},
     "outputs": [
      {
       "output_type": "stream",
       "stream": "stdout",
       "text": [
        "345972620220324480\n"
       ]
      }
     ],
     "prompt_number": 33
    },
    {
     "cell_type": "markdown",
     "metadata": {},
     "source": [
      "Choose a d and make sure it's prime to &#934;(N)."
     ]
    },
    {
     "cell_type": "code",
     "collapsed": false,
     "input": [
      "d = 17\n",
      "print Phi_N%d"
     ],
     "language": "python",
     "metadata": {},
     "outputs": [
      {
       "output_type": "stream",
       "stream": "stdout",
       "text": [
        "11\n"
       ]
      }
     ],
     "prompt_number": 39
    },
    {
     "cell_type": "markdown",
     "metadata": {},
     "source": [
      "Now find the multiplicative inverse of d modulo &#934;(N). This amounts to finding an a and a b so that:\n",
      "\n",
      "a &#8727; d + b &#8727; &#934;(N) = 1.\n",
      "\n",
      "First you write \n",
      "\n",
      "&#934;(N) = q1 &#8727; d + r"
     ]
    },
    {
     "cell_type": "code",
     "collapsed": false,
     "input": [
      "q1 = Phi_N/d\n",
      "r = Phi_N%d\n",
      "print q1, r"
     ],
     "language": "python",
     "metadata": {},
     "outputs": [
      {
       "output_type": "stream",
       "stream": "stdout",
       "text": [
        "20351330601195557 11\n"
       ]
      }
     ],
     "prompt_number": 40
    },
    {
     "cell_type": "markdown",
     "metadata": {},
     "source": [
      "&#934;(N) = 20351330601195557 &#8727; 17 + 11\n",
      "\n",
      "Next do the division algorithm on d and r and so on:\n",
      "\n",
      "d = 17 = 1 &#8727; 11 + 6\n",
      "\n",
      "\n",
      "11 = 1 &#8727; 6 + 5\n",
      "\n",
      "\n",
      "6 = 1 &#8727; 5 + 1\n",
      "\n",
      "Now rewrite those equations slightly:\n",
      "\n",
      "1 = 6 - 1 &#8727; 5 \n",
      "\n",
      "5 = 11 - 1 &#8727; 6\n",
      "\n",
      "6 = d - 1 &#8727; 11\n",
      "\n",
      "11 = &#934;(N) - 20351330601195557 &#8727; d\n",
      "\n",
      "And now go backwards from 1:\n",
      "\n",
      "1 = 6 - (11 - 6) = 2 &#8727; 6 - 11\n",
      "\n",
      "= 2 &#8727; (d - 11) - 11 = 2 &#8727; d - 3 &#8727; 11 \n",
      "\n",
      "= 2 &#8727; d - 3 &#8727; (&#934;(N) - 20351330601195557 &#8727; d)\n",
      "\n",
      "= - 3 &#8727; &#934;(N) + (3 &#8727; 20351330601195557 + 2) &#8727; d\n",
      "\n",
      "So 3 &#8727; 20351330601195557 + 2 is the multiplicative inverse of d = 17. Let's check that."
     ]
    },
    {
     "cell_type": "code",
     "collapsed": false,
     "input": [
      "f = 3 * 20351330601195557 + 2"
     ],
     "language": "python",
     "metadata": {},
     "outputs": [],
     "prompt_number": 53
    },
    {
     "cell_type": "code",
     "collapsed": false,
     "input": [
      "test = f*d\n",
      "print test"
     ],
     "language": "python",
     "metadata": {},
     "outputs": [
      {
       "output_type": "stream",
       "stream": "stdout",
       "text": [
        "1037917860660973441\n"
       ]
      }
     ],
     "prompt_number": 54
    },
    {
     "cell_type": "code",
     "collapsed": false,
     "input": [
      "print test%Phi_N"
     ],
     "language": "python",
     "metadata": {},
     "outputs": [
      {
       "output_type": "stream",
       "stream": "stdout",
       "text": [
        "1\n"
       ]
      }
     ],
     "prompt_number": 56
    },
    {
     "cell_type": "markdown",
     "metadata": {},
     "source": [
      "Should we try this?"
     ]
    },
    {
     "cell_type": "code",
     "collapsed": false,
     "input": [
      "t"
     ],
     "language": "python",
     "metadata": {},
     "outputs": []
    },
    {
     "cell_type": "code",
     "collapsed": false,
     "input": [],
     "language": "python",
     "metadata": {},
     "outputs": []
    },
    {
     "cell_type": "code",
     "collapsed": false,
     "input": [],
     "language": "python",
     "metadata": {},
     "outputs": []
    },
    {
     "cell_type": "code",
     "collapsed": false,
     "input": [],
     "language": "python",
     "metadata": {},
     "outputs": []
    },
    {
     "cell_type": "code",
     "collapsed": false,
     "input": [
      "def find_primes_less_than_n(n):\n",
      "    prime_list = []\n",
      "    for p in range(2, n):\n",
      "        for i in range(2, p):\n",
      "            if p % i == 0:\n",
      "                break\n",
      "        else:\n",
      "            prime_list.append(p)\n",
      "    return prime_list        "
     ],
     "language": "python",
     "metadata": {},
     "outputs": [],
     "prompt_number": 11
    },
    {
     "cell_type": "code",
     "collapsed": false,
     "input": [],
     "language": "python",
     "metadata": {},
     "outputs": []
    }
   ],
   "metadata": {}
  }
 ]
}